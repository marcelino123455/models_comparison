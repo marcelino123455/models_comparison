{
 "cells": [
  {
   "cell_type": "code",
   "execution_count": 1,
   "id": "f781f3cb",
   "metadata": {},
   "outputs": [],
   "source": [
    "import pandas as pd \n",
    "import numpy as np \n",
    "import matplotlib.pyplot as plt\n"
   ]
  },
  {
   "cell_type": "code",
   "execution_count": 2,
   "id": "331e4dbf",
   "metadata": {},
   "outputs": [],
   "source": [
    "csv_path = \"../data/spotify_dataset_sin_duplicados_4.csv\"\n",
    "df = pd.read_csv(csv_path)\n"
   ]
  },
  {
   "cell_type": "code",
   "execution_count": 3,
   "id": "73047966",
   "metadata": {},
   "outputs": [],
   "source": [
    "def process(df):\n",
    "    df[\"Loudness (db)\"] = df[\"Loudness (db)\"].str.replace(\"db\", \"\", regex=False).astype(float)\n",
    "    df[\"Length_sec\"] = pd.to_timedelta(\"00:\" + df[\"Length\"]).dt.total_seconds().astype(int)\n",
    "    df = df.drop(columns=[\"Length\"])\n",
    "    return df\n",
    "def get_typos(df, tolerancia):\n",
    "    categorical_cols = [col for col in df.select_dtypes(include=['object']).columns \n",
    "                    if df[col].nunique() < tolerancia]\n",
    "\n",
    "    # Identificar columnas textuales (object con muchas categorías o strings largos)\n",
    "    textual_cols = [col for col in df.select_dtypes(include=['object']).columns \n",
    "                    if df[col].nunique() >= tolerancia]\n",
    "    numeric_cols = df.select_dtypes(include=['int64', 'float64']).columns.tolist()\n",
    "    \n",
    "    return categorical_cols, textual_cols, numeric_cols"
   ]
  },
  {
   "cell_type": "markdown",
   "id": "e69c9376",
   "metadata": {},
   "source": [
    "### Distribución de tipos de datos"
   ]
  },
  {
   "cell_type": "markdown",
   "id": "011580e4",
   "metadata": {},
   "source": [
    "Nos enfocaremos en tolerancia, que representa la cantidad de datos distintos de los datos como tipo objeto "
   ]
  },
  {
   "cell_type": "code",
   "execution_count": 4,
   "id": "bae5144f",
   "metadata": {},
   "outputs": [],
   "source": [
    "tolerancia = 100\n",
    "# Identificar columnas categóricas (dtype = object pero con pocas categorías)\n",
    "categorical_cols, textual_cols, numeric_cols = get_typos(df, 30)"
   ]
  },
  {
   "cell_type": "code",
   "execution_count": 5,
   "id": "bc757956",
   "metadata": {},
   "outputs": [
    {
     "name": "stdout",
     "output_type": "stream",
     "text": [
      "Total de columnas:  41\n",
      "Columnas categóricas (4): ['emotion', 'Key', 'Time signature', 'Explicit']\n",
      "Columnas textuales (16): ['Artist(s)', 'song', 'text', 'Length', 'Genre', 'Album', 'Release Date', 'Loudness (db)', 'Similar Artist 1', 'Similar Song 1', 'Similar Artist 2', 'Similar Song 2', 'Similar Artist 3', 'Similar Song 3', 'song_normalized', 'artist_normalized']\n",
      "Columnas numéricas (21):  ['Tempo', 'Popularity', 'Energy', 'Danceability', 'Positiveness', 'Speechiness', 'Liveness', 'Acousticness', 'Instrumentalness', 'Good for Party', 'Good for Work/Study', 'Good for Relaxation/Meditation', 'Good for Exercise', 'Good for Running', 'Good for Yoga/Stretching', 'Good for Driving', 'Good for Social Gatherings', 'Good for Morning Routine', 'Similarity Score 1', 'Similarity Score 2', 'Similarity Score 3']\n",
      "Columnas unicas en Release Date <bound method Series.unique of 0             29th April 2013\n",
      "1             29th April 2013\n",
      "2             25th April 2023\n",
      "3          31st December 1996\n",
      "4              15th July 2014\n",
      "                 ...         \n",
      "108133    22nd September 2011\n",
      "108134         21st July 2023\n",
      "108135     7th September 2021\n",
      "108136     25th November 2016\n",
      "108137     13th December 2018\n",
      "Name: Release Date, Length: 108138, dtype: object>\n",
      "Sufijos encontrados: ['th' 'st' 'nd' 'rd']\n"
     ]
    }
   ],
   "source": [
    "print(\"Total de columnas: \", len(df.columns))\n",
    "print(f\"Columnas categóricas ({len(categorical_cols)}):\", categorical_cols)\n",
    "print(f\"Columnas textuales ({len(textual_cols)}):\", textual_cols)\n",
    "print(f\"Columnas numéricas ({len(numeric_cols)}): \", numeric_cols)\n",
    "\n",
    "print(f\"Columnas unicas en Release Date {df['Release Date'].unique}\")\n",
    "import re\n",
    "def extraer_sufijo(fecha):\n",
    "    m = re.search(r'\\d+(st|nd|rd|th)', str(fecha))\n",
    "    return m.group(1) if m else None\n",
    "\n",
    "sufijos = pd.Series(df['Release Date']).apply(extraer_sufijo).unique()\n",
    "print(\"Sufijos encontrados:\", sufijos)"
   ]
  },
  {
   "cell_type": "markdown",
   "id": "5a8b02be",
   "metadata": {},
   "source": [
    "### Verificación manual de los tipos de las columnas "
   ]
  },
  {
   "cell_type": "code",
   "execution_count": 6,
   "id": "6b21de39",
   "metadata": {},
   "outputs": [
    {
     "name": "stdout",
     "output_type": "stream",
     "text": [
      "Artist(s): !!!\n",
      "song: Even When the Waters Cold\n",
      "text: Friends told her she was better off at the bottom of a river Than in a bed with him He said \"Until you try both, you won't know what you like better Why don't we go for a swim?\" Well, friends told her this and friends told her that But friends don't choose what echoes in your head When she got bored with all the idle chit-and-chat Kept thinking 'bout what he said  I'll swim even when the water's cold That's the one thing that I know Even when the water's cold  She remembers it fondly, she doesn't remember it all But what she does, she sees clearly She lost his number, and he never called But all she really lost was an earring The other's in a box with others she has lost I wonder if she still hears me  I'll swim even when the water's cold That's the one thing that I know Even when the water's cold If you believe in love You know that sometimes it isn't Do you believe in love? Then save the bullshit questions Sometimes it is and sometimes it isn't Sometimes it's just how the light hits their eyes Do you believe in love?\n",
      "Length: 03:47\n",
      "emotion: sadness\n",
      "Genre: hip hop\n",
      "Album: Thr!!!er\n",
      "Release Date: 29th April 2013\n",
      "Key: D min\n",
      "Tempo: 105\n",
      "Loudness (db): -6.85db\n",
      "Time signature: 4/4\n",
      "Explicit: No\n",
      "Popularity: 40\n",
      "Energy: 83\n",
      "Danceability: 71\n",
      "Positiveness: 87\n",
      "Speechiness: 4\n",
      "Liveness: 16\n",
      "Acousticness: 11\n",
      "Instrumentalness: 0\n",
      "Good for Party: 0\n",
      "Good for Work/Study: 0\n",
      "Good for Relaxation/Meditation: 0\n",
      "Good for Exercise: 0\n",
      "Good for Running: 0\n",
      "Good for Yoga/Stretching: 0\n",
      "Good for Driving: 0\n",
      "Good for Social Gatherings: 0\n",
      "Good for Morning Routine: 0\n",
      "Similar Artist 1: Corey Smith\n",
      "Similar Song 1: If I Could Do It Again\n",
      "Similarity Score 1: 0.9860607848219312\n",
      "Similar Artist 2: Toby Keith\n",
      "Similar Song 2: Drinks After Work\n",
      "Similarity Score 2: 0.9837194773786984\n",
      "Similar Artist 3: Space\n",
      "Similar Song 3: Neighbourhood\n",
      "Similarity Score 3: 0.9832363508466968\n",
      "song_normalized: even when the waters cold\n",
      "artist_normalized: !!!\n"
     ]
    }
   ],
   "source": [
    "i = 0\n",
    "for col, val in df.iloc[i].items():\n",
    "    print(f\"{col}: {val}\")"
   ]
  },
  {
   "cell_type": "code",
   "execution_count": 7,
   "id": "04787bd0",
   "metadata": {},
   "outputs": [
    {
     "name": "stdout",
     "output_type": "stream",
     "text": [
      "Numerica by human (23)\n",
      "Numeric cols del df (21)\n",
      "Atributos definidos y no encontrados en df: {'Length', 'Loudness (db)'}\n",
      "Atributos encontrados en df y no definidos manualmente: set()\n",
      "Cantidad de atributos iguales: 21\n"
     ]
    }
   ],
   "source": [
    "# Numerical \n",
    "numerical_by_human = [\n",
    "    \"Length\", \n",
    "    \"Tempo\",\n",
    "    \"Loudness (db)\",\n",
    "    \"Popularity\",\n",
    "    \"Energy\",\n",
    "    \"Danceability\",\n",
    "    \"Positiveness\",\n",
    "    \"Speechiness\",\n",
    "    \"Liveness\",\n",
    "    \"Acousticness\",\n",
    "    \"Instrumentalness\",\n",
    "    \"Good for Party\",\n",
    "    \"Good for Work/Study\",\n",
    "    \"Good for Relaxation/Meditation\",\n",
    "    \"Good for Exercise\",\n",
    "    \"Good for Running\",\n",
    "    \"Good for Yoga/Stretching\",\n",
    "    \"Good for Driving\",\n",
    "    \"Good for Social Gatherings\",\n",
    "    \"Good for Morning Routine\",\n",
    "    \"Similarity Score 1\",\n",
    "    \"Similarity Score 2\",\n",
    "    \"Similarity Score 3\",\n",
    "]\n",
    "\n",
    "# Duditas\n",
    "\n",
    "dudas = [\n",
    "    \"Release Date\",\n",
    "]\n",
    "\n",
    "\n",
    "# Elementos en numerical_by_human pero NO en numeric_cols\n",
    "faltan_en_df = set(numerical_by_human) - set(numeric_cols)\n",
    "\n",
    "# Elementos en numeric_cols pero NO en numerical_by_human\n",
    "sobran_en_df = set(numeric_cols) - set(numerical_by_human)\n",
    "\n",
    "print(f\"Numerica by human ({len(numerical_by_human)})\")\n",
    "print(f\"Numeric cols del df ({len(numeric_cols)})\")\n",
    "\n",
    "print(\"Atributos definidos y no encontrados en df:\", faltan_en_df)\n",
    "print(\"Atributos encontrados en df y no definidos manualmente:\", sobran_en_df)\n",
    "\n",
    "coinciden = set(numerical_by_human) & set(numeric_cols)\n",
    "\n",
    "print(f\"Cantidad de atributos iguales: {len(coinciden)}\")\n"
   ]
  },
  {
   "cell_type": "markdown",
   "id": "3c33ce5a",
   "metadata": {},
   "source": [
    "Entonces  {'Length', 'Loudness (db)'} son datos numerícos"
   ]
  },
  {
   "cell_type": "code",
   "execution_count": 8,
   "id": "27fa6c96",
   "metadata": {},
   "outputs": [],
   "source": [
    "df = process(df)"
   ]
  },
  {
   "cell_type": "markdown",
   "id": "c3988776",
   "metadata": {},
   "source": [
    "Observar los tipos de datos encontrados y ya revisado manualmente (revisión completa en datos numéricos)"
   ]
  },
  {
   "cell_type": "code",
   "execution_count": 10,
   "id": "5538e207",
   "metadata": {},
   "outputs": [
    {
     "name": "stdout",
     "output_type": "stream",
     "text": [
      "################ Probando con tolerancia (10) #########\n",
      "Columnas categóricas (3): ['emotion', 'Time signature', 'Explicit']\n",
      "Columnas textuales (15): ['Artist(s)', 'song', 'text', 'Genre', 'Album', 'Release Date', 'Key', 'Similar Artist 1', 'Similar Song 1', 'Similar Artist 2', 'Similar Song 2', 'Similar Artist 3', 'Similar Song 3', 'song_normalized', 'artist_normalized']\n",
      "Columnas numéricas (23):  ['Tempo', 'Loudness (db)', 'Popularity', 'Energy', 'Danceability', 'Positiveness', 'Speechiness', 'Liveness', 'Acousticness', 'Instrumentalness', 'Good for Party', 'Good for Work/Study', 'Good for Relaxation/Meditation', 'Good for Exercise', 'Good for Running', 'Good for Yoga/Stretching', 'Good for Driving', 'Good for Social Gatherings', 'Good for Morning Routine', 'Similarity Score 1', 'Similarity Score 2', 'Similarity Score 3', 'Length_sec']\n",
      "################ Probando con tolerancia (20) #########\n",
      "Columnas categóricas (3): ['emotion', 'Time signature', 'Explicit']\n",
      "Columnas textuales (15): ['Artist(s)', 'song', 'text', 'Genre', 'Album', 'Release Date', 'Key', 'Similar Artist 1', 'Similar Song 1', 'Similar Artist 2', 'Similar Song 2', 'Similar Artist 3', 'Similar Song 3', 'song_normalized', 'artist_normalized']\n",
      "Columnas numéricas (23):  ['Tempo', 'Loudness (db)', 'Popularity', 'Energy', 'Danceability', 'Positiveness', 'Speechiness', 'Liveness', 'Acousticness', 'Instrumentalness', 'Good for Party', 'Good for Work/Study', 'Good for Relaxation/Meditation', 'Good for Exercise', 'Good for Running', 'Good for Yoga/Stretching', 'Good for Driving', 'Good for Social Gatherings', 'Good for Morning Routine', 'Similarity Score 1', 'Similarity Score 2', 'Similarity Score 3', 'Length_sec']\n",
      "################ Probando con tolerancia (50) #########\n",
      "Columnas categóricas (4): ['emotion', 'Key', 'Time signature', 'Explicit']\n",
      "Columnas textuales (14): ['Artist(s)', 'song', 'text', 'Genre', 'Album', 'Release Date', 'Similar Artist 1', 'Similar Song 1', 'Similar Artist 2', 'Similar Song 2', 'Similar Artist 3', 'Similar Song 3', 'song_normalized', 'artist_normalized']\n",
      "Columnas numéricas (23):  ['Tempo', 'Loudness (db)', 'Popularity', 'Energy', 'Danceability', 'Positiveness', 'Speechiness', 'Liveness', 'Acousticness', 'Instrumentalness', 'Good for Party', 'Good for Work/Study', 'Good for Relaxation/Meditation', 'Good for Exercise', 'Good for Running', 'Good for Yoga/Stretching', 'Good for Driving', 'Good for Social Gatherings', 'Good for Morning Routine', 'Similarity Score 1', 'Similarity Score 2', 'Similarity Score 3', 'Length_sec']\n",
      "################ Probando con tolerancia (100) #########\n",
      "Columnas categóricas (4): ['emotion', 'Key', 'Time signature', 'Explicit']\n",
      "Columnas textuales (14): ['Artist(s)', 'song', 'text', 'Genre', 'Album', 'Release Date', 'Similar Artist 1', 'Similar Song 1', 'Similar Artist 2', 'Similar Song 2', 'Similar Artist 3', 'Similar Song 3', 'song_normalized', 'artist_normalized']\n",
      "Columnas numéricas (23):  ['Tempo', 'Loudness (db)', 'Popularity', 'Energy', 'Danceability', 'Positiveness', 'Speechiness', 'Liveness', 'Acousticness', 'Instrumentalness', 'Good for Party', 'Good for Work/Study', 'Good for Relaxation/Meditation', 'Good for Exercise', 'Good for Running', 'Good for Yoga/Stretching', 'Good for Driving', 'Good for Social Gatherings', 'Good for Morning Routine', 'Similarity Score 1', 'Similarity Score 2', 'Similarity Score 3', 'Length_sec']\n",
      "################ Probando con tolerancia (200) #########\n",
      "Columnas categóricas (4): ['emotion', 'Key', 'Time signature', 'Explicit']\n",
      "Columnas textuales (14): ['Artist(s)', 'song', 'text', 'Genre', 'Album', 'Release Date', 'Similar Artist 1', 'Similar Song 1', 'Similar Artist 2', 'Similar Song 2', 'Similar Artist 3', 'Similar Song 3', 'song_normalized', 'artist_normalized']\n",
      "Columnas numéricas (23):  ['Tempo', 'Loudness (db)', 'Popularity', 'Energy', 'Danceability', 'Positiveness', 'Speechiness', 'Liveness', 'Acousticness', 'Instrumentalness', 'Good for Party', 'Good for Work/Study', 'Good for Relaxation/Meditation', 'Good for Exercise', 'Good for Running', 'Good for Yoga/Stretching', 'Good for Driving', 'Good for Social Gatherings', 'Good for Morning Routine', 'Similarity Score 1', 'Similarity Score 2', 'Similarity Score 3', 'Length_sec']\n",
      "################ Probando con tolerancia (1000) #########\n",
      "Columnas categóricas (4): ['emotion', 'Key', 'Time signature', 'Explicit']\n",
      "Columnas textuales (14): ['Artist(s)', 'song', 'text', 'Genre', 'Album', 'Release Date', 'Similar Artist 1', 'Similar Song 1', 'Similar Artist 2', 'Similar Song 2', 'Similar Artist 3', 'Similar Song 3', 'song_normalized', 'artist_normalized']\n",
      "Columnas numéricas (23):  ['Tempo', 'Loudness (db)', 'Popularity', 'Energy', 'Danceability', 'Positiveness', 'Speechiness', 'Liveness', 'Acousticness', 'Instrumentalness', 'Good for Party', 'Good for Work/Study', 'Good for Relaxation/Meditation', 'Good for Exercise', 'Good for Running', 'Good for Yoga/Stretching', 'Good for Driving', 'Good for Social Gatherings', 'Good for Morning Routine', 'Similarity Score 1', 'Similarity Score 2', 'Similarity Score 3', 'Length_sec']\n",
      "################ Probando con tolerancia (10000) #########\n",
      "Columnas categóricas (6): ['emotion', 'Genre', 'Release Date', 'Key', 'Time signature', 'Explicit']\n",
      "Columnas textuales (12): ['Artist(s)', 'song', 'text', 'Album', 'Similar Artist 1', 'Similar Song 1', 'Similar Artist 2', 'Similar Song 2', 'Similar Artist 3', 'Similar Song 3', 'song_normalized', 'artist_normalized']\n",
      "Columnas numéricas (23):  ['Tempo', 'Loudness (db)', 'Popularity', 'Energy', 'Danceability', 'Positiveness', 'Speechiness', 'Liveness', 'Acousticness', 'Instrumentalness', 'Good for Party', 'Good for Work/Study', 'Good for Relaxation/Meditation', 'Good for Exercise', 'Good for Running', 'Good for Yoga/Stretching', 'Good for Driving', 'Good for Social Gatherings', 'Good for Morning Routine', 'Similarity Score 1', 'Similarity Score 2', 'Similarity Score 3', 'Length_sec']\n"
     ]
    }
   ],
   "source": [
    "\n",
    "tolerancias = [10, 20, 50,100, 200,  1000, 10000]\n",
    "\n",
    "categoricas = []\n",
    "textuales   = []\n",
    "numericas   = []\n",
    "\n",
    "for tol in tolerancias:\n",
    "    categorical_cols, textual_cols, numeric_cols = get_typos(df, tol)\n",
    "    print(f\"################ Probando con tolerancia ({tol}) #########\")\n",
    "    # print(\"Total de columnas: \", len(df.columns))\n",
    "    print(f\"Columnas categóricas ({len(categorical_cols)}):\", categorical_cols)\n",
    "    print(f\"Columnas textuales ({len(textual_cols)}):\", textual_cols)\n",
    "    print(f\"Columnas numéricas ({len(numeric_cols)}): \", numeric_cols)\n",
    "    categoricas.append(len(categorical_cols))\n",
    "    textuales.append(len(textual_cols))\n",
    "    numericas.append(len(numeric_cols))\n",
    "\n"
   ]
  },
  {
   "cell_type": "code",
   "execution_count": 16,
   "id": "aad69083",
   "metadata": {},
   "outputs": [
    {
     "name": "stdout",
     "output_type": "stream",
     "text": [
      "Diferencias entre D y F:  {'Release Date'}\n",
      "Diferencias entre F y D:  set()\n"
     ]
    }
   ],
   "source": [
    "D = ['emotion', 'Time signature', 'Artist(s)', 'song', 'Genre', 'Album', 'Release Date', 'Key', 'Similar Artist 1', 'Similar Song 1', 'Similar Artist 2', 'Similar Song 2', 'Similar Artist 3', 'Similar Song 3', 'song_normalized', 'artist_normalized']\n",
    "T = ['text']\n",
    "\n",
    "F = ['emotion', 'Key', 'Time signature', 'Artist(s)', 'song', 'Genre', 'Album', 'Similar Artist 1', 'Similar Song 1', 'Similar Artist 2', 'Similar Song 2', 'Similar Artist 3', 'Similar Song 3', 'song_normalized', 'artist_normalized']\n",
    "\n",
    "set(D) - set(F)\n",
    "print(\"Diferencias entre D y F: \", set(D) - set(F))\n",
    "print(\"Diferencias entre F y D: \", set(F) - set(D))\n"
   ]
  },
  {
   "cell_type": "code",
   "execution_count": 9,
   "id": "27e9af91",
   "metadata": {},
   "outputs": [
    {
     "ename": "NameError",
     "evalue": "name 'tolerancias' is not defined",
     "output_type": "error",
     "traceback": [
      "\u001b[31m---------------------------------------------------------------------------\u001b[39m",
      "\u001b[31mNameError\u001b[39m                                 Traceback (most recent call last)",
      "\u001b[36mCell\u001b[39m\u001b[36m \u001b[39m\u001b[32mIn[9]\u001b[39m\u001b[32m, line 3\u001b[39m\n\u001b[32m      1\u001b[39m plt.figure(figsize=(\u001b[32m8\u001b[39m,\u001b[32m5\u001b[39m))\n\u001b[32m----> \u001b[39m\u001b[32m3\u001b[39m plt.plot(\u001b[43mtolerancias\u001b[49m, categoricas, marker=\u001b[33m'\u001b[39m\u001b[33mo\u001b[39m\u001b[33m'\u001b[39m, label=\u001b[33m\"\u001b[39m\u001b[33mCategóricas\u001b[39m\u001b[33m\"\u001b[39m)\n\u001b[32m      4\u001b[39m plt.plot(tolerancias, textuales, marker=\u001b[33m'\u001b[39m\u001b[33ms\u001b[39m\u001b[33m'\u001b[39m, label=\u001b[33m\"\u001b[39m\u001b[33mTextuales\u001b[39m\u001b[33m\"\u001b[39m)\n\u001b[32m      5\u001b[39m \u001b[38;5;66;03m# plt.plot(tolerancias, numericas, marker='^', label=\"Numéricas\")\u001b[39;00m\n",
      "\u001b[31mNameError\u001b[39m: name 'tolerancias' is not defined"
     ]
    },
    {
     "data": {
      "text/plain": [
       "<Figure size 800x500 with 0 Axes>"
      ]
     },
     "metadata": {},
     "output_type": "display_data"
    }
   ],
   "source": [
    "plt.figure(figsize=(8,5))\n",
    "\n",
    "plt.plot(tolerancias, categoricas, marker='o', label=\"Categóricas\")\n",
    "plt.plot(tolerancias, textuales, marker='s', label=\"Textuales\")\n",
    "# plt.plot(tolerancias, numericas, marker='^', label=\"Numéricas\")\n",
    "\n",
    "plt.xscale(\"log\")  # Escala logarítmica para tolerancia (por los saltos grandes)\n",
    "plt.xlabel(\"Tolerancia\")\n",
    "plt.ylabel(\"Número de columnas\")\n",
    "plt.title(\"Evolución de columnas detectadas según tolerancia\")\n",
    "plt.legend()\n",
    "plt.grid(True, which=\"both\", linestyle=\"--\", alpha=0.6)\n",
    "\n",
    "plt.show()"
   ]
  }
 ],
 "metadata": {
  "kernelspec": {
   "display_name": ".venv",
   "language": "python",
   "name": "python3"
  },
  "language_info": {
   "codemirror_mode": {
    "name": "ipython",
    "version": 3
   },
   "file_extension": ".py",
   "mimetype": "text/x-python",
   "name": "python",
   "nbconvert_exporter": "python",
   "pygments_lexer": "ipython3",
   "version": "3.13.2"
  }
 },
 "nbformat": 4,
 "nbformat_minor": 5
}
