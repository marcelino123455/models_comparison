{
 "cells": [
  {
   "cell_type": "code",
   "execution_count": 1,
   "id": "62017b0f",
   "metadata": {
    "execution": {
     "iopub.execute_input": "2025-08-03T21:34:50.593726Z",
     "iopub.status.busy": "2025-08-03T21:34:50.593562Z",
     "iopub.status.idle": "2025-08-03T21:34:58.731910Z",
     "shell.execute_reply": "2025-08-03T21:34:58.731248Z"
    },
    "papermill": {
     "duration": 8.144391,
     "end_time": "2025-08-03T21:34:58.733075",
     "exception": false,
     "start_time": "2025-08-03T21:34:50.588684",
     "status": "completed"
    },
    "tags": []
   },
   "outputs": [],
   "source": [
    "import torch\n",
    "import torch.nn as nn\n",
    "import torch.optim as optim\n",
    "from torch.utils.data import DataLoader, TensorDataset\n",
    "import numpy as np\n",
    "import pandas as pd\n",
    "import os\n",
    "from sklearn.model_selection import train_test_split\n",
    "\n",
    "import matplotlib.pyplot as plt\n",
    "\n",
    "from sklearn.metrics import confusion_matrix\n",
    "import seaborn as sns\n"
   ]
  },
  {
   "cell_type": "code",
   "execution_count": null,
   "id": "b4775409",
   "metadata": {
    "execution": {
     "iopub.execute_input": "2025-08-03T21:34:58.742732Z",
     "iopub.status.busy": "2025-08-03T21:34:58.741958Z",
     "iopub.status.idle": "2025-08-03T21:34:59.917491Z",
     "shell.execute_reply": "2025-08-03T21:34:59.916784Z"
    },
    "papermill": {
     "duration": 1.179982,
     "end_time": "2025-08-03T21:34:59.918679",
     "exception": false,
     "start_time": "2025-08-03T21:34:58.738697",
     "status": "completed"
    },
    "tags": []
   },
   "outputs": [],
   "source": [
    "DATA_PATH =\"../data\"\n",
    "path_lb_embb = os.path.join(DATA_PATH, \"lb_npy.npy\")\n",
    "path_dataset = os.path.join(DATA_PATH, \"spotify_dataset_sin_duplicados_4.csv\")\n",
    "\n",
    "# Para hacer pruebitas y luego mandarlo como sbatch\n",
    "TESTING = False\n",
    "_EMBEDDINGS = np.load(path_lb_embb)\n",
    "\n",
    "if TESTING:\n",
    "    _NROWS = 1000\n",
    "    _EMBEDDINGS = _EMBEDDINGS[:1000]\n",
    "    _EPHOCS = 1000\n",
    "else:\n",
    "    _NROWS = None\n",
    "    _EPHOCS = 10000\n",
    "    \n",
    "\n",
    "df = pd.read_csv(path_dataset, nrows = _NROWS)\n",
    "df['Explicit_binary'] = df['Explicit'].map({'Yes': 1, 'No': 0})\n",
    "\n",
    "X = _EMBEDDINGS\n",
    "\n",
    "y = df['Explicit_binary']\n",
    "\n",
    "\n",
    "\n",
    "X_train, X_test, y_train, y_test = train_test_split(\n",
    "    X, y, test_size=0.2, random_state=42 \n",
    ")\n",
    "\n",
    "y_train = y_train.values.reshape(-1, 1).astype(np.float32)\n",
    "y_test = y_test.values.reshape(-1, 1).astype(np.float32)\n",
    "\n",
    "\n"
   ]
  },
  {
   "cell_type": "code",
   "execution_count": 3,
   "id": "890be7e5",
   "metadata": {
    "execution": {
     "iopub.execute_input": "2025-08-03T21:34:59.925421Z",
     "iopub.status.busy": "2025-08-03T21:34:59.924733Z",
     "iopub.status.idle": "2025-08-03T21:34:59.930635Z",
     "shell.execute_reply": "2025-08-03T21:34:59.930098Z"
    },
    "papermill": {
     "duration": 0.009927,
     "end_time": "2025-08-03T21:34:59.931513",
     "exception": false,
     "start_time": "2025-08-03T21:34:59.921586",
     "status": "completed"
    },
    "tags": []
   },
   "outputs": [],
   "source": [
    "# CODE HERE for backward pass\n",
    "\n",
    "# f0, f1, f2\n",
    "class Linear:\n",
    "    def __init__(self, in_dim, out_dim):\n",
    "        self.W = np.random.randn(in_dim, out_dim) * np.sqrt(2.0 / in_dim)\n",
    "        self.b = np.zeros((1, out_dim))\n",
    "    def forward(self, x):\n",
    "        self.x = x\n",
    "        return x @ self.W + self.b\n",
    "\n",
    "    def backward(self, grad_output):\n",
    "        self.grad_W = self.x.T @ grad_output\n",
    "        self.grad_b = np.sum(grad_output, axis=0, keepdims=True)\n",
    "        return grad_output @ self.W.T\n",
    "\n",
    "# h0, h1, h2, ....\n",
    "class ReLU:\n",
    "    def forward(self, x):\n",
    "        self.mask = x > 0\n",
    "        return x * self.mask\n",
    "    def backward(self, grad_output):\n",
    "        return grad_output * self.mask\n",
    "\n",
    "class Sigmoid:\n",
    "    def forward(self, x):\n",
    "        self.out = 1 / (1 + np.exp(-x))\n",
    "        return self.out\n",
    "\n",
    "    def backward(self, grad_output):\n",
    "        return grad_output * self.out * (1 - self.out)\n",
    "\n",
    "# error\n",
    "class MSELoss:\n",
    "    def forward(self, pred, target):\n",
    "        self.diff = pred - target\n",
    "        return np.mean(self.diff ** 2)\n",
    "    def backward(self):\n",
    "        return 2.0 * self.diff / self.diff.shape[0]"
   ]
  },
  {
   "cell_type": "code",
   "execution_count": 4,
   "id": "ea177d6d",
   "metadata": {
    "execution": {
     "iopub.execute_input": "2025-08-03T21:34:59.936873Z",
     "iopub.status.busy": "2025-08-03T21:34:59.936217Z",
     "iopub.status.idle": "2025-08-03T21:34:59.944794Z",
     "shell.execute_reply": "2025-08-03T21:34:59.943992Z"
    },
    "papermill": {
     "duration": 0.012098,
     "end_time": "2025-08-03T21:34:59.945660",
     "exception": false,
     "start_time": "2025-08-03T21:34:59.933562",
     "status": "completed"
    },
    "tags": []
   },
   "outputs": [],
   "source": [
    "class MLP:\n",
    "    def __init__(self, dims):\n",
    "        self.layers = []\n",
    "        for i in range(len(dims)-2):\n",
    "            self.layers.append(Linear(dims[i], dims[i+1])) #fi\n",
    "            self.layers.append(ReLU()) # hi\n",
    "\n",
    "        self.layers.append(Linear(dims[-2], dims[-1]))\n",
    "\n",
    "    # CODE HERE (forward, backward pass)\n",
    "    def forward(self, x):\n",
    "        for l in self.layers:\n",
    "            x = l.forward(x)\n",
    "        return x\n",
    "\n",
    "    def backward(self, grad):\n",
    "        for l in reversed(self.layers):\n",
    "            grad = l.backward(grad)\n",
    "\n",
    "    @property\n",
    "    def n_params(self):\n",
    "        total = 0\n",
    "        for l in self.layers:\n",
    "            if isinstance(l, Linear):\n",
    "                total += l.W.size + l.b.size\n",
    "        return total\n",
    "\n",
    "    def train(self, X, y, lr=0.1, epochs=10000, print_every=100):\n",
    "      loss_fn = MSELoss()\n",
    "      history = []\n",
    "      for epoch in range(epochs):\n",
    "          #forward\n",
    "          pred = self.forward(X)\n",
    "          loss = loss_fn.forward(pred, y)\n",
    "          #backward\n",
    "          grad = loss_fn.backward()\n",
    "          self.backward(grad)\n",
    "\n",
    "          # Descenso de la gradiente\n",
    "          for layer in self.layers:\n",
    "              if isinstance(layer, Linear):\n",
    "                  layer.W -= lr * layer.grad_W\n",
    "                  layer.b -= lr * layer.grad_b\n",
    "          history.append(loss)\n",
    "          if epoch % print_every == 0:\n",
    "              print(f\"Epoch {epoch}, Loss: {loss:.6f}\")\n",
    "      return history\n",
    "\n",
    "    def train_batches(self, X, y, lr=0.1, epochs=10000, batch_size=32, print_every=100):\n",
    "        loss_fn = MSELoss()\n",
    "        history = []\n",
    "\n",
    "        n = X.shape[0]\n",
    "        for epoch in range(epochs):\n",
    "            # Barajamos los datos al inicio de cada época\n",
    "            perm = np.random.permutation(n)\n",
    "            X_shuffled = X[perm]\n",
    "            y_shuffled = y[perm]\n",
    "\n",
    "            for i in range(0, n, batch_size):\n",
    "                xb = X_shuffled[i:i+batch_size]\n",
    "                yb = y_shuffled[i:i+batch_size]\n",
    "\n",
    "                # Forward\n",
    "                pred = self.forward(xb)\n",
    "                loss = loss_fn.forward(pred, yb)\n",
    "\n",
    "                # Backward\n",
    "                grad = loss_fn.backward()\n",
    "                self.backward(grad)\n",
    "\n",
    "                # Actualización\n",
    "                for layer in self.layers:\n",
    "                    if isinstance(layer, Linear):\n",
    "                        layer.W -= lr * layer.grad_W\n",
    "                        layer.b -= lr * layer.grad_b\n",
    "\n",
    "            pred_full = self.forward(X)\n",
    "            epoch_loss = loss_fn.forward(pred_full, y)\n",
    "            history.append(epoch_loss)\n",
    "\n",
    "            if epoch % print_every == 0:\n",
    "                print(f\"Epoch {epoch}, Loss: {epoch_loss:.6f}\")\n",
    "\n",
    "        return history\n",
    "\n"
   ]
  },
  {
   "cell_type": "code",
   "execution_count": 5,
   "id": "acb0bd1c",
   "metadata": {
    "execution": {
     "iopub.execute_input": "2025-08-03T21:34:59.951411Z",
     "iopub.status.busy": "2025-08-03T21:34:59.950774Z",
     "iopub.status.idle": "2025-08-03T21:34:59.954952Z",
     "shell.execute_reply": "2025-08-03T21:34:59.954582Z"
    },
    "papermill": {
     "duration": 0.008081,
     "end_time": "2025-08-03T21:34:59.955813",
     "exception": false,
     "start_time": "2025-08-03T21:34:59.947732",
     "status": "completed"
    },
    "tags": []
   },
   "outputs": [
    {
     "name": "stdout",
     "output_type": "stream",
     "text": [
      "(800, 300)\n",
      "(800, 1)\n"
     ]
    }
   ],
   "source": [
    "print(X_train.shape)\n",
    "# y_train = Y.values.reshape(-1, 1).astype(np.float32) \n",
    "print(y_train.shape)"
   ]
  },
  {
   "cell_type": "code",
   "execution_count": 6,
   "id": "107320ec",
   "metadata": {
    "execution": {
     "iopub.execute_input": "2025-08-03T21:34:59.961911Z",
     "iopub.status.busy": "2025-08-03T21:34:59.961268Z",
     "iopub.status.idle": "2025-08-03T21:35:00.703261Z",
     "shell.execute_reply": "2025-08-03T21:35:00.702335Z"
    },
    "papermill": {
     "duration": 0.745882,
     "end_time": "2025-08-03T21:35:00.704057",
     "exception": false,
     "start_time": "2025-08-03T21:34:59.958175",
     "status": "completed"
    },
    "tags": []
   },
   "outputs": [
    {
     "name": "stdout",
     "output_type": "stream",
     "text": [
      "Epoch 0, Loss: 0.751073\n"
     ]
    },
    {
     "name": "stdout",
     "output_type": "stream",
     "text": [
      "Parámetros totales: 1209\n"
     ]
    }
   ],
   "source": [
    "mlp = MLP([300, 4, 1])\n",
    "history= mlp.train(X_train, y_train, lr=0.5, epochs=_EPHOCS, print_every=1000)\n",
    "print('Parámetros totales:', mlp.n_params)"
   ]
  },
  {
   "cell_type": "code",
   "execution_count": null,
   "id": "1f43e8cc",
   "metadata": {
    "execution": {
     "iopub.execute_input": "2025-08-03T21:35:00.712577Z",
     "iopub.status.busy": "2025-08-03T21:35:00.711956Z",
     "iopub.status.idle": "2025-08-03T21:35:00.861786Z",
     "shell.execute_reply": "2025-08-03T21:35:00.860893Z"
    },
    "papermill": {
     "duration": 0.153741,
     "end_time": "2025-08-03T21:35:00.862683",
     "exception": false,
     "start_time": "2025-08-03T21:35:00.708942",
     "status": "completed"
    },
    "tags": []
   },
   "outputs": [
    {
     "data": {
      "image/png": "[encoded data removed]",
      "text/plain": [
       "<Figure size 640x480 with 1 Axes>"
      ]
     },
     "metadata": {},
     "output_type": "display_data"
    }
   ],
   "source": [
    "# Perdida\n",
    "plt.figure()\n",
    "plt.plot(history)\n",
    "plt.xlabel(\"Épocas\")\n",
    "plt.ylabel(\"Error\")\n",
    "# plt.title(\"Evolución de la pérdida (XOR)\")\n",
    "plt.grid(True)\n",
    "plt.show()"
   ]
  },
  {
   "cell_type": "code",
   "execution_count": 8,
   "id": "75d8a644",
   "metadata": {
    "execution": {
     "iopub.execute_input": "2025-08-03T21:35:00.871015Z",
     "iopub.status.busy": "2025-08-03T21:35:00.870373Z",
     "iopub.status.idle": "2025-08-03T21:35:00.886064Z",
     "shell.execute_reply": "2025-08-03T21:35:00.885475Z"
    },
    "papermill": {
     "duration": 0.020072,
     "end_time": "2025-08-03T21:35:00.886867",
     "exception": false,
     "start_time": "2025-08-03T21:35:00.866795",
     "status": "completed"
    },
    "tags": []
   },
   "outputs": [
    {
     "name": "stdout",
     "output_type": "stream",
     "text": [
      "Accuracy en Test: 0.7900\n",
      "              precision    recall  f1-score   support\n",
      "\n",
      "         0.0       0.61      0.74      0.67        57\n",
      "         1.0       0.89      0.81      0.85       143\n",
      "\n",
      "    accuracy                           0.79       200\n",
      "   macro avg       0.75      0.77      0.76       200\n",
      "weighted avg       0.81      0.79      0.80       200\n",
      "\n"
     ]
    }
   ],
   "source": [
    "# Pasando test a la red\n",
    "pred_test = mlp.forward(X_test)\n",
    "\n",
    "# Se hace la predicción\n",
    "pred_labels = (pred_test >= 0.5).astype(int).flatten()\n",
    "y_test_true = y_test.flatten()\n",
    "\n",
    "# Calcular Accuracy y Reporte\n",
    "from sklearn.metrics import accuracy_score, classification_report\n",
    "\n",
    "print(f\"Accuracy en Test: {accuracy_score(y_test_true, pred_labels):.4f}\")\n",
    "print(classification_report(y_test_true, pred_labels))\n"
   ]
  },
  {
   "cell_type": "code",
   "execution_count": 9,
   "id": "cdcc1450",
   "metadata": {
    "execution": {
     "iopub.execute_input": "2025-08-03T21:35:00.894547Z",
     "iopub.status.busy": "2025-08-03T21:35:00.893921Z",
     "iopub.status.idle": "2025-08-03T21:35:01.007451Z",
     "shell.execute_reply": "2025-08-03T21:35:01.006853Z"
    },
    "papermill": {
     "duration": 0.118311,
     "end_time": "2025-08-03T21:35:01.008288",
     "exception": false,
     "start_time": "2025-08-03T21:35:00.889977",
     "status": "completed"
    },
    "tags": []
   },
   "outputs": [
    {
     "name": "stdout",
     "output_type": "stream",
     "text": [
      "[[ 42  15]\n",
      " [ 27 116]]\n"
     ]
    },
    {
     "data": {
      "image/png": "[encoded data removed]",
      "text/plain": [
       "<Figure size 600x500 with 2 Axes>"
      ]
     },
     "metadata": {},
     "output_type": "display_data"
    }
   ],
   "source": [
    "cm = confusion_matrix(y_test_true, pred_labels)\n",
    "\n",
    "plt.figure(figsize=(6,5))\n",
    "print(cm)\n",
    "sns.heatmap(cm, annot=True, fmt='d', cmap='Blues', xticklabels=['Not Explicit', 'Explicit'], yticklabels=['Not Explicit', 'Explicit'])\n",
    "plt.xlabel('Predicted')\n",
    "plt.ylabel('Actual')\n",
    "plt.title('Confusion Matrix')\n",
    "plt.show()"
   ]
  }
 ],
 "metadata": {
  "kernelspec": {
   "display_name": ".venv",
   "language": "python",
   "name": "python3"
  },
  "language_info": {
   "codemirror_mode": {
    "name": "ipython",
    "version": 3
   },
   "file_extension": ".py",
   "mimetype": "text/x-python",
   "name": "python",
   "nbconvert_exporter": "python",
   "pygments_lexer": "ipython3",
   "version": "3.13.2"
  },
  "papermill": {
   "default_parameters": {},
   "duration": 14.653128,
   "end_time": "2025-08-03T21:35:03.643559",
   "environment_variables": {},
   "exception": null,
   "input_path": "rn.ipynb",
   "output_path": "ejecutado_rn_20250803_163448.ipynb",
   "parameters": {},
   "start_time": "2025-08-03T21:34:48.990431",
   "version": "2.6.0"
  }
 },
 "nbformat": 4,
 "nbformat_minor": 5
}
