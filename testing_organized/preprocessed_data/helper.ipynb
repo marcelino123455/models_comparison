{
 "cells": [
  {
   "cell_type": "code",
   "execution_count": 1,
   "id": "f0e97d52",
   "metadata": {},
   "outputs": [
    {
     "name": "stdout",
     "output_type": "stream",
     "text": [
      "['gpt', 'gpt_to_check', 'lb_npy.npy', 'spotify_dataset_sin_duplicados_4.csv', 'X_tfidf_las_df.csv', 'new_embbedings_khipu', 'canciones_embeddings_spanish.txt', 'new_gpt', 'embeddings_only', 'embbedings_khipu', 'new_gpt_np', 'ml-workshop.songs_lang.csv', 'gpt_embd']\n",
      "['gpt_T_complete.npy', 'gpt_T.npy']\n"
     ]
    }
   ],
   "source": [
    "import os\n",
    "\n",
    "path_DATA = \"../../data\"\n",
    "\n",
    "print(os.listdir(path_DATA))\n",
    "\n",
    "npy_path_gpt = f\"{path_DATA}/new_gpt/gpt_fussioned\"\n",
    "print(os.listdir(npy_path_gpt))\n",
    "\n"
   ]
  }
 ],
 "metadata": {
  "kernelspec": {
   "display_name": ".venv",
   "language": "python",
   "name": "python3"
  },
  "language_info": {
   "codemirror_mode": {
    "name": "ipython",
    "version": 3
   },
   "file_extension": ".py",
   "mimetype": "text/x-python",
   "name": "python",
   "nbconvert_exporter": "python",
   "pygments_lexer": "ipython3",
   "version": "3.13.2"
  }
 },
 "nbformat": 4,
 "nbformat_minor": 5
}
