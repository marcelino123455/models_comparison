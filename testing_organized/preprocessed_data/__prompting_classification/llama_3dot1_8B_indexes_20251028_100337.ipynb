{
 "cells": [
  {
   "cell_type": "code",
   "execution_count": 1,
   "id": "353be05d",
   "metadata": {
    "execution": {
     "iopub.execute_input": "2025-10-28T15:03:42.066821Z",
     "iopub.status.busy": "2025-10-28T15:03:42.066135Z",
     "iopub.status.idle": "2025-10-28T15:04:04.778148Z",
     "shell.execute_reply": "2025-10-28T15:04:04.777324Z"
    },
    "papermill": {
     "duration": 22.731592,
     "end_time": "2025-10-28T15:04:04.780043",
     "exception": false,
     "start_time": "2025-10-28T15:03:42.048451",
     "status": "completed"
    },
    "tags": []
   },
   "outputs": [
    {
     "name": "stderr",
     "output_type": "stream",
     "text": [
      "2025-10-28 10:03:51.956111: I tensorflow/core/util/port.cc:153] oneDNN custom operations are on. You may see slightly different numerical results due to floating-point round-off errors from different computation orders. To turn them off, set the environment variable `TF_ENABLE_ONEDNN_OPTS=0`.\n",
      "2025-10-28 10:03:52.032666: I tensorflow/core/platform/cpu_feature_guard.cc:210] This TensorFlow binary is optimized to use available CPU instructions in performance-critical operations.\n",
      "To enable the following instructions: AVX2 AVX512F AVX512_VNNI AVX512_BF16 AVX512_FP16 AVX_VNNI AMX_TILE AMX_INT8 AMX_BF16 FMA, in other operations, rebuild TensorFlow with the appropriate compiler flags.\n"
     ]
    },
    {
     "name": "stderr",
     "output_type": "stream",
     "text": [
      "2025-10-28 10:03:57.164085: I tensorflow/core/util/port.cc:153] oneDNN custom operations are on. You may see slightly different numerical results due to floating-point round-off errors from different computation orders. To turn them off, set the environment variable `TF_ENABLE_ONEDNN_OPTS=0`.\n"
     ]
    }
   ],
   "source": [
    "import pandas as pd\n",
    "import json\n",
    "from sklearn.model_selection import train_test_split\n",
    "from sklearn.metrics import accuracy_score, f1_score, precision_score, recall_score\n",
    "from transformers import pipeline\n",
    "import torch\n",
    "import numpy as np\n",
    "import os \n",
    "from datetime import datetime\n",
    "import json\n",
    "\n"
   ]
  },
  {
   "cell_type": "code",
   "execution_count": 2,
   "id": "d8fa8697",
   "metadata": {
    "execution": {
     "iopub.execute_input": "2025-10-28T15:04:04.799016Z",
     "iopub.status.busy": "2025-10-28T15:04:04.798399Z",
     "iopub.status.idle": "2025-10-28T15:04:04.803704Z",
     "shell.execute_reply": "2025-10-28T15:04:04.803130Z"
    },
    "papermill": {
     "duration": 0.015339,
     "end_time": "2025-10-28T15:04:04.804861",
     "exception": false,
     "start_time": "2025-10-28T15:04:04.789522",
     "status": "completed"
    },
    "tags": []
   },
   "outputs": [],
   "source": [
    "RANDOM_STATE = 42\n",
    "path_DATA = \"../../../data\"\n",
    "csv_path = f\"{path_DATA}/spotify_dataset_sin_duplicados_4.csv\"\n",
    "\n",
    "# To compare with  tfidf\n",
    "zero_shot_path = f\"{path_DATA}/zero_outputs\"\n",
    "os.makedirs(zero_shot_path, exist_ok=True)\n",
    "\n",
    "\n",
    "TESTING = False\n",
    "\n",
    "if TESTING:\n",
    "    NROWS = 200\n",
    "else:\n",
    "    NROWS = None\n",
    "    \n"
   ]
  },
  {
   "cell_type": "code",
   "execution_count": 3,
   "id": "57bca28f",
   "metadata": {
    "execution": {
     "iopub.execute_input": "2025-10-28T15:04:04.820695Z",
     "iopub.status.busy": "2025-10-28T15:04:04.820423Z",
     "iopub.status.idle": "2025-10-28T15:04:04.826938Z",
     "shell.execute_reply": "2025-10-28T15:04:04.826382Z"
    },
    "papermill": {
     "duration": 0.015891,
     "end_time": "2025-10-28T15:04:04.828057",
     "exception": false,
     "start_time": "2025-10-28T15:04:04.812166",
     "status": "completed"
    },
    "tags": []
   },
   "outputs": [],
   "source": [
    "def get_array(path):\n",
    "    with open(path, \"r\") as f:\n",
    "        array_ = json.load(f)  \n",
    "    return array_\n",
    "\n",
    "def get_song_and_target(csv_path, faltantes_path = \"faltantes_according_token.json\", sample_size=None, path_test_indexes=None):\n",
    "    df = pd.read_csv(csv_path)\n",
    "    indices_to_remove = get_array(faltantes_path)\n",
    "    if indices_to_remove[-1]>df.shape[0]:\n",
    "        print(\"You are executing in testing way\")\n",
    "    else:\n",
    "        df = df.drop(indices_to_remove).reset_index(drop=True)\n",
    "\n",
    "    if path_test_indexes is not None:\n",
    "        df_split_indices_test = pd.read_csv(path_test_indexes)\n",
    "        idx_test = df_split_indices_test[\"test_index\"].values\n",
    "        df = df.iloc[idx_test].reset_index(drop=True)\n",
    "\n",
    "    if sample_size is not None:\n",
    "        df = df.iloc[:sample_size].reset_index(drop=True)\n",
    "    \n",
    "\n",
    "    df['original_index'] = df.index # Indices correctos despues de la eliminación\n",
    "    X = df['text']\n",
    "    df['Explicit_binary'] = (df['Explicit'].str.lower() == 'yes').astype(int)\n",
    "    y = df['Explicit_binary']\n",
    "    return X, y, df['original_index']"
   ]
  },
  {
   "cell_type": "code",
   "execution_count": 4,
   "id": "6a6bfb88",
   "metadata": {
    "execution": {
     "iopub.execute_input": "2025-10-28T15:04:04.844624Z",
     "iopub.status.busy": "2025-10-28T15:04:04.844360Z",
     "iopub.status.idle": "2025-10-28T15:04:08.469243Z",
     "shell.execute_reply": "2025-10-28T15:04:08.468354Z"
    },
    "papermill": {
     "duration": 3.634552,
     "end_time": "2025-10-28T15:04:08.470487",
     "exception": false,
     "start_time": "2025-10-28T15:04:04.835935",
     "status": "completed"
    },
    "tags": []
   },
   "outputs": [
    {
     "name": "stdout",
     "output_type": "stream",
     "text": [
      "(21625,)\n",
      "(21625,)\n",
      "(21625,)\n"
     ]
    }
   ],
   "source": [
    "\n",
    "# Indices train and test, in this experimentations only is relevante test indexes\n",
    "df_split_indices = pd.read_csv(f\"{zero_shot_path}/split_indices_train.csv\")\n",
    "df_split_indices_test = pd.read_csv(f\"{zero_shot_path}/split_indices_test.csv\")\n",
    "\n",
    "X,y, index = get_song_and_target(csv_path,\"faltantes_according_token.json\", sample_size=NROWS, path_test_indexes=f\"{zero_shot_path}/split_indices_test.csv\")\n",
    "\n",
    "print(X.shape)\n",
    "print(y.shape)\n",
    "print(index.shape)\n"
   ]
  },
  {
   "cell_type": "markdown",
   "id": "3e612849",
   "metadata": {
    "id": "5N-2vq2m_xbw",
    "papermill": {
     "duration": 0.007242,
     "end_time": "2025-10-28T15:04:08.491783",
     "exception": false,
     "start_time": "2025-10-28T15:04:08.484541",
     "status": "completed"
    },
    "tags": []
   },
   "source": [
    "# meta-llama/Llama-3.1-8B-Instruct\n",
    "https://huggingface.co/meta-llama/Llama-3.1-8B-Instruct"
   ]
  },
  {
   "cell_type": "code",
   "execution_count": 5,
   "id": "d8b07b33",
   "metadata": {
    "execution": {
     "iopub.execute_input": "2025-10-28T15:04:08.506780Z",
     "iopub.status.busy": "2025-10-28T15:04:08.506470Z",
     "iopub.status.idle": "2025-10-28T15:04:13.376068Z",
     "shell.execute_reply": "2025-10-28T15:04:13.375615Z"
    },
    "papermill": {
     "duration": 4.878038,
     "end_time": "2025-10-28T15:04:13.376744",
     "exception": false,
     "start_time": "2025-10-28T15:04:08.498706",
     "status": "completed"
    },
    "tags": []
   },
   "outputs": [
    {
     "name": "stderr",
     "output_type": "stream",
     "text": [
      "`torch_dtype` is deprecated! Use `dtype` instead!\n"
     ]
    },
    {
     "name": "stderr",
     "output_type": "stream",
     "text": [
      "`torch_dtype` is deprecated! Use `dtype` instead!\n"
     ]
    },
    {
     "data": {
      "application/vnd.jupyter.widget-view+json": {
       "model_id": "0fc338e2618a48998bb664d5e8f8e39a",
       "version_major": 2,
       "version_minor": 0
      },
      "text/plain": [
       "Loading checkpoint shards:   0%|          | 0/4 [00:00<?, ?it/s]"
      ]
     },
     "metadata": {},
     "output_type": "display_data"
    },
    {
     "name": "stderr",
     "output_type": "stream",
     "text": [
      "Device set to use cuda:0\n"
     ]
    },
    {
     "name": "stdout",
     "output_type": "stream",
     "text": [
      "{'role': 'assistant', 'content': \"This song is 'Explicit'.\"}\n"
     ]
    }
   ],
   "source": [
    "import os\n",
    "import transformers\n",
    "import torch\n",
    "\n",
    "\n",
    "model_id = \"meta-llama/Meta-Llama-3.1-8B-Instruct\"\n",
    "\n",
    "pipeline = transformers.pipeline(\n",
    "    \"text-generation\",\n",
    "    model=model_id,\n",
    "    model_kwargs={\"torch_dtype\": torch.bfloat16},\n",
    "    device_map=\"auto\",\n",
    "    pad_token_id=128001\n",
    "    # pad_token_id` to `eos_token_id`:128001\n",
    ")\n",
    "\n",
    "messages = [\n",
    "    {\"role\": \"system\", \"content\": \"You are a expert detecting if a song is explicit or not based on its lyrics. Answer with 'Explicit' or 'Non-Explicit'.\"},\n",
    "    {\"role\": \"user\", \"content\": f\"song lyric: {X.iloc[1]} Is this song explicit or non-explicit?\"},\n",
    "]\n",
    "\n",
    "outputs = pipeline(\n",
    "    messages,\n",
    "    max_new_tokens=256,\n",
    ")\n",
    "print(outputs[0][\"generated_text\"][-1])\n"
   ]
  },
  {
   "cell_type": "code",
   "execution_count": 6,
   "id": "217e9841",
   "metadata": {
    "execution": {
     "iopub.execute_input": "2025-10-28T15:04:13.388203Z",
     "iopub.status.busy": "2025-10-28T15:04:13.387914Z",
     "iopub.status.idle": "2025-10-28T15:04:13.390692Z",
     "shell.execute_reply": "2025-10-28T15:04:13.390380Z"
    },
    "papermill": {
     "duration": 0.008679,
     "end_time": "2025-10-28T15:04:13.391272",
     "exception": false,
     "start_time": "2025-10-28T15:04:13.382593",
     "status": "completed"
    },
    "tags": []
   },
   "outputs": [
    {
     "name": "stdout",
     "output_type": "stream",
     "text": [
      "X_test shape: (21625,)\n",
      "y_test shape: (21625,)\n",
      "index: (21625,)\n"
     ]
    }
   ],
   "source": [
    "\n",
    "X_test = X\n",
    "y_test = y\n",
    "\n",
    "print(\"X_test shape:\", X_test.shape)\n",
    "print(\"y_test shape:\", y_test.shape)\n",
    "print(\"index:\", index.shape)\n"
   ]
  },
  {
   "cell_type": "code",
   "execution_count": 7,
   "id": "cff908fb",
   "metadata": {
    "execution": {
     "iopub.execute_input": "2025-10-28T15:04:13.401445Z",
     "iopub.status.busy": "2025-10-28T15:04:13.401303Z",
     "iopub.status.idle": "2025-10-28T16:04:50.048040Z",
     "shell.execute_reply": "2025-10-28T16:04:50.044390Z"
    },
    "papermill": {
     "duration": 3636.654289,
     "end_time": "2025-10-28T16:04:50.050643",
     "exception": false,
     "start_time": "2025-10-28T15:04:13.396354",
     "status": "completed"
    },
    "tags": []
   },
   "outputs": [
    {
     "name": "stderr",
     "output_type": "stream",
     "text": [
      "You seem to be using the pipelines sequentially on GPU. In order to maximize efficiency please use a dataset\n"
     ]
    },
    {
     "name": "stdout",
     "output_type": "stream",
     "text": [
      "test_scores length: 21625\n",
      "y_indexes length: 21625\n",
      "Accuracy en test: 0.81530636\n",
      "Precision en test: 0.58540873\n",
      "Recall en test: 0.77441860\n",
      "F1 en test: 0.66677791\n",
      "Resultados guardados en resultados_test_2_llama_8B.json\n"
     ]
    }
   ],
   "source": [
    "test_scores = []\n",
    "\n",
    "i_tested = 0\n",
    "\n",
    "answers_debug = []\n",
    "sons_debug = []\n",
    "for lyric in X_test:\n",
    "    messages = [\n",
    "        {\"role\": \"system\", \"content\": \"You are an expert detecting if a song is explicit or not based on its lyrics. Answer ONLY with one word: 'Explicit' or 'Non-Explicit'.\"},\n",
    "        {\"role\": \"user\", \"content\": f\"song lyric: {lyric}\"},\n",
    "    ]\n",
    "    output = pipeline(messages, max_new_tokens=64)\n",
    "    # print()\n",
    "    # answer = output[0][\"generated_text\"].strip().split()[-1]\n",
    "    answer = output[0][\"generated_text\"][-1]['content']\n",
    "    if TESTING:\n",
    "        answers_debug.append(answer)\n",
    "        sons_debug.append(lyric)\n",
    "    score_explicit = 1 if answer.lower() == \"explicit\" else 0\n",
    "    test_scores.append(score_explicit)\n",
    "    i_tested += 1\n",
    "\n",
    "    if i_tested == NROWS and TESTING:\n",
    "        break\n",
    "\n",
    "test_scores = np.array(test_scores)\n",
    "\n",
    "# Métricas\n",
    "f1_test = f1_score(y_test, test_scores)\n",
    "accuracy_test = accuracy_score(y_test, test_scores)\n",
    "precision_test = precision_score(y_test, test_scores)\n",
    "recall_test = recall_score(y_test, test_scores)\n",
    "\n",
    "print(\"test_scores length:\", len(test_scores))\n",
    "print(\"y_indexes length:\", len(index))\n",
    "\n",
    "df_results = pd.DataFrame({\n",
    "    \"original_index\": index,\n",
    "    \"explicit_score\": test_scores\n",
    "})\n",
    "df_results.to_csv(f\"{zero_shot_path}/llama_8B_results_test.csv\", index=False)\n",
    "\n",
    "\n",
    "print(f\"Accuracy en test: {accuracy_test:.8f}\")\n",
    "print(f\"Precision en test: {precision_test:.8f}\")\n",
    "print(f\"Recall en test: {recall_test:.8f}\")\n",
    "print(f\"F1 en test: {f1_test:.8f}\")\n",
    "\n",
    "\n",
    "resultados = {\n",
    "    \"accuracy\": float(f\"{accuracy_test:.8f}\"),\n",
    "    \"precision\": float(f\"{precision_test:.8f}\"),\n",
    "    \"recall\": float(f\"{recall_test:.8f}\"),\n",
    "    \"f1\": float(f\"{f1_test:.8f}\")\n",
    "}\n",
    "\n",
    "if TESTING:\n",
    "    test_ou = \"test\"\n",
    "else:\n",
    "    test_ou = \"\"\n",
    "\n",
    "ruta_resultados = f\"resultados_test_2_llama_8B{test_ou}.json\"\n",
    "with open(ruta_resultados, \"w\") as f:\n",
    "    json.dump(resultados, f, indent=4)\n",
    "\n",
    "print(f\"Resultados guardados en {ruta_resultados}\")\n",
    "\n"
   ]
  },
  {
   "cell_type": "code",
   "execution_count": 8,
   "id": "357f3125",
   "metadata": {
    "execution": {
     "iopub.execute_input": "2025-10-28T16:04:50.061183Z",
     "iopub.status.busy": "2025-10-28T16:04:50.061025Z",
     "iopub.status.idle": "2025-10-28T16:04:50.063752Z",
     "shell.execute_reply": "2025-10-28T16:04:50.063441Z"
    },
    "papermill": {
     "duration": 0.008576,
     "end_time": "2025-10-28T16:04:50.064346",
     "exception": false,
     "start_time": "2025-10-28T16:04:50.055770",
     "status": "completed"
    },
    "tags": []
   },
   "outputs": [],
   "source": [
    "if TESTING:\n",
    "    import textwrap\n",
    "    print(\"Answers debug:\", answers_debug)\n",
    "    print(\"test_scores:\", test_scores)\n",
    "    print(\"y true     :\", y_test.values)\n",
    "\n",
    "    print(\"song 7:\", sons_debug[7])\n",
    "    wrapped_song = textwrap.fill(sons_debug[7], width=80)\n",
    "    print(\"song 7:\")\n",
    "    print(wrapped_song)"
   ]
  }
 ],
 "metadata": {
  "accelerator": "GPU",
  "colab": {
   "gpuType": "T4",
   "provenance": []
  },
  "kernelspec": {
   "display_name": ".venv",
   "language": "python",
   "name": "python3"
  },
  "language_info": {
   "codemirror_mode": {
    "name": "ipython",
    "version": 3
   },
   "file_extension": ".py",
   "mimetype": "text/x-python",
   "name": "python",
   "nbconvert_exporter": "python",
   "pygments_lexer": "ipython3",
   "version": "3.13.2"
  },
  "papermill": {
   "default_parameters": {},
   "duration": 3672.239568,
   "end_time": "2025-10-28T16:04:51.589704",
   "environment_variables": {},
   "exception": null,
   "input_path": "llama_3dot1_8B_indexes.ipynb",
   "output_path": "llama_3dot1_8B_indexes_20251028_100337.ipynb",
   "parameters": {},
   "start_time": "2025-10-28T15:03:39.350136",
   "version": "2.6.0"
  },
  "widgets": {
   "application/vnd.jupyter.widget-state+json": {
    "state": {
     "048e657812dc4594866ffc147ecec359": {
      "model_module": "@jupyter-widgets/base",
      "model_module_version": "2.0.0",
      "model_name": "LayoutModel",
      "state": {
       "_model_module": "@jupyter-widgets/base",
       "_model_module_version": "2.0.0",
       "_model_name": "LayoutModel",
       "_view_count": null,
       "_view_module": "@jupyter-widgets/base",
       "_view_module_version": "2.0.0",
       "_view_name": "LayoutView",
       "align_content": null,
       "align_items": null,
       "align_self": null,
       "border_bottom": null,
       "border_left": null,
       "border_right": null,
       "border_top": null,
       "bottom": null,
       "display": null,
       "flex": null,
       "flex_flow": null,
       "grid_area": null,
       "grid_auto_columns": null,
       "grid_auto_flow": null,
       "grid_auto_rows": null,
       "grid_column": null,
       "grid_gap": null,
       "grid_row": null,
       "grid_template_areas": null,
       "grid_template_columns": null,
       "grid_template_rows": null,
       "height": null,
       "justify_content": null,
       "justify_items": null,
       "left": null,
       "margin": null,
       "max_height": null,
       "max_width": null,
       "min_height": null,
       "min_width": null,
       "object_fit": null,
       "object_position": null,
       "order": null,
       "overflow": null,
       "padding": null,
       "right": null,
       "top": null,
       "visibility": null,
       "width": null
      }
     },
     "0fc338e2618a48998bb664d5e8f8e39a": {
      "model_module": "@jupyter-widgets/controls",
      "model_module_version": "2.0.0",
      "model_name": "HBoxModel",
      "state": {
       "_dom_classes": [],
       "_model_module": "@jupyter-widgets/controls",
       "_model_module_version": "2.0.0",
       "_model_name": "HBoxModel",
       "_view_count": null,
       "_view_module": "@jupyter-widgets/controls",
       "_view_module_version": "2.0.0",
       "_view_name": "HBoxView",
       "box_style": "",
       "children": [
        "IPY_MODEL_a3090dfde6ff42238bab938934a319b4",
        "IPY_MODEL_d77eeb8846f4409786d92ed80ba1afc1",
        "IPY_MODEL_9de2c09fa44543849472217f27b70c0f"
       ],
       "layout": "IPY_MODEL_551cad846ae540acbd8af80061fc6b2b",
       "tabbable": null,
       "tooltip": null
      }
     },
     "3fe32389a15a401d92bfc5dc5c572b76": {
      "model_module": "@jupyter-widgets/controls",
      "model_module_version": "2.0.0",
      "model_name": "HTMLStyleModel",
      "state": {
       "_model_module": "@jupyter-widgets/controls",
       "_model_module_version": "2.0.0",
       "_model_name": "HTMLStyleModel",
       "_view_count": null,
       "_view_module": "@jupyter-widgets/base",
       "_view_module_version": "2.0.0",
       "_view_name": "StyleView",
       "background": null,
       "description_width": "",
       "font_size": null,
       "text_color": null
      }
     },
     "551cad846ae540acbd8af80061fc6b2b": {
      "model_module": "@jupyter-widgets/base",
      "model_module_version": "2.0.0",
      "model_name": "LayoutModel",
      "state": {
       "_model_module": "@jupyter-widgets/base",
       "_model_module_version": "2.0.0",
       "_model_name": "LayoutModel",
       "_view_count": null,
       "_view_module": "@jupyter-widgets/base",
       "_view_module_version": "2.0.0",
       "_view_name": "LayoutView",
       "align_content": null,
       "align_items": null,
       "align_self": null,
       "border_bottom": null,
       "border_left": null,
       "border_right": null,
       "border_top": null,
       "bottom": null,
       "display": null,
       "flex": null,
       "flex_flow": null,
       "grid_area": null,
       "grid_auto_columns": null,
       "grid_auto_flow": null,
       "grid_auto_rows": null,
       "grid_column": null,
       "grid_gap": null,
       "grid_row": null,
       "grid_template_areas": null,
       "grid_template_columns": null,
       "grid_template_rows": null,
       "height": null,
       "justify_content": null,
       "justify_items": null,
       "left": null,
       "margin": null,
       "max_height": null,
       "max_width": null,
       "min_height": null,
       "min_width": null,
       "object_fit": null,
       "object_position": null,
       "order": null,
       "overflow": null,
       "padding": null,
       "right": null,
       "top": null,
       "visibility": null,
       "width": null
      }
     },
     "68a0c85b4fd54db1afd57eb4f7ba9386": {
      "model_module": "@jupyter-widgets/base",
      "model_module_version": "2.0.0",
      "model_name": "LayoutModel",
      "state": {
       "_model_module": "@jupyter-widgets/base",
       "_model_module_version": "2.0.0",
       "_model_name": "LayoutModel",
       "_view_count": null,
       "_view_module": "@jupyter-widgets/base",
       "_view_module_version": "2.0.0",
       "_view_name": "LayoutView",
       "align_content": null,
       "align_items": null,
       "align_self": null,
       "border_bottom": null,
       "border_left": null,
       "border_right": null,
       "border_top": null,
       "bottom": null,
       "display": null,
       "flex": null,
       "flex_flow": null,
       "grid_area": null,
       "grid_auto_columns": null,
       "grid_auto_flow": null,
       "grid_auto_rows": null,
       "grid_column": null,
       "grid_gap": null,
       "grid_row": null,
       "grid_template_areas": null,
       "grid_template_columns": null,
       "grid_template_rows": null,
       "height": null,
       "justify_content": null,
       "justify_items": null,
       "left": null,
       "margin": null,
       "max_height": null,
       "max_width": null,
       "min_height": null,
       "min_width": null,
       "object_fit": null,
       "object_position": null,
       "order": null,
       "overflow": null,
       "padding": null,
       "right": null,
       "top": null,
       "visibility": null,
       "width": null
      }
     },
     "9de2c09fa44543849472217f27b70c0f": {
      "model_module": "@jupyter-widgets/controls",
      "model_module_version": "2.0.0",
      "model_name": "HTMLModel",
      "state": {
       "_dom_classes": [],
       "_model_module": "@jupyter-widgets/controls",
       "_model_module_version": "2.0.0",
       "_model_name": "HTMLModel",
       "_view_count": null,
       "_view_module": "@jupyter-widgets/controls",
       "_view_module_version": "2.0.0",
       "_view_name": "HTMLView",
       "description": "",
       "description_allow_html": false,
       "layout": "IPY_MODEL_9e4205e8a54f4469804c3819d031fbbb",
       "placeholder": "​",
       "style": "IPY_MODEL_9f24794124c242969d5a5503c528d6e3",
       "tabbable": null,
       "tooltip": null,
       "value": " 4/4 [00:02&lt;00:00,  1.86it/s]"
      }
     },
     "9e4205e8a54f4469804c3819d031fbbb": {
      "model_module": "@jupyter-widgets/base",
      "model_module_version": "2.0.0",
      "model_name": "LayoutModel",
      "state": {
       "_model_module": "@jupyter-widgets/base",
       "_model_module_version": "2.0.0",
       "_model_name": "LayoutModel",
       "_view_count": null,
       "_view_module": "@jupyter-widgets/base",
       "_view_module_version": "2.0.0",
       "_view_name": "LayoutView",
       "align_content": null,
       "align_items": null,
       "align_self": null,
       "border_bottom": null,
       "border_left": null,
       "border_right": null,
       "border_top": null,
       "bottom": null,
       "display": null,
       "flex": null,
       "flex_flow": null,
       "grid_area": null,
       "grid_auto_columns": null,
       "grid_auto_flow": null,
       "grid_auto_rows": null,
       "grid_column": null,
       "grid_gap": null,
       "grid_row": null,
       "grid_template_areas": null,
       "grid_template_columns": null,
       "grid_template_rows": null,
       "height": null,
       "justify_content": null,
       "justify_items": null,
       "left": null,
       "margin": null,
       "max_height": null,
       "max_width": null,
       "min_height": null,
       "min_width": null,
       "object_fit": null,
       "object_position": null,
       "order": null,
       "overflow": null,
       "padding": null,
       "right": null,
       "top": null,
       "visibility": null,
       "width": null
      }
     },
     "9f24794124c242969d5a5503c528d6e3": {
      "model_module": "@jupyter-widgets/controls",
      "model_module_version": "2.0.0",
      "model_name": "HTMLStyleModel",
      "state": {
       "_model_module": "@jupyter-widgets/controls",
       "_model_module_version": "2.0.0",
       "_model_name": "HTMLStyleModel",
       "_view_count": null,
       "_view_module": "@jupyter-widgets/base",
       "_view_module_version": "2.0.0",
       "_view_name": "StyleView",
       "background": null,
       "description_width": "",
       "font_size": null,
       "text_color": null
      }
     },
     "a3090dfde6ff42238bab938934a319b4": {
      "model_module": "@jupyter-widgets/controls",
      "model_module_version": "2.0.0",
      "model_name": "HTMLModel",
      "state": {
       "_dom_classes": [],
       "_model_module": "@jupyter-widgets/controls",
       "_model_module_version": "2.0.0",
       "_model_name": "HTMLModel",
       "_view_count": null,
       "_view_module": "@jupyter-widgets/controls",
       "_view_module_version": "2.0.0",
       "_view_name": "HTMLView",
       "description": "",
       "description_allow_html": false,
       "layout": "IPY_MODEL_68a0c85b4fd54db1afd57eb4f7ba9386",
       "placeholder": "​",
       "style": "IPY_MODEL_3fe32389a15a401d92bfc5dc5c572b76",
       "tabbable": null,
       "tooltip": null,
       "value": "Loading checkpoint shards: 100%"
      }
     },
     "cd39ce892b27484cb6d1195f2faec4aa": {
      "model_module": "@jupyter-widgets/controls",
      "model_module_version": "2.0.0",
      "model_name": "ProgressStyleModel",
      "state": {
       "_model_module": "@jupyter-widgets/controls",
       "_model_module_version": "2.0.0",
       "_model_name": "ProgressStyleModel",
       "_view_count": null,
       "_view_module": "@jupyter-widgets/base",
       "_view_module_version": "2.0.0",
       "_view_name": "StyleView",
       "bar_color": null,
       "description_width": ""
      }
     },
     "d77eeb8846f4409786d92ed80ba1afc1": {
      "model_module": "@jupyter-widgets/controls",
      "model_module_version": "2.0.0",
      "model_name": "FloatProgressModel",
      "state": {
       "_dom_classes": [],
       "_model_module": "@jupyter-widgets/controls",
       "_model_module_version": "2.0.0",
       "_model_name": "FloatProgressModel",
       "_view_count": null,
       "_view_module": "@jupyter-widgets/controls",
       "_view_module_version": "2.0.0",
       "_view_name": "ProgressView",
       "bar_style": "success",
       "description": "",
       "description_allow_html": false,
       "layout": "IPY_MODEL_048e657812dc4594866ffc147ecec359",
       "max": 4.0,
       "min": 0.0,
       "orientation": "horizontal",
       "style": "IPY_MODEL_cd39ce892b27484cb6d1195f2faec4aa",
       "tabbable": null,
       "tooltip": null,
       "value": 4.0
      }
     }
    },
    "version_major": 2,
    "version_minor": 0
   }
  }
 },
 "nbformat": 4,
 "nbformat_minor": 5
}