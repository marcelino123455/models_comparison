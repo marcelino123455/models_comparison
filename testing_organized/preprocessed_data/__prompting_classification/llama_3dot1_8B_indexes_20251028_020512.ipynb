{
 "cells": [
  {
   "cell_type": "code",
   "execution_count": 1,
   "id": "353be05d",
   "metadata": {
    "execution": {
     "iopub.execute_input": "2025-10-28T07:05:18.371568Z",
     "iopub.status.busy": "2025-10-28T07:05:18.371048Z",
     "iopub.status.idle": "2025-10-28T07:05:41.654302Z",
     "shell.execute_reply": "2025-10-28T07:05:41.653615Z"
    },
    "papermill": {
     "duration": 23.30257,
     "end_time": "2025-10-28T07:05:41.655855",
     "exception": false,
     "start_time": "2025-10-28T07:05:18.353285",
     "status": "completed"
    },
    "tags": []
   },
   "outputs": [
    {
     "name": "stderr",
     "output_type": "stream",
     "text": [
      "2025-10-28 02:05:29.601268: I tensorflow/core/util/port.cc:153] oneDNN custom operations are on. You may see slightly different numerical results due to floating-point round-off errors from different computation orders. To turn them off, set the environment variable `TF_ENABLE_ONEDNN_OPTS=0`.\n",
      "2025-10-28 02:05:29.680194: I tensorflow/core/platform/cpu_feature_guard.cc:210] This TensorFlow binary is optimized to use available CPU instructions in performance-critical operations.\n",
      "To enable the following instructions: AVX2 AVX512F AVX512_VNNI AVX512_BF16 AVX512_FP16 AVX_VNNI AMX_TILE AMX_INT8 AMX_BF16 FMA, in other operations, rebuild TensorFlow with the appropriate compiler flags.\n"
     ]
    },
    {
     "name": "stderr",
     "output_type": "stream",
     "text": [
      "2025-10-28 02:05:34.935589: I tensorflow/core/util/port.cc:153] oneDNN custom operations are on. You may see slightly different numerical results due to floating-point round-off errors from different computation orders. To turn them off, set the environment variable `TF_ENABLE_ONEDNN_OPTS=0`.\n"
     ]
    }
   ],
   "source": [
    "import pandas as pd\n",
    "import json\n",
    "from sklearn.model_selection import train_test_split\n",
    "from sklearn.metrics import accuracy_score, f1_score, precision_score, recall_score\n",
    "from transformers import pipeline\n",
    "import torch\n",
    "import numpy as np\n",
    "import os \n",
    "from datetime import datetime\n",
    "import json\n",
    "\n"
   ]
  },
  {
   "cell_type": "code",
   "execution_count": 2,
   "id": "d8fa8697",
   "metadata": {
    "execution": {
     "iopub.execute_input": "2025-10-28T07:05:41.674224Z",
     "iopub.status.busy": "2025-10-28T07:05:41.673607Z",
     "iopub.status.idle": "2025-10-28T07:05:41.678913Z",
     "shell.execute_reply": "2025-10-28T07:05:41.678352Z"
    },
    "papermill": {
     "duration": 0.015569,
     "end_time": "2025-10-28T07:05:41.680197",
     "exception": false,
     "start_time": "2025-10-28T07:05:41.664628",
     "status": "completed"
    },
    "tags": []
   },
   "outputs": [],
   "source": [
    "RANDOM_STATE = 42\n",
    "path_DATA = \"../../../data\"\n",
    "csv_path = f\"{path_DATA}/spotify_dataset_sin_duplicados_4.csv\"\n",
    "\n",
    "# To compare with  tfidf\n",
    "zero_shot_path = f\"{path_DATA}/zero_outputs\"\n",
    "os.makedirs(zero_shot_path, exist_ok=True)\n",
    "\n",
    "\n",
    "TESTING = True\n",
    "\n",
    "if TESTING:\n",
    "    NROWS = 200\n",
    "else:\n",
    "    NROWS = None\n",
    "    \n"
   ]
  },
  {
   "cell_type": "code",
   "execution_count": 3,
   "id": "57bca28f",
   "metadata": {
    "execution": {
     "iopub.execute_input": "2025-10-28T07:05:41.696592Z",
     "iopub.status.busy": "2025-10-28T07:05:41.696316Z",
     "iopub.status.idle": "2025-10-28T07:05:41.702209Z",
     "shell.execute_reply": "2025-10-28T07:05:41.701573Z"
    },
    "papermill": {
     "duration": 0.015342,
     "end_time": "2025-10-28T07:05:41.703389",
     "exception": false,
     "start_time": "2025-10-28T07:05:41.688047",
     "status": "completed"
    },
    "tags": []
   },
   "outputs": [],
   "source": [
    "def get_array(path):\n",
    "    with open(path, \"r\") as f:\n",
    "        array_ = json.load(f)  \n",
    "    return array_\n",
    "\n",
    "def get_song_and_target(csv_path, faltantes_path = \"faltantes_according_token.json\", sample_size=None, path_test_indexes=None):\n",
    "    df = pd.read_csv(csv_path)\n",
    "    indices_to_remove = get_array(faltantes_path)\n",
    "    if indices_to_remove[-1]>df.shape[0]:\n",
    "        print(\"You are executing in testing way\")\n",
    "    else:\n",
    "        df = df.drop(indices_to_remove).reset_index(drop=True)\n",
    "\n",
    "    if path_test_indexes is not None:\n",
    "        df_split_indices_test = pd.read_csv(path_test_indexes)\n",
    "        idx_test = df_split_indices_test[\"test_index\"].values\n",
    "        df = df.iloc[idx_test].reset_index(drop=True)\n",
    "\n",
    "    if sample_size is not None:\n",
    "        df = df.iloc[:sample_size].reset_index(drop=True)\n",
    "    \n",
    "\n",
    "    df['original_index'] = df.index # Indices correctos despues de la eliminación\n",
    "    X = df['text']\n",
    "    df['Explicit_binary'] = (df['Explicit'].str.lower() == 'yes').astype(int)\n",
    "    y = df['Explicit_binary']\n",
    "    return X, y, df['original_index']"
   ]
  },
  {
   "cell_type": "code",
   "execution_count": 4,
   "id": "6a6bfb88",
   "metadata": {
    "execution": {
     "iopub.execute_input": "2025-10-28T07:05:41.720380Z",
     "iopub.status.busy": "2025-10-28T07:05:41.720103Z",
     "iopub.status.idle": "2025-10-28T07:05:45.448435Z",
     "shell.execute_reply": "2025-10-28T07:05:45.447584Z"
    },
    "papermill": {
     "duration": 3.738234,
     "end_time": "2025-10-28T07:05:45.449747",
     "exception": false,
     "start_time": "2025-10-28T07:05:41.711513",
     "status": "completed"
    },
    "tags": []
   },
   "outputs": [
    {
     "name": "stdout",
     "output_type": "stream",
     "text": [
      "(200,)\n",
      "(200,)\n",
      "(200,)\n"
     ]
    }
   ],
   "source": [
    "\n",
    "# Indices train and test, in this experimentations only is relevante test indexes\n",
    "df_split_indices = pd.read_csv(f\"{zero_shot_path}/split_indices_train.csv\")\n",
    "df_split_indices_test = pd.read_csv(f\"{zero_shot_path}/split_indices_test.csv\")\n",
    "\n",
    "X,y, index = get_song_and_target(csv_path,\"faltantes_according_token.json\", sample_size=NROWS, path_test_indexes=f\"{zero_shot_path}/split_indices_test.csv\")\n",
    "\n",
    "print(X.shape)\n",
    "print(y.shape)\n",
    "print(index.shape)\n"
   ]
  },
  {
   "cell_type": "markdown",
   "id": "3e612849",
   "metadata": {
    "id": "5N-2vq2m_xbw",
    "papermill": {
     "duration": 0.007139,
     "end_time": "2025-10-28T07:05:45.470314",
     "exception": false,
     "start_time": "2025-10-28T07:05:45.463175",
     "status": "completed"
    },
    "tags": []
   },
   "source": [
    "# meta-llama/Llama-3.1-8B-Instruct\n",
    "https://huggingface.co/meta-llama/Llama-3.1-8B-Instruct"
   ]
  },
  {
   "cell_type": "code",
   "execution_count": 5,
   "id": "d8b07b33",
   "metadata": {
    "execution": {
     "iopub.execute_input": "2025-10-28T07:05:45.485908Z",
     "iopub.status.busy": "2025-10-28T07:05:45.485598Z",
     "iopub.status.idle": "2025-10-28T07:05:53.279042Z",
     "shell.execute_reply": "2025-10-28T07:05:53.278619Z"
    },
    "papermill": {
     "duration": 7.801642,
     "end_time": "2025-10-28T07:05:53.279732",
     "exception": false,
     "start_time": "2025-10-28T07:05:45.478090",
     "status": "completed"
    },
    "tags": []
   },
   "outputs": [
    {
     "name": "stderr",
     "output_type": "stream",
     "text": [
      "`torch_dtype` is deprecated! Use `dtype` instead!\n"
     ]
    },
    {
     "name": "stderr",
     "output_type": "stream",
     "text": [
      "`torch_dtype` is deprecated! Use `dtype` instead!\n"
     ]
    },
    {
     "data": {
      "application/vnd.jupyter.widget-view+json": {
       "model_id": "f3b5beb991cb46099f472f5951f0524d",
       "version_major": 2,
       "version_minor": 0
      },
      "text/plain": [
       "Loading checkpoint shards:   0%|          | 0/4 [00:00<?, ?it/s]"
      ]
     },
     "metadata": {},
     "output_type": "display_data"
    },
    {
     "name": "stderr",
     "output_type": "stream",
     "text": [
      "Device set to use cuda:0\n"
     ]
    },
    {
     "name": "stdout",
     "output_type": "stream",
     "text": [
      "{'role': 'assistant', 'content': 'Explicit.'}\n"
     ]
    }
   ],
   "source": [
    "import os\n",
    "import transformers\n",
    "import torch\n",
    "\n",
    "\n",
    "model_id = \"meta-llama/Meta-Llama-3.1-8B-Instruct\"\n",
    "\n",
    "pipeline = transformers.pipeline(\n",
    "    \"text-generation\",\n",
    "    model=model_id,\n",
    "    model_kwargs={\"torch_dtype\": torch.bfloat16},\n",
    "    device_map=\"auto\",\n",
    "    pad_token_id=128001\n",
    "    # pad_token_id` to `eos_token_id`:128001\n",
    ")\n",
    "\n",
    "messages = [\n",
    "    {\"role\": \"system\", \"content\": \"You are a expert detecting if a song is explicit or not based on its lyrics. Answer with 'Explicit' or 'Non-Explicit'.\"},\n",
    "    {\"role\": \"user\", \"content\": f\"song lyric: {X.iloc[1]} Is this song explicit or non-explicit?\"},\n",
    "]\n",
    "\n",
    "outputs = pipeline(\n",
    "    messages,\n",
    "    max_new_tokens=256,\n",
    ")\n",
    "print(outputs[0][\"generated_text\"][-1])\n"
   ]
  },
  {
   "cell_type": "code",
   "execution_count": 6,
   "id": "217e9841",
   "metadata": {
    "execution": {
     "iopub.execute_input": "2025-10-28T07:05:53.290808Z",
     "iopub.status.busy": "2025-10-28T07:05:53.290648Z",
     "iopub.status.idle": "2025-10-28T07:05:53.293688Z",
     "shell.execute_reply": "2025-10-28T07:05:53.293375Z"
    },
    "papermill": {
     "duration": 0.008906,
     "end_time": "2025-10-28T07:05:53.294298",
     "exception": false,
     "start_time": "2025-10-28T07:05:53.285392",
     "status": "completed"
    },
    "tags": []
   },
   "outputs": [
    {
     "name": "stdout",
     "output_type": "stream",
     "text": [
      "X_test shape: (200,)\n",
      "y_test shape: (200,)\n",
      "index: (200,)\n"
     ]
    }
   ],
   "source": [
    "\n",
    "X_test = X\n",
    "y_test = y\n",
    "\n",
    "print(\"X_test shape:\", X_test.shape)\n",
    "print(\"y_test shape:\", y_test.shape)\n",
    "print(\"index:\", index.shape)\n"
   ]
  },
  {
   "cell_type": "code",
   "execution_count": 7,
   "id": "cff908fb",
   "metadata": {
    "execution": {
     "iopub.execute_input": "2025-10-28T07:05:53.304474Z",
     "iopub.status.busy": "2025-10-28T07:05:53.304331Z",
     "iopub.status.idle": "2025-10-28T07:06:26.912318Z",
     "shell.execute_reply": "2025-10-28T07:06:26.911783Z"
    },
    "papermill": {
     "duration": 33.61861,
     "end_time": "2025-10-28T07:06:26.917663",
     "exception": false,
     "start_time": "2025-10-28T07:05:53.299053",
     "status": "completed"
    },
    "tags": []
   },
   "outputs": [
    {
     "name": "stderr",
     "output_type": "stream",
     "text": [
      "You seem to be using the pipelines sequentially on GPU. In order to maximize efficiency please use a dataset\n"
     ]
    },
    {
     "name": "stdout",
     "output_type": "stream",
     "text": [
      "test_scores length: 200\n",
      "y_indexes length: 200\n",
      "Accuracy en test: 0.84000000\n",
      "Precision en test: 0.65000000\n",
      "Recall en test: 0.78000000\n",
      "F1 en test: 0.70909091\n",
      "Resultados guardados en resultados_test_llama_8Btest.json\n"
     ]
    }
   ],
   "source": [
    "test_scores = []\n",
    "\n",
    "i_tested = 0\n",
    "\n",
    "answers_debug = []\n",
    "sons_debug = []\n",
    "for lyric in X_test:\n",
    "    messages = [\n",
    "        {\"role\": \"system\", \"content\": \"You are an expert detecting if a song is explicit or not based on its lyrics. Answer ONLY with one word: 'Explicit' or 'Non-Explicit'.\"},\n",
    "        {\"role\": \"user\", \"content\": f\"song lyric: {lyric}\"},\n",
    "    ]\n",
    "    output = pipeline(messages, max_new_tokens=64)\n",
    "    # print()\n",
    "    # answer = output[0][\"generated_text\"].strip().split()[-1]\n",
    "    answer = output[0][\"generated_text\"][-1]['content']\n",
    "    if TESTING:\n",
    "        answers_debug.append(answer)\n",
    "        sons_debug.append(lyric)\n",
    "    score_explicit = 1 if answer.lower() == \"explicit\" else 0\n",
    "    test_scores.append(score_explicit)\n",
    "    i_tested += 1\n",
    "\n",
    "    if i_tested == NROWS and TESTING:\n",
    "        break\n",
    "\n",
    "test_scores = np.array(test_scores)\n",
    "\n",
    "# Métricas\n",
    "f1_test = f1_score(y_test, test_scores)\n",
    "accuracy_test = accuracy_score(y_test, test_scores)\n",
    "precision_test = precision_score(y_test, test_scores)\n",
    "recall_test = recall_score(y_test, test_scores)\n",
    "\n",
    "print(\"test_scores length:\", len(test_scores))\n",
    "print(\"y_indexes length:\", len(index))\n",
    "\n",
    "df_results = pd.DataFrame({\n",
    "    \"original_index\": index,\n",
    "    \"explicit_score\": test_scores\n",
    "})\n",
    "df_results.to_csv(f\"{zero_shot_path}/llama_8B_results.csv\", index=False)\n",
    "\n",
    "\n",
    "print(f\"Accuracy en test: {accuracy_test:.8f}\")\n",
    "print(f\"Precision en test: {precision_test:.8f}\")\n",
    "print(f\"Recall en test: {recall_test:.8f}\")\n",
    "print(f\"F1 en test: {f1_test:.8f}\")\n",
    "\n",
    "\n",
    "resultados = {\n",
    "    \"accuracy\": float(f\"{accuracy_test:.8f}\"),\n",
    "    \"precision\": float(f\"{precision_test:.8f}\"),\n",
    "    \"recall\": float(f\"{recall_test:.8f}\"),\n",
    "    \"f1\": float(f\"{f1_test:.8f}\")\n",
    "}\n",
    "\n",
    "if TESTING:\n",
    "    test_ou = \"test\"\n",
    "else:\n",
    "    test_ou = \"\"\n",
    "\n",
    "ruta_resultados = f\"resultados_test_llama_8B{test_ou}.json\"\n",
    "with open(ruta_resultados, \"w\") as f:\n",
    "    json.dump(resultados, f, indent=4)\n",
    "\n",
    "print(f\"Resultados guardados en {ruta_resultados}\")\n",
    "\n"
   ]
  },
  {
   "cell_type": "code",
   "execution_count": 8,
   "id": "357f3125",
   "metadata": {
    "execution": {
     "iopub.execute_input": "2025-10-28T07:06:26.927903Z",
     "iopub.status.busy": "2025-10-28T07:06:26.927748Z",
     "iopub.status.idle": "2025-10-28T07:06:26.932586Z",
     "shell.execute_reply": "2025-10-28T07:06:26.932288Z"
    },
    "papermill": {
     "duration": 0.010723,
     "end_time": "2025-10-28T07:06:26.933177",
     "exception": false,
     "start_time": "2025-10-28T07:06:26.922454",
     "status": "completed"
    },
    "tags": []
   },
   "outputs": [
    {
     "name": "stdout",
     "output_type": "stream",
     "text": [
      "Answers debug: ['Explicit', 'Explicit', 'Explicit', 'Non-Explicit', 'Non-Explicit', 'Non-Explicit.', 'Explicit', 'Explicit', 'Non-Explicit.', 'Explicit', 'Non-Explicit', 'Non-Explicit', 'Explicit', 'Non-Explicit', 'Explicit', 'Non-Explicit', 'Explicit', 'Non-Explicit', 'Non-Explicit', 'Non-Explicit.', 'Explicit', 'Non-Explicit', 'Non-Explicit', 'Non-Explicit', 'Non-Explicit', 'Non-Explicit', 'Non-Explicit', 'Non-Explicit', 'Non-Explicit', 'Explicit', 'Non-Explicit', 'Non-Explicit', 'Non-Explicit', 'Explicit', 'Non-Explicit.', 'Non-Explicit.', 'Explicit', 'Explicit.', 'Non-Explicit', 'Non-Explicit', 'Non-Explicit', 'Explicit', 'Explicit', 'Explicit', 'Non-Explicit.', 'Non-Explicit', 'Non-Explicit', 'Non-Explicit', 'Non-Explicit', 'Non-Explicit', 'Non-Explicit', 'Non-Explicit', 'Non-Explicit', 'Non-Explicit', 'Non-Explicit', 'Non-Explicit', 'Non-Explicit', 'Non-Explicit', 'Explicit', 'Non-Explicit', 'Non-Explicit', 'Non-Explicit', 'Non-Explicit', 'Non-Explicit.', 'Non-Explicit', 'Non-Explicit', 'Non-Explicit', 'Explicit', 'Non-Explicit.', 'Non-Explicit.', 'Non-Explicit', 'Non-Explicit', 'Explicit', 'Non-Explicit', 'Explicit', 'Non-Explicit', 'Non-Explicit', 'Explicit', 'Non-Explicit', 'Explicit', 'Non-Explicit', 'Non-Explicit', 'Non-Explicit', 'Non-Explicit', 'Explicit', 'Non-Explicit', 'Non-Explicit.', 'Non-Explicit', 'Non-Explicit.', 'Explicit', 'Non-Explicit.', 'Explicit', 'Explicit', 'Explicit', 'Non-Explicit', 'Non-Explicit', 'Non-Explicit', 'Non-Explicit', 'Non-Explicit', 'Explicit', 'Non-Explicit', 'Non-Explicit', 'Explicit', 'Explicit', 'Non-Explicit.', 'Non-Explicit', 'Non-Explicit', 'Non-Explicit', 'Explicit', 'Non-Explicit', 'Explicit', 'Non-Explicit.', 'Non-Explicit', 'Non-Explicit', 'Explicit.', 'Non-Explicit', 'Non-Explicit.', 'Non-Explicit', 'Explicit', 'Non-Explicit', 'Non-Explicit', 'Non-Explicit', 'Non-Explicit.', 'Non-Explicit', 'Explicit', 'Non-Explicit', 'Explicit', 'Explicit', 'Explicit', 'Non-Explicit', 'Non-Explicit', 'Explicit', 'Explicit', 'Non-Explicit', 'Non-Explicit.', 'Explicit', 'Explicit', 'Explicit', 'Explicit', 'Explicit', 'Non-Explicit', 'Explicit', 'Non-Explicit', 'Non-Explicit', 'Non-Explicit', 'Non-Explicit', 'Non-Explicit', 'Explicit', 'Non-Explicit.', 'Non-Explicit', 'Explicit', 'Non-Explicit', 'Non-Explicit', 'Explicit', 'Explicit', 'Explicit', 'Non-Explicit', 'Non-Explicit.', 'Non-Explicit', 'Non-Explicit.', 'Non-Explicit', 'Explicit', 'Non-Explicit', 'Non-Explicit', 'Non-Explicit', 'Non-Explicit', 'Non-Explicit', 'Explicit', 'Non-Explicit', 'Explicit', 'Non-Explicit', 'Non-Explicit', 'Non-Explicit', 'Non-Explicit', 'Non-Explicit', 'Explicit', 'Non-Explicit', 'Non-Explicit', 'Non-Explicit', 'Non-Explicit', 'Explicit', 'Non-Explicit', 'Non-Explicit', 'Non-Explicit', 'Explicit', 'Explicit', 'Non-Explicit', 'Explicit', 'Non-Explicit.', 'Non-Explicit', 'Explicit', 'Non-Explicit.', 'Non-Explicit', 'Non-Explicit', 'Non-Explicit', 'Non-Explicit.', 'Explicit', 'Non-Explicit', 'Non-Explicit', 'Non-Explicit']\n",
      "test_scores: [1 1 1 0 0 0 1 1 0 1 0 0 1 0 1 0 1 0 0 0 1 0 0 0 0 0 0 0 0 1 0 0 0 1 0 0 1\n",
      " 0 0 0 0 1 1 1 0 0 0 0 0 0 0 0 0 0 0 0 0 0 1 0 0 0 0 0 0 0 0 1 0 0 0 0 1 0\n",
      " 1 0 0 1 0 1 0 0 0 0 1 0 0 0 0 1 0 1 1 1 0 0 0 0 0 1 0 0 1 1 0 0 0 0 1 0 1\n",
      " 0 0 0 0 0 0 0 1 0 0 0 0 0 1 0 1 1 1 0 0 1 1 0 0 1 1 1 1 1 0 1 0 0 0 0 0 1\n",
      " 0 0 1 0 0 1 1 1 0 0 0 0 0 1 0 0 0 0 0 1 0 1 0 0 0 0 0 1 0 0 0 0 1 0 0 0 1\n",
      " 1 0 1 0 0 1 0 0 0 0 0 1 0 0 0]\n",
      "y true     : [1 1 1 0 0 0 0 0 0 1 1 0 0 1 1 0 0 0 0 0 1 0 0 0 0 1 0 0 0 1 0 0 0 0 0 0 1\n",
      " 1 0 0 0 1 1 0 0 0 1 0 0 1 0 1 0 0 0 0 0 0 0 0 0 0 0 0 0 0 0 1 0 0 0 0 1 0\n",
      " 1 0 0 0 0 1 0 0 0 0 0 0 0 0 0 0 0 1 1 1 0 0 0 0 0 1 0 0 1 1 0 0 0 1 1 0 1\n",
      " 0 0 0 1 0 0 0 0 0 0 0 0 0 0 0 1 1 0 0 1 0 1 0 0 1 0 1 1 0 0 1 0 0 0 0 0 0\n",
      " 0 0 1 0 0 1 1 0 0 0 0 0 0 1 0 0 0 0 0 1 0 0 0 0 0 0 0 1 0 0 0 0 1 0 0 0 1\n",
      " 0 0 0 0 0 1 0 0 0 0 0 1 1 0 0]\n",
      "song 7: [Verse 1: Jon Bellion] My head spins, I've been sipping I've been sipping, I've been sipping lately All my sins, I've been tripping, I've been tripping, my God Brand new life, I've been looking I've been looking, I've been looking lately All these nights, they've been cooking They've been cooking me raw  [Pre-Chorus: Jon Bellion] I am just a man, I am just a man who lusts, gives, tries Sometimes, I lose my way  [Chorus: Jon Bellion] Tears at a funeral, tears at a funeral, I might break Angry at all the things, angry at all the things I can't change When you're lost in the universe, lost in the universe, don't lose faith My mother says, \"Your whole life's in the hand of God\"  [Post-Chorus: Jon Bellion] Break it down Your whole life's in the hand of... Your whole life's in the hand of God [Verse 2: Jon Bellion] My ex girl, I've been seeing I've been seeing, I've been seeing lately She's got hopes that we're getting back together, my God I just know that I'm horny and I'm lonely, just admit it's crazy She just holds on to something that she knows is long gone Damn  [Pre-Chorus: Jon Bellion] I am just a man, I am just a man who lusts, gives, tries Sometimes, I lose my way  [Chorus: Jon Bellion] Tears at a funeral, tears at a funeral, I might break Angry at all the things, angry at all the things I can't change When you're lost in the universe, lost in the universe, don't lose faith My mother says, \"Your whole life's in the hand of God\"  [Post-Chorus: Jon Bellion] Break it down Your whole life's in the hand of... Your whole life's in the hand of God  [Chorus: Sheldon Ray & The Andre Crouch Choir] Tears at a funeral, tears at a funeral, I might break Angry at all the things, angry at all the things I can't change When you're lost in the universe, lost in the universe, don't lose faith My mother said, \"Your, your whole life is in the hand of God\" [Outro: Sheldon Ray & The Andre Crouch Choir] Nothing has changed, he is the same \"Your whole life's in the hand of God\" Nothing has changed, he is the same \"Your whole life's in the hand of God\" \"Your whole life's in the hand of God\" Nothing has changed, he is the same Bum ba-dem, bum bum, buh-da Bum ba-dem, bum bum, buh-da Nothing has changed Nothing has changed, he is the same Bum ba-dem, bum bum, buh-da Bum ba-dem, bum bum, buh-da \"Your whole life's in the hand of God\" Tears at a funeral, tears at a funeral, I might break I might break Angry at all the things, angry at all the things I can't change Angry at all the things I could not change When you're lost in the universe, lost in the universe, don't lose faith Low, low, low, low, low, low, low, low, low My mother says, \"Your whole life's in the hand of God\" Tears at a funeral, tears at a funeral, I might break Just like the 80s films We'll hook up in my back seat and let my best friend drive Nothing has changed, he is the same Overwhelming Nothing has changed, he is the same Overwhelming Low, low, low, low, low, low, low, low, low \"Your whole life's in the hand of God\" Lay me down in Brooklyn if I lose my life Low, low, low, low, low, low, low, low, low Nothing has changed, he is the same Push me down the Hudson and turn on the radio Low, low, low, low, low, low, low, low, low Nothing has changed, he is the same Long Island’s only smiling cause my soul is fine Bum ba-dem, bum bum, buh-da Bum ba-dem, bum bum, buh-da Nothing has changed, he is the same Bum ba-dem, bum bum, buh-da I did everything for New York\n",
      "song 7:\n",
      "[Verse 1: Jon Bellion] My head spins, I've been sipping I've been sipping, I've\n",
      "been sipping lately All my sins, I've been tripping, I've been tripping, my God\n",
      "Brand new life, I've been looking I've been looking, I've been looking lately\n",
      "All these nights, they've been cooking They've been cooking me raw  [Pre-Chorus:\n",
      "Jon Bellion] I am just a man, I am just a man who lusts, gives, tries Sometimes,\n",
      "I lose my way  [Chorus: Jon Bellion] Tears at a funeral, tears at a funeral, I\n",
      "might break Angry at all the things, angry at all the things I can't change When\n",
      "you're lost in the universe, lost in the universe, don't lose faith My mother\n",
      "says, \"Your whole life's in the hand of God\"  [Post-Chorus: Jon Bellion] Break\n",
      "it down Your whole life's in the hand of... Your whole life's in the hand of God\n",
      "[Verse 2: Jon Bellion] My ex girl, I've been seeing I've been seeing, I've been\n",
      "seeing lately She's got hopes that we're getting back together, my God I just\n",
      "know that I'm horny and I'm lonely, just admit it's crazy She just holds on to\n",
      "something that she knows is long gone Damn  [Pre-Chorus: Jon Bellion] I am just\n",
      "a man, I am just a man who lusts, gives, tries Sometimes, I lose my way\n",
      "[Chorus: Jon Bellion] Tears at a funeral, tears at a funeral, I might break\n",
      "Angry at all the things, angry at all the things I can't change When you're lost\n",
      "in the universe, lost in the universe, don't lose faith My mother says, \"Your\n",
      "whole life's in the hand of God\"  [Post-Chorus: Jon Bellion] Break it down Your\n",
      "whole life's in the hand of... Your whole life's in the hand of God  [Chorus:\n",
      "Sheldon Ray & The Andre Crouch Choir] Tears at a funeral, tears at a funeral, I\n",
      "might break Angry at all the things, angry at all the things I can't change When\n",
      "you're lost in the universe, lost in the universe, don't lose faith My mother\n",
      "said, \"Your, your whole life is in the hand of God\" [Outro: Sheldon Ray & The\n",
      "Andre Crouch Choir] Nothing has changed, he is the same \"Your whole life's in\n",
      "the hand of God\" Nothing has changed, he is the same \"Your whole life's in the\n",
      "hand of God\" \"Your whole life's in the hand of God\" Nothing has changed, he is\n",
      "the same Bum ba-dem, bum bum, buh-da Bum ba-dem, bum bum, buh-da Nothing has\n",
      "changed Nothing has changed, he is the same Bum ba-dem, bum bum, buh-da Bum ba-\n",
      "dem, bum bum, buh-da \"Your whole life's in the hand of God\" Tears at a funeral,\n",
      "tears at a funeral, I might break I might break Angry at all the things, angry\n",
      "at all the things I can't change Angry at all the things I could not change When\n",
      "you're lost in the universe, lost in the universe, don't lose faith Low, low,\n",
      "low, low, low, low, low, low, low My mother says, \"Your whole life's in the hand\n",
      "of God\" Tears at a funeral, tears at a funeral, I might break Just like the 80s\n",
      "films We'll hook up in my back seat and let my best friend drive Nothing has\n",
      "changed, he is the same Overwhelming Nothing has changed, he is the same\n",
      "Overwhelming Low, low, low, low, low, low, low, low, low \"Your whole life's in\n",
      "the hand of God\" Lay me down in Brooklyn if I lose my life Low, low, low, low,\n",
      "low, low, low, low, low Nothing has changed, he is the same Push me down the\n",
      "Hudson and turn on the radio Low, low, low, low, low, low, low, low, low Nothing\n",
      "has changed, he is the same Long Island’s only smiling cause my soul is fine Bum\n",
      "ba-dem, bum bum, buh-da Bum ba-dem, bum bum, buh-da Nothing has changed, he is\n",
      "the same Bum ba-dem, bum bum, buh-da I did everything for New York\n"
     ]
    }
   ],
   "source": [
    "if TESTING:\n",
    "    import textwrap\n",
    "    print(\"Answers debug:\", answers_debug)\n",
    "    print(\"test_scores:\", test_scores)\n",
    "    print(\"y true     :\", y_test.values)\n",
    "\n",
    "    print(\"song 7:\", sons_debug[7])\n",
    "    wrapped_song = textwrap.fill(sons_debug[7], width=80)\n",
    "    print(\"song 7:\")\n",
    "    print(wrapped_song)"
   ]
  }
 ],
 "metadata": {
  "accelerator": "GPU",
  "colab": {
   "gpuType": "T4",
   "provenance": []
  },
  "kernelspec": {
   "display_name": ".venv",
   "language": "python",
   "name": "python3"
  },
  "language_info": {
   "codemirror_mode": {
    "name": "ipython",
    "version": 3
   },
   "file_extension": ".py",
   "mimetype": "text/x-python",
   "name": "python",
   "nbconvert_exporter": "python",
   "pygments_lexer": "ipython3",
   "version": "3.13.2"
  },
  "papermill": {
   "default_parameters": {},
   "duration": 74.31524,
   "end_time": "2025-10-28T07:06:29.425400",
   "environment_variables": {},
   "exception": null,
   "input_path": "llama_3dot1_8B_indexes.ipynb",
   "output_path": "llama_3dot1_8B_indexes_20251028_020512.ipynb",
   "parameters": {},
   "start_time": "2025-10-28T07:05:15.110160",
   "version": "2.6.0"
  },
  "widgets": {
   "application/vnd.jupyter.widget-state+json": {
    "state": {
     "0b76d30ebb9c4bdd9822e42907a9bebd": {
      "model_module": "@jupyter-widgets/base",
      "model_module_version": "2.0.0",
      "model_name": "LayoutModel",
      "state": {
       "_model_module": "@jupyter-widgets/base",
       "_model_module_version": "2.0.0",
       "_model_name": "LayoutModel",
       "_view_count": null,
       "_view_module": "@jupyter-widgets/base",
       "_view_module_version": "2.0.0",
       "_view_name": "LayoutView",
       "align_content": null,
       "align_items": null,
       "align_self": null,
       "border_bottom": null,
       "border_left": null,
       "border_right": null,
       "border_top": null,
       "bottom": null,
       "display": null,
       "flex": null,
       "flex_flow": null,
       "grid_area": null,
       "grid_auto_columns": null,
       "grid_auto_flow": null,
       "grid_auto_rows": null,
       "grid_column": null,
       "grid_gap": null,
       "grid_row": null,
       "grid_template_areas": null,
       "grid_template_columns": null,
       "grid_template_rows": null,
       "height": null,
       "justify_content": null,
       "justify_items": null,
       "left": null,
       "margin": null,
       "max_height": null,
       "max_width": null,
       "min_height": null,
       "min_width": null,
       "object_fit": null,
       "object_position": null,
       "order": null,
       "overflow": null,
       "padding": null,
       "right": null,
       "top": null,
       "visibility": null,
       "width": null
      }
     },
     "0f7f101f138542fbb7f86ba9152d0316": {
      "model_module": "@jupyter-widgets/controls",
      "model_module_version": "2.0.0",
      "model_name": "HTMLStyleModel",
      "state": {
       "_model_module": "@jupyter-widgets/controls",
       "_model_module_version": "2.0.0",
       "_model_name": "HTMLStyleModel",
       "_view_count": null,
       "_view_module": "@jupyter-widgets/base",
       "_view_module_version": "2.0.0",
       "_view_name": "StyleView",
       "background": null,
       "description_width": "",
       "font_size": null,
       "text_color": null
      }
     },
     "238b28520fa147fd9b76c94e1693a997": {
      "model_module": "@jupyter-widgets/base",
      "model_module_version": "2.0.0",
      "model_name": "LayoutModel",
      "state": {
       "_model_module": "@jupyter-widgets/base",
       "_model_module_version": "2.0.0",
       "_model_name": "LayoutModel",
       "_view_count": null,
       "_view_module": "@jupyter-widgets/base",
       "_view_module_version": "2.0.0",
       "_view_name": "LayoutView",
       "align_content": null,
       "align_items": null,
       "align_self": null,
       "border_bottom": null,
       "border_left": null,
       "border_right": null,
       "border_top": null,
       "bottom": null,
       "display": null,
       "flex": null,
       "flex_flow": null,
       "grid_area": null,
       "grid_auto_columns": null,
       "grid_auto_flow": null,
       "grid_auto_rows": null,
       "grid_column": null,
       "grid_gap": null,
       "grid_row": null,
       "grid_template_areas": null,
       "grid_template_columns": null,
       "grid_template_rows": null,
       "height": null,
       "justify_content": null,
       "justify_items": null,
       "left": null,
       "margin": null,
       "max_height": null,
       "max_width": null,
       "min_height": null,
       "min_width": null,
       "object_fit": null,
       "object_position": null,
       "order": null,
       "overflow": null,
       "padding": null,
       "right": null,
       "top": null,
       "visibility": null,
       "width": null
      }
     },
     "34576784ab964e71b862adb3af81c2f1": {
      "model_module": "@jupyter-widgets/controls",
      "model_module_version": "2.0.0",
      "model_name": "ProgressStyleModel",
      "state": {
       "_model_module": "@jupyter-widgets/controls",
       "_model_module_version": "2.0.0",
       "_model_name": "ProgressStyleModel",
       "_view_count": null,
       "_view_module": "@jupyter-widgets/base",
       "_view_module_version": "2.0.0",
       "_view_name": "StyleView",
       "bar_color": null,
       "description_width": ""
      }
     },
     "54af366cdf2f4b46be1e40c22ed346e8": {
      "model_module": "@jupyter-widgets/base",
      "model_module_version": "2.0.0",
      "model_name": "LayoutModel",
      "state": {
       "_model_module": "@jupyter-widgets/base",
       "_model_module_version": "2.0.0",
       "_model_name": "LayoutModel",
       "_view_count": null,
       "_view_module": "@jupyter-widgets/base",
       "_view_module_version": "2.0.0",
       "_view_name": "LayoutView",
       "align_content": null,
       "align_items": null,
       "align_self": null,
       "border_bottom": null,
       "border_left": null,
       "border_right": null,
       "border_top": null,
       "bottom": null,
       "display": null,
       "flex": null,
       "flex_flow": null,
       "grid_area": null,
       "grid_auto_columns": null,
       "grid_auto_flow": null,
       "grid_auto_rows": null,
       "grid_column": null,
       "grid_gap": null,
       "grid_row": null,
       "grid_template_areas": null,
       "grid_template_columns": null,
       "grid_template_rows": null,
       "height": null,
       "justify_content": null,
       "justify_items": null,
       "left": null,
       "margin": null,
       "max_height": null,
       "max_width": null,
       "min_height": null,
       "min_width": null,
       "object_fit": null,
       "object_position": null,
       "order": null,
       "overflow": null,
       "padding": null,
       "right": null,
       "top": null,
       "visibility": null,
       "width": null
      }
     },
     "55c6987315054ddf9a31bb1a96a89ff8": {
      "model_module": "@jupyter-widgets/controls",
      "model_module_version": "2.0.0",
      "model_name": "FloatProgressModel",
      "state": {
       "_dom_classes": [],
       "_model_module": "@jupyter-widgets/controls",
       "_model_module_version": "2.0.0",
       "_model_name": "FloatProgressModel",
       "_view_count": null,
       "_view_module": "@jupyter-widgets/controls",
       "_view_module_version": "2.0.0",
       "_view_name": "ProgressView",
       "bar_style": "success",
       "description": "",
       "description_allow_html": false,
       "layout": "IPY_MODEL_54af366cdf2f4b46be1e40c22ed346e8",
       "max": 4.0,
       "min": 0.0,
       "orientation": "horizontal",
       "style": "IPY_MODEL_34576784ab964e71b862adb3af81c2f1",
       "tabbable": null,
       "tooltip": null,
       "value": 4.0
      }
     },
     "5c9f714e47be4c8a8a6746aaab812b1c": {
      "model_module": "@jupyter-widgets/base",
      "model_module_version": "2.0.0",
      "model_name": "LayoutModel",
      "state": {
       "_model_module": "@jupyter-widgets/base",
       "_model_module_version": "2.0.0",
       "_model_name": "LayoutModel",
       "_view_count": null,
       "_view_module": "@jupyter-widgets/base",
       "_view_module_version": "2.0.0",
       "_view_name": "LayoutView",
       "align_content": null,
       "align_items": null,
       "align_self": null,
       "border_bottom": null,
       "border_left": null,
       "border_right": null,
       "border_top": null,
       "bottom": null,
       "display": null,
       "flex": null,
       "flex_flow": null,
       "grid_area": null,
       "grid_auto_columns": null,
       "grid_auto_flow": null,
       "grid_auto_rows": null,
       "grid_column": null,
       "grid_gap": null,
       "grid_row": null,
       "grid_template_areas": null,
       "grid_template_columns": null,
       "grid_template_rows": null,
       "height": null,
       "justify_content": null,
       "justify_items": null,
       "left": null,
       "margin": null,
       "max_height": null,
       "max_width": null,
       "min_height": null,
       "min_width": null,
       "object_fit": null,
       "object_position": null,
       "order": null,
       "overflow": null,
       "padding": null,
       "right": null,
       "top": null,
       "visibility": null,
       "width": null
      }
     },
     "7165cbe7edbd4d03ac59f68ac6c6ac89": {
      "model_module": "@jupyter-widgets/controls",
      "model_module_version": "2.0.0",
      "model_name": "HTMLModel",
      "state": {
       "_dom_classes": [],
       "_model_module": "@jupyter-widgets/controls",
       "_model_module_version": "2.0.0",
       "_model_name": "HTMLModel",
       "_view_count": null,
       "_view_module": "@jupyter-widgets/controls",
       "_view_module_version": "2.0.0",
       "_view_name": "HTMLView",
       "description": "",
       "description_allow_html": false,
       "layout": "IPY_MODEL_0b76d30ebb9c4bdd9822e42907a9bebd",
       "placeholder": "​",
       "style": "IPY_MODEL_72f2ead095d0458ba7fab12a80899b87",
       "tabbable": null,
       "tooltip": null,
       "value": "Loading checkpoint shards: 100%"
      }
     },
     "72f2ead095d0458ba7fab12a80899b87": {
      "model_module": "@jupyter-widgets/controls",
      "model_module_version": "2.0.0",
      "model_name": "HTMLStyleModel",
      "state": {
       "_model_module": "@jupyter-widgets/controls",
       "_model_module_version": "2.0.0",
       "_model_name": "HTMLStyleModel",
       "_view_count": null,
       "_view_module": "@jupyter-widgets/base",
       "_view_module_version": "2.0.0",
       "_view_name": "StyleView",
       "background": null,
       "description_width": "",
       "font_size": null,
       "text_color": null
      }
     },
     "c9e775e7e6e34bfc8a4f868e81018eea": {
      "model_module": "@jupyter-widgets/controls",
      "model_module_version": "2.0.0",
      "model_name": "HTMLModel",
      "state": {
       "_dom_classes": [],
       "_model_module": "@jupyter-widgets/controls",
       "_model_module_version": "2.0.0",
       "_model_name": "HTMLModel",
       "_view_count": null,
       "_view_module": "@jupyter-widgets/controls",
       "_view_module_version": "2.0.0",
       "_view_name": "HTMLView",
       "description": "",
       "description_allow_html": false,
       "layout": "IPY_MODEL_238b28520fa147fd9b76c94e1693a997",
       "placeholder": "​",
       "style": "IPY_MODEL_0f7f101f138542fbb7f86ba9152d0316",
       "tabbable": null,
       "tooltip": null,
       "value": " 4/4 [00:02&lt;00:00,  1.75it/s]"
      }
     },
     "f3b5beb991cb46099f472f5951f0524d": {
      "model_module": "@jupyter-widgets/controls",
      "model_module_version": "2.0.0",
      "model_name": "HBoxModel",
      "state": {
       "_dom_classes": [],
       "_model_module": "@jupyter-widgets/controls",
       "_model_module_version": "2.0.0",
       "_model_name": "HBoxModel",
       "_view_count": null,
       "_view_module": "@jupyter-widgets/controls",
       "_view_module_version": "2.0.0",
       "_view_name": "HBoxView",
       "box_style": "",
       "children": [
        "IPY_MODEL_7165cbe7edbd4d03ac59f68ac6c6ac89",
        "IPY_MODEL_55c6987315054ddf9a31bb1a96a89ff8",
        "IPY_MODEL_c9e775e7e6e34bfc8a4f868e81018eea"
       ],
       "layout": "IPY_MODEL_5c9f714e47be4c8a8a6746aaab812b1c",
       "tabbable": null,
       "tooltip": null
      }
     }
    },
    "version_major": 2,
    "version_minor": 0
   }
  }
 },
 "nbformat": 4,
 "nbformat_minor": 5
}