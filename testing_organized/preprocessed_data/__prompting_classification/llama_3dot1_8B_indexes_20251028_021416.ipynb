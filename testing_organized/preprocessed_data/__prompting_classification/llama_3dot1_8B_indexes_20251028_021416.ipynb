{
 "cells": [
  {
   "cell_type": "code",
   "execution_count": 1,
   "id": "353be05d",
   "metadata": {
    "execution": {
     "iopub.execute_input": "2025-10-28T07:14:21.200216Z",
     "iopub.status.busy": "2025-10-28T07:14:21.199438Z",
     "iopub.status.idle": "2025-10-28T07:14:43.938795Z",
     "shell.execute_reply": "2025-10-28T07:14:43.938114Z"
    },
    "papermill": {
     "duration": 22.758962,
     "end_time": "2025-10-28T07:14:43.940410",
     "exception": false,
     "start_time": "2025-10-28T07:14:21.181448",
     "status": "completed"
    },
    "tags": []
   },
   "outputs": [
    {
     "name": "stderr",
     "output_type": "stream",
     "text": [
      "2025-10-28 02:14:31.213526: I tensorflow/core/util/port.cc:153] oneDNN custom operations are on. You may see slightly different numerical results due to floating-point round-off errors from different computation orders. To turn them off, set the environment variable `TF_ENABLE_ONEDNN_OPTS=0`.\n",
      "2025-10-28 02:14:31.291585: I tensorflow/core/platform/cpu_feature_guard.cc:210] This TensorFlow binary is optimized to use available CPU instructions in performance-critical operations.\n",
      "To enable the following instructions: AVX2 AVX512F AVX512_VNNI AVX512_BF16 AVX512_FP16 AVX_VNNI AMX_TILE AMX_INT8 AMX_BF16 FMA, in other operations, rebuild TensorFlow with the appropriate compiler flags.\n"
     ]
    },
    {
     "name": "stderr",
     "output_type": "stream",
     "text": [
      "2025-10-28 02:14:35.872457: I tensorflow/core/util/port.cc:153] oneDNN custom operations are on. You may see slightly different numerical results due to floating-point round-off errors from different computation orders. To turn them off, set the environment variable `TF_ENABLE_ONEDNN_OPTS=0`.\n"
     ]
    }
   ],
   "source": [
    "import pandas as pd\n",
    "import json\n",
    "from sklearn.model_selection import train_test_split\n",
    "from sklearn.metrics import accuracy_score, f1_score, precision_score, recall_score\n",
    "from transformers import pipeline\n",
    "import torch\n",
    "import numpy as np\n",
    "import os \n",
    "from datetime import datetime\n",
    "import json\n",
    "\n"
   ]
  },
  {
   "cell_type": "code",
   "execution_count": 2,
   "id": "d8fa8697",
   "metadata": {
    "execution": {
     "iopub.execute_input": "2025-10-28T07:14:43.959486Z",
     "iopub.status.busy": "2025-10-28T07:14:43.958892Z",
     "iopub.status.idle": "2025-10-28T07:14:43.964119Z",
     "shell.execute_reply": "2025-10-28T07:14:43.963549Z"
    },
    "papermill": {
     "duration": 0.015202,
     "end_time": "2025-10-28T07:14:43.965379",
     "exception": false,
     "start_time": "2025-10-28T07:14:43.950177",
     "status": "completed"
    },
    "tags": []
   },
   "outputs": [],
   "source": [
    "RANDOM_STATE = 42\n",
    "path_DATA = \"../../../data\"\n",
    "csv_path = f\"{path_DATA}/spotify_dataset_sin_duplicados_4.csv\"\n",
    "\n",
    "# To compare with  tfidf\n",
    "zero_shot_path = f\"{path_DATA}/zero_outputs\"\n",
    "os.makedirs(zero_shot_path, exist_ok=True)\n",
    "\n",
    "\n",
    "TESTING = False\n",
    "\n",
    "if TESTING:\n",
    "    NROWS = 200\n",
    "else:\n",
    "    NROWS = None\n",
    "    \n"
   ]
  },
  {
   "cell_type": "code",
   "execution_count": 3,
   "id": "57bca28f",
   "metadata": {
    "execution": {
     "iopub.execute_input": "2025-10-28T07:14:43.981747Z",
     "iopub.status.busy": "2025-10-28T07:14:43.981467Z",
     "iopub.status.idle": "2025-10-28T07:14:43.988193Z",
     "shell.execute_reply": "2025-10-28T07:14:43.987614Z"
    },
    "papermill": {
     "duration": 0.01611,
     "end_time": "2025-10-28T07:14:43.989388",
     "exception": false,
     "start_time": "2025-10-28T07:14:43.973278",
     "status": "completed"
    },
    "tags": []
   },
   "outputs": [],
   "source": [
    "def get_array(path):\n",
    "    with open(path, \"r\") as f:\n",
    "        array_ = json.load(f)  \n",
    "    return array_\n",
    "\n",
    "def get_song_and_target(csv_path, faltantes_path = \"faltantes_according_token.json\", sample_size=None, path_test_indexes=None):\n",
    "    df = pd.read_csv(csv_path)\n",
    "    indices_to_remove = get_array(faltantes_path)\n",
    "    if indices_to_remove[-1]>df.shape[0]:\n",
    "        print(\"You are executing in testing way\")\n",
    "    else:\n",
    "        df = df.drop(indices_to_remove).reset_index(drop=True)\n",
    "\n",
    "    if path_test_indexes is not None:\n",
    "        df_split_indices_test = pd.read_csv(path_test_indexes)\n",
    "        idx_test = df_split_indices_test[\"test_index\"].values\n",
    "        df = df.iloc[idx_test].reset_index(drop=True)\n",
    "\n",
    "    if sample_size is not None:\n",
    "        df = df.iloc[:sample_size].reset_index(drop=True)\n",
    "    \n",
    "\n",
    "    df['original_index'] = df.index # Indices correctos despues de la eliminación\n",
    "    X = df['text']\n",
    "    df['Explicit_binary'] = (df['Explicit'].str.lower() == 'yes').astype(int)\n",
    "    y = df['Explicit_binary']\n",
    "    return X, y, df['original_index']"
   ]
  },
  {
   "cell_type": "code",
   "execution_count": 4,
   "id": "6a6bfb88",
   "metadata": {
    "execution": {
     "iopub.execute_input": "2025-10-28T07:14:44.004881Z",
     "iopub.status.busy": "2025-10-28T07:14:44.004615Z",
     "iopub.status.idle": "2025-10-28T07:14:47.726629Z",
     "shell.execute_reply": "2025-10-28T07:14:47.726137Z"
    },
    "papermill": {
     "duration": 3.730265,
     "end_time": "2025-10-28T07:14:47.727326",
     "exception": false,
     "start_time": "2025-10-28T07:14:43.997061",
     "status": "completed"
    },
    "tags": []
   },
   "outputs": [
    {
     "name": "stdout",
     "output_type": "stream",
     "text": [
      "(21625,)\n",
      "(21625,)\n",
      "(21625,)\n"
     ]
    }
   ],
   "source": [
    "\n",
    "# Indices train and test, in this experimentations only is relevante test indexes\n",
    "df_split_indices = pd.read_csv(f\"{zero_shot_path}/split_indices_train.csv\")\n",
    "df_split_indices_test = pd.read_csv(f\"{zero_shot_path}/split_indices_test.csv\")\n",
    "\n",
    "X,y, index = get_song_and_target(csv_path,\"faltantes_according_token.json\", sample_size=NROWS, path_test_indexes=f\"{zero_shot_path}/split_indices_test.csv\")\n",
    "\n",
    "print(X.shape)\n",
    "print(y.shape)\n",
    "print(index.shape)\n"
   ]
  },
  {
   "cell_type": "markdown",
   "id": "3e612849",
   "metadata": {
    "id": "5N-2vq2m_xbw",
    "papermill": {
     "duration": 0.005029,
     "end_time": "2025-10-28T07:14:47.741825",
     "exception": false,
     "start_time": "2025-10-28T07:14:47.736796",
     "status": "completed"
    },
    "tags": []
   },
   "source": [
    "# meta-llama/Llama-3.1-8B-Instruct\n",
    "https://huggingface.co/meta-llama/Llama-3.1-8B-Instruct"
   ]
  },
  {
   "cell_type": "code",
   "execution_count": 5,
   "id": "d8b07b33",
   "metadata": {
    "execution": {
     "iopub.execute_input": "2025-10-28T07:14:47.752914Z",
     "iopub.status.busy": "2025-10-28T07:14:47.752724Z",
     "iopub.status.idle": "2025-10-28T07:14:56.167026Z",
     "shell.execute_reply": "2025-10-28T07:14:56.166559Z"
    },
    "papermill": {
     "duration": 8.420812,
     "end_time": "2025-10-28T07:14:56.167687",
     "exception": false,
     "start_time": "2025-10-28T07:14:47.746875",
     "status": "completed"
    },
    "tags": []
   },
   "outputs": [
    {
     "name": "stderr",
     "output_type": "stream",
     "text": [
      "`torch_dtype` is deprecated! Use `dtype` instead!\n"
     ]
    },
    {
     "name": "stderr",
     "output_type": "stream",
     "text": [
      "`torch_dtype` is deprecated! Use `dtype` instead!\n"
     ]
    },
    {
     "data": {
      "application/vnd.jupyter.widget-view+json": {
       "model_id": "dd3439447f314340bf5f5fcf60683ae6",
       "version_major": 2,
       "version_minor": 0
      },
      "text/plain": [
       "Loading checkpoint shards:   0%|          | 0/4 [00:00<?, ?it/s]"
      ]
     },
     "metadata": {},
     "output_type": "display_data"
    },
    {
     "name": "stderr",
     "output_type": "stream",
     "text": [
      "Device set to use cuda:0\n"
     ]
    },
    {
     "name": "stdout",
     "output_type": "stream",
     "text": [
      "{'role': 'assistant', 'content': 'Explicit. \\n\\nThis song contains multiple instances of explicit language, including the use of the F-word, the N-word, and other profanities. Additionally, the lyrics describe mature themes, such as substance abuse, infidelity, and violence.'}\n"
     ]
    }
   ],
   "source": [
    "import os\n",
    "import transformers\n",
    "import torch\n",
    "\n",
    "\n",
    "model_id = \"meta-llama/Meta-Llama-3.1-8B-Instruct\"\n",
    "\n",
    "pipeline = transformers.pipeline(\n",
    "    \"text-generation\",\n",
    "    model=model_id,\n",
    "    model_kwargs={\"torch_dtype\": torch.bfloat16},\n",
    "    device_map=\"auto\",\n",
    "    pad_token_id=128001\n",
    "    # pad_token_id` to `eos_token_id`:128001\n",
    ")\n",
    "\n",
    "messages = [\n",
    "    {\"role\": \"system\", \"content\": \"You are a expert detecting if a song is explicit or not based on its lyrics. Answer with 'Explicit' or 'Non-Explicit'.\"},\n",
    "    {\"role\": \"user\", \"content\": f\"song lyric: {X.iloc[1]} Is this song explicit or non-explicit?\"},\n",
    "]\n",
    "\n",
    "outputs = pipeline(\n",
    "    messages,\n",
    "    max_new_tokens=256,\n",
    ")\n",
    "print(outputs[0][\"generated_text\"][-1])\n"
   ]
  },
  {
   "cell_type": "code",
   "execution_count": 6,
   "id": "217e9841",
   "metadata": {
    "execution": {
     "iopub.execute_input": "2025-10-28T07:14:56.180047Z",
     "iopub.status.busy": "2025-10-28T07:14:56.179868Z",
     "iopub.status.idle": "2025-10-28T07:14:56.183011Z",
     "shell.execute_reply": "2025-10-28T07:14:56.182689Z"
    },
    "papermill": {
     "duration": 0.009462,
     "end_time": "2025-10-28T07:14:56.183633",
     "exception": false,
     "start_time": "2025-10-28T07:14:56.174171",
     "status": "completed"
    },
    "tags": []
   },
   "outputs": [
    {
     "name": "stdout",
     "output_type": "stream",
     "text": [
      "X_test shape: (21625,)\n",
      "y_test shape: (21625,)\n",
      "index: (21625,)\n"
     ]
    }
   ],
   "source": [
    "\n",
    "X_test = X\n",
    "y_test = y\n",
    "\n",
    "print(\"X_test shape:\", X_test.shape)\n",
    "print(\"y_test shape:\", y_test.shape)\n",
    "print(\"index:\", index.shape)\n"
   ]
  },
  {
   "cell_type": "code",
   "execution_count": 7,
   "id": "cff908fb",
   "metadata": {
    "execution": {
     "iopub.execute_input": "2025-10-28T07:14:56.194698Z",
     "iopub.status.busy": "2025-10-28T07:14:56.194559Z",
     "iopub.status.idle": "2025-10-28T08:15:35.245773Z",
     "shell.execute_reply": "2025-10-28T08:15:35.245291Z"
    },
    "papermill": {
     "duration": 3639.062579,
     "end_time": "2025-10-28T08:15:35.251779",
     "exception": false,
     "start_time": "2025-10-28T07:14:56.189200",
     "status": "completed"
    },
    "tags": []
   },
   "outputs": [
    {
     "name": "stderr",
     "output_type": "stream",
     "text": [
      "You seem to be using the pipelines sequentially on GPU. In order to maximize efficiency please use a dataset\n"
     ]
    },
    {
     "name": "stdout",
     "output_type": "stream",
     "text": [
      "test_scores length: 21625\n",
      "y_indexes length: 21625\n",
      "Accuracy en test: 0.81780347\n",
      "Precision en test: 0.58978510\n",
      "Recall en test: 0.77655039\n",
      "F1 en test: 0.67040321\n",
      "Resultados guardados en resultados_test_llama_8B.json\n"
     ]
    }
   ],
   "source": [
    "test_scores = []\n",
    "\n",
    "i_tested = 0\n",
    "\n",
    "answers_debug = []\n",
    "sons_debug = []\n",
    "for lyric in X_test:\n",
    "    messages = [\n",
    "        {\"role\": \"system\", \"content\": \"You are an expert detecting if a song is explicit or not based on its lyrics. Answer ONLY with one word: 'Explicit' or 'Non-Explicit'.\"},\n",
    "        {\"role\": \"user\", \"content\": f\"song lyric: {lyric}\"},\n",
    "    ]\n",
    "    output = pipeline(messages, max_new_tokens=64)\n",
    "    # print()\n",
    "    # answer = output[0][\"generated_text\"].strip().split()[-1]\n",
    "    answer = output[0][\"generated_text\"][-1]['content']\n",
    "    if TESTING:\n",
    "        answers_debug.append(answer)\n",
    "        sons_debug.append(lyric)\n",
    "    score_explicit = 1 if answer.lower() == \"explicit\" else 0\n",
    "    test_scores.append(score_explicit)\n",
    "    i_tested += 1\n",
    "\n",
    "    if i_tested == NROWS and TESTING:\n",
    "        break\n",
    "\n",
    "test_scores = np.array(test_scores)\n",
    "\n",
    "# Métricas\n",
    "f1_test = f1_score(y_test, test_scores)\n",
    "accuracy_test = accuracy_score(y_test, test_scores)\n",
    "precision_test = precision_score(y_test, test_scores)\n",
    "recall_test = recall_score(y_test, test_scores)\n",
    "\n",
    "print(\"test_scores length:\", len(test_scores))\n",
    "print(\"y_indexes length:\", len(index))\n",
    "\n",
    "df_results = pd.DataFrame({\n",
    "    \"original_index\": index,\n",
    "    \"explicit_score\": test_scores\n",
    "})\n",
    "df_results.to_csv(f\"{zero_shot_path}/llama_8B_results.csv\", index=False)\n",
    "\n",
    "\n",
    "print(f\"Accuracy en test: {accuracy_test:.8f}\")\n",
    "print(f\"Precision en test: {precision_test:.8f}\")\n",
    "print(f\"Recall en test: {recall_test:.8f}\")\n",
    "print(f\"F1 en test: {f1_test:.8f}\")\n",
    "\n",
    "\n",
    "resultados = {\n",
    "    \"accuracy\": float(f\"{accuracy_test:.8f}\"),\n",
    "    \"precision\": float(f\"{precision_test:.8f}\"),\n",
    "    \"recall\": float(f\"{recall_test:.8f}\"),\n",
    "    \"f1\": float(f\"{f1_test:.8f}\")\n",
    "}\n",
    "\n",
    "if TESTING:\n",
    "    test_ou = \"test\"\n",
    "else:\n",
    "    test_ou = \"\"\n",
    "\n",
    "ruta_resultados = f\"resultados_test_llama_8B{test_ou}.json\"\n",
    "with open(ruta_resultados, \"w\") as f:\n",
    "    json.dump(resultados, f, indent=4)\n",
    "\n",
    "print(f\"Resultados guardados en {ruta_resultados}\")\n",
    "\n"
   ]
  },
  {
   "cell_type": "code",
   "execution_count": 8,
   "id": "357f3125",
   "metadata": {
    "execution": {
     "iopub.execute_input": "2025-10-28T08:15:35.262412Z",
     "iopub.status.busy": "2025-10-28T08:15:35.262253Z",
     "iopub.status.idle": "2025-10-28T08:15:35.264971Z",
     "shell.execute_reply": "2025-10-28T08:15:35.264662Z"
    },
    "papermill": {
     "duration": 0.008575,
     "end_time": "2025-10-28T08:15:35.265540",
     "exception": false,
     "start_time": "2025-10-28T08:15:35.256965",
     "status": "completed"
    },
    "tags": []
   },
   "outputs": [],
   "source": [
    "if TESTING:\n",
    "    import textwrap\n",
    "    print(\"Answers debug:\", answers_debug)\n",
    "    print(\"test_scores:\", test_scores)\n",
    "    print(\"y true     :\", y_test.values)\n",
    "\n",
    "    print(\"song 7:\", sons_debug[7])\n",
    "    wrapped_song = textwrap.fill(sons_debug[7], width=80)\n",
    "    print(\"song 7:\")\n",
    "    print(wrapped_song)"
   ]
  }
 ],
 "metadata": {
  "accelerator": "GPU",
  "colab": {
   "gpuType": "T4",
   "provenance": []
  },
  "kernelspec": {
   "display_name": ".venv",
   "language": "python",
   "name": "python3"
  },
  "language_info": {
   "codemirror_mode": {
    "name": "ipython",
    "version": 3
   },
   "file_extension": ".py",
   "mimetype": "text/x-python",
   "name": "python",
   "nbconvert_exporter": "python",
   "pygments_lexer": "ipython3",
   "version": "3.13.2"
  },
  "papermill": {
   "default_parameters": {},
   "duration": 3678.625633,
   "end_time": "2025-10-28T08:15:36.789615",
   "environment_variables": {},
   "exception": null,
   "input_path": "llama_3dot1_8B_indexes.ipynb",
   "output_path": "llama_3dot1_8B_indexes_20251028_021416.ipynb",
   "parameters": {},
   "start_time": "2025-10-28T07:14:18.163982",
   "version": "2.6.0"
  },
  "widgets": {
   "application/vnd.jupyter.widget-state+json": {
    "state": {
     "031e95ef450348e3b7baf41f4e0ccd47": {
      "model_module": "@jupyter-widgets/controls",
      "model_module_version": "2.0.0",
      "model_name": "HTMLStyleModel",
      "state": {
       "_model_module": "@jupyter-widgets/controls",
       "_model_module_version": "2.0.0",
       "_model_name": "HTMLStyleModel",
       "_view_count": null,
       "_view_module": "@jupyter-widgets/base",
       "_view_module_version": "2.0.0",
       "_view_name": "StyleView",
       "background": null,
       "description_width": "",
       "font_size": null,
       "text_color": null
      }
     },
     "2faf3cc3d94f4b69a291519e96112005": {
      "model_module": "@jupyter-widgets/base",
      "model_module_version": "2.0.0",
      "model_name": "LayoutModel",
      "state": {
       "_model_module": "@jupyter-widgets/base",
       "_model_module_version": "2.0.0",
       "_model_name": "LayoutModel",
       "_view_count": null,
       "_view_module": "@jupyter-widgets/base",
       "_view_module_version": "2.0.0",
       "_view_name": "LayoutView",
       "align_content": null,
       "align_items": null,
       "align_self": null,
       "border_bottom": null,
       "border_left": null,
       "border_right": null,
       "border_top": null,
       "bottom": null,
       "display": null,
       "flex": null,
       "flex_flow": null,
       "grid_area": null,
       "grid_auto_columns": null,
       "grid_auto_flow": null,
       "grid_auto_rows": null,
       "grid_column": null,
       "grid_gap": null,
       "grid_row": null,
       "grid_template_areas": null,
       "grid_template_columns": null,
       "grid_template_rows": null,
       "height": null,
       "justify_content": null,
       "justify_items": null,
       "left": null,
       "margin": null,
       "max_height": null,
       "max_width": null,
       "min_height": null,
       "min_width": null,
       "object_fit": null,
       "object_position": null,
       "order": null,
       "overflow": null,
       "padding": null,
       "right": null,
       "top": null,
       "visibility": null,
       "width": null
      }
     },
     "4e91e7ca8a8f4f5baee9406e595ce5dc": {
      "model_module": "@jupyter-widgets/base",
      "model_module_version": "2.0.0",
      "model_name": "LayoutModel",
      "state": {
       "_model_module": "@jupyter-widgets/base",
       "_model_module_version": "2.0.0",
       "_model_name": "LayoutModel",
       "_view_count": null,
       "_view_module": "@jupyter-widgets/base",
       "_view_module_version": "2.0.0",
       "_view_name": "LayoutView",
       "align_content": null,
       "align_items": null,
       "align_self": null,
       "border_bottom": null,
       "border_left": null,
       "border_right": null,
       "border_top": null,
       "bottom": null,
       "display": null,
       "flex": null,
       "flex_flow": null,
       "grid_area": null,
       "grid_auto_columns": null,
       "grid_auto_flow": null,
       "grid_auto_rows": null,
       "grid_column": null,
       "grid_gap": null,
       "grid_row": null,
       "grid_template_areas": null,
       "grid_template_columns": null,
       "grid_template_rows": null,
       "height": null,
       "justify_content": null,
       "justify_items": null,
       "left": null,
       "margin": null,
       "max_height": null,
       "max_width": null,
       "min_height": null,
       "min_width": null,
       "object_fit": null,
       "object_position": null,
       "order": null,
       "overflow": null,
       "padding": null,
       "right": null,
       "top": null,
       "visibility": null,
       "width": null
      }
     },
     "b344dc92669e42b194cf3d0097e14fe6": {
      "model_module": "@jupyter-widgets/base",
      "model_module_version": "2.0.0",
      "model_name": "LayoutModel",
      "state": {
       "_model_module": "@jupyter-widgets/base",
       "_model_module_version": "2.0.0",
       "_model_name": "LayoutModel",
       "_view_count": null,
       "_view_module": "@jupyter-widgets/base",
       "_view_module_version": "2.0.0",
       "_view_name": "LayoutView",
       "align_content": null,
       "align_items": null,
       "align_self": null,
       "border_bottom": null,
       "border_left": null,
       "border_right": null,
       "border_top": null,
       "bottom": null,
       "display": null,
       "flex": null,
       "flex_flow": null,
       "grid_area": null,
       "grid_auto_columns": null,
       "grid_auto_flow": null,
       "grid_auto_rows": null,
       "grid_column": null,
       "grid_gap": null,
       "grid_row": null,
       "grid_template_areas": null,
       "grid_template_columns": null,
       "grid_template_rows": null,
       "height": null,
       "justify_content": null,
       "justify_items": null,
       "left": null,
       "margin": null,
       "max_height": null,
       "max_width": null,
       "min_height": null,
       "min_width": null,
       "object_fit": null,
       "object_position": null,
       "order": null,
       "overflow": null,
       "padding": null,
       "right": null,
       "top": null,
       "visibility": null,
       "width": null
      }
     },
     "b86544cffc1e413d847a445c0faab0fa": {
      "model_module": "@jupyter-widgets/controls",
      "model_module_version": "2.0.0",
      "model_name": "HTMLModel",
      "state": {
       "_dom_classes": [],
       "_model_module": "@jupyter-widgets/controls",
       "_model_module_version": "2.0.0",
       "_model_name": "HTMLModel",
       "_view_count": null,
       "_view_module": "@jupyter-widgets/controls",
       "_view_module_version": "2.0.0",
       "_view_name": "HTMLView",
       "description": "",
       "description_allow_html": false,
       "layout": "IPY_MODEL_c1353460f05647bf8282ad2d8d8bdacb",
       "placeholder": "​",
       "style": "IPY_MODEL_031e95ef450348e3b7baf41f4e0ccd47",
       "tabbable": null,
       "tooltip": null,
       "value": "Loading checkpoint shards: 100%"
      }
     },
     "c1353460f05647bf8282ad2d8d8bdacb": {
      "model_module": "@jupyter-widgets/base",
      "model_module_version": "2.0.0",
      "model_name": "LayoutModel",
      "state": {
       "_model_module": "@jupyter-widgets/base",
       "_model_module_version": "2.0.0",
       "_model_name": "LayoutModel",
       "_view_count": null,
       "_view_module": "@jupyter-widgets/base",
       "_view_module_version": "2.0.0",
       "_view_name": "LayoutView",
       "align_content": null,
       "align_items": null,
       "align_self": null,
       "border_bottom": null,
       "border_left": null,
       "border_right": null,
       "border_top": null,
       "bottom": null,
       "display": null,
       "flex": null,
       "flex_flow": null,
       "grid_area": null,
       "grid_auto_columns": null,
       "grid_auto_flow": null,
       "grid_auto_rows": null,
       "grid_column": null,
       "grid_gap": null,
       "grid_row": null,
       "grid_template_areas": null,
       "grid_template_columns": null,
       "grid_template_rows": null,
       "height": null,
       "justify_content": null,
       "justify_items": null,
       "left": null,
       "margin": null,
       "max_height": null,
       "max_width": null,
       "min_height": null,
       "min_width": null,
       "object_fit": null,
       "object_position": null,
       "order": null,
       "overflow": null,
       "padding": null,
       "right": null,
       "top": null,
       "visibility": null,
       "width": null
      }
     },
     "cca2234fd32b4fac857cf62b5a115b3e": {
      "model_module": "@jupyter-widgets/controls",
      "model_module_version": "2.0.0",
      "model_name": "ProgressStyleModel",
      "state": {
       "_model_module": "@jupyter-widgets/controls",
       "_model_module_version": "2.0.0",
       "_model_name": "ProgressStyleModel",
       "_view_count": null,
       "_view_module": "@jupyter-widgets/base",
       "_view_module_version": "2.0.0",
       "_view_name": "StyleView",
       "bar_color": null,
       "description_width": ""
      }
     },
     "cd64defb344447c6b7b4ab566c2d38e0": {
      "model_module": "@jupyter-widgets/controls",
      "model_module_version": "2.0.0",
      "model_name": "HTMLStyleModel",
      "state": {
       "_model_module": "@jupyter-widgets/controls",
       "_model_module_version": "2.0.0",
       "_model_name": "HTMLStyleModel",
       "_view_count": null,
       "_view_module": "@jupyter-widgets/base",
       "_view_module_version": "2.0.0",
       "_view_name": "StyleView",
       "background": null,
       "description_width": "",
       "font_size": null,
       "text_color": null
      }
     },
     "dd3439447f314340bf5f5fcf60683ae6": {
      "model_module": "@jupyter-widgets/controls",
      "model_module_version": "2.0.0",
      "model_name": "HBoxModel",
      "state": {
       "_dom_classes": [],
       "_model_module": "@jupyter-widgets/controls",
       "_model_module_version": "2.0.0",
       "_model_name": "HBoxModel",
       "_view_count": null,
       "_view_module": "@jupyter-widgets/controls",
       "_view_module_version": "2.0.0",
       "_view_name": "HBoxView",
       "box_style": "",
       "children": [
        "IPY_MODEL_b86544cffc1e413d847a445c0faab0fa",
        "IPY_MODEL_de94709032564008bf91495c2a59c7b7",
        "IPY_MODEL_ecfcc2ff291d4a49a71a016e3e59ecb6"
       ],
       "layout": "IPY_MODEL_4e91e7ca8a8f4f5baee9406e595ce5dc",
       "tabbable": null,
       "tooltip": null
      }
     },
     "de94709032564008bf91495c2a59c7b7": {
      "model_module": "@jupyter-widgets/controls",
      "model_module_version": "2.0.0",
      "model_name": "FloatProgressModel",
      "state": {
       "_dom_classes": [],
       "_model_module": "@jupyter-widgets/controls",
       "_model_module_version": "2.0.0",
       "_model_name": "FloatProgressModel",
       "_view_count": null,
       "_view_module": "@jupyter-widgets/controls",
       "_view_module_version": "2.0.0",
       "_view_name": "ProgressView",
       "bar_style": "success",
       "description": "",
       "description_allow_html": false,
       "layout": "IPY_MODEL_b344dc92669e42b194cf3d0097e14fe6",
       "max": 4.0,
       "min": 0.0,
       "orientation": "horizontal",
       "style": "IPY_MODEL_cca2234fd32b4fac857cf62b5a115b3e",
       "tabbable": null,
       "tooltip": null,
       "value": 4.0
      }
     },
     "ecfcc2ff291d4a49a71a016e3e59ecb6": {
      "model_module": "@jupyter-widgets/controls",
      "model_module_version": "2.0.0",
      "model_name": "HTMLModel",
      "state": {
       "_dom_classes": [],
       "_model_module": "@jupyter-widgets/controls",
       "_model_module_version": "2.0.0",
       "_model_name": "HTMLModel",
       "_view_count": null,
       "_view_module": "@jupyter-widgets/controls",
       "_view_module_version": "2.0.0",
       "_view_name": "HTMLView",
       "description": "",
       "description_allow_html": false,
       "layout": "IPY_MODEL_2faf3cc3d94f4b69a291519e96112005",
       "placeholder": "​",
       "style": "IPY_MODEL_cd64defb344447c6b7b4ab566c2d38e0",
       "tabbable": null,
       "tooltip": null,
       "value": " 4/4 [00:02&lt;00:00,  2.18it/s]"
      }
     }
    },
    "version_major": 2,
    "version_minor": 0
   }
  }
 },
 "nbformat": 4,
 "nbformat_minor": 5
}