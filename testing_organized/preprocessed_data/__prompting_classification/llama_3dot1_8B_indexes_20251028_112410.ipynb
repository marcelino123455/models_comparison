{
 "cells": [
  {
   "cell_type": "code",
   "execution_count": 1,
   "id": "353be05d",
   "metadata": {
    "execution": {
     "iopub.execute_input": "2025-10-28T16:24:15.635488Z",
     "iopub.status.busy": "2025-10-28T16:24:15.634913Z",
     "iopub.status.idle": "2025-10-28T16:24:35.890095Z",
     "shell.execute_reply": "2025-10-28T16:24:35.889501Z"
    },
    "papermill": {
     "duration": 20.274291,
     "end_time": "2025-10-28T16:24:35.891463",
     "exception": false,
     "start_time": "2025-10-28T16:24:15.617172",
     "status": "completed"
    },
    "tags": []
   },
   "outputs": [
    {
     "name": "stderr",
     "output_type": "stream",
     "text": [
      "2025-10-28 11:24:24.877401: I tensorflow/core/util/port.cc:153] oneDNN custom operations are on. You may see slightly different numerical results due to floating-point round-off errors from different computation orders. To turn them off, set the environment variable `TF_ENABLE_ONEDNN_OPTS=0`.\n",
      "2025-10-28 11:24:24.947649: I tensorflow/core/platform/cpu_feature_guard.cc:210] This TensorFlow binary is optimized to use available CPU instructions in performance-critical operations.\n",
      "To enable the following instructions: AVX2 AVX512F AVX512_VNNI AVX512_BF16 AVX512_FP16 AVX_VNNI AMX_TILE AMX_INT8 AMX_BF16 FMA, in other operations, rebuild TensorFlow with the appropriate compiler flags.\n"
     ]
    },
    {
     "name": "stderr",
     "output_type": "stream",
     "text": [
      "2025-10-28 11:24:29.380167: I tensorflow/core/util/port.cc:153] oneDNN custom operations are on. You may see slightly different numerical results due to floating-point round-off errors from different computation orders. To turn them off, set the environment variable `TF_ENABLE_ONEDNN_OPTS=0`.\n"
     ]
    }
   ],
   "source": [
    "import pandas as pd\n",
    "import json\n",
    "from sklearn.model_selection import train_test_split\n",
    "from sklearn.metrics import accuracy_score, f1_score, precision_score, recall_score\n",
    "from transformers import pipeline\n",
    "import torch\n",
    "import numpy as np\n",
    "import os \n",
    "from datetime import datetime\n",
    "import json\n",
    "\n"
   ]
  },
  {
   "cell_type": "code",
   "execution_count": 2,
   "id": "d8fa8697",
   "metadata": {
    "execution": {
     "iopub.execute_input": "2025-10-28T16:24:35.907526Z",
     "iopub.status.busy": "2025-10-28T16:24:35.907041Z",
     "iopub.status.idle": "2025-10-28T16:24:35.912374Z",
     "shell.execute_reply": "2025-10-28T16:24:35.911827Z"
    },
    "papermill": {
     "duration": 0.013967,
     "end_time": "2025-10-28T16:24:35.913501",
     "exception": false,
     "start_time": "2025-10-28T16:24:35.899534",
     "status": "completed"
    },
    "tags": []
   },
   "outputs": [],
   "source": [
    "RANDOM_STATE = 42\n",
    "path_DATA = \"../../../data\"\n",
    "csv_path = f\"{path_DATA}/spotify_dataset_sin_duplicados_4.csv\"\n",
    "\n",
    "# To compare with  tfidf\n",
    "zero_shot_path = f\"{path_DATA}/zero_outputs\"\n",
    "os.makedirs(zero_shot_path, exist_ok=True)\n",
    "\n",
    "\n",
    "TESTING = False\n",
    "\n",
    "if TESTING:\n",
    "    NROWS = 50\n",
    "else:\n",
    "    NROWS = None\n",
    "    \n"
   ]
  },
  {
   "cell_type": "code",
   "execution_count": 3,
   "id": "57bca28f",
   "metadata": {
    "execution": {
     "iopub.execute_input": "2025-10-28T16:24:35.927771Z",
     "iopub.status.busy": "2025-10-28T16:24:35.927537Z",
     "iopub.status.idle": "2025-10-28T16:24:35.933034Z",
     "shell.execute_reply": "2025-10-28T16:24:35.932479Z"
    },
    "papermill": {
     "duration": 0.013611,
     "end_time": "2025-10-28T16:24:35.934066",
     "exception": false,
     "start_time": "2025-10-28T16:24:35.920455",
     "status": "completed"
    },
    "tags": []
   },
   "outputs": [],
   "source": [
    "def get_array(path):\n",
    "    with open(path, \"r\") as f:\n",
    "        array_ = json.load(f)  \n",
    "    return array_\n",
    "\n",
    "def get_song_and_target(csv_path, faltantes_path = \"faltantes_according_token.json\", sample_size=None, path_test_indexes=None):\n",
    "    df = pd.read_csv(csv_path)\n",
    "    indices_to_remove = get_array(faltantes_path)\n",
    "    if indices_to_remove[-1]>df.shape[0]:\n",
    "        print(\"You are executing in testing way\")\n",
    "    else:\n",
    "        df = df.drop(indices_to_remove).reset_index(drop=True)\n",
    "\n",
    "    df['original_index'] = df.index\n",
    "\n",
    "    if path_test_indexes is not None:\n",
    "        df_split_indices_test = pd.read_csv(path_test_indexes)\n",
    "        idx_test = df_split_indices_test[\"test_index\"].values\n",
    "        df = df.iloc[idx_test].reset_index(drop=True)\n",
    "\n",
    "    if sample_size is not None:\n",
    "        df = df.iloc[:sample_size].reset_index(drop=True)\n",
    "    \n",
    "\n",
    "    \n",
    "    X = df['text']\n",
    "    df['Explicit_binary'] = (df['Explicit'].str.lower() == 'yes').astype(int)\n",
    "    y = df['Explicit_binary']\n",
    "    return X, y, df['original_index']"
   ]
  },
  {
   "cell_type": "code",
   "execution_count": 4,
   "id": "6a6bfb88",
   "metadata": {
    "execution": {
     "iopub.execute_input": "2025-10-28T16:24:35.949992Z",
     "iopub.status.busy": "2025-10-28T16:24:35.949737Z",
     "iopub.status.idle": "2025-10-28T16:24:39.342659Z",
     "shell.execute_reply": "2025-10-28T16:24:39.341771Z"
    },
    "papermill": {
     "duration": 3.402027,
     "end_time": "2025-10-28T16:24:39.343863",
     "exception": false,
     "start_time": "2025-10-28T16:24:35.941836",
     "status": "completed"
    },
    "tags": []
   },
   "outputs": [
    {
     "name": "stdout",
     "output_type": "stream",
     "text": [
      "(21625,)\n",
      "(21625,)\n",
      "(21625,)\n"
     ]
    }
   ],
   "source": [
    "\n",
    "# Indices train and test, in this experimentations only is relevante test indexes\n",
    "df_split_indices = pd.read_csv(f\"{zero_shot_path}/split_indices_train.csv\")\n",
    "df_split_indices_test = pd.read_csv(f\"{zero_shot_path}/split_indices_test.csv\")\n",
    "\n",
    "X,y, index = get_song_and_target(csv_path,\"faltantes_according_token.json\", sample_size=NROWS, path_test_indexes=f\"{zero_shot_path}/split_indices_test.csv\")\n",
    "\n",
    "print(X.shape)\n",
    "print(y.shape)\n",
    "print(index.shape)\n"
   ]
  },
  {
   "cell_type": "markdown",
   "id": "3e612849",
   "metadata": {
    "id": "5N-2vq2m_xbw",
    "papermill": {
     "duration": 0.007547,
     "end_time": "2025-10-28T16:24:39.363056",
     "exception": false,
     "start_time": "2025-10-28T16:24:39.355509",
     "status": "completed"
    },
    "tags": []
   },
   "source": [
    "# meta-llama/Llama-3.1-8B-Instruct\n",
    "https://huggingface.co/meta-llama/Llama-3.1-8B-Instruct"
   ]
  },
  {
   "cell_type": "code",
   "execution_count": 5,
   "id": "d8b07b33",
   "metadata": {
    "execution": {
     "iopub.execute_input": "2025-10-28T16:24:39.379191Z",
     "iopub.status.busy": "2025-10-28T16:24:39.378893Z",
     "iopub.status.idle": "2025-10-28T16:24:49.167254Z",
     "shell.execute_reply": "2025-10-28T16:24:49.166844Z"
    },
    "papermill": {
     "duration": 9.797471,
     "end_time": "2025-10-28T16:24:49.167932",
     "exception": false,
     "start_time": "2025-10-28T16:24:39.370461",
     "status": "completed"
    },
    "tags": []
   },
   "outputs": [
    {
     "name": "stderr",
     "output_type": "stream",
     "text": [
      "`torch_dtype` is deprecated! Use `dtype` instead!\n"
     ]
    },
    {
     "name": "stderr",
     "output_type": "stream",
     "text": [
      "`torch_dtype` is deprecated! Use `dtype` instead!\n"
     ]
    },
    {
     "data": {
      "application/vnd.jupyter.widget-view+json": {
       "model_id": "b478bcd3d67444a4960f07cda507946a",
       "version_major": 2,
       "version_minor": 0
      },
      "text/plain": [
       "Loading checkpoint shards:   0%|          | 0/4 [00:00<?, ?it/s]"
      ]
     },
     "metadata": {},
     "output_type": "display_data"
    },
    {
     "name": "stderr",
     "output_type": "stream",
     "text": [
      "Device set to use cuda:0\n"
     ]
    },
    {
     "name": "stdout",
     "output_type": "stream",
     "text": [
      "{'role': 'assistant', 'content': 'Explicit. \\n\\nThere are multiple reasons why I have classified this song as explicit. \\n\\n1. Frequent use of profanity: The song includes multiple instances of strong profanity, such as the F-word, which is often considered explicit.\\n\\n2. Mature themes: The song touches on mature themes such as infidelity, lying, and substance abuse, which may not be suitable for all audiences.\\n\\n3. Explicit language and imagery: The song includes explicit language and imagery, such as references to sex, violence, and mental health struggles.\\n\\n4. Use of derogatory language: The song includes derogatory language towards certain groups, such as women and minorities, which may be considered explicit.\\n\\n5. References to substance abuse: The song mentions substance abuse, including the use of xans, which is a reference to Xanax, a prescription medication that can be abused.'}\n"
     ]
    }
   ],
   "source": [
    "import os\n",
    "import transformers\n",
    "import torch\n",
    "\n",
    "\n",
    "model_id = \"meta-llama/Meta-Llama-3.1-8B-Instruct\"\n",
    "\n",
    "pipeline = transformers.pipeline(\n",
    "    \"text-generation\",\n",
    "    model=model_id,\n",
    "    model_kwargs={\"torch_dtype\": torch.bfloat16},\n",
    "    device_map=\"auto\",\n",
    "    pad_token_id=128001\n",
    "    # pad_token_id` to `eos_token_id`:128001\n",
    ")\n",
    "\n",
    "messages = [\n",
    "    {\"role\": \"system\", \"content\": \"You are a expert detecting if a song is explicit or not based on its lyrics. Answer with 'Explicit' or 'Non-Explicit'.\"},\n",
    "    {\"role\": \"user\", \"content\": f\"song lyric: {X.iloc[1]} Is this song explicit or non-explicit?\"},\n",
    "]\n",
    "\n",
    "outputs = pipeline(\n",
    "    messages,\n",
    "    max_new_tokens=256,\n",
    ")\n",
    "print(outputs[0][\"generated_text\"][-1])\n"
   ]
  },
  {
   "cell_type": "code",
   "execution_count": 6,
   "id": "217e9841",
   "metadata": {
    "execution": {
     "iopub.execute_input": "2025-10-28T16:24:49.179995Z",
     "iopub.status.busy": "2025-10-28T16:24:49.179823Z",
     "iopub.status.idle": "2025-10-28T16:24:49.182958Z",
     "shell.execute_reply": "2025-10-28T16:24:49.182648Z"
    },
    "papermill": {
     "duration": 0.009662,
     "end_time": "2025-10-28T16:24:49.183587",
     "exception": false,
     "start_time": "2025-10-28T16:24:49.173925",
     "status": "completed"
    },
    "tags": []
   },
   "outputs": [
    {
     "name": "stdout",
     "output_type": "stream",
     "text": [
      "X_test shape: (21625,)\n",
      "y_test shape: (21625,)\n",
      "index: (21625,)\n"
     ]
    }
   ],
   "source": [
    "\n",
    "X_test = X\n",
    "y_test = y\n",
    "\n",
    "print(\"X_test shape:\", X_test.shape)\n",
    "print(\"y_test shape:\", y_test.shape)\n",
    "print(\"index:\", index.shape)\n",
    "\n",
    "# display(index.head())\n"
   ]
  },
  {
   "cell_type": "code",
   "execution_count": 7,
   "id": "cff908fb",
   "metadata": {
    "execution": {
     "iopub.execute_input": "2025-10-28T16:24:49.194225Z",
     "iopub.status.busy": "2025-10-28T16:24:49.194085Z",
     "iopub.status.idle": "2025-10-28T17:25:24.174380Z",
     "shell.execute_reply": "2025-10-28T17:25:24.173867Z"
    },
    "papermill": {
     "duration": 3634.991709,
     "end_time": "2025-10-28T17:25:24.180622",
     "exception": false,
     "start_time": "2025-10-28T16:24:49.188913",
     "status": "completed"
    },
    "tags": []
   },
   "outputs": [
    {
     "name": "stderr",
     "output_type": "stream",
     "text": [
      "You seem to be using the pipelines sequentially on GPU. In order to maximize efficiency please use a dataset\n"
     ]
    },
    {
     "name": "stdout",
     "output_type": "stream",
     "text": [
      "test_scores length: 21625\n",
      "y_indexes length: 21625\n",
      "Accuracy en test: 0.81752601\n",
      "Precision en test: 0.58902904\n",
      "Recall en test: 0.77829457\n",
      "F1 en test: 0.67056270\n",
      "Resultados guardados en resultados_test_2_llama_8B.json\n"
     ]
    }
   ],
   "source": [
    "test_scores = []\n",
    "\n",
    "i_tested = 0\n",
    "\n",
    "answers_debug = []\n",
    "sons_debug = []\n",
    "for lyric in X_test:\n",
    "    messages = [\n",
    "        {\"role\": \"system\", \"content\": \"You are an expert detecting if a song is explicit or not based on its lyrics. Answer ONLY with one word: 'Explicit' or 'Non-Explicit'.\"},\n",
    "        {\"role\": \"user\", \"content\": f\"song lyric: {lyric}\"},\n",
    "    ]\n",
    "    output = pipeline(messages, max_new_tokens=64)\n",
    "    # print()\n",
    "    # answer = output[0][\"generated_text\"].strip().split()[-1]\n",
    "    answer = output[0][\"generated_text\"][-1]['content']\n",
    "    if TESTING:\n",
    "        answers_debug.append(answer)\n",
    "        sons_debug.append(lyric)\n",
    "    score_explicit = 1 if answer.lower() == \"explicit\" else 0\n",
    "    test_scores.append(score_explicit)\n",
    "    i_tested += 1\n",
    "\n",
    "    if i_tested == NROWS and TESTING:\n",
    "        break\n",
    "\n",
    "test_scores = np.array(test_scores)\n",
    "\n",
    "# Métricas\n",
    "f1_test = f1_score(y_test, test_scores)\n",
    "accuracy_test = accuracy_score(y_test, test_scores)\n",
    "precision_test = precision_score(y_test, test_scores)\n",
    "recall_test = recall_score(y_test, test_scores)\n",
    "\n",
    "print(\"test_scores length:\", len(test_scores))\n",
    "print(\"y_indexes length:\", len(index))\n",
    "\n",
    "df_results = pd.DataFrame({\n",
    "    \"original_index\": index,\n",
    "    \"explicit_score\": test_scores\n",
    "})\n",
    "df_results.to_csv(f\"{zero_shot_path}/llama_8B_results_test.csv\", index=False)\n",
    "\n",
    "\n",
    "print(f\"Accuracy en test: {accuracy_test:.8f}\")\n",
    "print(f\"Precision en test: {precision_test:.8f}\")\n",
    "print(f\"Recall en test: {recall_test:.8f}\")\n",
    "print(f\"F1 en test: {f1_test:.8f}\")\n",
    "\n",
    "\n",
    "resultados = {\n",
    "    \"accuracy\": float(f\"{accuracy_test:.8f}\"),\n",
    "    \"precision\": float(f\"{precision_test:.8f}\"),\n",
    "    \"recall\": float(f\"{recall_test:.8f}\"),\n",
    "    \"f1\": float(f\"{f1_test:.8f}\")\n",
    "}\n",
    "\n",
    "if TESTING:\n",
    "    test_ou = \"test\"\n",
    "else:\n",
    "    test_ou = \"\"\n",
    "\n",
    "ruta_resultados = f\"resultados_test_2_llama_8B{test_ou}.json\"\n",
    "with open(ruta_resultados, \"w\") as f:\n",
    "    json.dump(resultados, f, indent=4)\n",
    "\n",
    "print(f\"Resultados guardados en {ruta_resultados}\")\n",
    "\n"
   ]
  },
  {
   "cell_type": "code",
   "execution_count": 8,
   "id": "357f3125",
   "metadata": {
    "execution": {
     "iopub.execute_input": "2025-10-28T17:25:24.191511Z",
     "iopub.status.busy": "2025-10-28T17:25:24.191348Z",
     "iopub.status.idle": "2025-10-28T17:25:24.194092Z",
     "shell.execute_reply": "2025-10-28T17:25:24.193756Z"
    },
    "papermill": {
     "duration": 0.008829,
     "end_time": "2025-10-28T17:25:24.194688",
     "exception": false,
     "start_time": "2025-10-28T17:25:24.185859",
     "status": "completed"
    },
    "tags": []
   },
   "outputs": [],
   "source": [
    "if TESTING:\n",
    "    import textwrap\n",
    "    print(\"Answers debug:\", answers_debug)\n",
    "    print(\"test_scores:\", test_scores)\n",
    "    print(\"y true     :\", y_test.values)\n",
    "\n",
    "    print(\"song 7:\", sons_debug[7])\n",
    "    wrapped_song = textwrap.fill(sons_debug[7], width=80)\n",
    "    print(\"song 7:\")\n",
    "    print(wrapped_song)"
   ]
  }
 ],
 "metadata": {
  "accelerator": "GPU",
  "colab": {
   "gpuType": "T4",
   "provenance": []
  },
  "kernelspec": {
   "display_name": ".venv",
   "language": "python",
   "name": "python3"
  },
  "language_info": {
   "codemirror_mode": {
    "name": "ipython",
    "version": 3
   },
   "file_extension": ".py",
   "mimetype": "text/x-python",
   "name": "python",
   "nbconvert_exporter": "python",
   "pygments_lexer": "ipython3",
   "version": "3.13.2"
  },
  "papermill": {
   "default_parameters": {},
   "duration": 3672.968034,
   "end_time": "2025-10-28T17:25:25.719511",
   "environment_variables": {},
   "exception": null,
   "input_path": "llama_3dot1_8B_indexes.ipynb",
   "output_path": "llama_3dot1_8B_indexes_20251028_112410.ipynb",
   "parameters": {},
   "start_time": "2025-10-28T16:24:12.751477",
   "version": "2.6.0"
  },
  "widgets": {
   "application/vnd.jupyter.widget-state+json": {
    "state": {
     "11a4bfffaac74bf6a452db8e3ab1703d": {
      "model_module": "@jupyter-widgets/controls",
      "model_module_version": "2.0.0",
      "model_name": "HTMLModel",
      "state": {
       "_dom_classes": [],
       "_model_module": "@jupyter-widgets/controls",
       "_model_module_version": "2.0.0",
       "_model_name": "HTMLModel",
       "_view_count": null,
       "_view_module": "@jupyter-widgets/controls",
       "_view_module_version": "2.0.0",
       "_view_name": "HTMLView",
       "description": "",
       "description_allow_html": false,
       "layout": "IPY_MODEL_8c8d05cf42fb4acc8aacda5b7e237793",
       "placeholder": "​",
       "style": "IPY_MODEL_4438b51d808d42b58af9d3ea27c29f9a",
       "tabbable": null,
       "tooltip": null,
       "value": "Loading checkpoint shards: 100%"
      }
     },
     "2c2c33b912f54032a7ec39f738c11930": {
      "model_module": "@jupyter-widgets/controls",
      "model_module_version": "2.0.0",
      "model_name": "HTMLStyleModel",
      "state": {
       "_model_module": "@jupyter-widgets/controls",
       "_model_module_version": "2.0.0",
       "_model_name": "HTMLStyleModel",
       "_view_count": null,
       "_view_module": "@jupyter-widgets/base",
       "_view_module_version": "2.0.0",
       "_view_name": "StyleView",
       "background": null,
       "description_width": "",
       "font_size": null,
       "text_color": null
      }
     },
     "3b6a8857d7f642aea606fbad6ddb5e53": {
      "model_module": "@jupyter-widgets/controls",
      "model_module_version": "2.0.0",
      "model_name": "HTMLModel",
      "state": {
       "_dom_classes": [],
       "_model_module": "@jupyter-widgets/controls",
       "_model_module_version": "2.0.0",
       "_model_name": "HTMLModel",
       "_view_count": null,
       "_view_module": "@jupyter-widgets/controls",
       "_view_module_version": "2.0.0",
       "_view_name": "HTMLView",
       "description": "",
       "description_allow_html": false,
       "layout": "IPY_MODEL_7994321e77354d56bd9f141bd607228f",
       "placeholder": "​",
       "style": "IPY_MODEL_2c2c33b912f54032a7ec39f738c11930",
       "tabbable": null,
       "tooltip": null,
       "value": " 4/4 [00:02&lt;00:00,  1.70it/s]"
      }
     },
     "41075940f6554975abf10fc2f11af832": {
      "model_module": "@jupyter-widgets/controls",
      "model_module_version": "2.0.0",
      "model_name": "ProgressStyleModel",
      "state": {
       "_model_module": "@jupyter-widgets/controls",
       "_model_module_version": "2.0.0",
       "_model_name": "ProgressStyleModel",
       "_view_count": null,
       "_view_module": "@jupyter-widgets/base",
       "_view_module_version": "2.0.0",
       "_view_name": "StyleView",
       "bar_color": null,
       "description_width": ""
      }
     },
     "4438b51d808d42b58af9d3ea27c29f9a": {
      "model_module": "@jupyter-widgets/controls",
      "model_module_version": "2.0.0",
      "model_name": "HTMLStyleModel",
      "state": {
       "_model_module": "@jupyter-widgets/controls",
       "_model_module_version": "2.0.0",
       "_model_name": "HTMLStyleModel",
       "_view_count": null,
       "_view_module": "@jupyter-widgets/base",
       "_view_module_version": "2.0.0",
       "_view_name": "StyleView",
       "background": null,
       "description_width": "",
       "font_size": null,
       "text_color": null
      }
     },
     "494c6ad8b82644bfbf55f39ab80fb558": {
      "model_module": "@jupyter-widgets/controls",
      "model_module_version": "2.0.0",
      "model_name": "FloatProgressModel",
      "state": {
       "_dom_classes": [],
       "_model_module": "@jupyter-widgets/controls",
       "_model_module_version": "2.0.0",
       "_model_name": "FloatProgressModel",
       "_view_count": null,
       "_view_module": "@jupyter-widgets/controls",
       "_view_module_version": "2.0.0",
       "_view_name": "ProgressView",
       "bar_style": "success",
       "description": "",
       "description_allow_html": false,
       "layout": "IPY_MODEL_ce5e2f88e44f4339b920cbb1a8cfc12e",
       "max": 4.0,
       "min": 0.0,
       "orientation": "horizontal",
       "style": "IPY_MODEL_41075940f6554975abf10fc2f11af832",
       "tabbable": null,
       "tooltip": null,
       "value": 4.0
      }
     },
     "7994321e77354d56bd9f141bd607228f": {
      "model_module": "@jupyter-widgets/base",
      "model_module_version": "2.0.0",
      "model_name": "LayoutModel",
      "state": {
       "_model_module": "@jupyter-widgets/base",
       "_model_module_version": "2.0.0",
       "_model_name": "LayoutModel",
       "_view_count": null,
       "_view_module": "@jupyter-widgets/base",
       "_view_module_version": "2.0.0",
       "_view_name": "LayoutView",
       "align_content": null,
       "align_items": null,
       "align_self": null,
       "border_bottom": null,
       "border_left": null,
       "border_right": null,
       "border_top": null,
       "bottom": null,
       "display": null,
       "flex": null,
       "flex_flow": null,
       "grid_area": null,
       "grid_auto_columns": null,
       "grid_auto_flow": null,
       "grid_auto_rows": null,
       "grid_column": null,
       "grid_gap": null,
       "grid_row": null,
       "grid_template_areas": null,
       "grid_template_columns": null,
       "grid_template_rows": null,
       "height": null,
       "justify_content": null,
       "justify_items": null,
       "left": null,
       "margin": null,
       "max_height": null,
       "max_width": null,
       "min_height": null,
       "min_width": null,
       "object_fit": null,
       "object_position": null,
       "order": null,
       "overflow": null,
       "padding": null,
       "right": null,
       "top": null,
       "visibility": null,
       "width": null
      }
     },
     "8c8d05cf42fb4acc8aacda5b7e237793": {
      "model_module": "@jupyter-widgets/base",
      "model_module_version": "2.0.0",
      "model_name": "LayoutModel",
      "state": {
       "_model_module": "@jupyter-widgets/base",
       "_model_module_version": "2.0.0",
       "_model_name": "LayoutModel",
       "_view_count": null,
       "_view_module": "@jupyter-widgets/base",
       "_view_module_version": "2.0.0",
       "_view_name": "LayoutView",
       "align_content": null,
       "align_items": null,
       "align_self": null,
       "border_bottom": null,
       "border_left": null,
       "border_right": null,
       "border_top": null,
       "bottom": null,
       "display": null,
       "flex": null,
       "flex_flow": null,
       "grid_area": null,
       "grid_auto_columns": null,
       "grid_auto_flow": null,
       "grid_auto_rows": null,
       "grid_column": null,
       "grid_gap": null,
       "grid_row": null,
       "grid_template_areas": null,
       "grid_template_columns": null,
       "grid_template_rows": null,
       "height": null,
       "justify_content": null,
       "justify_items": null,
       "left": null,
       "margin": null,
       "max_height": null,
       "max_width": null,
       "min_height": null,
       "min_width": null,
       "object_fit": null,
       "object_position": null,
       "order": null,
       "overflow": null,
       "padding": null,
       "right": null,
       "top": null,
       "visibility": null,
       "width": null
      }
     },
     "b478bcd3d67444a4960f07cda507946a": {
      "model_module": "@jupyter-widgets/controls",
      "model_module_version": "2.0.0",
      "model_name": "HBoxModel",
      "state": {
       "_dom_classes": [],
       "_model_module": "@jupyter-widgets/controls",
       "_model_module_version": "2.0.0",
       "_model_name": "HBoxModel",
       "_view_count": null,
       "_view_module": "@jupyter-widgets/controls",
       "_view_module_version": "2.0.0",
       "_view_name": "HBoxView",
       "box_style": "",
       "children": [
        "IPY_MODEL_11a4bfffaac74bf6a452db8e3ab1703d",
        "IPY_MODEL_494c6ad8b82644bfbf55f39ab80fb558",
        "IPY_MODEL_3b6a8857d7f642aea606fbad6ddb5e53"
       ],
       "layout": "IPY_MODEL_d830a4c0672542fba6e8b5cff652ddcd",
       "tabbable": null,
       "tooltip": null
      }
     },
     "ce5e2f88e44f4339b920cbb1a8cfc12e": {
      "model_module": "@jupyter-widgets/base",
      "model_module_version": "2.0.0",
      "model_name": "LayoutModel",
      "state": {
       "_model_module": "@jupyter-widgets/base",
       "_model_module_version": "2.0.0",
       "_model_name": "LayoutModel",
       "_view_count": null,
       "_view_module": "@jupyter-widgets/base",
       "_view_module_version": "2.0.0",
       "_view_name": "LayoutView",
       "align_content": null,
       "align_items": null,
       "align_self": null,
       "border_bottom": null,
       "border_left": null,
       "border_right": null,
       "border_top": null,
       "bottom": null,
       "display": null,
       "flex": null,
       "flex_flow": null,
       "grid_area": null,
       "grid_auto_columns": null,
       "grid_auto_flow": null,
       "grid_auto_rows": null,
       "grid_column": null,
       "grid_gap": null,
       "grid_row": null,
       "grid_template_areas": null,
       "grid_template_columns": null,
       "grid_template_rows": null,
       "height": null,
       "justify_content": null,
       "justify_items": null,
       "left": null,
       "margin": null,
       "max_height": null,
       "max_width": null,
       "min_height": null,
       "min_width": null,
       "object_fit": null,
       "object_position": null,
       "order": null,
       "overflow": null,
       "padding": null,
       "right": null,
       "top": null,
       "visibility": null,
       "width": null
      }
     },
     "d830a4c0672542fba6e8b5cff652ddcd": {
      "model_module": "@jupyter-widgets/base",
      "model_module_version": "2.0.0",
      "model_name": "LayoutModel",
      "state": {
       "_model_module": "@jupyter-widgets/base",
       "_model_module_version": "2.0.0",
       "_model_name": "LayoutModel",
       "_view_count": null,
       "_view_module": "@jupyter-widgets/base",
       "_view_module_version": "2.0.0",
       "_view_name": "LayoutView",
       "align_content": null,
       "align_items": null,
       "align_self": null,
       "border_bottom": null,
       "border_left": null,
       "border_right": null,
       "border_top": null,
       "bottom": null,
       "display": null,
       "flex": null,
       "flex_flow": null,
       "grid_area": null,
       "grid_auto_columns": null,
       "grid_auto_flow": null,
       "grid_auto_rows": null,
       "grid_column": null,
       "grid_gap": null,
       "grid_row": null,
       "grid_template_areas": null,
       "grid_template_columns": null,
       "grid_template_rows": null,
       "height": null,
       "justify_content": null,
       "justify_items": null,
       "left": null,
       "margin": null,
       "max_height": null,
       "max_width": null,
       "min_height": null,
       "min_width": null,
       "object_fit": null,
       "object_position": null,
       "order": null,
       "overflow": null,
       "padding": null,
       "right": null,
       "top": null,
       "visibility": null,
       "width": null
      }
     }
    },
    "version_major": 2,
    "version_minor": 0
   }
  }
 },
 "nbformat": 4,
 "nbformat_minor": 5
}