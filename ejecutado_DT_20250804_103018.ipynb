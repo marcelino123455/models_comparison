{
 "cells": [
  {
   "cell_type": "code",
   "execution_count": 1,
   "id": "1a940c9e",
   "metadata": {
    "execution": {
     "iopub.execute_input": "2025-08-04T15:30:20.729290Z",
     "iopub.status.busy": "2025-08-04T15:30:20.729126Z",
     "iopub.status.idle": "2025-08-04T15:30:23.494846Z",
     "shell.execute_reply": "2025-08-04T15:30:23.493929Z"
    },
    "papermill": {
     "duration": 2.771576,
     "end_time": "2025-08-04T15:30:23.496039",
     "exception": false,
     "start_time": "2025-08-04T15:30:20.724463",
     "status": "completed"
    },
    "tags": []
   },
   "outputs": [],
   "source": [
    "import numpy as np\n",
    "import pandas as pd\n",
    "import matplotlib.pyplot as plt\n",
    "import seaborn as sns\n",
    "from sklearn.utils import resample\n",
    "from sklearn.datasets import load_iris, load_breast_cancer, load_wine\n",
    "from sklearn.model_selection import train_test_split, cross_val_score\n",
    "from sklearn.metrics import accuracy_score, confusion_matrix, classification_report, f1_score,precision_score, recall_score\n",
    "import nltk\n",
    "import pickle\n",
    "from sklearn.tree import DecisionTreeClassifier\n",
    "from sklearn.metrics import confusion_matrix, accuracy_score\n",
    "from sklearn.model_selection import train_test_split\n",
    "\n",
    "from sklearn.preprocessing import StandardScaler\n",
    "# Establecer semilla para reproducibilidad\n",
    "np.random.seed(42)"
   ]
  },
  {
   "cell_type": "code",
   "execution_count": 2,
   "id": "609e8eed",
   "metadata": {
    "execution": {
     "iopub.execute_input": "2025-08-04T15:30:23.505402Z",
     "iopub.status.busy": "2025-08-04T15:30:23.504618Z",
     "iopub.status.idle": "2025-08-04T15:30:23.516771Z",
     "shell.execute_reply": "2025-08-04T15:30:23.515793Z"
    },
    "papermill": {
     "duration": 0.017591,
     "end_time": "2025-08-04T15:30:23.517820",
     "exception": false,
     "start_time": "2025-08-04T15:30:23.500229",
     "status": "completed"
    },
    "tags": []
   },
   "outputs": [],
   "source": [
    "\n",
    "def gini_impurity(y):\n",
    "    \"\"\"Calcular la impureza Gini de un array de etiquetas\"\"\"\n",
    "    if len(y) == 0:\n",
    "        return 0\n",
    "    # Proporción de cada clase\n",
    "    clases = np.unique(y)\n",
    "    probabilities = [np.mean(y == c) for c in clases]\n",
    "    gini = 1 - sum(p ** 2 for p in probabilities)\n",
    "    return gini\n",
    "\n",
    "def entropy(y):\n",
    "    \"\"\"Calcular la entropía de un array de etiquetas\"\"\"\n",
    "    if len(y) == 0:\n",
    "        return 0\n",
    "    # Proporción de cada clase\n",
    "    clases = np.unique(y)\n",
    "    probabilities = [np.mean(y == c) for c in clases]\n",
    "    # Usamos log2 para calcular la entropía\n",
    "    entropy_value = -sum(p * np.log2(p) for p in probabilities if p > 0)\n",
    "    return entropy_value\n",
    "\n",
    "def information_gain(y, left_indices, right_indices, impurity_function=gini_impurity):\n",
    "    \"\"\"Calcular la ganancia de información de una división utilizando impureza Gini o entropía\"\"\"\n",
    "    parent_impurity = impurity_function(y)\n",
    "\n",
    "    # Subconjuntos izquierdo y derecho\n",
    "    left_impurity = impurity_function(y[left_indices])\n",
    "    right_impurity = impurity_function(y[right_indices])\n",
    "\n",
    "    # Peso de los subconjuntos izquierdo y derecho\n",
    "    left_weight = len(left_indices) / len(y)\n",
    "    right_weight = len(right_indices) / len(y)\n",
    "\n",
    "    # Impureza ponderada de los hijos\n",
    "    weighted_impurity = left_weight * left_impurity + right_weight * right_impurity\n",
    "\n",
    "    # Ganancia de información\n",
    "    info_gain = parent_impurity - weighted_impurity\n",
    "    return info_gain\n",
    "\n",
    "class DecisionTree:\n",
    "    def __init__(self, max_depth=None, impurity_function=gini_impurity, min_samples_split=2,\n",
    "                 min_samples_leaf=1):\n",
    "        self.max_depth = max_depth\n",
    "        self.impurity_function = impurity_function\n",
    "        self.tree = None\n",
    "\n",
    "        self.min_samples_split = min_samples_split\n",
    "        self.min_samples_leaf = min_samples_leaf\n",
    "    def fit(self, X, y):\n",
    "        \"\"\"Ajustar el árbol de decisión a los datos\"\"\"\n",
    "        self.tree = self._build_tree(X, y, depth=0)\n",
    "\n",
    "    def _build_tree(self, X, y, depth):\n",
    "        n_samples, n_features = X.shape\n",
    "        n_labels = len(np.unique(y))\n",
    "\n",
    "        if (n_samples < self.min_samples_split\n",
    "            or len(np.unique(y)) == 1\n",
    "            or (self.max_depth and depth == self.max_depth)):\n",
    "            return np.bincount(y).argmax()\n",
    "        # Si ya es un nodo hoja o alcanzamos la profundidad máxima ya no dividimos\n",
    "        if n_labels == 1 or (self.max_depth and depth == self.max_depth):\n",
    "            return np.unique(y)[0]\n",
    "\n",
    "        # Buscamos el atributo que gane más información\n",
    "        best_gain = -1 # Valor de inicio\n",
    "        best_split = None\n",
    "        best_left_indices = None\n",
    "        best_right_indices = None\n",
    "\n",
    "        # Por cada caracterísitca o dimensión\n",
    "        for feature in range(n_features):\n",
    "            # Limitar cantidad de thresholds por feature usando percentiles\n",
    "            # Esto para limitar la cantidad de separaciones\n",
    "            valores = np.percentile(X[:,feature], np.linspace(5, 95, 19))\n",
    "            valores = np.unique(valores)\n",
    "            # Sacamos las ramas\n",
    "            for i in range(1, len(valores)):\n",
    "                # Para que funcione con datos continuos sin la necesidad de discretizar\n",
    "                threshold = (valores[i - 1] + valores[i]) / 2\n",
    "                left_indices = np.where(X[:, feature] <= threshold)[0]\n",
    "                right_indices = np.where(X[:, feature] > threshold)[0]\n",
    "                # Descarta divisiones que dejen muy pocas muestras en una rama\n",
    "                if (len(left_indices) < self.min_samples_leaf\n",
    "                    or len(right_indices) < self.min_samples_leaf):\n",
    "                    continue\n",
    "\n",
    "                if len(left_indices) == 0 or len(right_indices) == 0:\n",
    "                    continue\n",
    "\n",
    "                gain = information_gain(y, left_indices, right_indices, self.impurity_function)\n",
    "\n",
    "                if gain > best_gain:\n",
    "                    best_gain = gain\n",
    "                    best_split = {\n",
    "                        \"feature\": feature,\n",
    "                        \"value\": threshold\n",
    "                    }\n",
    "                    best_left_indices = left_indices\n",
    "                    best_right_indices = right_indices\n",
    "             # Si no se encontró una mejor división, retornamos la clase mayoritaria\n",
    "        if best_gain == -1:\n",
    "            return np.bincount(y).argmax()\n",
    "\n",
    "        # Construir recursivamente las ramas\n",
    "        left_subtree = self._build_tree(X[best_left_indices], y[best_left_indices], depth + 1)\n",
    "        right_subtree = self._build_tree(X[best_right_indices], y[best_right_indices], depth + 1)\n",
    "        return {\n",
    "        \"feature\": best_split[\"feature\"],\n",
    "        \"value\": best_split[\"value\"],\n",
    "        \"left\": left_subtree,\n",
    "        \"right\": right_subtree\n",
    "        }\n",
    "\n",
    "    def predict_one(self, x, node=None):\n",
    "        \"\"\"Predecir una muestra individual\"\"\"\n",
    "        if node is None:\n",
    "            node = self.tree\n",
    "\n",
    "        if not isinstance(node, dict):\n",
    "            return node\n",
    "\n",
    "        feature = node[\"feature\"]\n",
    "        value = node[\"value\"]\n",
    "\n",
    "        if x[feature] <= value:\n",
    "            return self.predict_one(x, node[\"left\"])\n",
    "        else:\n",
    "            return self.predict_one(x, node[\"right\"])\n",
    "    def get_params(self, deep=True):\n",
    "        \"\"\"Obtener los parámetros del modelo\"\"\"\n",
    "        return {\"max_depth\": self.max_depth, \"impurity_function\": self.impurity_function}\n",
    "\n",
    "    def set_params(self, **params):\n",
    "        \"\"\"Configurar los parámetros del modelo\"\"\"\n",
    "        for param, value in params.items():\n",
    "            setattr(self, param, value)\n",
    "        return self\n",
    "\n",
    "    def predict(self, X):\n",
    "        \"\"\"Predecir múltiples muestras\"\"\"\n",
    "        return np.array([self.predict_one(x) for x in X])\n",
    "\n",
    "\n"
   ]
  },
  {
   "cell_type": "code",
   "execution_count": 3,
   "id": "0effb255",
   "metadata": {
    "execution": {
     "iopub.execute_input": "2025-08-04T15:30:23.525704Z",
     "iopub.status.busy": "2025-08-04T15:30:23.525066Z",
     "iopub.status.idle": "2025-08-04T15:30:25.846351Z",
     "shell.execute_reply": "2025-08-04T15:30:25.845788Z"
    },
    "papermill": {
     "duration": 2.326247,
     "end_time": "2025-08-04T15:30:25.847314",
     "exception": false,
     "start_time": "2025-08-04T15:30:23.521067",
     "status": "completed"
    },
    "tags": []
   },
   "outputs": [
    {
     "name": "stdout",
     "output_type": "stream",
     "text": [
      "Index(['Artist(s)', 'song', 'text', 'Length', 'emotion', 'Genre', 'Album',\n",
      "       'Release Date', 'Key', 'Tempo', 'Loudness (db)', 'Time signature',\n",
      "       'Explicit', 'Popularity', 'Energy', 'Danceability', 'Positiveness',\n",
      "       'Speechiness', 'Liveness', 'Acousticness', 'Instrumentalness',\n",
      "       'Good for Party', 'Good for Work/Study',\n",
      "       'Good for Relaxation/Meditation', 'Good for Exercise',\n",
      "       'Good for Running', 'Good for Yoga/Stretching', 'Good for Driving',\n",
      "       'Good for Social Gatherings', 'Good for Morning Routine',\n",
      "       'Similar Artist 1', 'Similar Song 1', 'Similarity Score 1',\n",
      "       'Similar Artist 2', 'Similar Song 2', 'Similarity Score 2',\n",
      "       'Similar Artist 3', 'Similar Song 3', 'Similarity Score 3',\n",
      "       'song_normalized', 'artist_normalized'],\n",
      "      dtype='object')\n",
      "<bound method Series.unique of 0          -6.85db\n",
      "1          -5.75db\n",
      "2         -13.78db\n",
      "3         -10.54db\n",
      "4         -12.76db\n",
      "            ...   \n",
      "108133    -14.82db\n",
      "108134     -9.12db\n",
      "108135    -11.29db\n",
      "108136     -12.7db\n",
      "108137    -10.47db\n",
      "Name: Loudness (db), Length: 108138, dtype: object>\n"
     ]
    }
   ],
   "source": [
    "_TESTING = False\n",
    "\n",
    "if _TESTING:\n",
    "    _NROWS = 1000\n",
    "else:\n",
    "    _NROWS = None\n",
    "\n",
    "\n",
    "dataset_path = \"./data/spotify_dataset_sin_duplicados_4.csv\"\n",
    "df = pd.read_csv(dataset_path, nrows=_NROWS)\n",
    "print(df.columns)\n",
    "#print(df[\"Explicit\"].unique)\n",
    "#print(df[\"Danceability\"].unique)\n",
    "print(df[\"Loudness (db)\"].unique)\n"
   ]
  },
  {
   "cell_type": "code",
   "execution_count": 4,
   "id": "0b6888d0",
   "metadata": {
    "execution": {
     "iopub.execute_input": "2025-08-04T15:30:25.855236Z",
     "iopub.status.busy": "2025-08-04T15:30:25.854583Z",
     "iopub.status.idle": "2025-08-04T15:30:25.874270Z",
     "shell.execute_reply": "2025-08-04T15:30:25.873167Z"
    },
    "papermill": {
     "duration": 0.024226,
     "end_time": "2025-08-04T15:30:25.875177",
     "exception": false,
     "start_time": "2025-08-04T15:30:25.850951",
     "status": "completed"
    },
    "tags": []
   },
   "outputs": [
    {
     "name": "stdout",
     "output_type": "stream",
     "text": [
      "/home/marcelino.maita/nltk_data\n"
     ]
    },
    {
     "name": "stderr",
     "output_type": "stream",
     "text": [
      "[nltk_data] Error loading punkt: <urlopen error [Errno -2] Name or\n",
      "[nltk_data]     service not known>\n",
      "[nltk_data] Error loading punkt_tab: <urlopen error [Errno -2] Name or\n",
      "[nltk_data]     service not known>\n",
      "[nltk_data] Error loading stopwords: <urlopen error [Errno -2] Name or\n",
      "[nltk_data]     service not known>\n"
     ]
    },
    {
     "data": {
      "text/plain": [
       "False"
      ]
     },
     "execution_count": 4,
     "metadata": {},
     "output_type": "execute_result"
    }
   ],
   "source": [
    "import nltk\n",
    "# Comprueba ruta:\n",
    "print(nltk.data.path[0]) \n",
    "nltk.download('punkt')\n",
    "nltk.download('punkt_tab')\n",
    "nltk.download('stopwords')\n"
   ]
  },
  {
   "cell_type": "code",
   "execution_count": 5,
   "id": "ef477ea2",
   "metadata": {
    "execution": {
     "iopub.execute_input": "2025-08-04T15:30:25.882836Z",
     "iopub.status.busy": "2025-08-04T15:30:25.882181Z",
     "iopub.status.idle": "2025-08-04T15:35:22.807984Z",
     "shell.execute_reply": "2025-08-04T15:35:22.807285Z"
    },
    "papermill": {
     "duration": 296.930673,
     "end_time": "2025-08-04T15:35:22.809211",
     "exception": false,
     "start_time": "2025-08-04T15:30:25.878538",
     "status": "completed"
    },
    "tags": []
   },
   "outputs": [],
   "source": [
    "\n",
    "from text_preprocessing import TextPreprocessor, TFIDFVectorizer\n",
    "\n",
    "preprocessor = TextPreprocessor()\n",
    "# Juntar columnas\n",
    "# columns_to_use = ['text', 'song', 'Artist(s)', 'Album', 'Similar Artist 1', 'Genre']\n",
    "columns_to_use = ['text', 'song', 'Artist(s)', 'Album', 'Similar Artist 1', 'Genre']\n",
    "df['combined_text'] = df[columns_to_use].fillna('').agg(' '.join, axis=1)\n",
    "\n",
    "preprocessor = TextPreprocessor()\n",
    "df['text_processed'] = df['combined_text'].apply(preprocessor.preprocess)\n",
    "\n",
    "vectorizer = TFIDFVectorizer(max_features=1000)\n",
    "X = vectorizer.fit_transform(df['text_processed'].tolist())\n",
    "\n"
   ]
  },
  {
   "cell_type": "code",
   "execution_count": 6,
   "id": "55076c74",
   "metadata": {
    "execution": {
     "iopub.execute_input": "2025-08-04T15:35:22.818021Z",
     "iopub.status.busy": "2025-08-04T15:35:22.817285Z",
     "iopub.status.idle": "2025-08-04T15:36:16.083834Z",
     "shell.execute_reply": "2025-08-04T15:36:16.083383Z"
    },
    "papermill": {
     "duration": 53.271387,
     "end_time": "2025-08-04T15:36:16.084953",
     "exception": false,
     "start_time": "2025-08-04T15:35:22.813566",
     "status": "completed"
    },
    "tags": []
   },
   "outputs": [],
   "source": [
    "pd.DataFrame(X).to_csv(\"./data/X_tfidf_las_df.csv\", index=False)"
   ]
  },
  {
   "cell_type": "code",
   "execution_count": 7,
   "id": "126ba40c",
   "metadata": {
    "execution": {
     "iopub.execute_input": "2025-08-04T15:36:16.092722Z",
     "iopub.status.busy": "2025-08-04T15:36:16.092052Z",
     "iopub.status.idle": "2025-08-04T15:36:25.883955Z",
     "shell.execute_reply": "2025-08-04T15:36:25.883509Z"
    },
    "papermill": {
     "duration": 9.796909,
     "end_time": "2025-08-04T15:36:25.885091",
     "exception": false,
     "start_time": "2025-08-04T15:36:16.088182",
     "status": "completed"
    },
    "tags": []
   },
   "outputs": [],
   "source": [
    "df['Loudness (db)'] = df['Loudness (db)'].astype(str).str.replace('db', '', regex=False)\n",
    "df['Loudness (db)'] = pd.to_numeric(df['Loudness (db)'], errors='coerce')\n",
    "# Asegurarse que tenga data\n",
    "df[['Danceability', 'Loudness (db)']] = df[['Danceability', 'Loudness (db)']].fillna(0)\n",
    "scaler = StandardScaler()\n",
    "X_num = scaler.fit_transform(df[['Danceability', 'Loudness (db)']])\n",
    "\n",
    "X = pd.read_csv(\"./data/X_tfidf_las_df.csv\").values\n",
    "X = np.concatenate([X, X_num], axis=1)\n",
    "\n"
   ]
  },
  {
   "cell_type": "code",
   "execution_count": 8,
   "id": "9a537437",
   "metadata": {
    "execution": {
     "iopub.execute_input": "2025-08-04T15:36:25.896024Z",
     "iopub.status.busy": "2025-08-04T15:36:25.895172Z",
     "iopub.status.idle": "2025-08-04T15:36:25.899699Z",
     "shell.execute_reply": "2025-08-04T15:36:25.899347Z"
    },
    "papermill": {
     "duration": 0.010002,
     "end_time": "2025-08-04T15:36:25.900597",
     "exception": false,
     "start_time": "2025-08-04T15:36:25.890595",
     "status": "completed"
    },
    "tags": []
   },
   "outputs": [
    {
     "name": "stdout",
     "output_type": "stream",
     "text": [
      "(108138, 1002)\n"
     ]
    }
   ],
   "source": [
    "print(X.shape)"
   ]
  },
  {
   "cell_type": "code",
   "execution_count": 9,
   "id": "1a8251dd",
   "metadata": {
    "execution": {
     "iopub.execute_input": "2025-08-04T15:36:25.907575Z",
     "iopub.status.busy": "2025-08-04T15:36:25.906925Z",
     "iopub.status.idle": "2025-08-04T15:38:56.018409Z",
     "shell.execute_reply": "2025-08-04T15:38:56.017932Z"
    },
    "papermill": {
     "duration": 150.115658,
     "end_time": "2025-08-04T15:38:56.019373",
     "exception": false,
     "start_time": "2025-08-04T15:36:25.903715",
     "status": "completed"
    },
    "tags": []
   },
   "outputs": [
    {
     "name": "stdout",
     "output_type": "stream",
     "text": [
      "Accuracy: 0.8922\n",
      "Precision: 0.7990\n",
      "F1 Score: 0.7678\n",
      "[[15440   970]\n",
      " [ 1362  3856]]\n"
     ]
    },
    {
     "data": {
      "image/png": "[encoded data removed]",
      "text/plain": [
       "<Figure size 600x500 with 2 Axes>"
      ]
     },
     "metadata": {},
     "output_type": "display_data"
    }
   ],
   "source": [
    "df['Explicit_binary'] = df['Explicit'].map({'Yes': 1, 'No': 0})\n",
    "y = df['Explicit_binary'].values\n",
    "\n",
    "depths = [10]\n",
    "\n",
    "X_train, X_test, y_train, y_test = train_test_split(X, y, test_size=0.2, random_state=42)\n",
    "\n",
    "\n",
    "for depth in depths:\n",
    "    tree = DecisionTree(max_depth=depth)\n",
    "    tree.fit(X_train, y_train)\n",
    "    y_pred = tree.predict(X_test)\n",
    "    \n",
    "    accuracy = accuracy_score(y_test, y_pred)\n",
    "    precision = precision_score(y_test, y_pred)\n",
    "    f1 = f1_score(y_test, y_pred)\n",
    "    cm = confusion_matrix(y_test, y_pred)\n",
    "\n",
    "    # Mostrar las métricas\n",
    "    print(f\"Accuracy: {accuracy:.4f}\")\n",
    "    print(f\"Precision: {precision:.4f}\")\n",
    "    print(f\"F1 Score: {f1:.4f}\")\n",
    "    print(cm)\n",
    "    plt.figure(figsize=(6, 5))\n",
    "    sns.heatmap(cm, annot=True, fmt='d', cmap='Blues',\n",
    "                xticklabels=['Not Explicit', 'Explicit'],\n",
    "                yticklabels=['Not Explicit', 'Explicit'])\n",
    "\n",
    "    # Etiquetas personalizadas\n",
    "    plt.xlabel('Predicted Label')\n",
    "    plt.ylabel('True Label')\n",
    "    plt.title(f'DT C type Confusion Matrix (Depth={depth}) - Explicit Content Detection')\n",
    "\n",
    "    plt.tight_layout()\n",
    "\n",
    "    # Guardar imagen\n",
    "    # plt.savefig( str(depth) + \"confusion_matrix_C_type.png\")\n",
    "    # plt.close()\n",
    "\n",
    "    # with open(f\"decision_tree_model_depth_{depth}.pkl\", \"wb\") as f:\n",
    "    #     pickle.dump(tree, f)\n",
    "\n",
    "\n",
    "    "
   ]
  },
  {
   "cell_type": "code",
   "execution_count": null,
   "id": "93ff1c95",
   "metadata": {
    "papermill": {
     "duration": 0.003704,
     "end_time": "2025-08-04T15:38:56.027200",
     "exception": false,
     "start_time": "2025-08-04T15:38:56.023496",
     "status": "completed"
    },
    "tags": []
   },
   "outputs": [],
   "source": []
  },
  {
   "cell_type": "code",
   "execution_count": null,
   "id": "a3809917",
   "metadata": {
    "papermill": {
     "duration": 0.003637,
     "end_time": "2025-08-04T15:38:56.034538",
     "exception": false,
     "start_time": "2025-08-04T15:38:56.030901",
     "status": "completed"
    },
    "tags": []
   },
   "outputs": [],
   "source": []
  }
 ],
 "metadata": {
  "kernelspec": {
   "display_name": ".venv",
   "language": "python",
   "name": "python3"
  },
  "language_info": {
   "codemirror_mode": {
    "name": "ipython",
    "version": 3
   },
   "file_extension": ".py",
   "mimetype": "text/x-python",
   "name": "python",
   "nbconvert_exporter": "python",
   "pygments_lexer": "ipython3",
   "version": "3.13.2"
  },
  "papermill": {
   "default_parameters": {},
   "duration": 517.641995,
   "end_time": "2025-08-04T15:38:56.665533",
   "environment_variables": {},
   "exception": null,
   "input_path": "desicionTree.ipynb",
   "output_path": "ejecutado_DT_20250804_103018.ipynb",
   "parameters": {},
   "start_time": "2025-08-04T15:30:19.023538",
   "version": "2.6.0"
  }
 },
 "nbformat": 4,
 "nbformat_minor": 5
}