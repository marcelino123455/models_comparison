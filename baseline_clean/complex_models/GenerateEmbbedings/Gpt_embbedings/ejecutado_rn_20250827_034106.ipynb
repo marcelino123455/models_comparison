{
 "cells": [
  {
   "cell_type": "markdown",
   "id": "3b54ef94",
   "metadata": {
    "tags": [
     "papermill-error-cell-tag"
    ]
   },
   "source": [
    "<span style=\"color:red; font-family:Helvetica Neue, Helvetica, Arial, sans-serif; font-size:2em;\">An Exception was encountered at '<a href=\"#papermill-error-cell\">In [9]</a>'.</span>"
   ]
  },
  {
   "cell_type": "markdown",
   "id": "abd89201",
   "metadata": {
    "papermill": {
     "duration": 0.010137,
     "end_time": "2025-08-27T08:41:11.128258",
     "exception": false,
     "start_time": "2025-08-27T08:41:11.118121",
     "status": "completed"
    },
    "tags": []
   },
   "source": [
    "We are going to process the lyrics of a song using the batches Api to reduce the cost"
   ]
  },
  {
   "cell_type": "markdown",
   "id": "8ed34933",
   "metadata": {
    "papermill": {
     "duration": 0.006663,
     "end_time": "2025-08-27T08:41:11.143502",
     "exception": false,
     "start_time": "2025-08-27T08:41:11.136839",
     "status": "completed"
    },
    "tags": []
   },
   "source": [
    "## Creación del batch file"
   ]
  },
  {
   "cell_type": "markdown",
   "id": "a881b8e3",
   "metadata": {
    "papermill": {
     "duration": 0.004962,
     "end_time": "2025-08-27T08:41:11.153745",
     "exception": false,
     "start_time": "2025-08-27T08:41:11.148783",
     "status": "completed"
    },
    "tags": []
   },
   "source": [
    "Rate limits\n",
    "Batch API rate limits are separate from existing per-model rate limits. The Batch API has two new types of rate limits:\n",
    "\n",
    "Per-batch limits: A single batch may include up to 50,000 requests, and a batch input file can be up to 200 MB in size. Note that /v1/embeddings batches are also restricted to a maximum of 50,000 embedding inputs across all requests in the batch.\n",
    "Enqueued prompt tokens per model: Each model has a maximum number of enqueued prompt tokens allowed for batch processing. You can find these limits on the Platform Settings page."
   ]
  },
  {
   "cell_type": "markdown",
   "id": "b6f4c127",
   "metadata": {
    "papermill": {
     "duration": 0.005488,
     "end_time": "2025-08-27T08:41:11.164167",
     "exception": false,
     "start_time": "2025-08-27T08:41:11.158679",
     "status": "completed"
    },
    "tags": []
   },
   "source": [
    "## 1) Creación del archivo jsonl for batch API"
   ]
  },
  {
   "cell_type": "code",
   "execution_count": 1,
   "id": "d1b3f759",
   "metadata": {
    "execution": {
     "iopub.execute_input": "2025-08-27T08:41:11.175033Z",
     "iopub.status.busy": "2025-08-27T08:41:11.174630Z",
     "iopub.status.idle": "2025-08-27T08:41:11.179292Z",
     "shell.execute_reply": "2025-08-27T08:41:11.178560Z"
    },
    "papermill": {
     "duration": 0.011795,
     "end_time": "2025-08-27T08:41:11.180800",
     "exception": false,
     "start_time": "2025-08-27T08:41:11.169005",
     "status": "completed"
    },
    "tags": []
   },
   "outputs": [],
   "source": [
    "\n",
    "# Model\tCost\tBatch cost\n",
    "# text-embedding-3-small\t$0.01\t$0.0001\n",
    "# text-embedding-3-large\t$0.065\t$0.00013\n",
    "# text-embedding-ada-002\t$0.05\t$0.0004\n",
    "# https://platform.openai.com/docs/pricing"
   ]
  },
  {
   "cell_type": "code",
   "execution_count": 2,
   "id": "641e894f",
   "metadata": {
    "execution": {
     "iopub.execute_input": "2025-08-27T08:41:11.191021Z",
     "iopub.status.busy": "2025-08-27T08:41:11.190755Z",
     "iopub.status.idle": "2025-08-27T08:41:12.330040Z",
     "shell.execute_reply": "2025-08-27T08:41:12.328744Z"
    },
    "papermill": {
     "duration": 1.14629,
     "end_time": "2025-08-27T08:41:12.332388",
     "exception": false,
     "start_time": "2025-08-27T08:41:11.186098",
     "status": "completed"
    },
    "tags": []
   },
   "outputs": [],
   "source": [
    "import pandas as pd \n",
    "import numpy as np\n",
    "import os\n",
    "import json \n",
    "import tiktoken\n",
    "import json\n"
   ]
  },
  {
   "cell_type": "code",
   "execution_count": 3,
   "id": "989e39d3",
   "metadata": {
    "execution": {
     "iopub.execute_input": "2025-08-27T08:41:12.347213Z",
     "iopub.status.busy": "2025-08-27T08:41:12.346716Z",
     "iopub.status.idle": "2025-08-27T08:41:15.856791Z",
     "shell.execute_reply": "2025-08-27T08:41:15.856151Z"
    },
    "papermill": {
     "duration": 3.518457,
     "end_time": "2025-08-27T08:41:15.858287",
     "exception": false,
     "start_time": "2025-08-27T08:41:12.339830",
     "status": "completed"
    },
    "tags": []
   },
   "outputs": [],
   "source": [
    "\n",
    "url = \"/v1/embeddings\"\n",
    "path_data = \"../../../../data\"\n",
    "path_df =os.path.join(path_data, \"spotify_dataset_sin_duplicados_4.csv\")\n",
    "df = pd.read_csv(path_df)\n"
   ]
  },
  {
   "cell_type": "code",
   "execution_count": 4,
   "id": "704faaf2",
   "metadata": {
    "execution": {
     "iopub.execute_input": "2025-08-27T08:41:15.870555Z",
     "iopub.status.busy": "2025-08-27T08:41:15.870255Z",
     "iopub.status.idle": "2025-08-27T08:41:15.894482Z",
     "shell.execute_reply": "2025-08-27T08:41:15.893756Z"
    },
    "papermill": {
     "duration": 0.031494,
     "end_time": "2025-08-27T08:41:15.895648",
     "exception": false,
     "start_time": "2025-08-27T08:41:15.864154",
     "status": "completed"
    },
    "tags": []
   },
   "outputs": [],
   "source": [
    "import time\n",
    "# Function to count the number of tokens\n",
    "def num_tokens_from_string(string: str, encoding_name: str = \"cl100k_base\") -> int:\n",
    "    \"\"\"Returns the number of tokens in a text string.\"\"\"\n",
    "    # print(\"Comezando en la función\")\n",
    "    encoding = tiktoken.get_encoding(encoding_name)\n",
    "    # print(\"Encoding obtenido\")\n",
    "    num_tokens = len(encoding.encode(string))\n",
    "    # print(\"Conteo listo\")\n",
    "    return num_tokens\n",
    "\n",
    "\n",
    "# Function that see how much the does the file weigh\n",
    "def get_file_size(filepath):\n",
    "    size_bytes = os.path.getsize(filepath)\n",
    "    size_mb = size_bytes / (1024 * 1024)\n",
    "    print(f\"File size: {size_bytes} bytes ({size_mb:.2f} MB)\")\n",
    "    return size_mb\n",
    "\n",
    "\n",
    "# In ram\n",
    "def get_jsons_size(json_list):\n",
    "    total_bytes = 0\n",
    "    for j in json_list:\n",
    "        line = json.dumps(j, ensure_ascii=False) + \"\\n\"  \n",
    "        total_bytes += len(line.encode(\"utf-8\"))         \n",
    "    \n",
    "    return total_bytes / (1024 * 1024)    \n",
    "# 0) Create a single json file \n",
    "\n",
    "def crear_single_json(text, idx, model=\"text-embedding-3-small\"):\n",
    "    request = {\n",
    "        \"custom_id\": f\"request-{idx}\",\n",
    "        \"method\": \"POST\",\n",
    "        \"url\": \"/v1/embeddings\",\n",
    "        \"body\": {\n",
    "            \"model\": model,\n",
    "            \"input\": text\n",
    "        }\n",
    "    }\n",
    "    return request  \n",
    "# Function that take a start and a end to create the jsonl file \n",
    "#1) create bath file\n",
    "def guardar_jsons(json_list, start, end, output_dir=\"./\"):\n",
    "    # Nombre de salida con el rango\n",
    "    filename = f\"{output_dir}/embeddings_{start}_{end}.jsonl\"\n",
    "    \n",
    "    with open(filename, \"w\", encoding=\"utf-8\") as f:\n",
    "        for obj in json_list:\n",
    "            f.write(json.dumps(obj, ensure_ascii=False) + \"\\n\")\n",
    "    \n",
    "    print(f\"Archivo guardado: {filename} con {len(json_list)} requests\")\n",
    "    return filename\n",
    "\n",
    "#2) upload\n",
    "def upload_batch_file_to_openai(jsonl_path, api_key=None):\n",
    "    print(\"Subiendo el archivo de la ruta:\", jsonl_path)\n",
    "    # Validar ruta\n",
    "    if not os.path.exists(jsonl_path):\n",
    "        raise FileNotFoundError(f\"El archivo no existe: {jsonl_path}\")\n",
    "    if not os.path.isfile(jsonl_path):\n",
    "        raise ValueError(f\"La ruta no es un archivo válido: {jsonl_path}\")\n",
    "\n",
    "    # Cliente\n",
    "    if api_key:\n",
    "        client = OpenAI(api_key=api_key)\n",
    "    else:\n",
    "        client = OpenAI()\n",
    "\n",
    "    # Subir archivo\n",
    "    with open(jsonl_path, \"rb\") as f:\n",
    "        batch_input_file = client.files.create(\n",
    "            file=f,\n",
    "            purpose=\"batch\"\n",
    "        )\n",
    "    \n",
    "    return batch_input_file\n",
    "#3 Create the batch  \n",
    "def create_openai_batch(batch_input_file, endpoint=\"/v1/embeddings\", completion_window=\"24h\", metadata=None, api_key=None):\n",
    "    from openai import OpenAI\n",
    "\n",
    "    if api_key:\n",
    "        client = OpenAI(api_key=api_key)\n",
    "    else:\n",
    "        client = OpenAI()\n",
    "\n",
    "    batch_input_file_id = batch_input_file.id\n",
    "    response = client.batches.create(\n",
    "        input_file_id=batch_input_file_id,\n",
    "        endpoint=endpoint,\n",
    "        completion_window=completion_window,\n",
    "        metadata=metadata or {\"description\": \"nightly eval job\"}\n",
    "    )\n",
    "    # print(response)\n",
    "    return response\n",
    "\n",
    "\n",
    "#4 Check the satus \n",
    "def check_openai_batch(batch_id, api_key=None):\n",
    "    from openai import OpenAI\n",
    "\n",
    "    if api_key:\n",
    "        client = OpenAI(api_key=api_key)\n",
    "    else:\n",
    "        client = OpenAI()\n",
    "\n",
    "    batch = client.batches.retrieve(batch_id)\n",
    "    # print(batch)\n",
    "    return batch\n",
    "\n",
    "\n",
    "#5 Retreive or doload the results\n",
    "def download_results(batch_id, api_key=None):\n",
    "    client = OpenAI(api_key=api_key)\n",
    "    file_response = client.files.content(batch_id)\n",
    "    print(file_response.text)\n",
    "    return file_response.text\n",
    "\n",
    "\n",
    "# 6 save the results\n",
    "def saveResult(file_response, start, end, output_path=\"../../../../data/gpt_responses\"):\n",
    "    os.makedirs(output_path, exist_ok=True)\n",
    "    with open(f\"{output_path}/{start}_{end}.jsonl\", \"w\", encoding=\"utf-8\") as f:\n",
    "        f.write(file_response)\n",
    "    \n",
    "    print(f\"Resultados guardados en: {output_path}\")\n",
    "\n",
    "\n",
    "def save_embeddings_only(file_response_text,  start=0, end=0, output_path=\"../../../../data/gpt_responses\"):\n",
    "    os.makedirs(output_path, exist_ok=True)\n",
    "    output_file = f\"{output_path}/{start}_{end}_embeddings_only.jsonl\"\n",
    "\n",
    "    with open(output_file, \"w\", encoding=\"utf-8\") as f:\n",
    "        for line in file_response_text.splitlines():\n",
    "            if not line.strip():\n",
    "                continue\n",
    "            try:\n",
    "                j = json.loads(line)\n",
    "                custom_id = j[\"custom_id\"]\n",
    "                embedding = j[\"response\"][\"body\"][\"data\"][0][\"embedding\"]\n",
    "                # Guardar como JSON en una sola línea\n",
    "                f.write(json.dumps({\"custom_id\": custom_id, \"embedding\": embedding}, ensure_ascii=False) + \"\\n\")\n",
    "            except Exception as e:\n",
    "                print(f\"Error procesando línea: {e}\")\n",
    "\n",
    "    print(f\"Embeddings guardados solo con custom_id en: {output_file}\")\n",
    "    return output_file\n",
    "\n",
    "def load_embeddings_and_check_dim(file_path):\n",
    "    embeddings = []\n",
    "    with open(file_path, \"r\", encoding=\"utf-8\") as f:\n",
    "        for line in f:\n",
    "            if not line.strip():\n",
    "                continue\n",
    "            j = json.loads(line)\n",
    "            embeddings.append(j[\"embedding\"])\n",
    "    \n",
    "    if embeddings:\n",
    "        print(f\"Número de embeddings: {len(embeddings)}\")\n",
    "        print(f\"Dimensión del primer embedding: {len(embeddings[0])}\")\n",
    "    else:\n",
    "        print(\"No se encontraron embeddings en el archivo.\")\n",
    "\n",
    "    return embeddings\n",
    "# Ejemplo de uso\n",
    "texts = [\n",
    "    \"El sol brilla sobre las montañas.\",\n",
    "    \"La inteligencia artificial está transformando el mundo.\",\n",
    "    \"Los datos son el nuevo petróleo.\"\n",
    "]\n",
    "\n",
    "def save_batch_metadata(start, end, batch_file_id, batch_id, output_dir=\"../../../../data/gpt_to_check\"):\n",
    "    os.makedirs(output_dir, exist_ok=True)\n",
    "    metadata = {\n",
    "        \"start\": start,\n",
    "        \"end\": end,\n",
    "        \"batch_file_id\": batch_file_id,\n",
    "        \"batch_id\": batch_id\n",
    "    }\n",
    "\n",
    "    # Nombre del archivo de metadatos\n",
    "    filename = f\"{output_dir}/batch_metadata_{start}_{end}.json\"\n",
    "    \n",
    "    # Guardar en disco\n",
    "    try:\n",
    "        with open(filename, \"w\", encoding=\"utf-8\") as f:\n",
    "            json.dump(metadata, f, indent=4)\n",
    "        print(f\"Metadatos del batch guardados en {filename}\")\n",
    "    except Exception as e:\n",
    "        print(f\"Error guardando metadatos del batch: {e}\")\n",
    "\n",
    "\n",
    "\n",
    "import re\n",
    "# Function that clean text\n",
    "\n",
    "def limpiar_letras(texto: str) -> str:\n",
    "    \"\"\"\n",
    "    Elimina anotaciones como [Intro ...], [Chorus ...], [Verse 1: ...], \n",
    "    [Part 2 ...], [Hook ...], [Interlude ...], [Skit ...], [Produced ...], \n",
    "    [Track 1 ...], [Refrain ...], [Pre-Chorus ...], [Company ...], \n",
    "    [Backing vocals ...], [Sample ...], [Segue from ...], [Interview ...], \n",
    "    [2Pac ...], etc.\n",
    "    \"\"\"\n",
    "    patron = r\"\"\"\n",
    "        \\[                                   # abre corchete\n",
    "        (?:                                  # grupo de opciones\n",
    "            Intro\\s*\\d*\n",
    "          | Chorus\\s*\\d*\n",
    "          | Verse\\s*\\d*\n",
    "          | Vers\\s*\\d*\n",
    "          | Hook\\s*\\d*\n",
    "          | Part\\s*\\d*\n",
    "          | Interlude\\s*\\d*\n",
    "          | Skit\\s*\\d*\n",
    "          | Produced\\s*\\d*\n",
    "          | Track\\s*\\d*\n",
    "          | Refrain\\s*\\d*\n",
    "          | Pre-?Chorus\\s*\\d*\n",
    "          | Company\\s*\\d*\n",
    "          | Backing\\s+vocals\n",
    "          | Sample\\s*\\d*\n",
    "          | Segue\\s+from\n",
    "          | Instrumental\n",
    "          | Pre-Hook\n",
    "          | Pre Hook\n",
    "          | Lyrical\n",
    "          | Beat\n",
    "          | Interview\\s*\\d*\n",
    "        )[^\\]]*                              # cualquier cosa hasta ]\n",
    "        \\]                                   # cierra corchete\n",
    "    \"\"\"\n",
    "    return re.sub(patron, \"\", texto, flags=re.IGNORECASE | re.VERBOSE)\n"
   ]
  },
  {
   "cell_type": "markdown",
   "id": "f480de22",
   "metadata": {
    "papermill": {
     "duration": 0.00522,
     "end_time": "2025-08-27T08:41:15.906328",
     "exception": false,
     "start_time": "2025-08-27T08:41:15.901108",
     "status": "completed"
    },
    "tags": []
   },
   "source": [
    "## 1.1) Conteo de canciones que pasan el limite de tokens "
   ]
  },
  {
   "cell_type": "code",
   "execution_count": 5,
   "id": "a5b8ceea",
   "metadata": {
    "execution": {
     "iopub.execute_input": "2025-08-27T08:41:15.916389Z",
     "iopub.status.busy": "2025-08-27T08:41:15.916121Z",
     "iopub.status.idle": "2025-08-27T08:41:15.919240Z",
     "shell.execute_reply": "2025-08-27T08:41:15.918627Z"
    },
    "papermill": {
     "duration": 0.009229,
     "end_time": "2025-08-27T08:41:15.920368",
     "exception": false,
     "start_time": "2025-08-27T08:41:15.911139",
     "status": "completed"
    },
    "tags": []
   },
   "outputs": [],
   "source": [
    "\n",
    "# df[\"n_tokens\"] = df[\"text\"].apply(lambda x: num_tokens_from_string(x))\n",
    "\n",
    "# # Cuenta cuántos superan el límite\n",
    "# exceden = (df[\"n_tokens\"] > 8190).sum()\n",
    "\n",
    "# print(f\"Cantidad de textos que superan 8190 tokens: {exceden}\")"
   ]
  },
  {
   "cell_type": "markdown",
   "id": "63f712e9",
   "metadata": {
    "papermill": {
     "duration": 0.004436,
     "end_time": "2025-08-27T08:41:15.929375",
     "exception": false,
     "start_time": "2025-08-27T08:41:15.924939",
     "status": "completed"
    },
    "tags": []
   },
   "source": [
    "## 2) Pruebas con textos largos"
   ]
  },
  {
   "cell_type": "code",
   "execution_count": 6,
   "id": "20ac10a3",
   "metadata": {
    "execution": {
     "iopub.execute_input": "2025-08-27T08:41:15.939049Z",
     "iopub.status.busy": "2025-08-27T08:41:15.938742Z",
     "iopub.status.idle": "2025-08-27T08:41:15.942418Z",
     "shell.execute_reply": "2025-08-27T08:41:15.941785Z"
    },
    "papermill": {
     "duration": 0.009887,
     "end_time": "2025-08-27T08:41:15.943598",
     "exception": false,
     "start_time": "2025-08-27T08:41:15.933711",
     "status": "completed"
    },
    "tags": []
   },
   "outputs": [],
   "source": [
    "# embedding_model = \"text-embedding-3-small\"\n",
    "# embedding_encoding = \"cl100k_base\"\n",
    "# max_tokens = 8191  # the maximum for text-embedding-3-small is 8191\n",
    "# from dotenv import load_dotenv\n",
    "\n",
    "# load_dotenv() \n",
    "# API_KEY = os.environ[\"OPENAI_API_KEY\"]\n",
    "# from openai import OpenAI\n",
    "# client = OpenAI(api_key=API_KEY)\n",
    "\n",
    "# # Cnaciones más largas\n",
    "\n",
    "# with open(\"cancion_large.txt\", \"r\", encoding=\"utf-8\") as f:\n",
    "#     cancion_mas_larga = f.read()\n",
    "\n",
    "# with open(\"cancion_large_in_chars.txt\", \"r\", encoding=\"utf-8\") as f2:\n",
    "#     cancion_large_in_chars = f2.read()\n",
    "\n",
    "# words = cancion_mas_larga.split(\" \")\n",
    "# print(f\"Longitud de la canción más larga: {len(words)} caracteres\")\n",
    "\n",
    "# words2 = cancion_large_in_chars.split(\" \")\n",
    "# print(f\"Longitud de la canción más larga: {len(words2)} caracteres\")\n",
    "\n",
    "# print(\"La cancion mas larga en words: \",num_tokens_from_string(cancion_mas_larga) )\n",
    "# print(\"La cancion mas larga en chars: \",num_tokens_from_string(cancion_large_in_chars))\n",
    "\n"
   ]
  },
  {
   "cell_type": "markdown",
   "id": "4a0d4b45",
   "metadata": {
    "papermill": {
     "duration": 0.004629,
     "end_time": "2025-08-27T08:41:15.953537",
     "exception": false,
     "start_time": "2025-08-27T08:41:15.948908",
     "status": "completed"
    },
    "tags": []
   },
   "source": [
    "So, only are 13 songs that exceed the limit that's wahy we are only going to process the rest"
   ]
  },
  {
   "cell_type": "code",
   "execution_count": 7,
   "id": "826d5fa1",
   "metadata": {
    "execution": {
     "iopub.execute_input": "2025-08-27T08:41:15.963778Z",
     "iopub.status.busy": "2025-08-27T08:41:15.963512Z",
     "iopub.status.idle": "2025-08-27T08:41:15.966679Z",
     "shell.execute_reply": "2025-08-27T08:41:15.966081Z"
    },
    "papermill": {
     "duration": 0.009547,
     "end_time": "2025-08-27T08:41:15.967849",
     "exception": false,
     "start_time": "2025-08-27T08:41:15.958302",
     "status": "completed"
    },
    "tags": []
   },
   "outputs": [],
   "source": [
    "# from openai import OpenAI\n",
    "# client = OpenAI(api_key=API_KEY)\n",
    "\n",
    "# response = client.embeddings.create(\n",
    "#     model=embedding_model,   \n",
    "#     input=cancion_mas_larga,\n",
    "#     encoding_format=\"float\"\n",
    "# )\n",
    "\n",
    "# print(response)\n",
    "\n",
    "# # Si solo quieres ver el embedding:\n",
    "# print(\"Dimensión del embedding:\", len(response.data[0].embedding))\n",
    "# print(\"Primeros 10 valores:\", response.data[0].embedding[:10])"
   ]
  },
  {
   "cell_type": "code",
   "execution_count": 8,
   "id": "680ef5dd",
   "metadata": {
    "execution": {
     "iopub.execute_input": "2025-08-27T08:41:15.978305Z",
     "iopub.status.busy": "2025-08-27T08:41:15.978050Z",
     "iopub.status.idle": "2025-08-27T10:18:02.550397Z",
     "shell.execute_reply": "2025-08-27T10:18:02.550031Z"
    },
    "papermill": {
     "duration": 5806.578156,
     "end_time": "2025-08-27T10:18:02.551189",
     "exception": false,
     "start_time": "2025-08-27T08:41:15.973033",
     "status": "completed"
    },
    "tags": []
   },
   "outputs": [
    {
     "name": "stdout",
     "output_type": "stream",
     "text": [
      "Procesando la canción:  48600\n"
     ]
    },
    {
     "name": "stdout",
     "output_type": "stream",
     "text": [
      "Procesando la canción:  50400\n"
     ]
    },
    {
     "name": "stdout",
     "output_type": "stream",
     "text": [
      "Procesando la canción:  52200\n"
     ]
    },
    {
     "name": "stdout",
     "output_type": "stream",
     "text": [
      "La canción 53015 excede el límite de tokens (8611 tokens). Se omitirá.\n",
      "La canción 53018 excede el límite de tokens (10765 tokens). Se omitirá.\n"
     ]
    },
    {
     "name": "stdout",
     "output_type": "stream",
     "text": [
      "La canción 53102 excede el límite de tokens (9003 tokens). Se omitirá.\n"
     ]
    },
    {
     "name": "stdout",
     "output_type": "stream",
     "text": [
      "La canción 53137 excede el límite de tokens (12399 tokens). Se omitirá.\n"
     ]
    },
    {
     "name": "stdout",
     "output_type": "stream",
     "text": [
      "Procesando la canción:  54000\n"
     ]
    },
    {
     "name": "stdout",
     "output_type": "stream",
     "text": [
      "Procesando la canción:  55800\n"
     ]
    },
    {
     "name": "stdout",
     "output_type": "stream",
     "text": [
      "La canción 57281 excede el límite de tokens (9190 tokens). Se omitirá.\n"
     ]
    },
    {
     "name": "stdout",
     "output_type": "stream",
     "text": [
      "Procesando la canción:  57600\n"
     ]
    },
    {
     "name": "stdout",
     "output_type": "stream",
     "text": [
      "Procesando la canción:  59400\n"
     ]
    },
    {
     "name": "stdout",
     "output_type": "stream",
     "text": [
      "Procesando la canción:  61200\n"
     ]
    },
    {
     "name": "stdout",
     "output_type": "stream",
     "text": [
      "Size en RAM:  28.70224094390869\n"
     ]
    },
    {
     "name": "stdout",
     "output_type": "stream",
     "text": [
      "Archivo guardado: ../../../../data/gpt/embeddings/embeddings_46805_61809.jsonl con 15000 requests\n",
      "File size: 30096481 bytes (28.70 MB)\n",
      "Tamaño real al guardar: 28.70224094390869\n",
      "Archivo guardado en ../../../../data/gpt/embeddings/embeddings_46805_61809.jsonl\n",
      "Subiendo el archivo de la ruta: ../../../../data/gpt/embeddings/embeddings_46805_61809.jsonl\n"
     ]
    },
    {
     "name": "stdout",
     "output_type": "stream",
     "text": [
      "Archivo subido con éxito: file-WM3DtE88S9UQjgRMPrHw2B\n"
     ]
    },
    {
     "name": "stdout",
     "output_type": "stream",
     "text": [
      "Batch(id='batch_68aecab343f081908942af5ad7c71960', completion_window='24h', created_at=1756285619, endpoint='/v1/embeddings', input_file_id='file-WM3DtE88S9UQjgRMPrHw2B', object='batch', status='validating', cancelled_at=None, cancelling_at=None, completed_at=None, error_file_id=None, errors=None, expired_at=None, expires_at=1756372019, failed_at=None, finalizing_at=None, in_progress_at=None, metadata={'description': 'nightly eval job'}, output_file_id=None, request_counts=BatchRequestCounts(completed=0, failed=0, total=0))\n",
      "Batch creado con ID: batch_68aecab343f081908942af5ad7c71960\n"
     ]
    },
    {
     "name": "stdout",
     "output_type": "stream",
     "text": [
      "Trankilo guardaremos lo necesario para obtener los embbedings\n",
      "Metadatos del batch guardados en ../../../../data/gpt_to_check/batch_metadata_46805_61809.json\n",
      "Sleeping 1 minute\n"
     ]
    },
    {
     "name": "stdout",
     "output_type": "stream",
     "text": [
      "Procesando la canción:  63000\n"
     ]
    },
    {
     "name": "stdout",
     "output_type": "stream",
     "text": [
      "Procesando la canción:  64800\n"
     ]
    },
    {
     "name": "stdout",
     "output_type": "stream",
     "text": [
      "Procesando la canción:  66600\n"
     ]
    },
    {
     "name": "stdout",
     "output_type": "stream",
     "text": [
      "Procesando la canción:  68400\n"
     ]
    },
    {
     "name": "stdout",
     "output_type": "stream",
     "text": [
      "Procesando la canción:  70200\n"
     ]
    },
    {
     "name": "stdout",
     "output_type": "stream",
     "text": [
      "La canción 70666 excede el límite de tokens (8242 tokens). Se omitirá.\n"
     ]
    },
    {
     "name": "stdout",
     "output_type": "stream",
     "text": [
      "Procesando la canción:  72000\n"
     ]
    },
    {
     "name": "stdout",
     "output_type": "stream",
     "text": [
      "Procesando la canción:  73800\n"
     ]
    },
    {
     "name": "stdout",
     "output_type": "stream",
     "text": [
      "La canción 75102 excede el límite de tokens (8466 tokens). Se omitirá.\n"
     ]
    },
    {
     "name": "stdout",
     "output_type": "stream",
     "text": [
      "Procesando la canción:  75600\n"
     ]
    },
    {
     "name": "stdout",
     "output_type": "stream",
     "text": [
      "Size en RAM:  24.523414611816406\n"
     ]
    },
    {
     "name": "stdout",
     "output_type": "stream",
     "text": [
      "Archivo guardado: ../../../../data/gpt/embeddings/embeddings_61810_76811.jsonl con 15000 requests\n",
      "File size: 25714664 bytes (24.52 MB)\n",
      "Tamaño real al guardar: 24.523414611816406\n",
      "Archivo guardado en ../../../../data/gpt/embeddings/embeddings_61810_76811.jsonl\n",
      "Subiendo el archivo de la ruta: ../../../../data/gpt/embeddings/embeddings_61810_76811.jsonl\n"
     ]
    },
    {
     "name": "stdout",
     "output_type": "stream",
     "text": [
      "Archivo subido con éxito: file-FnCM2irftbergewjK9h7iy\n"
     ]
    },
    {
     "name": "stdout",
     "output_type": "stream",
     "text": [
      "Batch(id='batch_68aed03852d481908b1b7a9476eb7892', completion_window='24h', created_at=1756287032, endpoint='/v1/embeddings', input_file_id='file-FnCM2irftbergewjK9h7iy', object='batch', status='validating', cancelled_at=None, cancelling_at=None, completed_at=None, error_file_id=None, errors=None, expired_at=None, expires_at=1756373432, failed_at=None, finalizing_at=None, in_progress_at=None, metadata={'description': 'nightly eval job'}, output_file_id=None, request_counts=BatchRequestCounts(completed=0, failed=0, total=0))\n",
      "Batch creado con ID: batch_68aed03852d481908b1b7a9476eb7892\n"
     ]
    },
    {
     "name": "stdout",
     "output_type": "stream",
     "text": [
      "Trankilo guardaremos lo necesario para obtener los embbedings\n",
      "Metadatos del batch guardados en ../../../../data/gpt_to_check/batch_metadata_61810_76811.json\n",
      "Sleeping 1 minute\n"
     ]
    },
    {
     "name": "stdout",
     "output_type": "stream",
     "text": [
      "Procesando la canción:  77400\n"
     ]
    },
    {
     "name": "stdout",
     "output_type": "stream",
     "text": [
      "Procesando la canción:  79200\n"
     ]
    },
    {
     "name": "stdout",
     "output_type": "stream",
     "text": [
      "Procesando la canción:  81000\n"
     ]
    },
    {
     "name": "stdout",
     "output_type": "stream",
     "text": [
      "Procesando la canción:  82800\n"
     ]
    },
    {
     "name": "stdout",
     "output_type": "stream",
     "text": [
      "Procesando la canción:  84600\n"
     ]
    },
    {
     "name": "stdout",
     "output_type": "stream",
     "text": [
      "Procesando la canción:  86400\n"
     ]
    },
    {
     "name": "stdout",
     "output_type": "stream",
     "text": [
      "Procesando la canción:  88200\n"
     ]
    },
    {
     "name": "stdout",
     "output_type": "stream",
     "text": [
      "Procesando la canción:  90000\n"
     ]
    },
    {
     "name": "stdout",
     "output_type": "stream",
     "text": [
      "Procesando la canción:  91800\n"
     ]
    },
    {
     "name": "stdout",
     "output_type": "stream",
     "text": [
      "Size en RAM:  24.988659858703613\n"
     ]
    },
    {
     "name": "stdout",
     "output_type": "stream",
     "text": [
      "Archivo guardado: ../../../../data/gpt/embeddings/embeddings_76812_91811.jsonl con 15000 requests\n",
      "File size: 26202509 bytes (24.99 MB)\n",
      "Tamaño real al guardar: 24.988659858703613\n",
      "Archivo guardado en ../../../../data/gpt/embeddings/embeddings_76812_91811.jsonl\n",
      "Subiendo el archivo de la ruta: ../../../../data/gpt/embeddings/embeddings_76812_91811.jsonl\n"
     ]
    },
    {
     "name": "stdout",
     "output_type": "stream",
     "text": [
      "Archivo subido con éxito: file-8nCQMRACDv7BWtVamPcox3\n"
     ]
    },
    {
     "name": "stdout",
     "output_type": "stream",
     "text": [
      "Batch(id='batch_68aed5c1d844819081d01294018678d4', completion_window='24h', created_at=1756288449, endpoint='/v1/embeddings', input_file_id='file-8nCQMRACDv7BWtVamPcox3', object='batch', status='validating', cancelled_at=None, cancelling_at=None, completed_at=None, error_file_id=None, errors=None, expired_at=None, expires_at=1756374849, failed_at=None, finalizing_at=None, in_progress_at=None, metadata={'description': 'nightly eval job'}, output_file_id=None, request_counts=BatchRequestCounts(completed=0, failed=0, total=0))\n",
      "Batch creado con ID: batch_68aed5c1d844819081d01294018678d4\n"
     ]
    },
    {
     "name": "stdout",
     "output_type": "stream",
     "text": [
      "Trankilo guardaremos lo necesario para obtener los embbedings\n",
      "Metadatos del batch guardados en ../../../../data/gpt_to_check/batch_metadata_76812_91811.json\n",
      "Sleeping 1 minute\n"
     ]
    },
    {
     "name": "stdout",
     "output_type": "stream",
     "text": [
      "Procesando la canción:  93600\n"
     ]
    },
    {
     "name": "stdout",
     "output_type": "stream",
     "text": [
      "Procesando la canción:  95400\n"
     ]
    },
    {
     "name": "stdout",
     "output_type": "stream",
     "text": [
      "Procesando la canción:  97200\n"
     ]
    },
    {
     "name": "stdout",
     "output_type": "stream",
     "text": [
      "La canción 98849 excede el límite de tokens (8911 tokens). Se omitirá.\n"
     ]
    },
    {
     "name": "stdout",
     "output_type": "stream",
     "text": [
      "Procesando la canción:  99000\n"
     ]
    },
    {
     "name": "stdout",
     "output_type": "stream",
     "text": [
      "Procesando la canción:  100800\n"
     ]
    },
    {
     "name": "stdout",
     "output_type": "stream",
     "text": [
      "Procesando la canción:  102600\n"
     ]
    },
    {
     "name": "stdout",
     "output_type": "stream",
     "text": [
      "Procesando la canción:  104400\n"
     ]
    },
    {
     "name": "stdout",
     "output_type": "stream",
     "text": [
      "Procesando la canción:  106200\n"
     ]
    },
    {
     "name": "stdout",
     "output_type": "stream",
     "text": [
      "Size en RAM:  24.39636516571045\n"
     ]
    },
    {
     "name": "stdout",
     "output_type": "stream",
     "text": [
      "Archivo guardado: ../../../../data/gpt/embeddings/embeddings_91812_106812.jsonl con 15000 requests\n",
      "File size: 25581443 bytes (24.40 MB)\n",
      "Tamaño real al guardar: 24.39636516571045\n",
      "Archivo guardado en ../../../../data/gpt/embeddings/embeddings_91812_106812.jsonl\n",
      "Subiendo el archivo de la ruta: ../../../../data/gpt/embeddings/embeddings_91812_106812.jsonl\n"
     ]
    },
    {
     "name": "stdout",
     "output_type": "stream",
     "text": [
      "Archivo subido con éxito: file-UAnTCze5QurjFoN1Lvb1tb\n"
     ]
    },
    {
     "name": "stdout",
     "output_type": "stream",
     "text": [
      "Batch(id='batch_68aedb0e3d188190a7bd3fe822d6e8ea', completion_window='24h', created_at=1756289806, endpoint='/v1/embeddings', input_file_id='file-UAnTCze5QurjFoN1Lvb1tb', object='batch', status='validating', cancelled_at=None, cancelling_at=None, completed_at=None, error_file_id=None, errors=None, expired_at=None, expires_at=1756376206, failed_at=None, finalizing_at=None, in_progress_at=None, metadata={'description': 'nightly eval job'}, output_file_id=None, request_counts=BatchRequestCounts(completed=0, failed=0, total=0))\n",
      "Batch creado con ID: batch_68aedb0e3d188190a7bd3fe822d6e8ea\n"
     ]
    },
    {
     "name": "stdout",
     "output_type": "stream",
     "text": [
      "Trankilo guardaremos lo necesario para obtener los embbedings\n",
      "Metadatos del batch guardados en ../../../../data/gpt_to_check/batch_metadata_91812_106812.json\n",
      "Sleeping 1 minute\n"
     ]
    },
    {
     "name": "stdout",
     "output_type": "stream",
     "text": [
      "Procesando la canción:  108000\n"
     ]
    }
   ],
   "source": [
    "\n",
    "# start = 0\n",
    "# end = 0\n",
    "\n",
    "# Consider limits of thew official page aaaa (All embbedings are equal) \n",
    "# text-embedding-3-small\n",
    "# Rate limits\n",
    "# - Tokens per minute (TPM): 40,000\n",
    "# - Requests per minute (RPM): 100\n",
    "# - Requests per day (RPD): 2,000\n",
    "\n",
    "embedding_model = \"text-embedding-3-small\"\n",
    "embedding_encoding = \"cl100k_base\"\n",
    "max_tokens = 8191 \n",
    "\n",
    "from openai import OpenAI\n",
    "from dotenv import load_dotenv\n",
    "import os\n",
    "load_dotenv() \n",
    "API_KEY = os.environ[\"OPENAI_API_KEY\"]\n",
    "\n",
    "\n",
    "\n",
    "TESTING = False\n",
    "\n",
    "\n",
    "# CONFIGURATIONS\n",
    "# https://platform.openai.com/docs/guides/batch#rate-limits\n",
    "TPM = 40000\n",
    "RPM = 100\n",
    "RPD = 2000\n",
    "limit_size = 190 # In MB\n",
    "# limit_request_in_file_batch = 50000\n",
    "limit_request_in_file_batch = 15000 # Segun mi regla de 3 simple [900-3MB]\n",
    "chunksize = 100 # For simplicity a multiple of limit_request_in_file_batch \n",
    "chunk_id = 0\n",
    "\n",
    "\n",
    "if TESTING:\n",
    "    limit_request_in_file_batch = 900\n",
    "    # limit_size = 0.5\n",
    "    second = False\n",
    "END = False\n",
    "\n",
    "path_embbedings = \"../../../../data/gpt/embeddings\"\n",
    "# path_errors = \"../../../../data/gpt/embeddings_errors\"\n",
    "\n",
    "os.makedirs(path_embbedings, exist_ok=True)\n",
    "# os.makedirs(path_errors, exist_ok=True)\n",
    "\n",
    "it_n = 0\n",
    "start = 46805\n",
    "end = None\n",
    "songs_RAM  = []  \n",
    "songs_passed_limit = []\n",
    "for chunk in pd.read_csv(path_df, chunksize=chunksize):\n",
    "    texts = chunk['text'].fillna(\"\")\n",
    "    for idx, song in enumerate(texts, start=chunk_id * chunksize ):\n",
    "        if idx < start:\n",
    "            continue\n",
    "        if idx%1800==0:\n",
    "            print(\"Procesando la canción: \", idx)\n",
    "        song = limpiar_letras(song)\n",
    "        end = idx # Solo si se procesra sera este end\n",
    "        if(num_tokens_from_string(song) > max_tokens):\n",
    "            print(f\"La canción {idx} excede el límite de tokens ({num_tokens_from_string(song)} tokens). Se omitirá.\")\n",
    "            songs_passed_limit.append(idx)\n",
    "            continue\n",
    "\n",
    "        try:\n",
    "            if get_jsons_size(songs_RAM) > limit_size or len(songs_RAM) >= limit_request_in_file_batch:\n",
    "                end = idx-1 # Si no se procesa es el anterior\n",
    "                it_n+=1\n",
    "                print(\"Size en RAM: \", get_jsons_size(songs_RAM))\n",
    "                # Limpiar songs RAM y guardarlo \n",
    "                if get_jsons_size(songs_RAM) > limit_size:\n",
    "                    print(\"Song in RAM esta lleno\")\n",
    "                \n",
    "                # Realizamos el guardado del file\n",
    "                saved_in = guardar_jsons(songs_RAM, start, end, output_dir=path_embbedings)\n",
    "                print(\"Tamaño real al guardar:\",get_file_size(saved_in) )\n",
    "                print(f\"Archivo guardado en {saved_in}\")\n",
    "                \n",
    "                \n",
    "                # ---Inicio de los paso de gpt ----\n",
    "                # 1) upload_batch_file_to_openai\n",
    "                batch_input_file = upload_batch_file_to_openai(saved_in, API_KEY)\n",
    "                print(\"Archivo subido con éxito:\", batch_input_file.id) # file ID\n",
    "                # 2) Create the batch \n",
    "                response = create_openai_batch(batch_input_file, endpoint=\"/v1/embeddings\", completion_window=\"24h\", metadata=None, api_key=API_KEY)\n",
    "                print(response)\n",
    "                print(f\"Batch creado con ID: {response.id}\") # Batch ID\n",
    "\n",
    "                # Esto ya para mas despues\n",
    "                # 3) check status\n",
    "                # status_ = check_openai_batch(response.id, API_KEY)\n",
    "                \n",
    "                # print(f\"Estado del batch: {status_.status}\")\n",
    "                # Esperar a que el estado del batch sea completed\n",
    "                # if (check_openai_batch(response.id, API_KEY).status != \"completed\"):\n",
    "                #     time.sleep(600) # Dormir 10 minutos\n",
    "\n",
    "                if (check_openai_batch(response.id, API_KEY).status == \"completed\"):\n",
    "                    print(f\"Estado del batch completed\")\n",
    "                    output_file_id = check_openai_batch(response.id, API_KEY).output_file_id\n",
    "                    pta = download_results(output_file_id, API_KEY)\n",
    "                    saved_file = save_embeddings_only(pta,start,end)\n",
    "                    print(f\"File guardado en: {saved_file}\")\n",
    "                else:\n",
    "                    # Guardar start, end, asociado a batch_input_file.id y response.id\n",
    "                    print(\"Trankilo guardaremos lo necesario para obtener los embbedings\")\n",
    "                    save_batch_metadata(start, end, batch_input_file.id, response.id)\n",
    "\n",
    "                # ---Fin de los paso de gpt ----\n",
    "                print(\"Sleeping 1 minute\")\n",
    "                time.sleep(60) # Dormir 1 minuto porciacasito\n",
    "                songs_RAM = []\n",
    "                \n",
    "                start = end + 1\n",
    "                \n",
    "                # Falta guardar la cancion current \n",
    "                json_request = crear_single_json(song, idx)\n",
    "                songs_RAM.append(json_request)\n",
    "                    \n",
    "\n",
    "\n",
    "                # For testing\n",
    "                if TESTING and it_n == 2:\n",
    "                    END = True\n",
    "                    break\n",
    "            else:\n",
    "                # Añadir la cancion al json file\n",
    "                json_request = crear_single_json(song, idx)\n",
    "                songs_RAM.append(json_request)\n",
    "\n",
    "        except Exception as e:\n",
    "            print(f\"Error en la canción {idx}: {e}\")\n",
    "\n",
    "    chunk_id+=1\n",
    "    \n",
    "    if END:\n",
    "        print(\"Termino el testing\")\n",
    "        break\n"
   ]
  },
  {
   "cell_type": "markdown",
   "id": "86fc9f7a",
   "metadata": {
    "tags": [
     "papermill-error-cell-tag"
    ]
   },
   "source": [
    "<span id=\"papermill-error-cell\" style=\"color:red; font-family:Helvetica Neue, Helvetica, Arial, sans-serif; font-size:2em;\">Execution using papermill encountered an exception here and stopped:</span>"
   ]
  },
  {
   "cell_type": "code",
   "execution_count": 9,
   "id": "9a532487",
   "metadata": {
    "execution": {
     "iopub.execute_input": "2025-08-27T10:18:02.562511Z",
     "iopub.status.busy": "2025-08-27T10:18:02.562350Z",
     "iopub.status.idle": "2025-08-27T10:18:04.547616Z",
     "shell.execute_reply": "2025-08-27T10:18:04.547145Z"
    },
    "papermill": {
     "duration": 1.991237,
     "end_time": "2025-08-27T10:18:04.548243",
     "exception": true,
     "start_time": "2025-08-27T10:18:02.557006",
     "status": "failed"
    },
    "tags": []
   },
   "outputs": [
    {
     "name": "stdout",
     "output_type": "stream",
     "text": [
      "completed\n"
     ]
    },
    {
     "ename": "NameError",
     "evalue": "name 'output_file_id' is not defined",
     "output_type": "error",
     "traceback": [
      "\u001b[31m---------------------------------------------------------------------------\u001b[39m",
      "\u001b[31mNameError\u001b[39m                                 Traceback (most recent call last)",
      "\u001b[36mCell\u001b[39m\u001b[36m \u001b[39m\u001b[32mIn[9]\u001b[39m\u001b[32m, line 3\u001b[39m\n\u001b[32m      1\u001b[39m status = check_openai_batch(\u001b[33m\"\u001b[39m\u001b[33mbatch_68aea8e4452481909a37f98cefa35431\u001b[39m\u001b[33m\"\u001b[39m, API_KEY)\n\u001b[32m      2\u001b[39m \u001b[38;5;28mprint\u001b[39m(status.status)\n\u001b[32m----> \u001b[39m\u001b[32m3\u001b[39m \u001b[38;5;28mprint\u001b[39m(\u001b[33m\"\u001b[39m\u001b[33mOutput file ID:\u001b[39m\u001b[33m\"\u001b[39m, \u001b[43moutput_file_id\u001b[49m)\n\u001b[32m      5\u001b[39m \u001b[38;5;28;01mif\u001b[39;00m status.status == \u001b[33m\"\u001b[39m\u001b[33mcompleted\u001b[39m\u001b[33m\"\u001b[39m:\n\u001b[32m      6\u001b[39m     \u001b[38;5;28mprint\u001b[39m(\u001b[33m\"\u001b[39m\u001b[33mCompleted\u001b[39m\u001b[33m\"\u001b[39m)\n",
      "\u001b[31mNameError\u001b[39m: name 'output_file_id' is not defined"
     ]
    }
   ],
   "source": [
    "status = check_openai_batch(\"batch_68aea8e4452481909a37f98cefa35431\", API_KEY)\n",
    "print(status.status)\n",
    "print(\"Output file ID:\", output_file_id)\n",
    "\n",
    "if status.status == \"completed\":\n",
    "    print(\"Completed\")\n",
    "    output_file_id = status.output_file_id\n",
    "    print(\"Output file ID:\", output_file_id)\n",
    "    # print(\"Descargando resultados...\")\n",
    "    # pta = download_results(output_file_id, API_KEY)\n",
    "    # # saveResult(pta,0,2)\n",
    "    # save_embeddings_only(pta,0,4)"
   ]
  },
  {
   "cell_type": "code",
   "execution_count": null,
   "id": "23fac675",
   "metadata": {
    "papermill": {
     "duration": null,
     "end_time": null,
     "exception": null,
     "start_time": null,
     "status": "pending"
    },
    "tags": []
   },
   "outputs": [],
   "source": [
    "save_embeddings_only(pta,0,4)\n"
   ]
  },
  {
   "cell_type": "code",
   "execution_count": null,
   "id": "391eb9e5",
   "metadata": {
    "papermill": {
     "duration": null,
     "end_time": null,
     "exception": null,
     "start_time": null,
     "status": "pending"
    },
    "tags": []
   },
   "outputs": [],
   "source": [
    "# file_path = \"../../../../data/gpt_responses/0_4_embeddings_only.jsonl\"\n",
    "# embeddings = load_embeddings_and_check_dim(file_path)\n",
    "\n",
    "# for embb in embeddings:\n",
    "#     print(embb)"
   ]
  }
 ],
 "metadata": {
  "kernelspec": {
   "display_name": ".venv",
   "language": "python",
   "name": "python3"
  },
  "language_info": {
   "codemirror_mode": {
    "name": "ipython",
    "version": 3
   },
   "file_extension": ".py",
   "mimetype": "text/x-python",
   "name": "python",
   "nbconvert_exporter": "python",
   "pygments_lexer": "ipython3",
   "version": "3.13.2"
  },
  "papermill": {
   "default_parameters": {},
   "duration": 5816.61358,
   "end_time": "2025-08-27T10:18:04.971121",
   "environment_variables": {},
   "exception": true,
   "input_path": "generate_gptEmbb.ipynb",
   "output_path": "ejecutado_rn_20250827_034106.ipynb",
   "parameters": {},
   "start_time": "2025-08-27T08:41:08.357541",
   "version": "2.6.0"
  }
 },
 "nbformat": 4,
 "nbformat_minor": 5
}