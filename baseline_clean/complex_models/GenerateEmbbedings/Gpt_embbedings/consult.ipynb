{
 "cells": [
  {
   "cell_type": "code",
   "execution_count": 3,
   "id": "d18564d9",
   "metadata": {},
   "outputs": [
    {
     "name": "stdout",
     "output_type": "stream",
     "text": [
      "{'error': {'message': 'Your request to GET /v1/dashboard/billing/usage must be made with a session key (that is, it can only be made from the browser). You made it with the following key type: .', 'type': 'invalid_request_error', 'param': None, 'code': None}}\n"
     ]
    }
   ],
   "source": [
    "import os\n",
    "import requests\n",
    "from datetime import date, timedelta\n",
    "from dotenv import load_dotenv\n",
    "load_dotenv() \n",
    "\n",
    "API_KEY = os.environ[\"OPENAI_API_KEY\"]\n",
    "\n",
    "\n",
    "api_key = API_KEY\n",
    "headers = {\"Authorization\": f\"Bearer {api_key}\"}\n",
    "\n",
    "# Fechas\n",
    "hoy = date.today()\n",
    "ayer = hoy - timedelta(days=1)\n",
    "\n",
    "params = {\n",
    "    \"start_date\": ayer.isoformat(),\n",
    "    \"end_date\": hoy.isoformat()\n",
    "}\n",
    "response = requests.get(\"https://api.openai.com/v1/dashboard/billing/usage\", headers=headers, params=params)\n",
    "\n",
    "data = response.json()\n",
    "print(data)\n"
   ]
  },
  {
   "cell_type": "code",
   "execution_count": 7,
   "id": "1510a9b8",
   "metadata": {},
   "outputs": [
    {
     "name": "stdout",
     "output_type": "stream",
     "text": [
      "34.603840000000005\n"
     ]
    }
   ],
   "source": [
    "num_tokens = 800*108137\n",
    "cost_usd = num_tokens / 1000 * 0.0004 \n",
    "\n",
    "print(cost_usd)"
   ]
  }
 ],
 "metadata": {
  "kernelspec": {
   "display_name": ".venv",
   "language": "python",
   "name": "python3"
  },
  "language_info": {
   "codemirror_mode": {
    "name": "ipython",
    "version": 3
   },
   "file_extension": ".py",
   "mimetype": "text/x-python",
   "name": "python",
   "nbconvert_exporter": "python",
   "pygments_lexer": "ipython3",
   "version": "3.13.2"
  }
 },
 "nbformat": 4,
 "nbformat_minor": 5
}
