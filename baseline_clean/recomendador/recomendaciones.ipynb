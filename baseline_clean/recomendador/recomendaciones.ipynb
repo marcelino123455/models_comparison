{
  "cells": [
    {
      "cell_type": "code",
      "execution_count": null,
      "id": "abdd1347",
      "metadata": {
        "id": "abdd1347",
        "outputId": "b79ffad5-fc1c-4059-da5d-d016d4b60b7b"
      },
      "outputs": [
        {
          "name": "stderr",
          "output_type": "stream",
          "text": [
            "\n",
            "[notice] A new release of pip is available: 23.2.1 -> 25.1.1\n",
            "[notice] To update, run: python.exe -m pip install --upgrade pip\n"
          ]
        }
      ],
      "source": [
        "!pip install tqdm -q"
      ]
    },
    {
      "cell_type": "code",
      "execution_count": 14,
      "id": "12502bd7",
      "metadata": {
        "colab": {
          "base_uri": "https://localhost:8080/"
        },
        "id": "12502bd7",
        "outputId": "fbbd61f0-d574-482d-d05f-96c4d0305a86"
      },
      "outputs": [
        {
          "output_type": "stream",
          "name": "stdout",
          "text": [
            "Collecting spotipy\n",
            "  Downloading spotipy-2.25.1-py3-none-any.whl.metadata (5.1 kB)\n",
            "Collecting redis>=3.5.3 (from spotipy)\n",
            "  Downloading redis-6.2.0-py3-none-any.whl.metadata (10 kB)\n",
            "Requirement already satisfied: requests>=2.25.0 in /usr/local/lib/python3.11/dist-packages (from spotipy) (2.32.3)\n",
            "Requirement already satisfied: urllib3>=1.26.0 in /usr/local/lib/python3.11/dist-packages (from spotipy) (2.4.0)\n",
            "Requirement already satisfied: charset-normalizer<4,>=2 in /usr/local/lib/python3.11/dist-packages (from requests>=2.25.0->spotipy) (3.4.2)\n",
            "Requirement already satisfied: idna<4,>=2.5 in /usr/local/lib/python3.11/dist-packages (from requests>=2.25.0->spotipy) (3.10)\n",
            "Requirement already satisfied: certifi>=2017.4.17 in /usr/local/lib/python3.11/dist-packages (from requests>=2.25.0->spotipy) (2025.6.15)\n",
            "Downloading spotipy-2.25.1-py3-none-any.whl (31 kB)\n",
            "Downloading redis-6.2.0-py3-none-any.whl (278 kB)\n",
            "\u001b[2K   \u001b[90m━━━━━━━━━━━━━━━━━━━━━━━━━━━━━━━━━━━━━━━━\u001b[0m \u001b[32m278.7/278.7 kB\u001b[0m \u001b[31m10.8 MB/s\u001b[0m eta \u001b[36m0:00:00\u001b[0m\n",
            "\u001b[?25hInstalling collected packages: redis, spotipy\n",
            "Successfully installed redis-6.2.0 spotipy-2.25.1\n"
          ]
        }
      ],
      "source": [
        "!pip install spotipy"
      ]
    },
    {
      "cell_type": "code",
      "execution_count": 3,
      "id": "c1cbc8d2",
      "metadata": {
        "colab": {
          "base_uri": "https://localhost:8080/",
          "height": 617
        },
        "id": "c1cbc8d2",
        "outputId": "03a55e72-6fd2-4f67-a09b-bb65988f51c3"
      },
      "outputs": [
        {
          "output_type": "stream",
          "name": "stdout",
          "text": [
            "Collecting gensim\n",
            "  Downloading gensim-4.3.3-cp311-cp311-manylinux_2_17_x86_64.manylinux2014_x86_64.whl.metadata (8.1 kB)\n",
            "Collecting numpy<2.0,>=1.18.5 (from gensim)\n",
            "  Downloading numpy-1.26.4-cp311-cp311-manylinux_2_17_x86_64.manylinux2014_x86_64.whl.metadata (61 kB)\n",
            "\u001b[2K     \u001b[90m━━━━━━━━━━━━━━━━━━━━━━━━━━━━━━━━━━━━━━━━\u001b[0m \u001b[32m61.0/61.0 kB\u001b[0m \u001b[31m3.9 MB/s\u001b[0m eta \u001b[36m0:00:00\u001b[0m\n",
            "\u001b[?25hCollecting scipy<1.14.0,>=1.7.0 (from gensim)\n",
            "  Downloading scipy-1.13.1-cp311-cp311-manylinux_2_17_x86_64.manylinux2014_x86_64.whl.metadata (60 kB)\n",
            "\u001b[2K     \u001b[90m━━━━━━━━━━━━━━━━━━━━━━━━━━━━━━━━━━━━━━━━\u001b[0m \u001b[32m60.6/60.6 kB\u001b[0m \u001b[31m3.8 MB/s\u001b[0m eta \u001b[36m0:00:00\u001b[0m\n",
            "\u001b[?25hRequirement already satisfied: smart-open>=1.8.1 in /usr/local/lib/python3.11/dist-packages (from gensim) (7.3.0)\n",
            "Requirement already satisfied: wrapt in /usr/local/lib/python3.11/dist-packages (from smart-open>=1.8.1->gensim) (1.17.2)\n",
            "Downloading gensim-4.3.3-cp311-cp311-manylinux_2_17_x86_64.manylinux2014_x86_64.whl (26.7 MB)\n",
            "\u001b[2K   \u001b[90m━━━━━━━━━━━━━━━━━━━━━━━━━━━━━━━━━━━━━━━━\u001b[0m \u001b[32m26.7/26.7 MB\u001b[0m \u001b[31m69.5 MB/s\u001b[0m eta \u001b[36m0:00:00\u001b[0m\n",
            "\u001b[?25hDownloading numpy-1.26.4-cp311-cp311-manylinux_2_17_x86_64.manylinux2014_x86_64.whl (18.3 MB)\n",
            "\u001b[2K   \u001b[90m━━━━━━━━━━━━━━━━━━━━━━━━━━━━━━━━━━━━━━━━\u001b[0m \u001b[32m18.3/18.3 MB\u001b[0m \u001b[31m83.2 MB/s\u001b[0m eta \u001b[36m0:00:00\u001b[0m\n",
            "\u001b[?25hDownloading scipy-1.13.1-cp311-cp311-manylinux_2_17_x86_64.manylinux2014_x86_64.whl (38.6 MB)\n",
            "\u001b[2K   \u001b[90m━━━━━━━━━━━━━━━━━━━━━━━━━━━━━━━━━━━━━━━━\u001b[0m \u001b[32m38.6/38.6 MB\u001b[0m \u001b[31m15.4 MB/s\u001b[0m eta \u001b[36m0:00:00\u001b[0m\n",
            "\u001b[?25hInstalling collected packages: numpy, scipy, gensim\n",
            "  Attempting uninstall: numpy\n",
            "    Found existing installation: numpy 2.0.2\n",
            "    Uninstalling numpy-2.0.2:\n",
            "      Successfully uninstalled numpy-2.0.2\n",
            "  Attempting uninstall: scipy\n",
            "    Found existing installation: scipy 1.15.3\n",
            "    Uninstalling scipy-1.15.3:\n",
            "      Successfully uninstalled scipy-1.15.3\n",
            "\u001b[31mERROR: pip's dependency resolver does not currently take into account all the packages that are installed. This behaviour is the source of the following dependency conflicts.\n",
            "thinc 8.3.6 requires numpy<3.0.0,>=2.0.0, but you have numpy 1.26.4 which is incompatible.\n",
            "tsfresh 0.21.0 requires scipy>=1.14.0; python_version >= \"3.10\", but you have scipy 1.13.1 which is incompatible.\u001b[0m\u001b[31m\n",
            "\u001b[0mSuccessfully installed gensim-4.3.3 numpy-1.26.4 scipy-1.13.1\n"
          ]
        },
        {
          "output_type": "display_data",
          "data": {
            "application/vnd.colab-display-data+json": {
              "pip_warning": {
                "packages": [
                  "numpy"
                ]
              },
              "id": "ddc1907eb0174c87bae4367b30408439"
            }
          },
          "metadata": {}
        }
      ],
      "source": [
        "!pip install gensim"
      ]
    },
    {
      "cell_type": "code",
      "execution_count": null,
      "id": "56c00e74",
      "metadata": {
        "id": "56c00e74",
        "outputId": "cd55c3fd-b4ff-4559-8f35-5b677905123f"
      },
      "outputs": [
        {
          "name": "stdout",
          "output_type": "stream",
          "text": [
            "Requirement already satisfied: nltk in c:\\users\\dylan\\onedrive - universidad de ingenieria y tecnologia\\escritorio\\spotify\\env\\lib\\site-packages (3.9.1)\n",
            "Requirement already satisfied: click in c:\\users\\dylan\\onedrive - universidad de ingenieria y tecnologia\\escritorio\\spotify\\env\\lib\\site-packages (from nltk) (8.2.1)\n",
            "Requirement already satisfied: joblib in c:\\users\\dylan\\onedrive - universidad de ingenieria y tecnologia\\escritorio\\spotify\\env\\lib\\site-packages (from nltk) (1.5.1)\n",
            "Requirement already satisfied: regex>=2021.8.3 in c:\\users\\dylan\\onedrive - universidad de ingenieria y tecnologia\\escritorio\\spotify\\env\\lib\\site-packages (from nltk) (2024.11.6)\n",
            "Requirement already satisfied: tqdm in c:\\users\\dylan\\onedrive - universidad de ingenieria y tecnologia\\escritorio\\spotify\\env\\lib\\site-packages (from nltk) (4.67.1)\n",
            "Requirement already satisfied: colorama in c:\\users\\dylan\\onedrive - universidad de ingenieria y tecnologia\\escritorio\\spotify\\env\\lib\\site-packages (from click->nltk) (0.4.6)\n"
          ]
        },
        {
          "name": "stderr",
          "output_type": "stream",
          "text": [
            "\n",
            "[notice] A new release of pip is available: 23.2.1 -> 25.1.1\n",
            "[notice] To update, run: python.exe -m pip install --upgrade pip\n"
          ]
        }
      ],
      "source": [
        "!pip install nltk"
      ]
    },
    {
      "cell_type": "code",
      "execution_count": 1,
      "id": "5914a0f9",
      "metadata": {
        "id": "5914a0f9"
      },
      "outputs": [],
      "source": [
        "import string\n",
        "from gensim.models import Word2Vec"
      ]
    },
    {
      "cell_type": "code",
      "execution_count": 2,
      "id": "9e16cce4",
      "metadata": {
        "id": "9e16cce4"
      },
      "outputs": [],
      "source": [
        "import pandas as pd"
      ]
    },
    {
      "cell_type": "code",
      "execution_count": 9,
      "id": "2c736131",
      "metadata": {
        "colab": {
          "base_uri": "https://localhost:8080/"
        },
        "id": "2c736131",
        "outputId": "5d585097-558a-4b70-b9e9-c0cf364c8308"
      },
      "outputs": [
        {
          "output_type": "stream",
          "name": "stderr",
          "text": [
            "100%|██████████| 108138/108138 [00:00<00:00, 1918473.75it/s]"
          ]
        },
        {
          "output_type": "stream",
          "name": "stdout",
          "text": [
            "Letras extraídas con éxito.\n"
          ]
        },
        {
          "output_type": "stream",
          "name": "stderr",
          "text": [
            "\n"
          ]
        }
      ],
      "source": [
        "from tqdm import tqdm\n",
        "\n",
        "# Cargar el archivo CSV\n",
        "ruta_csv = \"spotify_dataset_sin_duplicados_4.csv\"\n",
        "\n",
        "try:\n",
        "    df = pd.read_csv(ruta_csv)\n",
        "\n",
        "    # Asegurar que existe la columna 'text'\n",
        "    if 'text' not in df.columns:\n",
        "        raise ValueError(\"La columna 'text' no se encuentra en el archivo CSV.\")\n",
        "\n",
        "    # Extraer las letras de las canciones a una lista\n",
        "    todas_las_canciones = []\n",
        "\n",
        "    for texto in tqdm(df['text'].fillna(\"\")):\n",
        "        todas_las_canciones.append(texto)\n",
        "\n",
        "    print(\"Letras extraídas con éxito.\")\n",
        "except Exception as e:\n",
        "    print(f\"Error al cargar o procesar el archivo CSV: {e}\")\n"
      ]
    },
    {
      "cell_type": "code",
      "execution_count": null,
      "id": "6686866a",
      "metadata": {
        "id": "6686866a",
        "outputId": "ca450003-7708-43c9-ebe7-c66db82afd0a"
      },
      "outputs": [
        {
          "name": "stderr",
          "output_type": "stream",
          "text": [
            "[nltk_data] Downloading package punkt to\n",
            "[nltk_data]     C:\\Users\\dylan\\AppData\\Roaming\\nltk_data...\n",
            "[nltk_data]   Package punkt is already up-to-date!\n",
            "[nltk_data] Downloading package stopwords to\n",
            "[nltk_data]     C:\\Users\\dylan\\AppData\\Roaming\\nltk_data...\n",
            "[nltk_data]   Package stopwords is already up-to-date!\n"
          ]
        }
      ],
      "source": [
        "import re\n",
        "from nltk.tokenize import word_tokenize\n",
        "from nltk.corpus import stopwords\n",
        "import nltk\n",
        "\n",
        "nltk.download('punkt')\n",
        "nltk.download('stopwords')\n",
        "\n",
        "stop_words = set(stopwords.words('english'))\n",
        "\n",
        "def preprocesar_texto(texto):\n",
        "    texto = texto.lower()\n",
        "    texto = re.sub(r\"[^a-zA-Z\\s]\", \"\", texto)\n",
        "    tokens = texto.split()  # En lugar de word_tokenize\n",
        "    tokens = [word for word in tokens if word not in stop_words]\n",
        "    return tokens\n",
        "\n",
        "corpus = [preprocesar_texto(letra) for letra in todas_las_canciones]\n"
      ]
    },
    {
      "cell_type": "code",
      "execution_count": null,
      "id": "dfaf1e90",
      "metadata": {
        "id": "dfaf1e90"
      },
      "outputs": [],
      "source": [
        "import random\n",
        "import numpy as np\n",
        "\n",
        "# Reproducibilidad\n",
        "SEED = 42\n",
        "random.seed(SEED)\n",
        "np.random.seed(SEED)\n",
        "\n",
        "from gensim.models.word2vec import Word2Vec\n",
        "Word2Vec.seed = SEED\n",
        "\n",
        "from gensim.models import Word2Vec\n",
        "\n",
        "modelo_w2v = Word2Vec(sentences=corpus, vector_size=100, window=5, min_count=2, workers=4, seed=SEED)"
      ]
    },
    {
      "cell_type": "code",
      "execution_count": 4,
      "id": "04e4954a",
      "metadata": {
        "colab": {
          "base_uri": "https://localhost:8080/",
          "height": 176
        },
        "id": "04e4954a",
        "outputId": "bd651170-51c8-4721-fcaa-d9dbe582c36f"
      },
      "outputs": [
        {
          "output_type": "error",
          "ename": "NameError",
          "evalue": "name 'corpus' is not defined",
          "traceback": [
            "\u001b[0;31m---------------------------------------------------------------------------\u001b[0m",
            "\u001b[0;31mNameError\u001b[0m                                 Traceback (most recent call last)",
            "\u001b[0;32m/tmp/ipython-input-4-3893890612.py\u001b[0m in \u001b[0;36m<cell line: 0>\u001b[0;34m()\u001b[0m\n\u001b[1;32m      7\u001b[0m     \u001b[0;32mreturn\u001b[0m \u001b[0mnp\u001b[0m\u001b[0;34m.\u001b[0m\u001b[0mmean\u001b[0m\u001b[0;34m(\u001b[0m\u001b[0mvectores\u001b[0m\u001b[0;34m,\u001b[0m \u001b[0maxis\u001b[0m\u001b[0;34m=\u001b[0m\u001b[0;36m0\u001b[0m\u001b[0;34m)\u001b[0m\u001b[0;34m\u001b[0m\u001b[0;34m\u001b[0m\u001b[0m\n\u001b[1;32m      8\u001b[0m \u001b[0;34m\u001b[0m\u001b[0m\n\u001b[0;32m----> 9\u001b[0;31m \u001b[0mvectores_canciones\u001b[0m \u001b[0;34m=\u001b[0m \u001b[0mnp\u001b[0m\u001b[0;34m.\u001b[0m\u001b[0marray\u001b[0m\u001b[0;34m(\u001b[0m\u001b[0;34m[\u001b[0m\u001b[0mvector_promedio\u001b[0m\u001b[0;34m(\u001b[0m\u001b[0mtokens\u001b[0m\u001b[0;34m,\u001b[0m \u001b[0mmodelo_w2v\u001b[0m\u001b[0;34m)\u001b[0m \u001b[0;32mfor\u001b[0m \u001b[0mtokens\u001b[0m \u001b[0;32min\u001b[0m \u001b[0mcorpus\u001b[0m\u001b[0;34m]\u001b[0m\u001b[0;34m)\u001b[0m\u001b[0;34m\u001b[0m\u001b[0;34m\u001b[0m\u001b[0m\n\u001b[0m",
            "\u001b[0;31mNameError\u001b[0m: name 'corpus' is not defined"
          ]
        }
      ],
      "source": [
        "\n",
        "def vector_promedio(tokens, modelo):\n",
        "    vectores = [modelo.wv[word] for word in tokens if word in modelo.wv]\n",
        "    if len(vectores) == 0:\n",
        "        return np.zeros(modelo.vector_size)\n",
        "    return np.mean(vectores, axis=0)\n",
        "\n",
        "vectores_canciones = np.array([vector_promedio(tokens, modelo_w2v) for tokens in corpus])"
      ]
    },
    {
      "cell_type": "code",
      "execution_count": null,
      "id": "6d67a87b",
      "metadata": {
        "id": "6d67a87b"
      },
      "outputs": [],
      "source": [
        "# Guardar en formato word2vec compatible con Gensim\n",
        "with open(\"canciones_embeddings.txt\", \"w\", encoding=\"utf-8\") as f:\n",
        "    f.write(f\"{len(vectores_canciones)} {modelo_w2v.vector_size}\\n\")\n",
        "    for idx, vec in enumerate(vectores_canciones):\n",
        "        vector_str = ' '.join(map(str, vec))\n",
        "        f.write(f\"cancion_{idx} {vector_str}\\n\")"
      ]
    },
    {
      "cell_type": "code",
      "execution_count": 5,
      "id": "b7aa161d",
      "metadata": {
        "id": "b7aa161d"
      },
      "outputs": [],
      "source": [
        "from gensim.models import KeyedVectors\n",
        "\n",
        "# Cargar vectores guardados\n",
        "embeddings_cargados = KeyedVectors.load_word2vec_format(\"canciones_embeddings.txt\", binary=False)\n",
        "\n",
        "# Obtener vector de la canción 6528\n",
        "vec = embeddings_cargados[\"cancion_6528\"]\n",
        "\n",
        "# Recalcular matriz de vectores si es necesario\n",
        "vectores_canciones = np.array([embeddings_cargados[f\"cancion_{i}\"] for i in range(len(embeddings_cargados))])"
      ]
    },
    {
      "cell_type": "code",
      "execution_count": 31,
      "id": "dff9cd8b",
      "metadata": {
        "id": "dff9cd8b"
      },
      "outputs": [],
      "source": [
        "from sklearn.metrics.pairwise import cosine_similarity\n",
        "\n",
        "def recomendar(idx_cancion, vectores, top_n=4):\n",
        "    similitudes = cosine_similarity([vectores[idx_cancion]], vectores)[0]\n",
        "    indices_similares = similitudes.argsort()[::-1][1:top_n+1]\n",
        "    return indices_similares, similitudes[indices_similares]"
      ]
    },
    {
      "cell_type": "code",
      "execution_count": 32,
      "id": "f3ce5656",
      "metadata": {
        "colab": {
          "base_uri": "https://localhost:8080/"
        },
        "id": "f3ce5656",
        "outputId": "2f2209fb-ce1b-43b4-de1b-ea98eb0ec532"
      },
      "outputs": [
        {
          "output_type": "stream",
          "name": "stdout",
          "text": [
            "Canciones recomendadas similares a la 0:\n",
            "Canción 29066 (similitud: 0.99)\n",
            "Canción 28570 (similitud: 0.97)\n",
            "Canción 80389 (similitud: 0.88)\n",
            "Canción 86637 (similitud: 0.88)\n"
          ]
        }
      ],
      "source": [
        "indices, similitudes = recomendar(3149, vectores_canciones)\n",
        "\n",
        "print(\"Canciones recomendadas similares a la 0:\")\n",
        "for i, score in zip(indices, similitudes):\n",
        "    print(f\"Canción {i} (similitud: {score:.2f})\")"
      ]
    },
    {
      "cell_type": "code",
      "execution_count": 33,
      "id": "6cb05703",
      "metadata": {
        "colab": {
          "base_uri": "https://localhost:8080/"
        },
        "id": "6cb05703",
        "outputId": "791219c0-6163-4ab2-f8df-7003687e577e"
      },
      "outputs": [
        {
          "output_type": "stream",
          "name": "stdout",
          "text": [
            "🔍 Canción base:\n",
            "Spanish Eyes - Al Martino - hip hop\n",
            "\n",
            "🎧 Canciones recomendadas:\n",
            "Spanish Eyes - Engelbert Humperdinck - pop\n",
            "Spanish Eyes - Elvis Presley - blues,gospel,pop rock\n",
            "Sad Eyes - Robert John - soundtrack,classical,jazz\n",
            "Ocean In Your Eyes - Smokey Robinson & The Miracles - soul,rnb\n"
          ]
        }
      ],
      "source": [
        "id_cancion = 3149  # Cambia esto según la canción base que elijas\n",
        "# Mostrar la canción base\n",
        "print(\"🔍 Canción base:\")\n",
        "print(f\"{df.loc[id_cancion, 'song']} - {df.loc[id_cancion, 'Artist(s)']} - {df.loc[id_cancion, 'Genre']}\")\n",
        "print()\n",
        "\n",
        "# Mostrar recomendaciones\n",
        "print(\"🎧 Canciones recomendadas:\")\n",
        "for i in indices:\n",
        "    print(f\"{df.loc[i, 'song']} - {df.loc[i, 'Artist(s)']} - {df.loc[i, 'Genre']}\")\n"
      ]
    },
    {
      "cell_type": "code",
      "execution_count": 34,
      "id": "a5552c60",
      "metadata": {
        "colab": {
          "base_uri": "https://localhost:8080/",
          "height": 661
        },
        "id": "a5552c60",
        "outputId": "df5ad50e-3066-46db-c2b5-c27c9cef6996"
      },
      "outputs": [
        {
          "output_type": "stream",
          "name": "stdout",
          "text": [
            "🔍 Canción base:\n"
          ]
        },
        {
          "output_type": "display_data",
          "data": {
            "text/plain": [
              "<IPython.core.display.HTML object>"
            ],
            "text/html": [
              "\n",
              "        <div style=\"display:inline-block; text-align:center; margin:10px; width:150px\">\n",
              "            <img src=\"https://i.scdn.co/image/ab67616d0000b2731c248e90c3e569f90aef9dec\" width=\"150\" style=\"border-radius:8px\"><br>\n",
              "            <b>22</b><br>\n",
              "            <small>Taylor Swift</small><br>\n",
              "            <small>pop,country,electropop</small><br>\n",
              "            <small>📅 22nd October 2012</small><br>\n",
              "            <small>🗓 2012-10-22</small><br>\n",
              "            <br>\n",
              "            <small>🎭 joy</small>\n",
              "        </div>\n",
              "        "
            ]
          },
          "metadata": {}
        },
        {
          "output_type": "stream",
          "name": "stdout",
          "text": [
            "🎧 Canciones recomendadas:\n"
          ]
        },
        {
          "output_type": "display_data",
          "data": {
            "text/plain": [
              "<IPython.core.display.HTML object>"
            ],
            "text/html": [
              "\n",
              "        <div style=\"display:inline-block; text-align:center; margin:10px; width:150px\">\n",
              "            <img src=\"https://i.scdn.co/image/ab67616d0000b273318443aab3531a0558e79a4d\" width=\"150\" style=\"border-radius:8px\"><br>\n",
              "            <b>22 Taylors Version</b><br>\n",
              "            <small>Taylor Swift</small><br>\n",
              "            <small>pop,country,electropop</small><br>\n",
              "            <small>📅 12th November 2021</small><br>\n",
              "            <small>🗓 2021-11-12</small><br>\n",
              "            <small>🔗 0.99</small><br>\n",
              "            <small>🎭 joy</small>\n",
              "        </div>\n",
              "        \n",
              "        <div style=\"display:inline-block; text-align:center; margin:10px; width:150px\">\n",
              "            <img src=\"https://i.scdn.co/image/ab67616d0000b2734cc52cd7a712842234e4fce2\" width=\"150\" style=\"border-radius:8px\"><br>\n",
              "            <b>Joji Presents: The Extravaganza</b><br>\n",
              "            <small>Joji</small><br>\n",
              "            <small>hip hop</small><br>\n",
              "            <small>📅 26th October 2018</small><br>\n",
              "            <small>🗓 2018-10-26</small><br>\n",
              "            <small>🔗 0.96</small><br>\n",
              "            <small>🎭 sadness</small>\n",
              "        </div>\n",
              "        \n",
              "        <div style=\"display:inline-block; text-align:center; margin:10px; width:150px\">\n",
              "            <img src=\"https://i.scdn.co/image/ab67616d0000b273e787cffec20aa2a396a61647\" width=\"150\" style=\"border-radius:8px\"><br>\n",
              "            <b>Cruel Summer</b><br>\n",
              "            <small>Taylor Swift</small><br>\n",
              "            <small>pop,country,electropop</small><br>\n",
              "            <small>📅 23rd August 2019</small><br>\n",
              "            <small>🗓 2019-08-23</small><br>\n",
              "            <small>🔗 0.96</small><br>\n",
              "            <small>🎭 anger</small>\n",
              "        </div>\n",
              "        \n",
              "        <div style=\"display:inline-block; text-align:center; margin:10px; width:150px\">\n",
              "            <img src=\"https://i.scdn.co/image/ab67616d0000b2731624590458126fc8b8c64c2f\" width=\"150\" style=\"border-radius:8px\"><br>\n",
              "            <b>BBM Baby</b><br>\n",
              "            <small>Lana Del Rey</small><br>\n",
              "            <small>electronic,pop,alternative</small><br>\n",
              "            <small>📅 1st January 2014</small><br>\n",
              "            <small>🗓 2014-01-01</small><br>\n",
              "            <small>🔗 0.96</small><br>\n",
              "            <small>🎭 joy</small>\n",
              "        </div>\n",
              "        "
            ]
          },
          "metadata": {}
        }
      ],
      "source": [
        "import spotipy\n",
        "from spotipy.oauth2 import SpotifyClientCredentials\n",
        "from IPython.display import Image, display, HTML\n",
        "\n",
        "# 🔐 Autenticación con la API de Spotify\n",
        "client_id = \"9d74d56ab0c5436ca827b968e647b1ca\"\n",
        "client_secret = \"db476f73e50b473bac2fa02fe820e635\"\n",
        "\n",
        "sp = spotipy.Spotify(auth_manager=SpotifyClientCredentials(client_id=client_id,\n",
        "                                                           client_secret=client_secret))\n",
        "\n",
        "def obtener_html_portada(song_name, album_name, artist_name, genre=None, similitud=None, release_date_dataset=None, emotion=None):\n",
        "    image_url = None\n",
        "    spotify_release_date = \"No disponible\"\n",
        "\n",
        "    # Nivel 1: track + album + artist\n",
        "    query = f\"track:{song_name} album:{album_name} artist:{artist_name}\"\n",
        "    result = sp.search(q=query, type='track', limit=1)\n",
        "\n",
        "    if result['tracks']['items']:\n",
        "        track = result['tracks']['items'][0]\n",
        "        image_url = track['album']['images'][0]['url'] if track['album']['images'] else None\n",
        "        spotify_release_date = track['album'].get('release_date', \"No disponible\")\n",
        "    else:\n",
        "        # Nivel 2: album + artist\n",
        "        query = f\"album:{album_name} artist:{artist_name}\"\n",
        "        result = sp.search(q=query, type='album', limit=1)\n",
        "        if result['albums']['items']:\n",
        "            album = result['albums']['items'][0]\n",
        "            image_url = album['images'][0]['url'] if album['images'] else None\n",
        "            spotify_release_date = album.get('release_date', \"No disponible\")\n",
        "        else:\n",
        "            # Nivel 3: solo album\n",
        "            query = f\"album:{album_name}\"\n",
        "            result = sp.search(q=query, type='album', limit=1)\n",
        "            if result['albums']['items']:\n",
        "                album = result['albums']['items'][0]\n",
        "                image_url = album['images'][0]['url'] if album['images'] else None\n",
        "                spotify_release_date = album.get('release_date', \"No disponible\")\n",
        "            else:\n",
        "                # Nivel 4: solo artist\n",
        "                query = f\"artist:{artist_name}\"\n",
        "                result = sp.search(q=query, type='artist', limit=1)\n",
        "                if result['artists']['items']:\n",
        "                    artist = result['artists']['items'][0]\n",
        "                    if artist.get('images'):\n",
        "                        image_url = artist['images'][0]['url']\n",
        "\n",
        "    # Construir HTML\n",
        "    if image_url:\n",
        "        html = f\"\"\"\n",
        "        <div style=\"display:inline-block; text-align:center; margin:10px; width:150px\">\n",
        "            <img src=\"{image_url}\" width=\"150\" style=\"border-radius:8px\"><br>\n",
        "            <b>{song_name}</b><br>\n",
        "            <small>{artist_name}</small><br>\n",
        "            <small>{genre if genre else ''}</small><br>\n",
        "            <small>📅 {release_date_dataset}</small><br>\n",
        "            <small>🗓 {spotify_release_date}</small><br>\n",
        "            {'<small>🔗 %.2f</small>' % similitud if similitud else ''}<br>\n",
        "            {'<small>🎭 %s</small>' % emotion if emotion else ''}\n",
        "        </div>\n",
        "        \"\"\"\n",
        "    else:\n",
        "        html = f\"\"\"\n",
        "        <div style=\"display:inline-block; text-align:center; margin:10px; width:150px\">\n",
        "            <div style=\"width:150px;height:150px;background:#ccc;border-radius:8px;\"></div>\n",
        "            <b>{song_name}</b><br>\n",
        "            <small>{artist_name}</small><br>\n",
        "            <small>No se encontró imagen</small>\n",
        "        </div>\n",
        "        \"\"\"\n",
        "    return html\n",
        "\n",
        "\n",
        "id_cancion = 90936\n",
        "\n",
        "# Canción base\n",
        "print(\"🔍 Canción base:\")\n",
        "nombre_cancion = df.loc[id_cancion, 'song']\n",
        "nombre_album = df.loc[id_cancion, 'Album']\n",
        "artista = df.loc[id_cancion, 'Artist(s)']\n",
        "genero = df.loc[id_cancion, 'Genre']\n",
        "fecha = df.loc[id_cancion, 'Release Date']\n",
        "emotion = df.loc[id_cancion, 'emotion']\n",
        "\n",
        "html_cancion_base = obtener_html_portada(nombre_cancion, nombre_album, artista, genero, None, fecha, emotion)\n",
        "display(HTML(html_cancion_base))\n",
        "\n",
        "# Recomendaciones\n",
        "indices, similitudes = recomendar(id_cancion, vectores_canciones)\n",
        "\n",
        "print(\"🎧 Canciones recomendadas:\")\n",
        "html_resultados = \"\"\n",
        "\n",
        "for i, sim in zip(indices, similitudes):\n",
        "    nombre_cancion = df.loc[i, 'song']\n",
        "    nombre_album = df.loc[i, 'Album']\n",
        "    artista = df.loc[i, 'Artist(s)']\n",
        "    genero = df.loc[i, 'Genre']\n",
        "    fecha = df.loc[i, 'Release Date']\n",
        "    emotion = df.loc[i, 'emotion']\n",
        "    html_resultados += obtener_html_portada(nombre_cancion, nombre_album, artista, genero, sim, fecha, emotion)\n",
        "\n",
        "# Mostrar en galería horizontal\n",
        "display(HTML(html_resultados))\n",
        "\n"
      ]
    },
    {
      "cell_type": "code",
      "source": [
        "import matplotlib.pyplot as plt\n",
        "\n",
        "# Visualizar similitud\n",
        "plt.figure(figsize=(8, 4))\n",
        "plt.barh(range(len(similitudes)), sorted(similitudes, reverse=True), color='skyblue')\n",
        "plt.yticks(range(len(similitudes)), [f\"{df.loc[i, 'song']}\"[:25] for i in indices])\n",
        "plt.xlabel('Similitud coseno')\n",
        "plt.title('Similitud entre canción base y recomendadas')\n",
        "plt.gca().invert_yaxis()\n",
        "plt.tight_layout()\n",
        "plt.show()\n"
      ],
      "metadata": {
        "colab": {
          "base_uri": "https://localhost:8080/",
          "height": 407
        },
        "id": "-gdp1PSS5M4i",
        "outputId": "3e02e207-22e4-442c-ca90-945da7cd62f2"
      },
      "id": "-gdp1PSS5M4i",
      "execution_count": 35,
      "outputs": [
        {
          "output_type": "display_data",
          "data": {
            "text/plain": [
              "<Figure size 800x400 with 1 Axes>"
            ],
            "image/png": "[encoded data removed]"
          },
          "metadata": {}
        }
      ]
    },
    {
      "cell_type": "code",
      "source": [
        "recomendaciones = pd.DataFrame({\n",
        "    'Canción': [df.loc[i, 'song'] for i in indices],\n",
        "    'Artista': [df.loc[i, 'Artist(s)'] for i in indices],\n",
        "    'Género': [df.loc[i, 'Genre'] for i in indices],\n",
        "    'Similitud': [round(score, 3) for score in similitudes]\n",
        "})\n",
        "\n",
        "# Mostrar tabla ordenada\n",
        "display(recomendaciones)\n"
      ],
      "metadata": {
        "colab": {
          "base_uri": "https://localhost:8080/",
          "height": 175
        },
        "id": "q2Fd4eCF5OyF",
        "outputId": "02e19363-e821-4834-da87-67e840ba1e1c"
      },
      "id": "q2Fd4eCF5OyF",
      "execution_count": 36,
      "outputs": [
        {
          "output_type": "display_data",
          "data": {
            "text/plain": [
              "                           Canción       Artista                      Género  \\\n",
              "0               22 Taylors Version  Taylor Swift      pop,country,electropop   \n",
              "1  Joji Presents: The Extravaganza          Joji                     hip hop   \n",
              "2                     Cruel Summer  Taylor Swift      pop,country,electropop   \n",
              "3                         BBM Baby  Lana Del Rey  electronic,pop,alternative   \n",
              "\n",
              "   Similitud  \n",
              "0      0.994  \n",
              "1      0.962  \n",
              "2      0.961  \n",
              "3      0.960  "
            ],
            "text/html": [
              "\n",
              "  <div id=\"df-e90f0da3-058d-4899-9f19-0c650fe211a3\" class=\"colab-df-container\">\n",
              "    <div>\n",
              "<style scoped>\n",
              "    .dataframe tbody tr th:only-of-type {\n",
              "        vertical-align: middle;\n",
              "    }\n",
              "\n",
              "    .dataframe tbody tr th {\n",
              "        vertical-align: top;\n",
              "    }\n",
              "\n",
              "    .dataframe thead th {\n",
              "        text-align: right;\n",
              "    }\n",
              "</style>\n",
              "<table border=\"1\" class=\"dataframe\">\n",
              "  <thead>\n",
              "    <tr style=\"text-align: right;\">\n",
              "      <th></th>\n",
              "      <th>Canción</th>\n",
              "      <th>Artista</th>\n",
              "      <th>Género</th>\n",
              "      <th>Similitud</th>\n",
              "    </tr>\n",
              "  </thead>\n",
              "  <tbody>\n",
              "    <tr>\n",
              "      <th>0</th>\n",
              "      <td>22 Taylors Version</td>\n",
              "      <td>Taylor Swift</td>\n",
              "      <td>pop,country,electropop</td>\n",
              "      <td>0.994</td>\n",
              "    </tr>\n",
              "    <tr>\n",
              "      <th>1</th>\n",
              "      <td>Joji Presents: The Extravaganza</td>\n",
              "      <td>Joji</td>\n",
              "      <td>hip hop</td>\n",
              "      <td>0.962</td>\n",
              "    </tr>\n",
              "    <tr>\n",
              "      <th>2</th>\n",
              "      <td>Cruel Summer</td>\n",
              "      <td>Taylor Swift</td>\n",
              "      <td>pop,country,electropop</td>\n",
              "      <td>0.961</td>\n",
              "    </tr>\n",
              "    <tr>\n",
              "      <th>3</th>\n",
              "      <td>BBM Baby</td>\n",
              "      <td>Lana Del Rey</td>\n",
              "      <td>electronic,pop,alternative</td>\n",
              "      <td>0.960</td>\n",
              "    </tr>\n",
              "  </tbody>\n",
              "</table>\n",
              "</div>\n",
              "    <div class=\"colab-df-buttons\">\n",
              "\n",
              "  <div class=\"colab-df-container\">\n",
              "    <button class=\"colab-df-convert\" onclick=\"convertToInteractive('df-e90f0da3-058d-4899-9f19-0c650fe211a3')\"\n",
              "            title=\"Convert this dataframe to an interactive table.\"\n",
              "            style=\"display:none;\">\n",
              "\n",
              "  <svg xmlns=\"http://www.w3.org/2000/svg\" height=\"24px\" viewBox=\"0 -960 960 960\">\n",
              "    <path d=\"M120-120v-720h720v720H120Zm60-500h600v-160H180v160Zm220 220h160v-160H400v160Zm0 220h160v-160H400v160ZM180-400h160v-160H180v160Zm440 0h160v-160H620v160ZM180-180h160v-160H180v160Zm440 0h160v-160H620v160Z\"/>\n",
              "  </svg>\n",
              "    </button>\n",
              "\n",
              "  <style>\n",
              "    .colab-df-container {\n",
              "      display:flex;\n",
              "      gap: 12px;\n",
              "    }\n",
              "\n",
              "    .colab-df-convert {\n",
              "      background-color: #E8F0FE;\n",
              "      border: none;\n",
              "      border-radius: 50%;\n",
              "      cursor: pointer;\n",
              "      display: none;\n",
              "      fill: #1967D2;\n",
              "      height: 32px;\n",
              "      padding: 0 0 0 0;\n",
              "      width: 32px;\n",
              "    }\n",
              "\n",
              "    .colab-df-convert:hover {\n",
              "      background-color: #E2EBFA;\n",
              "      box-shadow: 0px 1px 2px rgba(60, 64, 67, 0.3), 0px 1px 3px 1px rgba(60, 64, 67, 0.15);\n",
              "      fill: #174EA6;\n",
              "    }\n",
              "\n",
              "    .colab-df-buttons div {\n",
              "      margin-bottom: 4px;\n",
              "    }\n",
              "\n",
              "    [theme=dark] .colab-df-convert {\n",
              "      background-color: #3B4455;\n",
              "      fill: #D2E3FC;\n",
              "    }\n",
              "\n",
              "    [theme=dark] .colab-df-convert:hover {\n",
              "      background-color: #434B5C;\n",
              "      box-shadow: 0px 1px 3px 1px rgba(0, 0, 0, 0.15);\n",
              "      filter: drop-shadow(0px 1px 2px rgba(0, 0, 0, 0.3));\n",
              "      fill: #FFFFFF;\n",
              "    }\n",
              "  </style>\n",
              "\n",
              "    <script>\n",
              "      const buttonEl =\n",
              "        document.querySelector('#df-e90f0da3-058d-4899-9f19-0c650fe211a3 button.colab-df-convert');\n",
              "      buttonEl.style.display =\n",
              "        google.colab.kernel.accessAllowed ? 'block' : 'none';\n",
              "\n",
              "      async function convertToInteractive(key) {\n",
              "        const element = document.querySelector('#df-e90f0da3-058d-4899-9f19-0c650fe211a3');\n",
              "        const dataTable =\n",
              "          await google.colab.kernel.invokeFunction('convertToInteractive',\n",
              "                                                    [key], {});\n",
              "        if (!dataTable) return;\n",
              "\n",
              "        const docLinkHtml = 'Like what you see? Visit the ' +\n",
              "          '<a target=\"_blank\" href=https://colab.research.google.com/notebooks/data_table.ipynb>data table notebook</a>'\n",
              "          + ' to learn more about interactive tables.';\n",
              "        element.innerHTML = '';\n",
              "        dataTable['output_type'] = 'display_data';\n",
              "        await google.colab.output.renderOutput(dataTable, element);\n",
              "        const docLink = document.createElement('div');\n",
              "        docLink.innerHTML = docLinkHtml;\n",
              "        element.appendChild(docLink);\n",
              "      }\n",
              "    </script>\n",
              "  </div>\n",
              "\n",
              "\n",
              "    <div id=\"df-82c4bb5c-dbf3-4e84-b30c-add009e0f72c\">\n",
              "      <button class=\"colab-df-quickchart\" onclick=\"quickchart('df-82c4bb5c-dbf3-4e84-b30c-add009e0f72c')\"\n",
              "                title=\"Suggest charts\"\n",
              "                style=\"display:none;\">\n",
              "\n",
              "<svg xmlns=\"http://www.w3.org/2000/svg\" height=\"24px\"viewBox=\"0 0 24 24\"\n",
              "     width=\"24px\">\n",
              "    <g>\n",
              "        <path d=\"M19 3H5c-1.1 0-2 .9-2 2v14c0 1.1.9 2 2 2h14c1.1 0 2-.9 2-2V5c0-1.1-.9-2-2-2zM9 17H7v-7h2v7zm4 0h-2V7h2v10zm4 0h-2v-4h2v4z\"/>\n",
              "    </g>\n",
              "</svg>\n",
              "      </button>\n",
              "\n",
              "<style>\n",
              "  .colab-df-quickchart {\n",
              "      --bg-color: #E8F0FE;\n",
              "      --fill-color: #1967D2;\n",
              "      --hover-bg-color: #E2EBFA;\n",
              "      --hover-fill-color: #174EA6;\n",
              "      --disabled-fill-color: #AAA;\n",
              "      --disabled-bg-color: #DDD;\n",
              "  }\n",
              "\n",
              "  [theme=dark] .colab-df-quickchart {\n",
              "      --bg-color: #3B4455;\n",
              "      --fill-color: #D2E3FC;\n",
              "      --hover-bg-color: #434B5C;\n",
              "      --hover-fill-color: #FFFFFF;\n",
              "      --disabled-bg-color: #3B4455;\n",
              "      --disabled-fill-color: #666;\n",
              "  }\n",
              "\n",
              "  .colab-df-quickchart {\n",
              "    background-color: var(--bg-color);\n",
              "    border: none;\n",
              "    border-radius: 50%;\n",
              "    cursor: pointer;\n",
              "    display: none;\n",
              "    fill: var(--fill-color);\n",
              "    height: 32px;\n",
              "    padding: 0;\n",
              "    width: 32px;\n",
              "  }\n",
              "\n",
              "  .colab-df-quickchart:hover {\n",
              "    background-color: var(--hover-bg-color);\n",
              "    box-shadow: 0 1px 2px rgba(60, 64, 67, 0.3), 0 1px 3px 1px rgba(60, 64, 67, 0.15);\n",
              "    fill: var(--button-hover-fill-color);\n",
              "  }\n",
              "\n",
              "  .colab-df-quickchart-complete:disabled,\n",
              "  .colab-df-quickchart-complete:disabled:hover {\n",
              "    background-color: var(--disabled-bg-color);\n",
              "    fill: var(--disabled-fill-color);\n",
              "    box-shadow: none;\n",
              "  }\n",
              "\n",
              "  .colab-df-spinner {\n",
              "    border: 2px solid var(--fill-color);\n",
              "    border-color: transparent;\n",
              "    border-bottom-color: var(--fill-color);\n",
              "    animation:\n",
              "      spin 1s steps(1) infinite;\n",
              "  }\n",
              "\n",
              "  @keyframes spin {\n",
              "    0% {\n",
              "      border-color: transparent;\n",
              "      border-bottom-color: var(--fill-color);\n",
              "      border-left-color: var(--fill-color);\n",
              "    }\n",
              "    20% {\n",
              "      border-color: transparent;\n",
              "      border-left-color: var(--fill-color);\n",
              "      border-top-color: var(--fill-color);\n",
              "    }\n",
              "    30% {\n",
              "      border-color: transparent;\n",
              "      border-left-color: var(--fill-color);\n",
              "      border-top-color: var(--fill-color);\n",
              "      border-right-color: var(--fill-color);\n",
              "    }\n",
              "    40% {\n",
              "      border-color: transparent;\n",
              "      border-right-color: var(--fill-color);\n",
              "      border-top-color: var(--fill-color);\n",
              "    }\n",
              "    60% {\n",
              "      border-color: transparent;\n",
              "      border-right-color: var(--fill-color);\n",
              "    }\n",
              "    80% {\n",
              "      border-color: transparent;\n",
              "      border-right-color: var(--fill-color);\n",
              "      border-bottom-color: var(--fill-color);\n",
              "    }\n",
              "    90% {\n",
              "      border-color: transparent;\n",
              "      border-bottom-color: var(--fill-color);\n",
              "    }\n",
              "  }\n",
              "</style>\n",
              "\n",
              "      <script>\n",
              "        async function quickchart(key) {\n",
              "          const quickchartButtonEl =\n",
              "            document.querySelector('#' + key + ' button');\n",
              "          quickchartButtonEl.disabled = true;  // To prevent multiple clicks.\n",
              "          quickchartButtonEl.classList.add('colab-df-spinner');\n",
              "          try {\n",
              "            const charts = await google.colab.kernel.invokeFunction(\n",
              "                'suggestCharts', [key], {});\n",
              "          } catch (error) {\n",
              "            console.error('Error during call to suggestCharts:', error);\n",
              "          }\n",
              "          quickchartButtonEl.classList.remove('colab-df-spinner');\n",
              "          quickchartButtonEl.classList.add('colab-df-quickchart-complete');\n",
              "        }\n",
              "        (() => {\n",
              "          let quickchartButtonEl =\n",
              "            document.querySelector('#df-82c4bb5c-dbf3-4e84-b30c-add009e0f72c button');\n",
              "          quickchartButtonEl.style.display =\n",
              "            google.colab.kernel.accessAllowed ? 'block' : 'none';\n",
              "        })();\n",
              "      </script>\n",
              "    </div>\n",
              "\n",
              "  <div id=\"id_3e46c1ee-77b8-4bbf-bb1c-dbd92019a283\">\n",
              "    <style>\n",
              "      .colab-df-generate {\n",
              "        background-color: #E8F0FE;\n",
              "        border: none;\n",
              "        border-radius: 50%;\n",
              "        cursor: pointer;\n",
              "        display: none;\n",
              "        fill: #1967D2;\n",
              "        height: 32px;\n",
              "        padding: 0 0 0 0;\n",
              "        width: 32px;\n",
              "      }\n",
              "\n",
              "      .colab-df-generate:hover {\n",
              "        background-color: #E2EBFA;\n",
              "        box-shadow: 0px 1px 2px rgba(60, 64, 67, 0.3), 0px 1px 3px 1px rgba(60, 64, 67, 0.15);\n",
              "        fill: #174EA6;\n",
              "      }\n",
              "\n",
              "      [theme=dark] .colab-df-generate {\n",
              "        background-color: #3B4455;\n",
              "        fill: #D2E3FC;\n",
              "      }\n",
              "\n",
              "      [theme=dark] .colab-df-generate:hover {\n",
              "        background-color: #434B5C;\n",
              "        box-shadow: 0px 1px 3px 1px rgba(0, 0, 0, 0.15);\n",
              "        filter: drop-shadow(0px 1px 2px rgba(0, 0, 0, 0.3));\n",
              "        fill: #FFFFFF;\n",
              "      }\n",
              "    </style>\n",
              "    <button class=\"colab-df-generate\" onclick=\"generateWithVariable('recomendaciones')\"\n",
              "            title=\"Generate code using this dataframe.\"\n",
              "            style=\"display:none;\">\n",
              "\n",
              "  <svg xmlns=\"http://www.w3.org/2000/svg\" height=\"24px\"viewBox=\"0 0 24 24\"\n",
              "       width=\"24px\">\n",
              "    <path d=\"M7,19H8.4L18.45,9,17,7.55,7,17.6ZM5,21V16.75L18.45,3.32a2,2,0,0,1,2.83,0l1.4,1.43a1.91,1.91,0,0,1,.58,1.4,1.91,1.91,0,0,1-.58,1.4L9.25,21ZM18.45,9,17,7.55Zm-12,3A5.31,5.31,0,0,0,4.9,8.1,5.31,5.31,0,0,0,1,6.5,5.31,5.31,0,0,0,4.9,4.9,5.31,5.31,0,0,0,6.5,1,5.31,5.31,0,0,0,8.1,4.9,5.31,5.31,0,0,0,12,6.5,5.46,5.46,0,0,0,6.5,12Z\"/>\n",
              "  </svg>\n",
              "    </button>\n",
              "    <script>\n",
              "      (() => {\n",
              "      const buttonEl =\n",
              "        document.querySelector('#id_3e46c1ee-77b8-4bbf-bb1c-dbd92019a283 button.colab-df-generate');\n",
              "      buttonEl.style.display =\n",
              "        google.colab.kernel.accessAllowed ? 'block' : 'none';\n",
              "\n",
              "      buttonEl.onclick = () => {\n",
              "        google.colab.notebook.generateWithVariable('recomendaciones');\n",
              "      }\n",
              "      })();\n",
              "    </script>\n",
              "  </div>\n",
              "\n",
              "    </div>\n",
              "  </div>\n"
            ],
            "application/vnd.google.colaboratory.intrinsic+json": {
              "type": "dataframe",
              "variable_name": "recomendaciones",
              "summary": "{\n  \"name\": \"recomendaciones\",\n  \"rows\": 4,\n  \"fields\": [\n    {\n      \"column\": \"Canci\\u00f3n\",\n      \"properties\": {\n        \"dtype\": \"string\",\n        \"num_unique_values\": 4,\n        \"samples\": [\n          \"Joji Presents: The Extravaganza\",\n          \"BBM Baby\",\n          \"22 Taylors Version\"\n        ],\n        \"semantic_type\": \"\",\n        \"description\": \"\"\n      }\n    },\n    {\n      \"column\": \"Artista\",\n      \"properties\": {\n        \"dtype\": \"string\",\n        \"num_unique_values\": 3,\n        \"samples\": [\n          \"Taylor Swift\",\n          \"Joji\",\n          \"Lana Del Rey\"\n        ],\n        \"semantic_type\": \"\",\n        \"description\": \"\"\n      }\n    },\n    {\n      \"column\": \"G\\u00e9nero\",\n      \"properties\": {\n        \"dtype\": \"string\",\n        \"num_unique_values\": 3,\n        \"samples\": [\n          \"pop,country,electropop\",\n          \"hip hop\",\n          \"electronic,pop,alternative\"\n        ],\n        \"semantic_type\": \"\",\n        \"description\": \"\"\n      }\n    },\n    {\n      \"column\": \"Similitud\",\n      \"properties\": {\n        \"dtype\": \"float32\",\n        \"num_unique_values\": 4,\n        \"samples\": [\n          0.9620000123977661,\n          0.9599999785423279,\n          0.9940000176429749\n        ],\n        \"semantic_type\": \"\",\n        \"description\": \"\"\n      }\n    }\n  ]\n}"
            }
          },
          "metadata": {}
        }
      ]
    }
  ],
  "metadata": {
    "kernelspec": {
      "display_name": "Python 3",
      "language": "python",
      "name": "python3"
    },
    "language_info": {
      "codemirror_mode": {
        "name": "ipython",
        "version": 3
      },
      "file_extension": ".py",
      "mimetype": "text/x-python",
      "name": "python",
      "nbconvert_exporter": "python",
      "pygments_lexer": "ipython3",
      "version": "3.12.6"
    },
    "colab": {
      "provenance": []
    }
  },
  "nbformat": 4,
  "nbformat_minor": 5
}