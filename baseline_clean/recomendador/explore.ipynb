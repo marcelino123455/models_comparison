{
 "cells": [
  {
   "cell_type": "code",
   "execution_count": 1,
   "id": "6ef4e7ec",
   "metadata": {},
   "outputs": [],
   "source": [
    "import pandas as pd\n",
    "import numpy as np"
   ]
  },
  {
   "cell_type": "code",
   "execution_count": 4,
   "id": "b90b1e91",
   "metadata": {},
   "outputs": [],
   "source": [
    "path_df_es = \"../../data/ml-workshop.songs_lang.csv\"\n",
    "df = pd.read_csv(path_df_es)\n"
   ]
  },
  {
   "cell_type": "code",
   "execution_count": 5,
   "id": "a43c0046",
   "metadata": {},
   "outputs": [
    {
     "name": "stdout",
     "output_type": "stream",
     "text": [
      "Index(['_id', 'artist', 'genre', 'lyrics', 'composer', 'lyrics_word_count',\n",
      "       'processed_date', 'lang', 'title_songs_new', 'spotify_processed',\n",
      "       'spotify_processed_date', 'source', 'version', 'spotify_found',\n",
      "       'spotify_id', 'popularity', 'explicit_content', 'duration_ms',\n",
      "       'release_date', 'spotify_artist_name', 'spotify_track_name',\n",
      "       'preview_url', 'external_urls.spotify', 'danceability', 'energy', 'key',\n",
      "       'loudness', 'mode', 'speechiness', 'acousticness', 'instrumentalness',\n",
      "       'liveness', 'valence', 'tempo', 'time_signature', 'letras_path',\n",
      "       'embed', 'is_human_study'],\n",
      "      dtype='object')\n"
     ]
    }
   ],
   "source": [
    "print(df.columns)"
   ]
  },
  {
   "cell_type": "code",
   "execution_count": 6,
   "id": "a4217fbb",
   "metadata": {},
   "outputs": [
    {
     "name": "stdout",
     "output_type": "stream",
     "text": [
      "array_numeric: ['lyrics_word_count', 'popularity', 'duration_ms'] 3\n",
      "array_str: ['_id', 'artist', 'genre', 'lyrics', 'composer', 'processed_date', 'lang', 'title_songs_new', 'spotify_processed', 'spotify_processed_date', 'source', 'version', 'spotify_found', 'spotify_id', 'explicit_content', 'release_date', 'spotify_artist_name', 'spotify_track_name', 'preview_url', 'external_urls.spotify', 'danceability', 'energy', 'key', 'loudness', 'mode', 'speechiness', 'acousticness', 'instrumentalness', 'liveness', 'valence', 'tempo', 'time_signature', 'letras_path', 'embed', 'is_human_study'] 35\n"
     ]
    }
   ],
   "source": [
    "i = 0\n",
    "array_numeric = []\n",
    "array_str = []\n",
    "for col, valor in df.iloc[0].items():\n",
    "    if isinstance(valor, np.int64):\n",
    "        # print(col, \"-\", valor, type(valor))\n",
    "        array_numeric.append(col)\n",
    "    else:\n",
    "        array_str.append(col)\n",
    "\n",
    "print(\"array_numeric:\", array_numeric, len(array_numeric))\n",
    "print(\"array_str:\", array_str, len(array_str))\n"
   ]
  }
 ],
 "metadata": {
  "kernelspec": {
   "display_name": ".venv",
   "language": "python",
   "name": "python3"
  },
  "language_info": {
   "codemirror_mode": {
    "name": "ipython",
    "version": 3
   },
   "file_extension": ".py",
   "mimetype": "text/x-python",
   "name": "python",
   "nbconvert_exporter": "python",
   "pygments_lexer": "ipython3",
   "version": "3.12.3"
  }
 },
 "nbformat": 4,
 "nbformat_minor": 5
}
