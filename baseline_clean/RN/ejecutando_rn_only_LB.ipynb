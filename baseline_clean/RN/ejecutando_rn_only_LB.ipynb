{
 "cells": [
  {
   "cell_type": "code",
   "execution_count": 1,
   "id": "62017b0f",
   "metadata": {
    "execution": {
     "iopub.execute_input": "2025-08-03T21:46:05.349688Z",
     "iopub.status.busy": "2025-08-03T21:46:05.349526Z",
     "iopub.status.idle": "2025-08-03T21:46:09.246550Z",
     "shell.execute_reply": "2025-08-03T21:46:09.246099Z"
    },
    "papermill": {
     "duration": 3.901856,
     "end_time": "2025-08-03T21:46:09.247721",
     "exception": false,
     "start_time": "2025-08-03T21:46:05.345865",
     "status": "completed"
    },
    "tags": []
   },
   "outputs": [],
   "source": [
    "import torch\n",
    "import torch.nn as nn\n",
    "import torch.optim as optim\n",
    "from torch.utils.data import DataLoader, TensorDataset\n",
    "import numpy as np\n",
    "import pandas as pd\n",
    "import os\n",
    "from sklearn.model_selection import train_test_split\n",
    "import psutil\n",
    "import matplotlib.pyplot as plt\n",
    "\n",
    "from sklearn.metrics import confusion_matrix\n",
    "import seaborn as sns\n",
    "import papermill"
   ]
  },
  {
   "cell_type": "code",
   "execution_count": 2,
   "id": "5faa5861",
   "metadata": {
    "execution": {
     "iopub.execute_input": "2025-08-03T21:46:09.256044Z",
     "iopub.status.busy": "2025-08-03T21:46:09.255365Z",
     "iopub.status.idle": "2025-08-03T21:46:09.260137Z",
     "shell.execute_reply": "2025-08-03T21:46:09.259324Z"
    },
    "papermill": {
     "duration": 0.009717,
     "end_time": "2025-08-03T21:46:09.261032",
     "exception": false,
     "start_time": "2025-08-03T21:46:09.251315",
     "status": "completed"
    },
    "tags": []
   },
   "outputs": [
    {
     "name": "stdout",
     "output_type": "stream",
     "text": [
      "2.6.0\n"
     ]
    }
   ],
   "source": [
    "print(papermill.__version__)"
   ]
  },
  {
   "cell_type": "code",
   "execution_count": 3,
   "id": "b4775409",
   "metadata": {
    "execution": {
     "iopub.execute_input": "2025-08-03T21:46:09.268967Z",
     "iopub.status.busy": "2025-08-03T21:46:09.268316Z",
     "iopub.status.idle": "2025-08-03T21:46:12.963031Z",
     "shell.execute_reply": "2025-08-03T21:46:12.962007Z"
    },
    "papermill": {
     "duration": 3.700203,
     "end_time": "2025-08-03T21:46:12.964073",
     "exception": false,
     "start_time": "2025-08-03T21:46:09.263870",
     "status": "completed"
    },
    "tags": []
   },
   "outputs": [
    {
     "name": "stdout",
     "output_type": "stream",
     "text": [
      "(108138, 300)\n",
      "(108138,)\n",
      "RAM usada (MB): 1203.29\n"
     ]
    }
   ],
   "source": [
    "DATA_PATH =\"../data\"\n",
    "path_lb_embb = os.path.join(DATA_PATH, \"lb_npy.npy\")\n",
    "path_dataset = os.path.join(DATA_PATH, \"spotify_dataset_sin_duplicados_4.csv\")\n",
    "\n",
    "# Para hacer pruebitas y luego mandarlo como sbatch\n",
    "TESTING = False\n",
    "_EMBEDDINGS = np.load(path_lb_embb)\n",
    "\n",
    "if TESTING:\n",
    "    _NROWS = 1000\n",
    "    _EMBEDDINGS = _EMBEDDINGS[:1000]\n",
    "    _EPHOCS = 1000\n",
    "else:\n",
    "    _NROWS = None\n",
    "    _EPHOCS = 10000\n",
    "    \n",
    "\n",
    "df = pd.read_csv(path_dataset, nrows = _NROWS)\n",
    "df['Explicit_binary'] = df['Explicit'].map({'Yes': 1, 'No': 0})\n",
    "\n",
    "X = _EMBEDDINGS\n",
    "\n",
    "y = df['Explicit_binary']\n",
    "\n",
    "\n",
    "\n",
    "X_train, X_test, y_train, y_test = train_test_split(\n",
    "    X, y, test_size=0.2, random_state=42 \n",
    ")\n",
    "\n",
    "y_train = y_train.values.reshape(-1, 1).astype(np.float32)\n",
    "y_test = y_test.values.reshape(-1, 1).astype(np.float32)\n",
    "\n",
    "\n",
    "def seeRam():\n",
    "    process = psutil.Process(os.getpid())\n",
    "    print(f\"RAM usada (MB): {process.memory_info().rss / (1024 * 1024):.2f}\")\n",
    "\n",
    "print(X.shape)\n",
    "print(y.shape)\n",
    "seeRam()"
   ]
  },
  {
   "cell_type": "code",
   "execution_count": 4,
   "id": "890be7e5",
   "metadata": {
    "execution": {
     "iopub.execute_input": "2025-08-03T21:46:12.972146Z",
     "iopub.status.busy": "2025-08-03T21:46:12.971456Z",
     "iopub.status.idle": "2025-08-03T21:46:12.978016Z",
     "shell.execute_reply": "2025-08-03T21:46:12.977070Z"
    },
    "papermill": {
     "duration": 0.011561,
     "end_time": "2025-08-03T21:46:12.978889",
     "exception": false,
     "start_time": "2025-08-03T21:46:12.967328",
     "status": "completed"
    },
    "tags": []
   },
   "outputs": [],
   "source": [
    "# CODE HERE for backward pass\n",
    "\n",
    "# f0, f1, f2\n",
    "class Linear:\n",
    "    def __init__(self, in_dim, out_dim):\n",
    "        self.W = np.random.randn(in_dim, out_dim) * np.sqrt(2.0 / in_dim)\n",
    "        self.b = np.zeros((1, out_dim))\n",
    "    def forward(self, x):\n",
    "        self.x = x\n",
    "        return x @ self.W + self.b\n",
    "\n",
    "    def backward(self, grad_output):\n",
    "        self.grad_W = self.x.T @ grad_output\n",
    "        self.grad_b = np.sum(grad_output, axis=0, keepdims=True)\n",
    "        return grad_output @ self.W.T\n",
    "\n",
    "# h0, h1, h2, ....\n",
    "class ReLU:\n",
    "    def forward(self, x):\n",
    "        self.mask = x > 0\n",
    "        return x * self.mask\n",
    "    def backward(self, grad_output):\n",
    "        return grad_output * self.mask\n",
    "\n",
    "class Sigmoid:\n",
    "    def forward(self, x):\n",
    "        self.out = 1 / (1 + np.exp(-x))\n",
    "        return self.out\n",
    "\n",
    "    def backward(self, grad_output):\n",
    "        return grad_output * self.out * (1 - self.out)\n",
    "\n",
    "# error\n",
    "class MSELoss:\n",
    "    def forward(self, pred, target):\n",
    "        self.diff = pred - target\n",
    "        return np.mean(self.diff ** 2)\n",
    "    def backward(self):\n",
    "        return 2.0 * self.diff / self.diff.shape[0]"
   ]
  },
  {
   "cell_type": "code",
   "execution_count": 5,
   "id": "ea177d6d",
   "metadata": {
    "execution": {
     "iopub.execute_input": "2025-08-03T21:46:12.985983Z",
     "iopub.status.busy": "2025-08-03T21:46:12.985334Z",
     "iopub.status.idle": "2025-08-03T21:46:12.994059Z",
     "shell.execute_reply": "2025-08-03T21:46:12.993237Z"
    },
    "papermill": {
     "duration": 0.01351,
     "end_time": "2025-08-03T21:46:12.994927",
     "exception": false,
     "start_time": "2025-08-03T21:46:12.981417",
     "status": "completed"
    },
    "tags": []
   },
   "outputs": [],
   "source": [
    "class MLP:\n",
    "    def __init__(self, dims):\n",
    "        self.layers = []\n",
    "        for i in range(len(dims)-2):\n",
    "            self.layers.append(Linear(dims[i], dims[i+1])) #fi\n",
    "            self.layers.append(ReLU()) # hi\n",
    "\n",
    "        self.layers.append(Linear(dims[-2], dims[-1]))\n",
    "\n",
    "    # CODE HERE (forward, backward pass)\n",
    "    def forward(self, x):\n",
    "        for l in self.layers:\n",
    "            x = l.forward(x)\n",
    "        return x\n",
    "\n",
    "    def backward(self, grad):\n",
    "        for l in reversed(self.layers):\n",
    "            grad = l.backward(grad)\n",
    "\n",
    "    @property\n",
    "    def n_params(self):\n",
    "        total = 0\n",
    "        for l in self.layers:\n",
    "            if isinstance(l, Linear):\n",
    "                total += l.W.size + l.b.size\n",
    "        return total\n",
    "\n",
    "    def train(self, X, y, lr=0.1, epochs=10000, print_every=100):\n",
    "      loss_fn = MSELoss()\n",
    "      history = []\n",
    "      for epoch in range(epochs):\n",
    "          #forward\n",
    "          pred = self.forward(X)\n",
    "          loss = loss_fn.forward(pred, y)\n",
    "          #backward\n",
    "          grad = loss_fn.backward()\n",
    "          self.backward(grad)\n",
    "\n",
    "          # Descenso de la gradiente\n",
    "          for layer in self.layers:\n",
    "              if isinstance(layer, Linear):\n",
    "                  layer.W -= lr * layer.grad_W\n",
    "                  layer.b -= lr * layer.grad_b\n",
    "          history.append(loss)\n",
    "          if epoch % print_every == 0:\n",
    "              print(f\"Epoch {epoch}, Loss: {loss:.6f}\")\n",
    "      return history\n",
    "\n",
    "    def train_batches(self, X, y, lr=0.1, epochs=10000, batch_size=32, print_every=100):\n",
    "        loss_fn = MSELoss()\n",
    "        history = []\n",
    "\n",
    "        n = X.shape[0]\n",
    "        for epoch in range(epochs):\n",
    "            # Barajamos los datos al inicio de cada época\n",
    "            perm = np.random.permutation(n)\n",
    "            X_shuffled = X[perm]\n",
    "            y_shuffled = y[perm]\n",
    "\n",
    "            for i in range(0, n, batch_size):\n",
    "                xb = X_shuffled[i:i+batch_size]\n",
    "                yb = y_shuffled[i:i+batch_size]\n",
    "\n",
    "                # Forward\n",
    "                pred = self.forward(xb)\n",
    "                loss = loss_fn.forward(pred, yb)\n",
    "\n",
    "                # Backward\n",
    "                grad = loss_fn.backward()\n",
    "                self.backward(grad)\n",
    "\n",
    "                # Actualización\n",
    "                for layer in self.layers:\n",
    "                    if isinstance(layer, Linear):\n",
    "                        layer.W -= lr * layer.grad_W\n",
    "                        layer.b -= lr * layer.grad_b\n",
    "\n",
    "            pred_full = self.forward(X)\n",
    "            epoch_loss = loss_fn.forward(pred_full, y)\n",
    "            history.append(epoch_loss)\n",
    "\n",
    "            if epoch % print_every == 0:\n",
    "                print(f\"Epoch {epoch}, Loss: {epoch_loss:.6f}\")\n",
    "\n",
    "        return history\n"
   ]
  },
  {
   "cell_type": "code",
   "execution_count": 6,
   "id": "acb0bd1c",
   "metadata": {
    "execution": {
     "iopub.execute_input": "2025-08-03T21:46:13.002501Z",
     "iopub.status.busy": "2025-08-03T21:46:13.001839Z",
     "iopub.status.idle": "2025-08-03T21:46:13.006030Z",
     "shell.execute_reply": "2025-08-03T21:46:13.005438Z"
    },
    "papermill": {
     "duration": 0.008694,
     "end_time": "2025-08-03T21:46:13.006881",
     "exception": false,
     "start_time": "2025-08-03T21:46:12.998187",
     "status": "completed"
    },
    "tags": []
   },
   "outputs": [
    {
     "name": "stdout",
     "output_type": "stream",
     "text": [
      "(86510, 300)\n",
      "(86510, 1)\n"
     ]
    }
   ],
   "source": [
    "print(X_train.shape)\n",
    "# y_train = Y.values.reshape(-1, 1).astype(np.float32) \n",
    "print(y_train.shape)"
   ]
  },
  {
   "cell_type": "code",
   "execution_count": 7,
   "id": "107320ec",
   "metadata": {
    "execution": {
     "iopub.execute_input": "2025-08-03T21:46:13.015113Z",
     "iopub.status.busy": "2025-08-03T21:46:13.014454Z",
     "iopub.status.idle": "2025-08-03T22:38:19.838835Z",
     "shell.execute_reply": "2025-08-03T22:38:19.837966Z"
    },
    "papermill": {
     "duration": 3126.829796,
     "end_time": "2025-08-03T22:38:19.840051",
     "exception": false,
     "start_time": "2025-08-03T21:46:13.010255",
     "status": "completed"
    },
    "tags": []
   },
   "outputs": [
    {
     "name": "stdout",
     "output_type": "stream",
     "text": [
      "Epoch 0, Loss: 0.253348\n"
     ]
    },
    {
     "name": "stdout",
     "output_type": "stream",
     "text": [
      "Epoch 1000, Loss: 0.128924\n"
     ]
    },
    {
     "name": "stdout",
     "output_type": "stream",
     "text": [
      "Epoch 2000, Loss: 0.124691\n"
     ]
    },
    {
     "name": "stdout",
     "output_type": "stream",
     "text": [
      "Epoch 3000, Loss: 0.123064\n"
     ]
    },
    {
     "name": "stdout",
     "output_type": "stream",
     "text": [
      "Epoch 4000, Loss: 0.122142\n"
     ]
    },
    {
     "name": "stdout",
     "output_type": "stream",
     "text": [
      "Epoch 5000, Loss: 0.121418\n"
     ]
    },
    {
     "name": "stdout",
     "output_type": "stream",
     "text": [
      "Epoch 6000, Loss: 0.120985\n"
     ]
    },
    {
     "name": "stdout",
     "output_type": "stream",
     "text": [
      "Epoch 7000, Loss: 0.120668\n"
     ]
    },
    {
     "name": "stdout",
     "output_type": "stream",
     "text": [
      "Epoch 8000, Loss: 0.120309\n"
     ]
    },
    {
     "name": "stdout",
     "output_type": "stream",
     "text": [
      "Epoch 9000, Loss: 0.119954\n"
     ]
    },
    {
     "name": "stdout",
     "output_type": "stream",
     "text": [
      "Parámetros totales: 1209\n"
     ]
    }
   ],
   "source": [
    "mlp = MLP([300, 4, 1])\n",
    "history= mlp.train(X_train, y_train, lr=0.5, epochs=_EPHOCS, print_every=1000)\n",
    "print('Parámetros totales:', mlp.n_params)\n"
   ]
  },
  {
   "cell_type": "code",
   "execution_count": 8,
   "id": "1f43e8cc",
   "metadata": {
    "execution": {
     "iopub.execute_input": "2025-08-03T22:38:19.849010Z",
     "iopub.status.busy": "2025-08-03T22:38:19.848368Z",
     "iopub.status.idle": "2025-08-03T22:38:19.997383Z",
     "shell.execute_reply": "2025-08-03T22:38:19.996398Z"
    },
    "papermill": {
     "duration": 0.154503,
     "end_time": "2025-08-03T22:38:19.998224",
     "exception": false,
     "start_time": "2025-08-03T22:38:19.843721",
     "status": "completed"
    },
    "tags": []
   },
   "outputs": [
    {
     "data": {
      "image/png": "[encoded data removed]",
      "text/plain": [
       "<Figure size 640x480 with 1 Axes>"
      ]
     },
     "metadata": {},
     "output_type": "display_data"
    }
   ],
   "source": [
    "# Perdida\n",
    "plt.figure()\n",
    "plt.plot(history)\n",
    "plt.xlabel(\"Épocas\")\n",
    "plt.ylabel(\"Error\")\n",
    "plt.title(\"Evolución de la pérdida (XOR)\")\n",
    "plt.grid(True)\n",
    "plt.show()"
   ]
  },
  {
   "cell_type": "code",
   "execution_count": 9,
   "id": "75d8a644",
   "metadata": {
    "execution": {
     "iopub.execute_input": "2025-08-03T22:38:20.006856Z",
     "iopub.status.busy": "2025-08-03T22:38:20.006220Z",
     "iopub.status.idle": "2025-08-03T22:38:20.046720Z",
     "shell.execute_reply": "2025-08-03T22:38:20.046072Z"
    },
    "papermill": {
     "duration": 0.045775,
     "end_time": "2025-08-03T22:38:20.047635",
     "exception": false,
     "start_time": "2025-08-03T22:38:20.001860",
     "status": "completed"
    },
    "tags": []
   },
   "outputs": [
    {
     "name": "stdout",
     "output_type": "stream",
     "text": [
      "Accuracy en Test: 0.8335"
     ]
    },
    {
     "name": "stdout",
     "output_type": "stream",
     "text": [
      "\n",
      "              precision    recall  f1-score   support\n",
      "\n",
      "         0.0       0.85      0.95      0.90     16410\n",
      "         1.0       0.76      0.45      0.57      5218\n",
      "\n",
      "    accuracy                           0.83     21628\n",
      "   macro avg       0.80      0.70      0.73     21628\n",
      "weighted avg       0.83      0.83      0.82     21628\n",
      "\n"
     ]
    }
   ],
   "source": [
    "# Pasando test a la red\n",
    "pred_test = mlp.forward(X_test)\n",
    "\n",
    "# Se hace la predicción\n",
    "pred_labels = (pred_test >= 0.5).astype(int).flatten()\n",
    "y_test_true = y_test.flatten()\n",
    "\n",
    "# Calcular Accuracy y Reporte\n",
    "from sklearn.metrics import accuracy_score, classification_report\n",
    "\n",
    "print(f\"Accuracy en Test: {accuracy_score(y_test_true, pred_labels):.4f}\")\n",
    "print(classification_report(y_test_true, pred_labels))\n"
   ]
  },
  {
   "cell_type": "code",
   "execution_count": 10,
   "id": "cdcc1450",
   "metadata": {
    "execution": {
     "iopub.execute_input": "2025-08-03T22:38:20.057025Z",
     "iopub.status.busy": "2025-08-03T22:38:20.056371Z",
     "iopub.status.idle": "2025-08-03T22:38:20.220075Z",
     "shell.execute_reply": "2025-08-03T22:38:20.219578Z"
    },
    "papermill": {
     "duration": 0.169226,
     "end_time": "2025-08-03T22:38:20.220907",
     "exception": false,
     "start_time": "2025-08-03T22:38:20.051681",
     "status": "completed"
    },
    "tags": []
   },
   "outputs": [
    {
     "name": "stdout",
     "output_type": "stream",
     "text": [
      "[[15668   742]\n",
      " [ 2859  2359]]\n"
     ]
    },
    {
     "data": {
      "image/png": "[encoded data removed]",
      "text/plain": [
       "<Figure size 600x500 with 2 Axes>"
      ]
     },
     "metadata": {},
     "output_type": "display_data"
    }
   ],
   "source": [
    "cm = confusion_matrix(y_test_true, pred_labels)\n",
    "\n",
    "plt.figure(figsize=(6,5))\n",
    "print(cm)\n",
    "sns.heatmap(cm, annot=True, fmt='d', cmap='Blues', xticklabels=['Not Explicit', 'Explicit'], yticklabels=['Not Explicit', 'Explicit'])\n",
    "plt.xlabel('Predicted')\n",
    "plt.ylabel('Actual')\n",
    "plt.title('Confusion Matrix')\n",
    "plt.show()"
   ]
  }
 ],
 "metadata": {
  "kernelspec": {
   "display_name": ".venv",
   "language": "python",
   "name": "python3"
  },
  "language_info": {
   "codemirror_mode": {
    "name": "ipython",
    "version": 3
   },
   "file_extension": ".py",
   "mimetype": "text/x-python",
   "name": "python",
   "nbconvert_exporter": "python",
   "pygments_lexer": "ipython3",
   "version": "3.13.2"
  },
  "papermill": {
   "default_parameters": {},
   "duration": 3137.092444,
   "end_time": "2025-08-03T22:38:21.042738",
   "environment_variables": {},
   "exception": null,
   "input_path": "rn.ipynb",
   "output_path": "ejecutado_rn_20250803_164603.ipynb",
   "parameters": {},
   "start_time": "2025-08-03T21:46:03.950294",
   "version": "2.6.0"
  }
 },
 "nbformat": 4,
 "nbformat_minor": 5
}