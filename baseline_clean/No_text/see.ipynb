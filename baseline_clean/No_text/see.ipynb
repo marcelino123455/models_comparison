{
 "cells": [
  {
   "cell_type": "code",
   "execution_count": 1,
   "id": "c841e8af",
   "metadata": {},
   "outputs": [],
   "source": [
    "import numpy as np\n",
    "import matplotlib.pyplot as plt\n",
    "from sklearn import datasets\n",
    "from sklearn.model_selection import train_test_split\n",
    "from sklearn.preprocessing import StandardScaler\n",
    "from sklearn.metrics import (\n",
    "    classification_report, accuracy_score, precision_score, recall_score, f1_score,\n",
    "    confusion_matrix\n",
    ")\n",
    "import matplotlib.pyplot as plt\n",
    "import seaborn as sns\n",
    "from sklearn.tree import DecisionTreeClassifier\n",
    "from sklearn.linear_model import LogisticRegression\n",
    "from sklearn.naive_bayes import GaussianNB\n",
    "from sklearn.svm import SVC\n",
    "import pandas as pd\n",
    "from sklearn.feature_extraction.text import TfidfVectorizer\n",
    "from sklearn.metrics import classification_report\n",
    "from sklearn.model_selection import GridSearchCV\n",
    "from sklearn.pipeline import Pipeline\n",
    "import os\n",
    "import joblib\n",
    "import nltk\n",
    "from nltk.corpus import stopwords\n",
    "from nltk.stem import PorterStemmer\n",
    "from nltk.tokenize import word_tokenize\n",
    "import re\n",
    "from tqdm import tqdm\n",
    "from sklearn.naive_bayes import MultinomialNB\n",
    "from sklearn.preprocessing import MinMaxScaler"
   ]
  },
  {
   "cell_type": "code",
   "execution_count": 2,
   "id": "eb638c63",
   "metadata": {},
   "outputs": [],
   "source": [
    "csv_path = \"../../data/spotify_dataset_sin_duplicados_4.csv\"\n",
    "npy_path = \"../../data/embbedings_khipu/lb_khipu_A.npy\" "
   ]
  },
  {
   "cell_type": "code",
   "execution_count": 24,
   "id": "dd4b12b9",
   "metadata": {},
   "outputs": [
    {
     "name": "stdout",
     "output_type": "stream",
     "text": [
      "array_numeric: ['Tempo', 'Popularity', 'Energy', 'Danceability', 'Positiveness', 'Speechiness', 'Liveness', 'Acousticness', 'Instrumentalness', 'Good for Party', 'Good for Work/Study', 'Good for Relaxation/Meditation', 'Good for Exercise', 'Good for Running', 'Good for Yoga/Stretching', 'Good for Driving', 'Good for Social Gatherings', 'Good for Morning Routine']\n",
      "array_str: ['Artist(s)', 'song', 'emotion', 'Genre', 'Album', 'Loudness (db)', 'Similar Artist 1', 'Similar Song 1', 'Similar Artist 2', 'Similar Song 2', 'Similar Artist 3', 'Similar Song 3', 'song_normalized', 'artist_normalized']\n"
     ]
    }
   ],
   "source": [
    "i = 0\n",
    "array_numeric = []\n",
    "array_str = []\n",
    "for col, valor in df.iloc[0].items():\n",
    "    if isinstance(valor, np.int64):\n",
    "        # print(col, \"-\", valor, type(valor))\n",
    "        array_numeric.append(col)\n",
    "    else:\n",
    "        array_str.append(col)\n",
    "\n",
    "print(\"array_numeric:\", array_numeric)\n",
    "print(\"array_str:\", array_str)\n"
   ]
  },
  {
   "cell_type": "code",
   "execution_count": null,
   "id": "4f8e080a",
   "metadata": {},
   "outputs": [
    {
     "name": "stdout",
     "output_type": "stream",
     "text": [
      "Artist(s)                         object\n",
      "song                              object\n",
      "emotion                           object\n",
      "Genre                             object\n",
      "Album                             object\n",
      "Tempo                              int64\n",
      "Loudness (db)                     object\n",
      "Popularity                         int64\n",
      "Energy                             int64\n",
      "Danceability                       int64\n",
      "Positiveness                       int64\n",
      "Speechiness                        int64\n",
      "Liveness                           int64\n",
      "Acousticness                       int64\n",
      "Instrumentalness                   int64\n",
      "Good for Party                     int64\n",
      "Good for Work/Study                int64\n",
      "Good for Relaxation/Meditation     int64\n",
      "Good for Exercise                  int64\n",
      "Good for Running                   int64\n",
      "Good for Yoga/Stretching           int64\n",
      "Good for Driving                   int64\n",
      "Good for Social Gatherings         int64\n",
      "Good for Morning Routine           int64\n",
      "Similar Artist 1                  object\n",
      "Similar Song 1                    object\n",
      "Similar Artist 2                  object\n",
      "Similar Song 2                    object\n",
      "Similar Artist 3                  object\n",
      "Similar Song 3                    object\n",
      "song_normalized                   object\n",
      "artist_normalized                 object\n",
      "dtype: object\n"
     ]
    }
   ],
   "source": [
    "df = pd.read_csv(csv_path)\n",
    "df.head()\n",
    "\n",
    "# Clean data\n",
    "clean = [\"text\",\"Length\", \"Release Date\",\"Key\",\"Time signature\", \"Explicit\",\"Similarity Score 1\", \"Similarity Score 2\", \"Similarity Score 3\" ]\n",
    "numeric = ['Tempo', 'Popularity', 'Energy', 'Danceability', 'Positiveness', 'Speechiness', 'Liveness', 'Acousticness', 'Instrumentalness', 'Good for Party', 'Good for Work/Study', 'Good for Relaxation/Meditation', 'Good for Exercise', 'Good for Running', 'Good for Yoga/Stretching', 'Good for Driving', 'Good for Social Gatherings', 'Good for Morning Routine']\n",
    "df = df.drop(columns= clean)\n",
    "\n",
    "print(df.dtypes)"
   ]
  },
  {
   "cell_type": "code",
   "execution_count": null,
   "id": "2ba05226",
   "metadata": {},
   "outputs": [],
   "source": []
  }
 ],
 "metadata": {
  "kernelspec": {
   "display_name": ".venv",
   "language": "python",
   "name": "python3"
  },
  "language_info": {
   "codemirror_mode": {
    "name": "ipython",
    "version": 3
   },
   "file_extension": ".py",
   "mimetype": "text/x-python",
   "name": "python",
   "nbconvert_exporter": "python",
   "pygments_lexer": "ipython3",
   "version": "3.13.2"
  }
 },
 "nbformat": 4,
 "nbformat_minor": 5
}
