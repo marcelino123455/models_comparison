{
 "cells": [
  {
   "cell_type": "code",
   "execution_count": 1,
   "id": "62017b0f",
   "metadata": {
    "execution": {
     "iopub.execute_input": "2025-08-24T15:22:19.662939Z",
     "iopub.status.busy": "2025-08-24T15:22:19.662775Z",
     "iopub.status.idle": "2025-08-24T15:22:27.568736Z",
     "shell.execute_reply": "2025-08-24T15:22:27.568197Z"
    },
    "papermill": {
     "duration": 7.911538,
     "end_time": "2025-08-24T15:22:27.570029",
     "exception": false,
     "start_time": "2025-08-24T15:22:19.658491",
     "status": "completed"
    },
    "tags": []
   },
   "outputs": [
    {
     "name": "stderr",
     "output_type": "stream",
     "text": [
      "/home/marcelino.maita/.venv/lib/python3.13/site-packages/tqdm/auto.py:21: TqdmWarning: IProgress not found. Please update jupyter and ipywidgets. See https://ipywidgets.readthedocs.io/en/stable/user_install.html\n",
      "  from .autonotebook import tqdm as notebook_tqdm\n"
     ]
    }
   ],
   "source": [
    "import torch\n",
    "import torch.nn as nn\n",
    "import torch.optim as optim\n",
    "from torch.utils.data import DataLoader, TensorDataset\n",
    "import numpy as np\n",
    "import pandas as pd\n",
    "import os\n",
    "from sklearn.model_selection import train_test_split\n",
    "import psutil\n",
    "import matplotlib.pyplot as plt\n",
    "\n",
    "from sklearn.metrics import confusion_matrix\n",
    "import seaborn as sns\n",
    "import papermill\n",
    "import umap\n",
    "from sklearn.preprocessing import MinMaxScaler\n",
    "from sklearn.metrics import (\n",
    "    classification_report, accuracy_score, precision_score, recall_score, f1_score,\n",
    "    confusion_matrix\n",
    ")\n"
   ]
  },
  {
   "cell_type": "code",
   "execution_count": 2,
   "id": "5faa5861",
   "metadata": {
    "execution": {
     "iopub.execute_input": "2025-08-24T15:22:27.577957Z",
     "iopub.status.busy": "2025-08-24T15:22:27.577225Z",
     "iopub.status.idle": "2025-08-24T15:22:27.581576Z",
     "shell.execute_reply": "2025-08-24T15:22:27.581137Z"
    },
    "papermill": {
     "duration": 0.008892,
     "end_time": "2025-08-24T15:22:27.582460",
     "exception": false,
     "start_time": "2025-08-24T15:22:27.573568",
     "status": "completed"
    },
    "tags": []
   },
   "outputs": [
    {
     "name": "stdout",
     "output_type": "stream",
     "text": [
      "2.6.0\n"
     ]
    }
   ],
   "source": [
    "print(papermill.__version__)"
   ]
  },
  {
   "cell_type": "code",
   "execution_count": 3,
   "id": "b4775409",
   "metadata": {
    "execution": {
     "iopub.execute_input": "2025-08-24T15:22:27.589055Z",
     "iopub.status.busy": "2025-08-24T15:22:27.588406Z",
     "iopub.status.idle": "2025-08-24T15:22:36.396850Z",
     "shell.execute_reply": "2025-08-24T15:22:36.396243Z"
    },
    "papermill": {
     "duration": 8.812553,
     "end_time": "2025-08-24T15:22:36.397927",
     "exception": false,
     "start_time": "2025-08-24T15:22:27.585374",
     "status": "completed"
    },
    "tags": []
   },
   "outputs": [
    {
     "name": "stdout",
     "output_type": "stream",
     "text": [
      "(108138, 5018)\n",
      "(108138,)\n",
      "RAM usada (MB): 9373.84\n"
     ]
    }
   ],
   "source": [
    "DATA_PATH =\"../../../data\"\n",
    "# embbedings_path = \"embbedings_khipu/lb_khipu_B.npy\"\n",
    "\n",
    "path_lb_embb = os.path.join(DATA_PATH, f\"embbedings_khipu/tfidf_numeric_B.npy\")\n",
    "path_dataset = os.path.join(DATA_PATH, \"spotify_dataset_sin_duplicados_4.csv\")\n",
    "\n",
    "# Para hacer pruebitas y luego mandarlo como sbatch\n",
    "TESTING = False\n",
    "SCALED = True\n",
    "_EMBEDDINGS = np.load(path_lb_embb)\n",
    "\n",
    "if TESTING:\n",
    "    _NROWS = 1000\n",
    "    _EMBEDDINGS = _EMBEDDINGS[:1000]\n",
    "    _EPHOCS = 1000\n",
    "else:\n",
    "    _NROWS = None\n",
    "    _EPHOCS = 1000\n",
    "\n",
    "if SCALED:\n",
    "    scaler = MinMaxScaler(feature_range=(0, 1))\n",
    "    _EMBEDDINGS = scaler.fit_transform(_EMBEDDINGS)\n",
    "\n",
    "df = pd.read_csv(path_dataset, nrows = _NROWS)\n",
    "df['Explicit_binary'] = df['Explicit'].map({'Yes': 1, 'No': 0})\n",
    "\n",
    "X = _EMBEDDINGS\n",
    "\n",
    "y = df['Explicit_binary']\n",
    "\n",
    "\n",
    "\n",
    "X_train, X_test, y_train, y_test = train_test_split(\n",
    "    X, y, test_size=0.2, random_state=42 \n",
    ")\n",
    "\n",
    "y_train = y_train.values.reshape(-1, 1).astype(np.float32)\n",
    "y_test = y_test.values.reshape(-1, 1).astype(np.float32)\n",
    "\n",
    "\n",
    "def seeRam():\n",
    "    process = psutil.Process(os.getpid())\n",
    "    print(f\"RAM usada (MB): {process.memory_info().rss / (1024 * 1024):.2f}\")\n",
    "\n",
    "print(X.shape)\n",
    "print(y.shape)\n",
    "seeRam()"
   ]
  },
  {
   "cell_type": "code",
   "execution_count": 4,
   "id": "890be7e5",
   "metadata": {
    "execution": {
     "iopub.execute_input": "2025-08-24T15:22:36.405615Z",
     "iopub.status.busy": "2025-08-24T15:22:36.404864Z",
     "iopub.status.idle": "2025-08-24T15:22:36.411311Z",
     "shell.execute_reply": "2025-08-24T15:22:36.410949Z"
    },
    "papermill": {
     "duration": 0.011331,
     "end_time": "2025-08-24T15:22:36.412201",
     "exception": false,
     "start_time": "2025-08-24T15:22:36.400870",
     "status": "completed"
    },
    "tags": []
   },
   "outputs": [],
   "source": [
    "# CODE HERE for backward pass\n",
    "\n",
    "# f0, f1, f2\n",
    "class Linear:\n",
    "    def __init__(self, in_dim, out_dim):\n",
    "        self.W = np.random.randn(in_dim, out_dim) * np.sqrt(2.0 / in_dim)\n",
    "        self.b = np.zeros((1, out_dim))\n",
    "    def forward(self, x):\n",
    "        self.x = x\n",
    "        return x @ self.W + self.b\n",
    "\n",
    "    def backward(self, grad_output):\n",
    "        self.grad_W = self.x.T @ grad_output\n",
    "        self.grad_b = np.sum(grad_output, axis=0, keepdims=True)\n",
    "        return grad_output @ self.W.T\n",
    "\n",
    "# h0, h1, h2, ....\n",
    "class ReLU:\n",
    "    def forward(self, x):\n",
    "        self.mask = x > 0\n",
    "        return x * self.mask\n",
    "    def backward(self, grad_output):\n",
    "        return grad_output * self.mask\n",
    "\n",
    "class Sigmoid:\n",
    "    def forward(self, x):\n",
    "        self.out = 1 / (1 + np.exp(-x))\n",
    "        return self.out\n",
    "\n",
    "    def backward(self, grad_output):\n",
    "        return grad_output * self.out * (1 - self.out)\n",
    "\n",
    "# error\n",
    "class MSELoss:\n",
    "    def forward(self, pred, target):\n",
    "        self.diff = pred - target\n",
    "        return np.mean(self.diff ** 2)\n",
    "    def backward(self):\n",
    "        return 2.0 * self.diff / self.diff.shape[0]"
   ]
  },
  {
   "cell_type": "code",
   "execution_count": 5,
   "id": "ea177d6d",
   "metadata": {
    "execution": {
     "iopub.execute_input": "2025-08-24T15:22:36.420529Z",
     "iopub.status.busy": "2025-08-24T15:22:36.419875Z",
     "iopub.status.idle": "2025-08-24T15:22:36.428485Z",
     "shell.execute_reply": "2025-08-24T15:22:36.427894Z"
    },
    "papermill": {
     "duration": 0.014008,
     "end_time": "2025-08-24T15:22:36.429449",
     "exception": false,
     "start_time": "2025-08-24T15:22:36.415441",
     "status": "completed"
    },
    "tags": []
   },
   "outputs": [],
   "source": [
    "class MLP:\n",
    "    def __init__(self, dims):\n",
    "        self.layers = []\n",
    "        for i in range(len(dims)-2):\n",
    "            self.layers.append(Linear(dims[i], dims[i+1])) #fi\n",
    "            self.layers.append(ReLU()) # hi\n",
    "\n",
    "        self.layers.append(Linear(dims[-2], dims[-1]))\n",
    "\n",
    "    # CODE HERE (forward, backward pass)\n",
    "    def forward(self, x):\n",
    "        for l in self.layers:\n",
    "            x = l.forward(x)\n",
    "        return x\n",
    "\n",
    "    def backward(self, grad):\n",
    "        for l in reversed(self.layers):\n",
    "            grad = l.backward(grad)\n",
    "\n",
    "    @property\n",
    "    def n_params(self):\n",
    "        total = 0\n",
    "        for l in self.layers:\n",
    "            if isinstance(l, Linear):\n",
    "                total += l.W.size + l.b.size\n",
    "        return total\n",
    "\n",
    "    def train(self, X, y, lr=0.1, epochs=10000, print_every=100):\n",
    "      loss_fn = MSELoss()\n",
    "      history = []\n",
    "      for epoch in range(epochs):\n",
    "          #forward\n",
    "          pred = self.forward(X)\n",
    "          loss = loss_fn.forward(pred, y)\n",
    "          #backward\n",
    "          grad = loss_fn.backward()\n",
    "          self.backward(grad)\n",
    "\n",
    "          # Descenso de la gradiente\n",
    "          for layer in self.layers:\n",
    "              if isinstance(layer, Linear):\n",
    "                  layer.W -= lr * layer.grad_W\n",
    "                  layer.b -= lr * layer.grad_b\n",
    "          history.append(loss)\n",
    "          if epoch % print_every == 0:\n",
    "              print(f\"Epoch {epoch}, Loss: {loss:.6f}\")\n",
    "      return history\n",
    "\n",
    "    def train_batches(self, X, y, lr=0.1, epochs=10000, batch_size=32, print_every=100):\n",
    "        loss_fn = MSELoss()\n",
    "        history = []\n",
    "\n",
    "        n = X.shape[0]\n",
    "        for epoch in range(epochs):\n",
    "            # Barajamos los datos al inicio de cada época\n",
    "            perm = np.random.permutation(n)\n",
    "            X_shuffled = X[perm]\n",
    "            y_shuffled = y[perm]\n",
    "\n",
    "            for i in range(0, n, batch_size):\n",
    "                xb = X_shuffled[i:i+batch_size]\n",
    "                yb = y_shuffled[i:i+batch_size]\n",
    "\n",
    "                # Forward\n",
    "                pred = self.forward(xb)\n",
    "                loss = loss_fn.forward(pred, yb)\n",
    "\n",
    "                # Backward\n",
    "                grad = loss_fn.backward()\n",
    "                self.backward(grad)\n",
    "\n",
    "                # Actualización\n",
    "                for layer in self.layers:\n",
    "                    if isinstance(layer, Linear):\n",
    "                        layer.W -= lr * layer.grad_W\n",
    "                        layer.b -= lr * layer.grad_b\n",
    "\n",
    "            pred_full = self.forward(X)\n",
    "            epoch_loss = loss_fn.forward(pred_full, y)\n",
    "            history.append(epoch_loss)\n",
    "\n",
    "            if epoch % print_every == 0:\n",
    "                print(f\"Epoch {epoch}, Loss: {epoch_loss:.6f}\")\n",
    "\n",
    "        return history\n"
   ]
  },
  {
   "cell_type": "code",
   "execution_count": 6,
   "id": "acb0bd1c",
   "metadata": {
    "execution": {
     "iopub.execute_input": "2025-08-24T15:22:36.436477Z",
     "iopub.status.busy": "2025-08-24T15:22:36.435769Z",
     "iopub.status.idle": "2025-08-24T15:22:36.440522Z",
     "shell.execute_reply": "2025-08-24T15:22:36.439592Z"
    },
    "papermill": {
     "duration": 0.008959,
     "end_time": "2025-08-24T15:22:36.441400",
     "exception": false,
     "start_time": "2025-08-24T15:22:36.432441",
     "status": "completed"
    },
    "tags": []
   },
   "outputs": [
    {
     "name": "stdout",
     "output_type": "stream",
     "text": [
      "(86510, 5018)\n",
      "(86510, 1)\n"
     ]
    }
   ],
   "source": [
    "print(X_train.shape)\n",
    "# y_train = Y.values.reshape(-1, 1).astype(np.float32) \n",
    "print(y_train.shape)"
   ]
  },
  {
   "cell_type": "code",
   "execution_count": 7,
   "id": "107320ec",
   "metadata": {
    "execution": {
     "iopub.execute_input": "2025-08-24T15:22:36.449444Z",
     "iopub.status.busy": "2025-08-24T15:22:36.448740Z",
     "iopub.status.idle": "2025-08-24T16:16:57.063894Z",
     "shell.execute_reply": "2025-08-24T16:16:57.063130Z"
    },
    "papermill": {
     "duration": 3260.621928,
     "end_time": "2025-08-24T16:16:57.066653",
     "exception": false,
     "start_time": "2025-08-24T15:22:36.444725",
     "status": "completed"
    },
    "tags": []
   },
   "outputs": [
    {
     "name": "stdout",
     "output_type": "stream",
     "text": [
      "Epoch 0, Loss: 0.214867\n"
     ]
    },
    {
     "name": "stderr",
     "output_type": "stream",
     "text": [
      "/tmp/ipykernel_2809782/3303867279.py:10: RuntimeWarning: overflow encountered in matmul\n",
      "  return x @ self.W + self.b\n",
      "/tmp/ipykernel_2809782/3303867279.py:13: RuntimeWarning: invalid value encountered in matmul\n",
      "  self.grad_W = self.x.T @ grad_output\n",
      "/tmp/ipykernel_2809782/3303867279.py:23: RuntimeWarning: invalid value encountered in multiply\n",
      "  return grad_output * self.mask\n"
     ]
    },
    {
     "name": "stdout",
     "output_type": "stream",
     "text": [
      "Parámetros totales: 164833\n"
     ]
    }
   ],
   "source": [
    "mlp = MLP([ X_train.shape[1] , 32,64,32, 1])\n",
    "history= mlp.train(X_train, y_train, lr=0.5, epochs=_EPHOCS, print_every=1000)\n",
    "print('Parámetros totales:', mlp.n_params)\n"
   ]
  },
  {
   "cell_type": "code",
   "execution_count": 8,
   "id": "1f43e8cc",
   "metadata": {
    "execution": {
     "iopub.execute_input": "2025-08-24T16:16:57.075705Z",
     "iopub.status.busy": "2025-08-24T16:16:57.075009Z",
     "iopub.status.idle": "2025-08-24T16:16:57.234150Z",
     "shell.execute_reply": "2025-08-24T16:16:57.233413Z"
    },
    "papermill": {
     "duration": 0.164809,
     "end_time": "2025-08-24T16:16:57.235015",
     "exception": false,
     "start_time": "2025-08-24T16:16:57.070206",
     "status": "completed"
    },
    "tags": []
   },
   "outputs": [
    {
     "data": {
      "image/png": "[encoded data removed]",
      "text/plain": [
       "<Figure size 640x480 with 1 Axes>"
      ]
     },
     "metadata": {},
     "output_type": "display_data"
    }
   ],
   "source": [
    "# Perdida\n",
    "plt.figure()\n",
    "plt.plot(history)\n",
    "plt.xlabel(\"Épocas\")\n",
    "plt.ylabel(\"Error\")\n",
    "plt.title(\"Evolución del error en la detección\")\n",
    "plt.grid(True)\n",
    "plt.show()"
   ]
  },
  {
   "cell_type": "code",
   "execution_count": 9,
   "id": "75d8a644",
   "metadata": {
    "execution": {
     "iopub.execute_input": "2025-08-24T16:16:57.244739Z",
     "iopub.status.busy": "2025-08-24T16:16:57.244083Z",
     "iopub.status.idle": "2025-08-24T16:16:57.463738Z",
     "shell.execute_reply": "2025-08-24T16:16:57.462991Z"
    },
    "papermill": {
     "duration": 0.225488,
     "end_time": "2025-08-24T16:16:57.464639",
     "exception": false,
     "start_time": "2025-08-24T16:16:57.239151",
     "status": "completed"
    },
    "tags": []
   },
   "outputs": [
    {
     "name": "stdout",
     "output_type": "stream",
     "text": [
      "Accuracy en Test: 0.7587\n",
      "              precision    recall  f1-score   support\n",
      "\n",
      "         0.0       0.76      1.00      0.86     16410\n",
      "         1.0       0.00      0.00      0.00      5218\n",
      "\n",
      "    accuracy                           0.76     21628\n",
      "   macro avg       0.38      0.50      0.43     21628\n",
      "weighted avg       0.58      0.76      0.65     21628\n",
      "\n"
     ]
    },
    {
     "name": "stderr",
     "output_type": "stream",
     "text": [
      "/home/marcelino.maita/.venv/lib/python3.13/site-packages/sklearn/metrics/_classification.py:1731: UndefinedMetricWarning: Precision is ill-defined and being set to 0.0 in labels with no predicted samples. Use `zero_division` parameter to control this behavior.\n",
      "  _warn_prf(average, modifier, f\"{metric.capitalize()} is\", result.shape[0])\n",
      "/home/marcelino.maita/.venv/lib/python3.13/site-packages/sklearn/metrics/_classification.py:1731: UndefinedMetricWarning: Precision is ill-defined and being set to 0.0 in labels with no predicted samples. Use `zero_division` parameter to control this behavior.\n",
      "  _warn_prf(average, modifier, f\"{metric.capitalize()} is\", result.shape[0])\n",
      "/home/marcelino.maita/.venv/lib/python3.13/site-packages/sklearn/metrics/_classification.py:1731: UndefinedMetricWarning: Precision is ill-defined and being set to 0.0 in labels with no predicted samples. Use `zero_division` parameter to control this behavior.\n",
      "  _warn_prf(average, modifier, f\"{metric.capitalize()} is\", result.shape[0])\n"
     ]
    }
   ],
   "source": [
    "# Pasando test a la red\n",
    "pred_test = mlp.forward(X_test)\n",
    "\n",
    "# Se hace la predicción\n",
    "pred_labels = (pred_test >= 0.5).astype(int).flatten()\n",
    "y_test_true = y_test.flatten()\n",
    "\n",
    "# Calcular Accuracy y Reporte\n",
    "from sklearn.metrics import accuracy_score, classification_report\n",
    "\n",
    "print(f\"Accuracy en Test: {accuracy_score(y_test_true, pred_labels):.4f}\")\n",
    "print(classification_report(y_test_true, pred_labels))\n"
   ]
  },
  {
   "cell_type": "code",
   "execution_count": 10,
   "id": "cdcc1450",
   "metadata": {
    "execution": {
     "iopub.execute_input": "2025-08-24T16:16:57.473581Z",
     "iopub.status.busy": "2025-08-24T16:16:57.472902Z",
     "iopub.status.idle": "2025-08-24T16:16:57.660044Z",
     "shell.execute_reply": "2025-08-24T16:16:57.659470Z"
    },
    "papermill": {
     "duration": 0.192556,
     "end_time": "2025-08-24T16:16:57.660896",
     "exception": false,
     "start_time": "2025-08-24T16:16:57.468340",
     "status": "completed"
    },
    "tags": []
   },
   "outputs": [
    {
     "name": "stdout",
     "output_type": "stream",
     "text": [
      "[[16410     0]\n",
      " [ 5218     0]]\n"
     ]
    },
    {
     "data": {
      "image/png": "[encoded data removed]",
      "text/plain": [
       "<Figure size 600x500 with 2 Axes>"
      ]
     },
     "metadata": {},
     "output_type": "display_data"
    },
    {
     "name": "stderr",
     "output_type": "stream",
     "text": [
      "/home/marcelino.maita/.venv/lib/python3.13/site-packages/sklearn/metrics/_classification.py:1731: UndefinedMetricWarning: Precision is ill-defined and being set to 0.0 due to no predicted samples. Use `zero_division` parameter to control this behavior.\n",
      "  _warn_prf(average, modifier, f\"{metric.capitalize()} is\", result.shape[0])\n"
     ]
    },
    {
     "name": "stdout",
     "output_type": "stream",
     "text": [
      "Accuracy:  0.7587\n",
      "Precision: 0.0000\n",
      "Recall:    0.0000\n",
      "F1-score:  0.0000\n"
     ]
    }
   ],
   "source": [
    "cm = confusion_matrix(y_test_true, pred_labels)\n",
    "\n",
    "plt.figure(figsize=(6,5))\n",
    "print(cm)\n",
    "sns.heatmap(cm, annot=True, fmt='d', cmap='Blues', xticklabels=['Not Explicit', 'Explicit'], yticklabels=['Not Explicit', 'Explicit'])\n",
    "plt.xlabel('Predicted')\n",
    "plt.ylabel('Actual')\n",
    "plt.title('Confusion Matrix')\n",
    "plt.show()\n",
    "\n",
    "acc = accuracy_score(y_test_true, pred_labels)\n",
    "prec = precision_score(y_test_true, pred_labels )\n",
    "rec = recall_score(y_test_true, pred_labels)\n",
    "f1 = f1_score(y_test_true, pred_labels)\n",
    "\n",
    "print(f\"Accuracy:  {acc:.4f}\")\n",
    "print(f\"Precision: {prec:.4f}\")\n",
    "print(f\"Recall:    {rec:.4f}\")\n",
    "print(f\"F1-score:  {f1:.4f}\")"
   ]
  }
 ],
 "metadata": {
  "kernelspec": {
   "display_name": ".venv",
   "language": "python",
   "name": "python3"
  },
  "language_info": {
   "codemirror_mode": {
    "name": "ipython",
    "version": 3
   },
   "file_extension": ".py",
   "mimetype": "text/x-python",
   "name": "python",
   "nbconvert_exporter": "python",
   "pygments_lexer": "ipython3",
   "version": "3.13.2"
  },
  "papermill": {
   "default_parameters": {},
   "duration": 3280.744823,
   "end_time": "2025-08-24T16:16:58.782932",
   "environment_variables": {},
   "exception": null,
   "input_path": "rn.ipynb",
   "output_path": "ejecutado_rn_20250824_102216.ipynb",
   "parameters": {},
   "start_time": "2025-08-24T15:22:18.038109",
   "version": "2.6.0"
  }
 },
 "nbformat": 4,
 "nbformat_minor": 5
}