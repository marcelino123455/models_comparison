{
 "cells": [
  {
   "cell_type": "code",
   "execution_count": 1,
   "id": "62017b0f",
   "metadata": {
    "execution": {
     "iopub.execute_input": "2025-08-24T17:40:58.591784Z",
     "iopub.status.busy": "2025-08-24T17:40:58.591621Z",
     "iopub.status.idle": "2025-08-24T17:41:06.628988Z",
     "shell.execute_reply": "2025-08-24T17:41:06.627836Z"
    },
    "papermill": {
     "duration": 8.0425,
     "end_time": "2025-08-24T17:41:06.630181",
     "exception": false,
     "start_time": "2025-08-24T17:40:58.587681",
     "status": "completed"
    },
    "tags": []
   },
   "outputs": [
    {
     "name": "stderr",
     "output_type": "stream",
     "text": [
      "/home/marcelino.maita/.venv/lib/python3.13/site-packages/tqdm/auto.py:21: TqdmWarning: IProgress not found. Please update jupyter and ipywidgets. See https://ipywidgets.readthedocs.io/en/stable/user_install.html\n",
      "  from .autonotebook import tqdm as notebook_tqdm\n"
     ]
    }
   ],
   "source": [
    "import torch\n",
    "import torch.nn as nn\n",
    "import torch.optim as optim\n",
    "from torch.utils.data import DataLoader, TensorDataset\n",
    "import numpy as np\n",
    "import pandas as pd\n",
    "import os\n",
    "from sklearn.model_selection import train_test_split\n",
    "import psutil\n",
    "import matplotlib.pyplot as plt\n",
    "\n",
    "from sklearn.metrics import confusion_matrix\n",
    "import seaborn as sns\n",
    "import papermill\n",
    "import umap\n",
    "from sklearn.preprocessing import MinMaxScaler\n",
    "from sklearn.metrics import (\n",
    "    classification_report, accuracy_score, precision_score, recall_score, f1_score,\n",
    "    confusion_matrix\n",
    ")\n"
   ]
  },
  {
   "cell_type": "code",
   "execution_count": 2,
   "id": "5faa5861",
   "metadata": {
    "execution": {
     "iopub.execute_input": "2025-08-24T17:41:06.638368Z",
     "iopub.status.busy": "2025-08-24T17:41:06.637694Z",
     "iopub.status.idle": "2025-08-24T17:41:06.642147Z",
     "shell.execute_reply": "2025-08-24T17:41:06.641480Z"
    },
    "papermill": {
     "duration": 0.009071,
     "end_time": "2025-08-24T17:41:06.643016",
     "exception": false,
     "start_time": "2025-08-24T17:41:06.633945",
     "status": "completed"
    },
    "tags": []
   },
   "outputs": [
    {
     "name": "stdout",
     "output_type": "stream",
     "text": [
      "2.6.0\n"
     ]
    }
   ],
   "source": [
    "print(papermill.__version__)"
   ]
  },
  {
   "cell_type": "code",
   "execution_count": 3,
   "id": "b4775409",
   "metadata": {
    "execution": {
     "iopub.execute_input": "2025-08-24T17:41:06.651766Z",
     "iopub.status.busy": "2025-08-24T17:41:06.651125Z",
     "iopub.status.idle": "2025-08-24T17:41:15.473226Z",
     "shell.execute_reply": "2025-08-24T17:41:15.472463Z"
    },
    "papermill": {
     "duration": 8.82801,
     "end_time": "2025-08-24T17:41:15.474284",
     "exception": false,
     "start_time": "2025-08-24T17:41:06.646274",
     "status": "completed"
    },
    "tags": []
   },
   "outputs": [
    {
     "name": "stdout",
     "output_type": "stream",
     "text": [
      "(108138, 5018)\n",
      "(108138,)\n",
      "RAM usada (MB): 9371.99\n"
     ]
    }
   ],
   "source": [
    "DATA_PATH =\"../../../data\"\n",
    "# embbedings_path = \"embbedings_khipu/lb_khipu_B.npy\"\n",
    "\n",
    "path_lb_embb = os.path.join(DATA_PATH, f\"embbedings_khipu/tfidf_numeric_B.npy\")\n",
    "path_dataset = os.path.join(DATA_PATH, \"spotify_dataset_sin_duplicados_4.csv\")\n",
    "\n",
    "# Para hacer pruebitas y luego mandarlo como sbatch\n",
    "TESTING = False\n",
    "SCALED = True\n",
    "_EMBEDDINGS = np.load(path_lb_embb)\n",
    "\n",
    "if TESTING:\n",
    "    _NROWS = 1000\n",
    "    _EMBEDDINGS = _EMBEDDINGS[:1000]\n",
    "    _EPHOCS = 1000\n",
    "else:\n",
    "    _NROWS = None\n",
    "    _EPHOCS = 1000\n",
    "\n",
    "if SCALED:\n",
    "    scaler = MinMaxScaler(feature_range=(0, 1))\n",
    "    _EMBEDDINGS = scaler.fit_transform(_EMBEDDINGS)\n",
    "\n",
    "df = pd.read_csv(path_dataset, nrows = _NROWS)\n",
    "df['Explicit_binary'] = df['Explicit'].map({'Yes': 1, 'No': 0})\n",
    "\n",
    "X = _EMBEDDINGS\n",
    "\n",
    "y = df['Explicit_binary']\n",
    "\n",
    "\n",
    "\n",
    "X_train, X_test, y_train, y_test = train_test_split(\n",
    "    X, y, test_size=0.2, random_state=42 \n",
    ")\n",
    "\n",
    "y_train = y_train.values.reshape(-1, 1).astype(np.float32)\n",
    "y_test = y_test.values.reshape(-1, 1).astype(np.float32)\n",
    "\n",
    "\n",
    "def seeRam():\n",
    "    process = psutil.Process(os.getpid())\n",
    "    print(f\"RAM usada (MB): {process.memory_info().rss / (1024 * 1024):.2f}\")\n",
    "\n",
    "print(X.shape)\n",
    "print(y.shape)\n",
    "seeRam()"
   ]
  },
  {
   "cell_type": "code",
   "execution_count": 4,
   "id": "890be7e5",
   "metadata": {
    "execution": {
     "iopub.execute_input": "2025-08-24T17:41:15.482159Z",
     "iopub.status.busy": "2025-08-24T17:41:15.481458Z",
     "iopub.status.idle": "2025-08-24T17:41:15.486086Z",
     "shell.execute_reply": "2025-08-24T17:41:15.485687Z"
    },
    "papermill": {
     "duration": 0.009119,
     "end_time": "2025-08-24T17:41:15.486970",
     "exception": false,
     "start_time": "2025-08-24T17:41:15.477851",
     "status": "completed"
    },
    "tags": []
   },
   "outputs": [],
   "source": [
    "# Definir MLP\n",
    "class MLP(nn.Module):\n",
    "    def __init__(self, dims):\n",
    "        super().__init__()\n",
    "        layers = []\n",
    "        for i in range(len(dims)-2):\n",
    "            layers.append(nn.Linear(dims[i], dims[i+1]))\n",
    "            layers.append(nn.ReLU())\n",
    "        layers.append(nn.Linear(dims[-2], dims[-1]))\n",
    "        self.net = nn.Sequential(*layers)\n",
    "\n",
    "    def forward(self, x):\n",
    "        return self.net(x)"
   ]
  },
  {
   "cell_type": "code",
   "execution_count": 5,
   "id": "acb0bd1c",
   "metadata": {
    "execution": {
     "iopub.execute_input": "2025-08-24T17:41:15.493949Z",
     "iopub.status.busy": "2025-08-24T17:41:15.493293Z",
     "iopub.status.idle": "2025-08-24T17:41:15.497991Z",
     "shell.execute_reply": "2025-08-24T17:41:15.497038Z"
    },
    "papermill": {
     "duration": 0.009233,
     "end_time": "2025-08-24T17:41:15.498911",
     "exception": false,
     "start_time": "2025-08-24T17:41:15.489678",
     "status": "completed"
    },
    "tags": []
   },
   "outputs": [
    {
     "name": "stdout",
     "output_type": "stream",
     "text": [
      "(86510, 5018)\n",
      "(86510, 1)\n"
     ]
    }
   ],
   "source": [
    "print(X_train.shape)\n",
    "# y_train = Y.values.reshape(-1, 1).astype(np.float32) \n",
    "print(y_train.shape)"
   ]
  },
  {
   "cell_type": "code",
   "execution_count": 6,
   "id": "107320ec",
   "metadata": {
    "execution": {
     "iopub.execute_input": "2025-08-24T17:41:15.506799Z",
     "iopub.status.busy": "2025-08-24T17:41:15.506114Z",
     "iopub.status.idle": "2025-08-24T17:41:18.429853Z",
     "shell.execute_reply": "2025-08-24T17:41:18.429352Z"
    },
    "papermill": {
     "duration": 2.928873,
     "end_time": "2025-08-24T17:41:18.430798",
     "exception": false,
     "start_time": "2025-08-24T17:41:15.501925",
     "status": "completed"
    },
    "tags": []
   },
   "outputs": [
    {
     "name": "stdout",
     "output_type": "stream",
     "text": [
      "Parámetros totales: <generator object Module.parameters at 0x7f68b4fef220>\n"
     ]
    }
   ],
   "source": [
    "mlp = MLP([ X_train.shape[1] , 32,64,32, 1])\n",
    "X = torch.tensor(X_train, dtype=torch.float32)\n",
    "y = torch.tensor(y_train, dtype=torch.float32)\n",
    "# Definir loss y optimizador Adam\n",
    "# loss_fn = nn.MSELoss()\n",
    "loss_fn = nn.BCEWithLogitsLoss()\n",
    "optimizer = optim.Adam(mlp.parameters(), lr=0.001)\n",
    "\n",
    "print('Parámetros totales:', mlp.parameters())\n"
   ]
  },
  {
   "cell_type": "code",
   "execution_count": 7,
   "id": "99170079",
   "metadata": {
    "execution": {
     "iopub.execute_input": "2025-08-24T17:41:18.437904Z",
     "iopub.status.busy": "2025-08-24T17:41:18.437073Z",
     "iopub.status.idle": "2025-08-24T17:52:41.423495Z",
     "shell.execute_reply": "2025-08-24T17:52:41.422301Z"
    },
    "papermill": {
     "duration": 682.991017,
     "end_time": "2025-08-24T17:52:41.424711",
     "exception": false,
     "start_time": "2025-08-24T17:41:18.433694",
     "status": "completed"
    },
    "tags": []
   },
   "outputs": [
    {
     "name": "stdout",
     "output_type": "stream",
     "text": [
      "Epoch 0, Loss: 0.654779\n"
     ]
    },
    {
     "name": "stdout",
     "output_type": "stream",
     "text": [
      "Epoch 500, Loss: 0.001098\n"
     ]
    }
   ],
   "source": [
    "# Entrenamiento\n",
    "epochs = _EPHOCS\n",
    "history = []\n",
    "for epoch in range(epochs):\n",
    "    # Forward\n",
    "    pred = mlp(X)\n",
    "    loss = loss_fn(pred, y)\n",
    "    \n",
    "    history.append(loss.item())\n",
    "    # Backward\n",
    "    optimizer.zero_grad()\n",
    "    loss.backward()\n",
    "    optimizer.step()\n",
    "\n",
    "    if epoch % 500 == 0:\n",
    "        print(f\"Epoch {epoch}, Loss: {loss.item():.6f}\")"
   ]
  },
  {
   "cell_type": "code",
   "execution_count": 8,
   "id": "1f43e8cc",
   "metadata": {
    "execution": {
     "iopub.execute_input": "2025-08-24T17:52:41.435189Z",
     "iopub.status.busy": "2025-08-24T17:52:41.434456Z",
     "iopub.status.idle": "2025-08-24T17:52:41.583411Z",
     "shell.execute_reply": "2025-08-24T17:52:41.583045Z"
    },
    "papermill": {
     "duration": 0.15404,
     "end_time": "2025-08-24T17:52:41.584273",
     "exception": false,
     "start_time": "2025-08-24T17:52:41.430233",
     "status": "completed"
    },
    "tags": []
   },
   "outputs": [
    {
     "data": {
      "image/png": "[encoded data removed]",
      "text/plain": [
       "<Figure size 640x480 with 1 Axes>"
      ]
     },
     "metadata": {},
     "output_type": "display_data"
    }
   ],
   "source": [
    "# Perdida\n",
    "plt.figure()\n",
    "plt.plot(history)\n",
    "plt.xlabel(\"Épocas\")\n",
    "plt.ylabel(\"Error\")\n",
    "plt.title(\"Evolución del error en la detección\")\n",
    "plt.grid(True)\n",
    "plt.show()"
   ]
  },
  {
   "cell_type": "code",
   "execution_count": 9,
   "id": "75d8a644",
   "metadata": {
    "execution": {
     "iopub.execute_input": "2025-08-24T17:52:41.593438Z",
     "iopub.status.busy": "2025-08-24T17:52:41.592784Z",
     "iopub.status.idle": "2025-08-24T17:52:41.857714Z",
     "shell.execute_reply": "2025-08-24T17:52:41.857322Z"
    },
    "papermill": {
     "duration": 0.270279,
     "end_time": "2025-08-24T17:52:41.858659",
     "exception": false,
     "start_time": "2025-08-24T17:52:41.588380",
     "status": "completed"
    },
    "tags": []
   },
   "outputs": [
    {
     "name": "stdout",
     "output_type": "stream",
     "text": [
      "Accuracy en Test: 0.9521\n",
      "              precision    recall  f1-score   support\n",
      "\n",
      "         0.0       0.97      0.97      0.97     16410\n",
      "         1.0       0.89      0.91      0.90      5218\n",
      "\n",
      "    accuracy                           0.95     21628\n",
      "   macro avg       0.93      0.94      0.93     21628\n",
      "weighted avg       0.95      0.95      0.95     21628\n",
      "\n"
     ]
    }
   ],
   "source": [
    "# Pasar X_test a tensor\n",
    "X_test_tensor = torch.tensor(X_test, dtype=torch.float32)\n",
    "\n",
    "# Forward en modo evaluación\n",
    "with torch.no_grad():\n",
    "    logits = mlp(X_test_tensor)          # salida sin sigmoid\n",
    "    probs = torch.sigmoid(logits)        # probabilidad [0,1]\n",
    "    pred_labels = (probs >= 0.5).int().numpy().flatten()\n",
    "\n",
    "# Calcular Accuracy y Reporte\n",
    "from sklearn.metrics import accuracy_score, classification_report\n",
    "y_test_true = y_test.flatten()\n",
    "print(f\"Accuracy en Test: {accuracy_score(y_test_true, pred_labels):.4f}\")\n",
    "print(classification_report(y_test_true, pred_labels))\n"
   ]
  },
  {
   "cell_type": "code",
   "execution_count": 10,
   "id": "cdcc1450",
   "metadata": {
    "execution": {
     "iopub.execute_input": "2025-08-24T17:52:41.869017Z",
     "iopub.status.busy": "2025-08-24T17:52:41.868349Z",
     "iopub.status.idle": "2025-08-24T17:52:42.041448Z",
     "shell.execute_reply": "2025-08-24T17:52:42.040667Z"
    },
    "papermill": {
     "duration": 0.179298,
     "end_time": "2025-08-24T17:52:42.042270",
     "exception": false,
     "start_time": "2025-08-24T17:52:41.862972",
     "status": "completed"
    },
    "tags": []
   },
   "outputs": [
    {
     "name": "stdout",
     "output_type": "stream",
     "text": [
      "[[15850   560]\n",
      " [  476  4742]]\n"
     ]
    },
    {
     "data": {
      "image/png": "[encoded data removed]",
      "text/plain": [
       "<Figure size 600x500 with 2 Axes>"
      ]
     },
     "metadata": {},
     "output_type": "display_data"
    },
    {
     "name": "stdout",
     "output_type": "stream",
     "text": [
      "Accuracy:  0.9521\n",
      "Precision: 0.8944\n",
      "Recall:    0.9088\n",
      "F1-score:  0.9015\n"
     ]
    }
   ],
   "source": [
    "cm = confusion_matrix(y_test_true, pred_labels)\n",
    "\n",
    "plt.figure(figsize=(6,5))\n",
    "print(cm)\n",
    "sns.heatmap(cm, annot=True, fmt='d', cmap='Blues', xticklabels=['Not Explicit', 'Explicit'], yticklabels=['Not Explicit', 'Explicit'])\n",
    "plt.xlabel('Predicted')\n",
    "plt.ylabel('Actual')\n",
    "plt.title('Confusion Matrix')\n",
    "plt.show()\n",
    "\n",
    "acc = accuracy_score(y_test_true, pred_labels)\n",
    "prec = precision_score(y_test_true, pred_labels )\n",
    "rec = recall_score(y_test_true, pred_labels)\n",
    "f1 = f1_score(y_test_true, pred_labels)\n",
    "\n",
    "print(f\"Accuracy:  {acc:.4f}\")\n",
    "print(f\"Precision: {prec:.4f}\")\n",
    "print(f\"Recall:    {rec:.4f}\")\n",
    "print(f\"F1-score:  {f1:.4f}\")"
   ]
  }
 ],
 "metadata": {
  "kernelspec": {
   "display_name": ".venv",
   "language": "python",
   "name": "python3"
  },
  "language_info": {
   "codemirror_mode": {
    "name": "ipython",
    "version": 3
   },
   "file_extension": ".py",
   "mimetype": "text/x-python",
   "name": "python",
   "nbconvert_exporter": "python",
   "pygments_lexer": "ipython3",
   "version": "3.13.2"
  },
  "papermill": {
   "default_parameters": {},
   "duration": 706.601912,
   "end_time": "2025-08-24T17:52:43.566304",
   "environment_variables": {},
   "exception": null,
   "input_path": "rn_library.ipynb",
   "output_path": "ejecutado_rn_library_20250824_124055.ipynb",
   "parameters": {},
   "start_time": "2025-08-24T17:40:56.964392",
   "version": "2.6.0"
  }
 },
 "nbformat": 4,
 "nbformat_minor": 5
}