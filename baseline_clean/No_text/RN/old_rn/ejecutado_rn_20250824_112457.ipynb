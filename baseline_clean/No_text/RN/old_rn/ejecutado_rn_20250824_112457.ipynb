{
 "cells": [
  {
   "cell_type": "code",
   "execution_count": 1,
   "id": "62017b0f",
   "metadata": {
    "execution": {
     "iopub.execute_input": "2025-08-24T16:25:00.118700Z",
     "iopub.status.busy": "2025-08-24T16:25:00.118533Z",
     "iopub.status.idle": "2025-08-24T16:25:08.118638Z",
     "shell.execute_reply": "2025-08-24T16:25:08.117875Z"
    },
    "papermill": {
     "duration": 8.005167,
     "end_time": "2025-08-24T16:25:08.119855",
     "exception": false,
     "start_time": "2025-08-24T16:25:00.114688",
     "status": "completed"
    },
    "tags": []
   },
   "outputs": [
    {
     "name": "stderr",
     "output_type": "stream",
     "text": [
      "/home/marcelino.maita/.venv/lib/python3.13/site-packages/tqdm/auto.py:21: TqdmWarning: IProgress not found. Please update jupyter and ipywidgets. See https://ipywidgets.readthedocs.io/en/stable/user_install.html\n",
      "  from .autonotebook import tqdm as notebook_tqdm\n"
     ]
    }
   ],
   "source": [
    "import torch\n",
    "import torch.nn as nn\n",
    "import torch.optim as optim\n",
    "from torch.utils.data import DataLoader, TensorDataset\n",
    "import numpy as np\n",
    "import pandas as pd\n",
    "import os\n",
    "from sklearn.model_selection import train_test_split\n",
    "import psutil\n",
    "import matplotlib.pyplot as plt\n",
    "\n",
    "from sklearn.metrics import confusion_matrix\n",
    "import seaborn as sns\n",
    "import papermill\n",
    "import umap\n",
    "from sklearn.preprocessing import MinMaxScaler\n",
    "from sklearn.metrics import (\n",
    "    classification_report, accuracy_score, precision_score, recall_score, f1_score,\n",
    "    confusion_matrix\n",
    ")\n"
   ]
  },
  {
   "cell_type": "code",
   "execution_count": 2,
   "id": "5faa5861",
   "metadata": {
    "execution": {
     "iopub.execute_input": "2025-08-24T16:25:08.127867Z",
     "iopub.status.busy": "2025-08-24T16:25:08.127157Z",
     "iopub.status.idle": "2025-08-24T16:25:08.131636Z",
     "shell.execute_reply": "2025-08-24T16:25:08.131000Z"
    },
    "papermill": {
     "duration": 0.009024,
     "end_time": "2025-08-24T16:25:08.132517",
     "exception": false,
     "start_time": "2025-08-24T16:25:08.123493",
     "status": "completed"
    },
    "tags": []
   },
   "outputs": [
    {
     "name": "stdout",
     "output_type": "stream",
     "text": [
      "2.6.0\n"
     ]
    }
   ],
   "source": [
    "print(papermill.__version__)"
   ]
  },
  {
   "cell_type": "code",
   "execution_count": 3,
   "id": "b4775409",
   "metadata": {
    "execution": {
     "iopub.execute_input": "2025-08-24T16:25:08.140404Z",
     "iopub.status.busy": "2025-08-24T16:25:08.139774Z",
     "iopub.status.idle": "2025-08-24T16:25:16.938551Z",
     "shell.execute_reply": "2025-08-24T16:25:16.937636Z"
    },
    "papermill": {
     "duration": 8.803904,
     "end_time": "2025-08-24T16:25:16.939585",
     "exception": false,
     "start_time": "2025-08-24T16:25:08.135681",
     "status": "completed"
    },
    "tags": []
   },
   "outputs": [
    {
     "name": "stdout",
     "output_type": "stream",
     "text": [
      "(108138, 5018)\n",
      "(108138,)\n",
      "RAM usada (MB): 9368.57\n"
     ]
    }
   ],
   "source": [
    "DATA_PATH =\"../../../data\"\n",
    "# embbedings_path = \"embbedings_khipu/lb_khipu_B.npy\"\n",
    "\n",
    "path_lb_embb = os.path.join(DATA_PATH, f\"embbedings_khipu/tfidf_numeric_B.npy\")\n",
    "path_dataset = os.path.join(DATA_PATH, \"spotify_dataset_sin_duplicados_4.csv\")\n",
    "\n",
    "# Para hacer pruebitas y luego mandarlo como sbatch\n",
    "TESTING = False\n",
    "SCALED = True\n",
    "_EMBEDDINGS = np.load(path_lb_embb)\n",
    "\n",
    "if TESTING:\n",
    "    _NROWS = 1000\n",
    "    _EMBEDDINGS = _EMBEDDINGS[:1000]\n",
    "    _EPHOCS = 1000\n",
    "else:\n",
    "    _NROWS = None\n",
    "    _EPHOCS = 1000\n",
    "\n",
    "if SCALED:\n",
    "    scaler = MinMaxScaler(feature_range=(0, 1))\n",
    "    _EMBEDDINGS = scaler.fit_transform(_EMBEDDINGS)\n",
    "\n",
    "df = pd.read_csv(path_dataset, nrows = _NROWS)\n",
    "df['Explicit_binary'] = df['Explicit'].map({'Yes': 1, 'No': 0})\n",
    "\n",
    "X = _EMBEDDINGS\n",
    "\n",
    "y = df['Explicit_binary']\n",
    "\n",
    "\n",
    "\n",
    "X_train, X_test, y_train, y_test = train_test_split(\n",
    "    X, y, test_size=0.2, random_state=42 \n",
    ")\n",
    "\n",
    "y_train = y_train.values.reshape(-1, 1).astype(np.float32)\n",
    "y_test = y_test.values.reshape(-1, 1).astype(np.float32)\n",
    "\n",
    "\n",
    "def seeRam():\n",
    "    process = psutil.Process(os.getpid())\n",
    "    print(f\"RAM usada (MB): {process.memory_info().rss / (1024 * 1024):.2f}\")\n",
    "\n",
    "print(X.shape)\n",
    "print(y.shape)\n",
    "seeRam()"
   ]
  },
  {
   "cell_type": "code",
   "execution_count": 4,
   "id": "890be7e5",
   "metadata": {
    "execution": {
     "iopub.execute_input": "2025-08-24T16:25:16.947241Z",
     "iopub.status.busy": "2025-08-24T16:25:16.946560Z",
     "iopub.status.idle": "2025-08-24T16:25:16.953310Z",
     "shell.execute_reply": "2025-08-24T16:25:16.952346Z"
    },
    "papermill": {
     "duration": 0.011298,
     "end_time": "2025-08-24T16:25:16.954191",
     "exception": false,
     "start_time": "2025-08-24T16:25:16.942893",
     "status": "completed"
    },
    "tags": []
   },
   "outputs": [],
   "source": [
    "# CODE HERE for backward pass\n",
    "\n",
    "# f0, f1, f2\n",
    "class Linear:\n",
    "    def __init__(self, in_dim, out_dim):\n",
    "        self.W = np.random.randn(in_dim, out_dim) * np.sqrt(2.0 / in_dim)\n",
    "        self.b = np.zeros((1, out_dim))\n",
    "    def forward(self, x):\n",
    "        self.x = x\n",
    "        return x @ self.W + self.b\n",
    "\n",
    "    def backward(self, grad_output):\n",
    "        self.grad_W = self.x.T @ grad_output\n",
    "        self.grad_b = np.sum(grad_output, axis=0, keepdims=True)\n",
    "        return grad_output @ self.W.T\n",
    "\n",
    "# h0, h1, h2, ....\n",
    "class ReLU:\n",
    "    def forward(self, x):\n",
    "        self.mask = x > 0\n",
    "        return x * self.mask\n",
    "    def backward(self, grad_output):\n",
    "        return grad_output * self.mask\n",
    "\n",
    "class Sigmoid:\n",
    "    def forward(self, x):\n",
    "        self.out = 1 / (1 + np.exp(-x))\n",
    "        return self.out\n",
    "\n",
    "    def backward(self, grad_output):\n",
    "        return grad_output * self.out * (1 - self.out)\n",
    "\n",
    "# error\n",
    "class MSELoss:\n",
    "    def forward(self, pred, target):\n",
    "        self.diff = pred - target\n",
    "        return np.mean(self.diff ** 2)\n",
    "    def backward(self):\n",
    "        return 2.0 * self.diff / self.diff.shape[0]"
   ]
  },
  {
   "cell_type": "code",
   "execution_count": 5,
   "id": "ea177d6d",
   "metadata": {
    "execution": {
     "iopub.execute_input": "2025-08-24T16:25:16.961668Z",
     "iopub.status.busy": "2025-08-24T16:25:16.960951Z",
     "iopub.status.idle": "2025-08-24T16:25:16.969670Z",
     "shell.execute_reply": "2025-08-24T16:25:16.968747Z"
    },
    "papermill": {
     "duration": 0.013224,
     "end_time": "2025-08-24T16:25:16.970551",
     "exception": false,
     "start_time": "2025-08-24T16:25:16.957327",
     "status": "completed"
    },
    "tags": []
   },
   "outputs": [],
   "source": [
    "class MLP:\n",
    "    def __init__(self, dims):\n",
    "        self.layers = []\n",
    "        for i in range(len(dims)-2):\n",
    "            self.layers.append(Linear(dims[i], dims[i+1])) #fi\n",
    "            self.layers.append(ReLU()) # hi\n",
    "\n",
    "        self.layers.append(Linear(dims[-2], dims[-1]))\n",
    "\n",
    "    # CODE HERE (forward, backward pass)\n",
    "    def forward(self, x):\n",
    "        for l in self.layers:\n",
    "            x = l.forward(x)\n",
    "        return x\n",
    "\n",
    "    def backward(self, grad):\n",
    "        for l in reversed(self.layers):\n",
    "            grad = l.backward(grad)\n",
    "\n",
    "    @property\n",
    "    def n_params(self):\n",
    "        total = 0\n",
    "        for l in self.layers:\n",
    "            if isinstance(l, Linear):\n",
    "                total += l.W.size + l.b.size\n",
    "        return total\n",
    "\n",
    "    def train(self, X, y, lr=0.1, epochs=10000, print_every=100):\n",
    "      loss_fn = MSELoss()\n",
    "      history = []\n",
    "      for epoch in range(epochs):\n",
    "          #forward\n",
    "          pred = self.forward(X)\n",
    "          loss = loss_fn.forward(pred, y)\n",
    "          #backward\n",
    "          grad = loss_fn.backward()\n",
    "          self.backward(grad)\n",
    "\n",
    "          # Descenso de la gradiente\n",
    "          for layer in self.layers:\n",
    "              if isinstance(layer, Linear):\n",
    "                  layer.W -= lr * layer.grad_W\n",
    "                  layer.b -= lr * layer.grad_b\n",
    "          history.append(loss)\n",
    "          if epoch % print_every == 0:\n",
    "              print(f\"Epoch {epoch}, Loss: {loss:.6f}\")\n",
    "      return history\n",
    "\n",
    "    def train_batches(self, X, y, lr=0.1, epochs=10000, batch_size=32, print_every=100):\n",
    "        loss_fn = MSELoss()\n",
    "        history = []\n",
    "\n",
    "        n = X.shape[0]\n",
    "        for epoch in range(epochs):\n",
    "            # Barajamos los datos al inicio de cada época\n",
    "            perm = np.random.permutation(n)\n",
    "            X_shuffled = X[perm]\n",
    "            y_shuffled = y[perm]\n",
    "\n",
    "            for i in range(0, n, batch_size):\n",
    "                xb = X_shuffled[i:i+batch_size]\n",
    "                yb = y_shuffled[i:i+batch_size]\n",
    "\n",
    "                # Forward\n",
    "                pred = self.forward(xb)\n",
    "                loss = loss_fn.forward(pred, yb)\n",
    "\n",
    "                # Backward\n",
    "                grad = loss_fn.backward()\n",
    "                self.backward(grad)\n",
    "\n",
    "                # Actualización\n",
    "                for layer in self.layers:\n",
    "                    if isinstance(layer, Linear):\n",
    "                        layer.W -= lr * layer.grad_W\n",
    "                        layer.b -= lr * layer.grad_b\n",
    "\n",
    "            pred_full = self.forward(X)\n",
    "            epoch_loss = loss_fn.forward(pred_full, y)\n",
    "            history.append(epoch_loss)\n",
    "\n",
    "            if epoch % print_every == 0:\n",
    "                print(f\"Epoch {epoch}, Loss: {epoch_loss:.6f}\")\n",
    "\n",
    "        return history\n"
   ]
  },
  {
   "cell_type": "code",
   "execution_count": 6,
   "id": "acb0bd1c",
   "metadata": {
    "execution": {
     "iopub.execute_input": "2025-08-24T16:25:16.978384Z",
     "iopub.status.busy": "2025-08-24T16:25:16.977742Z",
     "iopub.status.idle": "2025-08-24T16:25:16.982318Z",
     "shell.execute_reply": "2025-08-24T16:25:16.981214Z"
    },
    "papermill": {
     "duration": 0.009566,
     "end_time": "2025-08-24T16:25:16.983184",
     "exception": false,
     "start_time": "2025-08-24T16:25:16.973618",
     "status": "completed"
    },
    "tags": []
   },
   "outputs": [
    {
     "name": "stdout",
     "output_type": "stream",
     "text": [
      "(86510, 5018)\n",
      "(86510, 1)\n"
     ]
    }
   ],
   "source": [
    "print(X_train.shape)\n",
    "# y_train = Y.values.reshape(-1, 1).astype(np.float32) \n",
    "print(y_train.shape)"
   ]
  },
  {
   "cell_type": "code",
   "execution_count": 7,
   "id": "107320ec",
   "metadata": {
    "execution": {
     "iopub.execute_input": "2025-08-24T16:25:16.991574Z",
     "iopub.status.busy": "2025-08-24T16:25:16.990893Z",
     "iopub.status.idle": "2025-08-24T17:19:36.026160Z",
     "shell.execute_reply": "2025-08-24T17:19:36.025394Z"
    },
    "papermill": {
     "duration": 3259.042501,
     "end_time": "2025-08-24T17:19:36.029007",
     "exception": false,
     "start_time": "2025-08-24T16:25:16.986506",
     "status": "completed"
    },
    "tags": []
   },
   "outputs": [
    {
     "name": "stdout",
     "output_type": "stream",
     "text": [
      "Epoch 0, Loss: 0.204524\n"
     ]
    },
    {
     "name": "stdout",
     "output_type": "stream",
     "text": [
      "Parámetros totales: 164833\n"
     ]
    }
   ],
   "source": [
    "mlp = MLP([ X_train.shape[1] , 32,64,32, 1])\n",
    "history= mlp.train(X_train, y_train, lr=0.001, epochs=_EPHOCS, print_every=1000)\n",
    "print('Parámetros totales:', mlp.n_params)\n"
   ]
  },
  {
   "cell_type": "code",
   "execution_count": 8,
   "id": "1f43e8cc",
   "metadata": {
    "execution": {
     "iopub.execute_input": "2025-08-24T17:19:36.037408Z",
     "iopub.status.busy": "2025-08-24T17:19:36.036760Z",
     "iopub.status.idle": "2025-08-24T17:19:36.195266Z",
     "shell.execute_reply": "2025-08-24T17:19:36.194857Z"
    },
    "papermill": {
     "duration": 0.16385,
     "end_time": "2025-08-24T17:19:36.196184",
     "exception": false,
     "start_time": "2025-08-24T17:19:36.032334",
     "status": "completed"
    },
    "tags": []
   },
   "outputs": [
    {
     "data": {
      "image/png": "[encoded data removed]",
      "text/plain": [
       "<Figure size 640x480 with 1 Axes>"
      ]
     },
     "metadata": {},
     "output_type": "display_data"
    }
   ],
   "source": [
    "# Perdida\n",
    "plt.figure()\n",
    "plt.plot(history)\n",
    "plt.xlabel(\"Épocas\")\n",
    "plt.ylabel(\"Error\")\n",
    "plt.title(\"Evolución del error en la detección\")\n",
    "plt.grid(True)\n",
    "plt.show()"
   ]
  },
  {
   "cell_type": "code",
   "execution_count": 9,
   "id": "75d8a644",
   "metadata": {
    "execution": {
     "iopub.execute_input": "2025-08-24T17:19:36.206534Z",
     "iopub.status.busy": "2025-08-24T17:19:36.205830Z",
     "iopub.status.idle": "2025-08-24T17:19:36.432008Z",
     "shell.execute_reply": "2025-08-24T17:19:36.431337Z"
    },
    "papermill": {
     "duration": 0.232165,
     "end_time": "2025-08-24T17:19:36.433006",
     "exception": false,
     "start_time": "2025-08-24T17:19:36.200841",
     "status": "completed"
    },
    "tags": []
   },
   "outputs": [
    {
     "name": "stdout",
     "output_type": "stream",
     "text": [
      "Accuracy en Test: 0.7588\n",
      "              precision    recall  f1-score   support\n",
      "\n",
      "         0.0       0.76      1.00      0.86     16410\n",
      "         1.0       1.00      0.00      0.00      5218\n",
      "\n",
      "    accuracy                           0.76     21628\n",
      "   macro avg       0.88      0.50      0.43     21628\n",
      "weighted avg       0.82      0.76      0.65     21628\n",
      "\n"
     ]
    }
   ],
   "source": [
    "# Pasando test a la red\n",
    "pred_test = mlp.forward(X_test)\n",
    "\n",
    "# Se hace la predicción\n",
    "pred_labels = (pred_test >= 0.5).astype(int).flatten()\n",
    "y_test_true = y_test.flatten()\n",
    "\n",
    "# Calcular Accuracy y Reporte\n",
    "from sklearn.metrics import accuracy_score, classification_report\n",
    "\n",
    "print(f\"Accuracy en Test: {accuracy_score(y_test_true, pred_labels):.4f}\")\n",
    "print(classification_report(y_test_true, pred_labels))\n"
   ]
  },
  {
   "cell_type": "code",
   "execution_count": 10,
   "id": "cdcc1450",
   "metadata": {
    "execution": {
     "iopub.execute_input": "2025-08-24T17:19:36.443953Z",
     "iopub.status.busy": "2025-08-24T17:19:36.443240Z",
     "iopub.status.idle": "2025-08-24T17:19:36.633408Z",
     "shell.execute_reply": "2025-08-24T17:19:36.633042Z"
    },
    "papermill": {
     "duration": 0.196827,
     "end_time": "2025-08-24T17:19:36.634292",
     "exception": false,
     "start_time": "2025-08-24T17:19:36.437465",
     "status": "completed"
    },
    "tags": []
   },
   "outputs": [
    {
     "name": "stdout",
     "output_type": "stream",
     "text": [
      "[[16410     0]\n",
      " [ 5216     2]]\n"
     ]
    },
    {
     "data": {
      "image/png": "[encoded data removed]",
      "text/plain": [
       "<Figure size 600x500 with 2 Axes>"
      ]
     },
     "metadata": {},
     "output_type": "display_data"
    },
    {
     "name": "stdout",
     "output_type": "stream",
     "text": [
      "Accuracy:  0.7588\n",
      "Precision: 1.0000\n",
      "Recall:    0.0004\n",
      "F1-score:  0.0008\n"
     ]
    }
   ],
   "source": [
    "cm = confusion_matrix(y_test_true, pred_labels)\n",
    "\n",
    "plt.figure(figsize=(6,5))\n",
    "print(cm)\n",
    "sns.heatmap(cm, annot=True, fmt='d', cmap='Blues', xticklabels=['Not Explicit', 'Explicit'], yticklabels=['Not Explicit', 'Explicit'])\n",
    "plt.xlabel('Predicted')\n",
    "plt.ylabel('Actual')\n",
    "plt.title('Confusion Matrix')\n",
    "plt.show()\n",
    "\n",
    "acc = accuracy_score(y_test_true, pred_labels)\n",
    "prec = precision_score(y_test_true, pred_labels )\n",
    "rec = recall_score(y_test_true, pred_labels)\n",
    "f1 = f1_score(y_test_true, pred_labels)\n",
    "\n",
    "print(f\"Accuracy:  {acc:.4f}\")\n",
    "print(f\"Precision: {prec:.4f}\")\n",
    "print(f\"Recall:    {rec:.4f}\")\n",
    "print(f\"F1-score:  {f1:.4f}\")"
   ]
  }
 ],
 "metadata": {
  "kernelspec": {
   "display_name": ".venv",
   "language": "python",
   "name": "python3"
  },
  "language_info": {
   "codemirror_mode": {
    "name": "ipython",
    "version": 3
   },
   "file_extension": ".py",
   "mimetype": "text/x-python",
   "name": "python",
   "nbconvert_exporter": "python",
   "pygments_lexer": "ipython3",
   "version": "3.13.2"
  },
  "papermill": {
   "default_parameters": {},
   "duration": 3279.313646,
   "end_time": "2025-08-24T17:19:37.756555",
   "environment_variables": {},
   "exception": null,
   "input_path": "rn.ipynb",
   "output_path": "ejecutado_rn_20250824_112457.ipynb",
   "parameters": {},
   "start_time": "2025-08-24T16:24:58.442909",
   "version": "2.6.0"
  }
 },
 "nbformat": 4,
 "nbformat_minor": 5
}