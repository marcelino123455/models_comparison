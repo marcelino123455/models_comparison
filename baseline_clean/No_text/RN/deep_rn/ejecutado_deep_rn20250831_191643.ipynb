{
 "cells": [
  {
   "cell_type": "code",
   "execution_count": 1,
   "id": "fc095755",
   "metadata": {
    "execution": {
     "iopub.execute_input": "2025-09-01T00:16:45.833599Z",
     "iopub.status.busy": "2025-09-01T00:16:45.833436Z",
     "iopub.status.idle": "2025-09-01T00:16:54.039604Z",
     "shell.execute_reply": "2025-09-01T00:16:54.038979Z"
    },
    "papermill": {
     "duration": 8.211299,
     "end_time": "2025-09-01T00:16:54.040840",
     "exception": false,
     "start_time": "2025-09-01T00:16:45.829541",
     "status": "completed"
    },
    "tags": []
   },
   "outputs": [
    {
     "name": "stderr",
     "output_type": "stream",
     "text": [
      "/home/marcelino.maita/.venv/lib/python3.13/site-packages/tqdm/auto.py:21: TqdmWarning: IProgress not found. Please update jupyter and ipywidgets. See https://ipywidgets.readthedocs.io/en/stable/user_install.html\n",
      "  from .autonotebook import tqdm as notebook_tqdm\n"
     ]
    }
   ],
   "source": [
    "import torch\n",
    "import torch.nn as nn\n",
    "import os \n",
    "import numpy as np\n",
    "import torch.optim as optim\n",
    "import time\n",
    "\n",
    "# from torchvision import datasets, transforms\n",
    "\n",
    "from torch.utils.data import DataLoader, TensorDataset\n",
    "\n",
    "from sklearn.model_selection import train_test_split\n",
    "import psutil\n",
    "import matplotlib.pyplot as plt\n",
    "\n",
    "from sklearn.metrics import confusion_matrix\n",
    "import seaborn as sns\n",
    "import papermill\n",
    "import umap\n",
    "from sklearn.preprocessing import MinMaxScaler\n",
    "from sklearn.metrics import (\n",
    "    classification_report, accuracy_score, precision_score, recall_score, f1_score,\n",
    "    confusion_matrix\n",
    ")\n",
    "import pandas as pd\n",
    "\n",
    "\n",
    "device = torch.device(\"cuda\" if torch.cuda.is_available() else \"cpu\")\n",
    "\n"
   ]
  },
  {
   "cell_type": "code",
   "execution_count": 2,
   "id": "59e7af5a",
   "metadata": {
    "execution": {
     "iopub.execute_input": "2025-09-01T00:16:54.049386Z",
     "iopub.status.busy": "2025-09-01T00:16:54.048693Z",
     "iopub.status.idle": "2025-09-01T00:16:54.051961Z",
     "shell.execute_reply": "2025-09-01T00:16:54.051477Z"
    },
    "papermill": {
     "duration": 0.008227,
     "end_time": "2025-09-01T00:16:54.052833",
     "exception": false,
     "start_time": "2025-09-01T00:16:54.044606",
     "status": "completed"
    },
    "tags": []
   },
   "outputs": [],
   "source": [
    "# Loading Lb vectors from:  ../../../../data/spotify_dataset_sin_duplicados_4.csv\n"
   ]
  },
  {
   "cell_type": "code",
   "execution_count": 3,
   "id": "22c94788",
   "metadata": {
    "execution": {
     "iopub.execute_input": "2025-09-01T00:16:54.060133Z",
     "iopub.status.busy": "2025-09-01T00:16:54.059513Z",
     "iopub.status.idle": "2025-09-01T00:16:54.064204Z",
     "shell.execute_reply": "2025-09-01T00:16:54.063248Z"
    },
    "papermill": {
     "duration": 0.00962,
     "end_time": "2025-09-01T00:16:54.065053",
     "exception": false,
     "start_time": "2025-09-01T00:16:54.055433",
     "status": "completed"
    },
    "tags": []
   },
   "outputs": [],
   "source": [
    "class MLP(nn.Module):\n",
    "    def __init__(self, capas):\n",
    "        super(MLP, self).__init__()\n",
    "        layers = []\n",
    "        # Capas \n",
    "        for i in range(len(capas)-2):\n",
    "            layers.append(nn.Linear(capas[i], capas[i+1]))\n",
    "            layers.append(nn.ReLU(inplace=True))\n",
    "        layers.append(nn.Linear(capas[-2], capas[-1]))\n",
    "        self.net = nn.Sequential(*layers)\n",
    "\n",
    "    def forward(self, x):\n",
    "        return self.net(x)\n",
    "        \n"
   ]
  },
  {
   "cell_type": "code",
   "execution_count": 4,
   "id": "1f71f0e7",
   "metadata": {
    "execution": {
     "iopub.execute_input": "2025-09-01T00:16:54.072463Z",
     "iopub.status.busy": "2025-09-01T00:16:54.071818Z",
     "iopub.status.idle": "2025-09-01T00:17:02.650800Z",
     "shell.execute_reply": "2025-09-01T00:17:02.649701Z"
    },
    "papermill": {
     "duration": 8.584026,
     "end_time": "2025-09-01T00:17:02.652033",
     "exception": false,
     "start_time": "2025-09-01T00:16:54.068007",
     "status": "completed"
    },
    "tags": []
   },
   "outputs": [],
   "source": [
    "DATA_PATH =\"../../../data\"\n",
    "path_lb_embb = os.path.join(DATA_PATH, f\"embbedings_khipu/tfidf_numeric_B.npy\")\n",
    "path_dataset = os.path.join(DATA_PATH, \"spotify_dataset_sin_duplicados_4.csv\")\n",
    "\n",
    "## CONFIGURATIONS\n",
    "\n",
    "TESTING = False\n",
    "SCALED = True\n",
    "_EMBEDDINGS = np.load(path_lb_embb , mmap_mode=\"r\")\n",
    "\n",
    "if TESTING:\n",
    "    _NROWS = 100\n",
    "    _EMBEDDINGS = _EMBEDDINGS[:_NROWS]\n",
    "    _EPHOCS = 10\n",
    "else:\n",
    "    _NROWS = None\n",
    "    _EPHOCS = 1000\n",
    "\n",
    "if SCALED:\n",
    "    scaler = MinMaxScaler(feature_range=(0, 1))\n",
    "    _EMBEDDINGS = scaler.fit_transform(_EMBEDDINGS)\n",
    "\n",
    "df = pd.read_csv(path_dataset, nrows = _NROWS)\n",
    "df['Explicit_binary'] = df['Explicit'].map({'Yes': 1, 'No': 0})\n",
    "\n",
    "X = _EMBEDDINGS\n",
    "\n",
    "y = df['Explicit_binary']\n",
    "\n",
    "X_train, X_test, y_train, y_test = train_test_split(\n",
    "    X, y, test_size=0.2, random_state=42 \n",
    ")\n",
    "\n",
    "# Convertir data a tensores\n",
    "# Convertir a tensores\n",
    "X_train_tensor = torch.tensor(X_train, dtype=torch.float32)\n",
    "y_train_tensor = torch.tensor(y_train.values, dtype=torch.long)  # labels como enteros\n",
    "\n",
    "X_test_tensor  = torch.tensor(X_test, dtype=torch.float32)\n",
    "y_test_tensor  = torch.tensor(y_test.values, dtype=torch.long)\n",
    "\n",
    "# Crear datasets\n",
    "trainDataset = TensorDataset(X_train_tensor, y_train_tensor)\n",
    "testDataset  = TensorDataset(X_test_tensor,  y_test_tensor)\n",
    "\n",
    "trainLoader = DataLoader(trainDataset, batch_size=64, shuffle= True)\n",
    "testLoader  = DataLoader( testDataset, batch_size=64, shuffle=False)"
   ]
  },
  {
   "cell_type": "code",
   "execution_count": 5,
   "id": "9f194939",
   "metadata": {
    "execution": {
     "iopub.execute_input": "2025-09-01T00:17:02.659878Z",
     "iopub.status.busy": "2025-09-01T00:17:02.659173Z",
     "iopub.status.idle": "2025-09-01T00:17:02.666364Z",
     "shell.execute_reply": "2025-09-01T00:17:02.666032Z"
    },
    "papermill": {
     "duration": 0.011716,
     "end_time": "2025-09-01T00:17:02.667189",
     "exception": false,
     "start_time": "2025-09-01T00:17:02.655473",
     "status": "completed"
    },
    "tags": []
   },
   "outputs": [
    {
     "name": "stdout",
     "output_type": "stream",
     "text": [
      "Total parámetros: 164833\n",
      "Parámetros entrenables: 164833\n"
     ]
    }
   ],
   "source": [
    "net = MLP([X_train.shape[1],32, 64,32,1])\n",
    "# Total de parámetros\n",
    "total_params = sum(p.numel() for p in net.parameters())\n",
    "print(f\"Total parámetros: {total_params}\")\n",
    "\n",
    "# Parámetros entrenables\n",
    "trainable_params = sum(p.numel() for p in net.parameters() if p.requires_grad)\n",
    "print(f\"Parámetros entrenables: {trainable_params}\")"
   ]
  },
  {
   "cell_type": "code",
   "execution_count": 6,
   "id": "a1ee6652",
   "metadata": {
    "execution": {
     "iopub.execute_input": "2025-09-01T00:17:02.674673Z",
     "iopub.status.busy": "2025-09-01T00:17:02.674036Z",
     "iopub.status.idle": "2025-09-01T00:17:05.123286Z",
     "shell.execute_reply": "2025-09-01T00:17:05.122199Z"
    },
    "papermill": {
     "duration": 2.454124,
     "end_time": "2025-09-01T00:17:05.124404",
     "exception": false,
     "start_time": "2025-09-01T00:17:02.670280",
     "status": "completed"
    },
    "tags": []
   },
   "outputs": [],
   "source": [
    "# Pasar la red a la GPU\n",
    "net = net.to(device)\n",
    "\n",
    "# Loss\n",
    "# criterion = nn.CrossEntropyLoss()\n",
    "criterion = nn.BCEWithLogitsLoss()\n",
    "\n",
    "# Optimizer\n",
    "optimizer = optim.AdamW(net.parameters(), lr=0.001)"
   ]
  },
  {
   "cell_type": "code",
   "execution_count": 7,
   "id": "2a283ae5",
   "metadata": {
    "execution": {
     "iopub.execute_input": "2025-09-01T00:17:05.132182Z",
     "iopub.status.busy": "2025-09-01T00:17:05.131337Z",
     "iopub.status.idle": "2025-09-01T00:17:05.135188Z",
     "shell.execute_reply": "2025-09-01T00:17:05.134191Z"
    },
    "papermill": {
     "duration": 0.008493,
     "end_time": "2025-09-01T00:17:05.136048",
     "exception": false,
     "start_time": "2025-09-01T00:17:05.127555",
     "status": "completed"
    },
    "tags": []
   },
   "outputs": [],
   "source": [
    "start_time = time.time() "
   ]
  },
  {
   "cell_type": "code",
   "execution_count": 8,
   "id": "fc930b8b",
   "metadata": {
    "execution": {
     "iopub.execute_input": "2025-09-01T00:17:05.144209Z",
     "iopub.status.busy": "2025-09-01T00:17:05.143568Z",
     "iopub.status.idle": "2025-09-01T01:17:46.040546Z",
     "shell.execute_reply": "2025-09-01T01:17:46.039695Z"
    },
    "papermill": {
     "duration": 3640.903962,
     "end_time": "2025-09-01T01:17:46.043456",
     "exception": false,
     "start_time": "2025-09-01T00:17:05.139494",
     "status": "completed"
    },
    "tags": []
   },
   "outputs": [
    {
     "name": "stdout",
     "output_type": "stream",
     "text": [
      "Epoch [0/1000], Train Loss: 0.1805, Test Loss: 0.1343\n"
     ]
    },
    {
     "name": "stdout",
     "output_type": "stream",
     "text": [
      "Epoch [126/1000], Train Loss: 0.0000, Test Loss: 0.4157\n"
     ]
    },
    {
     "name": "stdout",
     "output_type": "stream",
     "text": [
      "Epoch [252/1000], Train Loss: 0.0010, Test Loss: 0.3491\n"
     ]
    },
    {
     "name": "stdout",
     "output_type": "stream",
     "text": [
      "Epoch [378/1000], Train Loss: 0.0008, Test Loss: 0.5647\n"
     ]
    },
    {
     "name": "stdout",
     "output_type": "stream",
     "text": [
      "Epoch [504/1000], Train Loss: 0.0000, Test Loss: 0.4388\n"
     ]
    },
    {
     "name": "stdout",
     "output_type": "stream",
     "text": [
      "Epoch [630/1000], Train Loss: 0.0000, Test Loss: 0.5125\n"
     ]
    },
    {
     "name": "stdout",
     "output_type": "stream",
     "text": [
      "Epoch [756/1000], Train Loss: 0.0000, Test Loss: 0.4234\n"
     ]
    },
    {
     "name": "stdout",
     "output_type": "stream",
     "text": [
      "Epoch [882/1000], Train Loss: 0.0001, Test Loss: 0.4547\n"
     ]
    },
    {
     "name": "stdout",
     "output_type": "stream",
     "text": [
      "Mejores resultados en la época:  982\n",
      "f1-score 0.9285300367007919\n"
     ]
    }
   ],
   "source": [
    "n_epoch = _EPHOCS\n",
    "train_losses = []\n",
    "test_losses = []\n",
    "\n",
    "best_f1_score = 0.0\n",
    "best_pred = None\n",
    "best_ephoc = None\n",
    "best_labels = None\n",
    "\n",
    "TARGET_F1 = 0.95\n",
    "\n",
    "for epoch in range(n_epoch):\n",
    "    # Training\n",
    "    net.train()\n",
    "    total_train_loss = 0\n",
    "    for embbedings, labels in trainLoader:\n",
    "        embbedings, labels = embbedings.to(device), labels.to(device).float()\n",
    "\n",
    "        # Forward\n",
    "        outputs = net(embbedings).squeeze(1)\n",
    "        loss = criterion(outputs, labels)\n",
    "\n",
    "        # Backward\n",
    "        optimizer.zero_grad()\n",
    "        loss.backward()\n",
    "        optimizer.step()\n",
    "\n",
    "        total_train_loss += loss.item()\n",
    "\n",
    "    avg_train_loss = total_train_loss / len(trainLoader)\n",
    "    train_losses.append(avg_train_loss)\n",
    "\n",
    "    # Evaluation\n",
    "    net.eval()\n",
    "    total_test_loss = 0\n",
    "    all_preds, all_labels = [], []\n",
    "    with torch.no_grad():\n",
    "        for embbedings, labels in testLoader:\n",
    "            embbedings, labels = embbedings.to(device), labels.to(device).float()\n",
    "\n",
    "            outputs = net(embbedings).squeeze(1)\n",
    "            loss = criterion(outputs, labels)\n",
    "            total_test_loss += loss.item()\n",
    "\n",
    "            probs = torch.sigmoid(outputs)\n",
    "            preds = (probs >= 0.5).int()\n",
    "\n",
    "            all_preds.extend(preds.cpu().numpy())\n",
    "            all_labels.extend(labels.cpu().numpy())\n",
    "\n",
    "    avg_test_loss = total_test_loss / len(testLoader)\n",
    "    test_losses.append(avg_test_loss)\n",
    "\n",
    "    # Accuracy\n",
    "    acc = accuracy_score(all_labels, all_preds)\n",
    "    prec = precision_score(all_labels, all_preds)\n",
    "    rec = recall_score(all_labels, all_preds)\n",
    "    f1 = f1_score(all_labels, all_preds)\n",
    "    if f1 > best_f1_score:\n",
    "        best_f1_score = f1\n",
    "        best_pred = all_preds\n",
    "        best_ephoc = epoch\n",
    "        best_labels = all_labels.copy()\n",
    "    if f1 >= TARGET_F1:\n",
    "        print(f\"Target F1-score {TARGET_F1} alcanzado en la época {epoch}. Deteniendo entrenamiento.\")\n",
    "        break\n",
    "    if epoch % 126 == 0:\n",
    "        print(f\"Epoch [{epoch}/{n_epoch}], Train Loss: {avg_train_loss:.4f}, Test Loss: {avg_test_loss:.4f}\")\n",
    "\n",
    "print(\"Mejores resultados en la época: \", best_ephoc)\n",
    "print(\"f1-score\", best_f1_score)"
   ]
  },
  {
   "cell_type": "code",
   "execution_count": 9,
   "id": "089876db",
   "metadata": {
    "execution": {
     "iopub.execute_input": "2025-09-01T01:17:46.052414Z",
     "iopub.status.busy": "2025-09-01T01:17:46.051732Z",
     "iopub.status.idle": "2025-09-01T01:17:46.202562Z",
     "shell.execute_reply": "2025-09-01T01:17:46.202079Z"
    },
    "papermill": {
     "duration": 0.156337,
     "end_time": "2025-09-01T01:17:46.203460",
     "exception": false,
     "start_time": "2025-09-01T01:17:46.047123",
     "status": "completed"
    },
    "tags": []
   },
   "outputs": [
    {
     "data": {
      "image/png": "[encoded data removed]",
      "text/plain": [
       "<Figure size 640x480 with 1 Axes>"
      ]
     },
     "metadata": {},
     "output_type": "display_data"
    }
   ],
   "source": [
    "import matplotlib.pyplot as plt\n",
    "\n",
    "plt.plot(range(1, n_epoch + 1), train_losses, label='Train Loss')\n",
    "plt.plot(range(1, n_epoch + 1), test_losses, label='Eval Loss')\n",
    "plt.xlabel('Epochs')\n",
    "plt.ylabel('Loss')\n",
    "plt.legend()\n",
    "plt.show()"
   ]
  },
  {
   "cell_type": "code",
   "execution_count": 10,
   "id": "b92bf1e0",
   "metadata": {
    "execution": {
     "iopub.execute_input": "2025-09-01T01:17:46.213252Z",
     "iopub.status.busy": "2025-09-01T01:17:46.212624Z",
     "iopub.status.idle": "2025-09-01T01:17:46.448422Z",
     "shell.execute_reply": "2025-09-01T01:17:46.447742Z"
    },
    "papermill": {
     "duration": 0.241343,
     "end_time": "2025-09-01T01:17:46.449283",
     "exception": false,
     "start_time": "2025-09-01T01:17:46.207940",
     "status": "completed"
    },
    "tags": []
   },
   "outputs": [
    {
     "name": "stdout",
     "output_type": "stream",
     "text": [
      "[[16081   329]\n",
      " [  411  4807]]\n"
     ]
    },
    {
     "data": {
      "image/png": "[encoded data removed]",
      "text/plain": [
       "<Figure size 600x500 with 2 Axes>"
      ]
     },
     "metadata": {},
     "output_type": "display_data"
    },
    {
     "name": "stdout",
     "output_type": "stream",
     "text": [
      "Accuracy:  0.9658\n",
      "Precision: 0.9359\n",
      "Recall:    0.9212\n",
      "F1-score:  0.9285\n"
     ]
    }
   ],
   "source": [
    "cm = confusion_matrix(best_labels, best_pred)\n",
    "\n",
    "plt.figure(figsize=(6,5))\n",
    "print(cm)\n",
    "sns.heatmap(cm, annot=True, fmt='d', cmap='Blues',\n",
    "            xticklabels=['Not Explicit', 'Explicit'],\n",
    "            yticklabels=['Not Explicit', 'Explicit']\n",
    "            )\n",
    "plt.xlabel('Predicted')\n",
    "plt.ylabel('Actual')\n",
    "plt.title(f'Confusion Matrix (Best Epoch ={best_ephoc})')\n",
    "plt.show()\n",
    "\n",
    "acc = accuracy_score(best_labels, best_pred)\n",
    "prec = precision_score(best_labels, best_pred )\n",
    "rec = recall_score(best_labels, best_pred)\n",
    "f1 = f1_score(best_labels, best_pred)\n",
    "\n",
    "print(f\"Accuracy:  {acc:.4f}\")\n",
    "print(f\"Precision: {prec:.4f}\")\n",
    "print(f\"Recall:    {rec:.4f}\")\n",
    "print(f\"F1-score:  {f1:.4f}\")"
   ]
  },
  {
   "cell_type": "code",
   "execution_count": 11,
   "id": "03347a97",
   "metadata": {
    "execution": {
     "iopub.execute_input": "2025-09-01T01:17:46.460542Z",
     "iopub.status.busy": "2025-09-01T01:17:46.459870Z",
     "iopub.status.idle": "2025-09-01T01:17:46.464222Z",
     "shell.execute_reply": "2025-09-01T01:17:46.463600Z"
    },
    "papermill": {
     "duration": 0.010683,
     "end_time": "2025-09-01T01:17:46.465086",
     "exception": false,
     "start_time": "2025-09-01T01:17:46.454403",
     "status": "completed"
    },
    "tags": []
   },
   "outputs": [
    {
     "name": "stdout",
     "output_type": "stream",
     "text": [
      "Tiempo total de entrenamiento: 3641.33 segundos\n"
     ]
    }
   ],
   "source": [
    "end_time = time.time()  # Marcar fin\n",
    "elapsed_time = end_time - start_time\n",
    "\n",
    "print(f\"Tiempo total de entrenamiento: {elapsed_time:.2f} segundos\")"
   ]
  }
 ],
 "metadata": {
  "kernelspec": {
   "display_name": ".venv",
   "language": "python",
   "name": "python3"
  },
  "language_info": {
   "codemirror_mode": {
    "name": "ipython",
    "version": 3
   },
   "file_extension": ".py",
   "mimetype": "text/x-python",
   "name": "python",
   "nbconvert_exporter": "python",
   "pygments_lexer": "ipython3",
   "version": "3.13.2"
  },
  "papermill": {
   "default_parameters": {},
   "duration": 3664.351363,
   "end_time": "2025-09-01T01:17:48.499528",
   "environment_variables": {},
   "exception": null,
   "input_path": "deep_rn.ipynb",
   "output_path": "ejecutado_deep_rn20250831_191643.ipynb",
   "parameters": {},
   "start_time": "2025-09-01T00:16:44.148165",
   "version": "2.6.0"
  }
 },
 "nbformat": 4,
 "nbformat_minor": 5
}