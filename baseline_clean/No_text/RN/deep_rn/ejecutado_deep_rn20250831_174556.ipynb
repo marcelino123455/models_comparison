{
 "cells": [
  {
   "cell_type": "code",
   "execution_count": 1,
   "id": "fc095755",
   "metadata": {
    "execution": {
     "iopub.execute_input": "2025-08-31T22:45:58.939309Z",
     "iopub.status.busy": "2025-08-31T22:45:58.939146Z",
     "iopub.status.idle": "2025-08-31T22:46:07.107124Z",
     "shell.execute_reply": "2025-08-31T22:46:07.106532Z"
    },
    "papermill": {
     "duration": 8.17335,
     "end_time": "2025-08-31T22:46:07.108353",
     "exception": false,
     "start_time": "2025-08-31T22:45:58.935003",
     "status": "completed"
    },
    "tags": []
   },
   "outputs": [
    {
     "name": "stderr",
     "output_type": "stream",
     "text": [
      "/home/marcelino.maita/.venv/lib/python3.13/site-packages/tqdm/auto.py:21: TqdmWarning: IProgress not found. Please update jupyter and ipywidgets. See https://ipywidgets.readthedocs.io/en/stable/user_install.html\n",
      "  from .autonotebook import tqdm as notebook_tqdm\n"
     ]
    }
   ],
   "source": [
    "import torch\n",
    "import torch.nn as nn\n",
    "import os \n",
    "import numpy as np\n",
    "import torch.optim as optim\n",
    "\n",
    "# from torchvision import datasets, transforms\n",
    "\n",
    "from torch.utils.data import DataLoader, TensorDataset\n",
    "\n",
    "from sklearn.model_selection import train_test_split\n",
    "import psutil\n",
    "import matplotlib.pyplot as plt\n",
    "\n",
    "from sklearn.metrics import confusion_matrix\n",
    "import seaborn as sns\n",
    "import papermill\n",
    "import umap\n",
    "from sklearn.preprocessing import MinMaxScaler\n",
    "from sklearn.metrics import (\n",
    "    classification_report, accuracy_score, precision_score, recall_score, f1_score,\n",
    "    confusion_matrix\n",
    ")\n",
    "import pandas as pd\n",
    "\n",
    "\n",
    "device = torch.device(\"cuda\" if torch.cuda.is_available() else \"cpu\")\n",
    "\n"
   ]
  },
  {
   "cell_type": "code",
   "execution_count": 2,
   "id": "59e7af5a",
   "metadata": {
    "execution": {
     "iopub.execute_input": "2025-08-31T22:46:07.116310Z",
     "iopub.status.busy": "2025-08-31T22:46:07.115603Z",
     "iopub.status.idle": "2025-08-31T22:46:07.119245Z",
     "shell.execute_reply": "2025-08-31T22:46:07.118447Z"
    },
    "papermill": {
     "duration": 0.008219,
     "end_time": "2025-08-31T22:46:07.120145",
     "exception": false,
     "start_time": "2025-08-31T22:46:07.111926",
     "status": "completed"
    },
    "tags": []
   },
   "outputs": [],
   "source": [
    "# Loading Lb vectors from:  ../../../../data/spotify_dataset_sin_duplicados_4.csv\n"
   ]
  },
  {
   "cell_type": "code",
   "execution_count": 3,
   "id": "22c94788",
   "metadata": {
    "execution": {
     "iopub.execute_input": "2025-08-31T22:46:07.127949Z",
     "iopub.status.busy": "2025-08-31T22:46:07.127277Z",
     "iopub.status.idle": "2025-08-31T22:46:07.131994Z",
     "shell.execute_reply": "2025-08-31T22:46:07.131125Z"
    },
    "papermill": {
     "duration": 0.009792,
     "end_time": "2025-08-31T22:46:07.132880",
     "exception": false,
     "start_time": "2025-08-31T22:46:07.123088",
     "status": "completed"
    },
    "tags": []
   },
   "outputs": [],
   "source": [
    "class MLP(nn.Module):\n",
    "    def __init__(self, capas):\n",
    "        super(MLP, self).__init__()\n",
    "        layers = []\n",
    "        # Capas \n",
    "        for i in range(len(capas)-2):\n",
    "            layers.append(nn.Linear(capas[i], capas[i+1]))\n",
    "            layers.append(nn.ReLU(inplace=True))\n",
    "        layers.append(nn.Linear(capas[-2], capas[-1]))\n",
    "        self.net = nn.Sequential(*layers)\n",
    "\n",
    "    def forward(self, x):\n",
    "        return self.net(x)\n",
    "        \n"
   ]
  },
  {
   "cell_type": "code",
   "execution_count": 4,
   "id": "1f71f0e7",
   "metadata": {
    "execution": {
     "iopub.execute_input": "2025-08-31T22:46:07.140121Z",
     "iopub.status.busy": "2025-08-31T22:46:07.139489Z",
     "iopub.status.idle": "2025-08-31T22:46:15.701841Z",
     "shell.execute_reply": "2025-08-31T22:46:15.701114Z"
    },
    "papermill": {
     "duration": 8.567988,
     "end_time": "2025-08-31T22:46:15.703085",
     "exception": false,
     "start_time": "2025-08-31T22:46:07.135097",
     "status": "completed"
    },
    "tags": []
   },
   "outputs": [],
   "source": [
    "DATA_PATH =\"../../../data\"\n",
    "path_lb_embb = os.path.join(DATA_PATH, f\"embbedings_khipu/tfidf_numeric_B.npy\")\n",
    "path_dataset = os.path.join(DATA_PATH, \"spotify_dataset_sin_duplicados_4.csv\")\n",
    "\n",
    "## CONFIGURATIONS\n",
    "\n",
    "TESTING = False\n",
    "SCALED = True\n",
    "_EMBEDDINGS = np.load(path_lb_embb , mmap_mode=\"r\")\n",
    "\n",
    "if TESTING:\n",
    "    _NROWS = 100\n",
    "    _EMBEDDINGS = _EMBEDDINGS[:_NROWS]\n",
    "    _EPHOCS = 10\n",
    "else:\n",
    "    _NROWS = None\n",
    "    _EPHOCS = 1000\n",
    "\n",
    "if SCALED:\n",
    "    scaler = MinMaxScaler(feature_range=(0, 1))\n",
    "    _EMBEDDINGS = scaler.fit_transform(_EMBEDDINGS)\n",
    "\n",
    "df = pd.read_csv(path_dataset, nrows = _NROWS)\n",
    "df['Explicit_binary'] = df['Explicit'].map({'Yes': 1, 'No': 0})\n",
    "\n",
    "X = _EMBEDDINGS\n",
    "\n",
    "y = df['Explicit_binary']\n",
    "\n",
    "X_train, X_test, y_train, y_test = train_test_split(\n",
    "    X, y, test_size=0.2, random_state=42 \n",
    ")\n",
    "\n",
    "# Convertir data a tensores\n",
    "# Convertir a tensores\n",
    "X_train_tensor = torch.tensor(X_train, dtype=torch.float32)\n",
    "y_train_tensor = torch.tensor(y_train.values, dtype=torch.long)  # labels como enteros\n",
    "\n",
    "X_test_tensor  = torch.tensor(X_test, dtype=torch.float32)\n",
    "y_test_tensor  = torch.tensor(y_test.values, dtype=torch.long)\n",
    "\n",
    "# Crear datasets\n",
    "trainDataset = TensorDataset(X_train_tensor, y_train_tensor)\n",
    "testDataset  = TensorDataset(X_test_tensor,  y_test_tensor)\n",
    "\n",
    "trainLoader = DataLoader(trainDataset, batch_size=64, shuffle= True)\n",
    "testLoader  = DataLoader( testDataset, batch_size=64, shuffle=False)"
   ]
  },
  {
   "cell_type": "code",
   "execution_count": 5,
   "id": "9f194939",
   "metadata": {
    "execution": {
     "iopub.execute_input": "2025-08-31T22:46:15.710512Z",
     "iopub.status.busy": "2025-08-31T22:46:15.709802Z",
     "iopub.status.idle": "2025-08-31T22:46:15.715291Z",
     "shell.execute_reply": "2025-08-31T22:46:15.714773Z"
    },
    "papermill": {
     "duration": 0.009842,
     "end_time": "2025-08-31T22:46:15.716186",
     "exception": false,
     "start_time": "2025-08-31T22:46:15.706344",
     "status": "completed"
    },
    "tags": []
   },
   "outputs": [],
   "source": [
    "net = MLP([X_train.shape[1],32, 64,32,1])"
   ]
  },
  {
   "cell_type": "code",
   "execution_count": 6,
   "id": "a1ee6652",
   "metadata": {
    "execution": {
     "iopub.execute_input": "2025-08-31T22:46:15.723435Z",
     "iopub.status.busy": "2025-08-31T22:46:15.722795Z",
     "iopub.status.idle": "2025-08-31T22:46:18.469899Z",
     "shell.execute_reply": "2025-08-31T22:46:18.469001Z"
    },
    "papermill": {
     "duration": 2.751925,
     "end_time": "2025-08-31T22:46:18.471067",
     "exception": false,
     "start_time": "2025-08-31T22:46:15.719142",
     "status": "completed"
    },
    "tags": []
   },
   "outputs": [],
   "source": [
    "# Pasar la red a la GPU\n",
    "net = net.to(device)\n",
    "\n",
    "# Loss\n",
    "# criterion = nn.CrossEntropyLoss()\n",
    "criterion = nn.BCEWithLogitsLoss()\n",
    "\n",
    "# Optimizer\n",
    "optimizer = optim.AdamW(net.parameters(), lr=0.001)"
   ]
  },
  {
   "cell_type": "code",
   "execution_count": 7,
   "id": "fc930b8b",
   "metadata": {
    "execution": {
     "iopub.execute_input": "2025-08-31T22:46:18.479232Z",
     "iopub.status.busy": "2025-08-31T22:46:18.478341Z",
     "iopub.status.idle": "2025-08-31T23:47:31.640630Z",
     "shell.execute_reply": "2025-08-31T23:47:31.639975Z"
    },
    "papermill": {
     "duration": 3673.167278,
     "end_time": "2025-08-31T23:47:31.641797",
     "exception": false,
     "start_time": "2025-08-31T22:46:18.474519",
     "status": "completed"
    },
    "tags": []
   },
   "outputs": [
    {
     "name": "stdout",
     "output_type": "stream",
     "text": [
      "Epoch [0/1000], Train Loss: 0.1820, Test Loss: 0.1345\n"
     ]
    },
    {
     "name": "stdout",
     "output_type": "stream",
     "text": [
      "Epoch [1/1000], Train Loss: 0.1158, Test Loss: 0.1256\n"
     ]
    },
    {
     "name": "stdout",
     "output_type": "stream",
     "text": [
      "Epoch [2/1000], Train Loss: 0.0917, Test Loss: 0.1252\n"
     ]
    },
    {
     "name": "stdout",
     "output_type": "stream",
     "text": [
      "Epoch [3/1000], Train Loss: 0.0662, Test Loss: 0.1257\n"
     ]
    },
    {
     "name": "stdout",
     "output_type": "stream",
     "text": [
      "Epoch [4/1000], Train Loss: 0.0435, Test Loss: 0.1573\n"
     ]
    },
    {
     "name": "stdout",
     "output_type": "stream",
     "text": [
      "Epoch [5/1000], Train Loss: 0.0269, Test Loss: 0.1876\n"
     ]
    },
    {
     "name": "stdout",
     "output_type": "stream",
     "text": [
      "Epoch [6/1000], Train Loss: 0.0151, Test Loss: 0.2460\n"
     ]
    },
    {
     "name": "stdout",
     "output_type": "stream",
     "text": [
      "Epoch [7/1000], Train Loss: 0.0091, Test Loss: 0.2679\n"
     ]
    },
    {
     "name": "stdout",
     "output_type": "stream",
     "text": [
      "Epoch [8/1000], Train Loss: 0.0065, Test Loss: 0.3261\n"
     ]
    },
    {
     "name": "stdout",
     "output_type": "stream",
     "text": [
      "Epoch [9/1000], Train Loss: 0.0046, Test Loss: 0.3387\n"
     ]
    },
    {
     "name": "stdout",
     "output_type": "stream",
     "text": [
      "Epoch [10/1000], Train Loss: 0.0037, Test Loss: 0.3317\n"
     ]
    },
    {
     "name": "stdout",
     "output_type": "stream",
     "text": [
      "Epoch [11/1000], Train Loss: 0.0030, Test Loss: 0.3566\n"
     ]
    },
    {
     "name": "stdout",
     "output_type": "stream",
     "text": [
      "Epoch [12/1000], Train Loss: 0.0023, Test Loss: 0.3781\n"
     ]
    },
    {
     "name": "stdout",
     "output_type": "stream",
     "text": [
      "Epoch [13/1000], Train Loss: 0.0022, Test Loss: 0.3972\n"
     ]
    },
    {
     "name": "stdout",
     "output_type": "stream",
     "text": [
      "Epoch [14/1000], Train Loss: 0.0018, Test Loss: 0.4058\n"
     ]
    },
    {
     "name": "stdout",
     "output_type": "stream",
     "text": [
      "Epoch [15/1000], Train Loss: 0.0015, Test Loss: 0.3897\n"
     ]
    },
    {
     "name": "stdout",
     "output_type": "stream",
     "text": [
      "Epoch [16/1000], Train Loss: 0.0021, Test Loss: 0.4053\n"
     ]
    },
    {
     "name": "stdout",
     "output_type": "stream",
     "text": [
      "Epoch [17/1000], Train Loss: 0.0017, Test Loss: 0.3351\n"
     ]
    },
    {
     "name": "stdout",
     "output_type": "stream",
     "text": [
      "Epoch [18/1000], Train Loss: 0.0010, Test Loss: 0.3753\n"
     ]
    },
    {
     "name": "stdout",
     "output_type": "stream",
     "text": [
      "Epoch [19/1000], Train Loss: 0.0012, Test Loss: 0.4136\n"
     ]
    },
    {
     "name": "stdout",
     "output_type": "stream",
     "text": [
      "Epoch [20/1000], Train Loss: 0.0015, Test Loss: 0.3636\n"
     ]
    },
    {
     "name": "stdout",
     "output_type": "stream",
     "text": [
      "Epoch [21/1000], Train Loss: 0.0013, Test Loss: 0.3425\n"
     ]
    },
    {
     "name": "stdout",
     "output_type": "stream",
     "text": [
      "Epoch [22/1000], Train Loss: 0.0003, Test Loss: 0.3926\n"
     ]
    },
    {
     "name": "stdout",
     "output_type": "stream",
     "text": [
      "Epoch [23/1000], Train Loss: 0.0011, Test Loss: 0.3669\n"
     ]
    },
    {
     "name": "stdout",
     "output_type": "stream",
     "text": [
      "Epoch [24/1000], Train Loss: 0.0008, Test Loss: 0.3911\n"
     ]
    },
    {
     "name": "stdout",
     "output_type": "stream",
     "text": [
      "Epoch [25/1000], Train Loss: 0.0003, Test Loss: 0.4141\n"
     ]
    },
    {
     "name": "stdout",
     "output_type": "stream",
     "text": [
      "Epoch [26/1000], Train Loss: 0.0007, Test Loss: 0.3612\n"
     ]
    },
    {
     "name": "stdout",
     "output_type": "stream",
     "text": [
      "Epoch [27/1000], Train Loss: 0.0009, Test Loss: 0.3798\n"
     ]
    },
    {
     "name": "stdout",
     "output_type": "stream",
     "text": [
      "Epoch [28/1000], Train Loss: 0.0007, Test Loss: 0.3414\n"
     ]
    },
    {
     "name": "stdout",
     "output_type": "stream",
     "text": [
      "Epoch [29/1000], Train Loss: 0.0003, Test Loss: 0.3926\n"
     ]
    },
    {
     "name": "stdout",
     "output_type": "stream",
     "text": [
      "Epoch [30/1000], Train Loss: 0.0007, Test Loss: 0.3623\n"
     ]
    },
    {
     "name": "stdout",
     "output_type": "stream",
     "text": [
      "Epoch [31/1000], Train Loss: 0.0007, Test Loss: 0.3836\n"
     ]
    },
    {
     "name": "stdout",
     "output_type": "stream",
     "text": [
      "Epoch [32/1000], Train Loss: 0.0005, Test Loss: 0.3927\n"
     ]
    },
    {
     "name": "stdout",
     "output_type": "stream",
     "text": [
      "Epoch [33/1000], Train Loss: 0.0009, Test Loss: 0.3732\n"
     ]
    },
    {
     "name": "stdout",
     "output_type": "stream",
     "text": [
      "Epoch [34/1000], Train Loss: 0.0008, Test Loss: 0.3739\n"
     ]
    },
    {
     "name": "stdout",
     "output_type": "stream",
     "text": [
      "Epoch [35/1000], Train Loss: 0.0002, Test Loss: 0.3708\n"
     ]
    },
    {
     "name": "stdout",
     "output_type": "stream",
     "text": [
      "Epoch [36/1000], Train Loss: 0.0004, Test Loss: 0.3703\n"
     ]
    },
    {
     "name": "stdout",
     "output_type": "stream",
     "text": [
      "Epoch [37/1000], Train Loss: 0.0005, Test Loss: 0.3785\n"
     ]
    },
    {
     "name": "stdout",
     "output_type": "stream",
     "text": [
      "Epoch [38/1000], Train Loss: 0.0004, Test Loss: 0.3796\n"
     ]
    },
    {
     "name": "stdout",
     "output_type": "stream",
     "text": [
      "Epoch [39/1000], Train Loss: 0.0003, Test Loss: 0.3689\n"
     ]
    },
    {
     "name": "stdout",
     "output_type": "stream",
     "text": [
      "Epoch [40/1000], Train Loss: 0.0001, Test Loss: 0.3850\n"
     ]
    },
    {
     "name": "stdout",
     "output_type": "stream",
     "text": [
      "Epoch [41/1000], Train Loss: 0.0000, Test Loss: 0.4804\n"
     ]
    },
    {
     "name": "stdout",
     "output_type": "stream",
     "text": [
      "Epoch [42/1000], Train Loss: 0.0000, Test Loss: 0.4784\n"
     ]
    },
    {
     "name": "stdout",
     "output_type": "stream",
     "text": [
      "Epoch [43/1000], Train Loss: 0.0000, Test Loss: 0.4830\n"
     ]
    },
    {
     "name": "stdout",
     "output_type": "stream",
     "text": [
      "Epoch [44/1000], Train Loss: 0.0000, Test Loss: 0.4867\n"
     ]
    },
    {
     "name": "stdout",
     "output_type": "stream",
     "text": [
      "Epoch [45/1000], Train Loss: 0.0000, Test Loss: 0.4940\n"
     ]
    },
    {
     "name": "stdout",
     "output_type": "stream",
     "text": [
      "Epoch [46/1000], Train Loss: 0.0000, Test Loss: 0.5037\n"
     ]
    },
    {
     "name": "stdout",
     "output_type": "stream",
     "text": [
      "Epoch [47/1000], Train Loss: 0.0000, Test Loss: 0.5146\n"
     ]
    },
    {
     "name": "stdout",
     "output_type": "stream",
     "text": [
      "Epoch [48/1000], Train Loss: 0.0000, Test Loss: 0.5291\n"
     ]
    },
    {
     "name": "stdout",
     "output_type": "stream",
     "text": [
      "Epoch [49/1000], Train Loss: 0.0000, Test Loss: 0.5522\n"
     ]
    },
    {
     "name": "stdout",
     "output_type": "stream",
     "text": [
      "Epoch [50/1000], Train Loss: 0.0010, Test Loss: 0.4921\n"
     ]
    },
    {
     "name": "stdout",
     "output_type": "stream",
     "text": [
      "Epoch [51/1000], Train Loss: 0.0026, Test Loss: 0.3801\n"
     ]
    },
    {
     "name": "stdout",
     "output_type": "stream",
     "text": [
      "Epoch [52/1000], Train Loss: 0.0009, Test Loss: 0.3607\n"
     ]
    },
    {
     "name": "stdout",
     "output_type": "stream",
     "text": [
      "Epoch [53/1000], Train Loss: 0.0001, Test Loss: 0.3652\n"
     ]
    },
    {
     "name": "stdout",
     "output_type": "stream",
     "text": [
      "Epoch [54/1000], Train Loss: 0.0000, Test Loss: 0.3662\n"
     ]
    },
    {
     "name": "stdout",
     "output_type": "stream",
     "text": [
      "Epoch [55/1000], Train Loss: 0.0000, Test Loss: 0.3811\n"
     ]
    },
    {
     "name": "stdout",
     "output_type": "stream",
     "text": [
      "Epoch [56/1000], Train Loss: 0.0000, Test Loss: 0.3945\n"
     ]
    },
    {
     "name": "stdout",
     "output_type": "stream",
     "text": [
      "Epoch [57/1000], Train Loss: 0.0000, Test Loss: 0.4172\n"
     ]
    },
    {
     "name": "stdout",
     "output_type": "stream",
     "text": [
      "Epoch [58/1000], Train Loss: 0.0014, Test Loss: 0.3620\n"
     ]
    },
    {
     "name": "stdout",
     "output_type": "stream",
     "text": [
      "Epoch [59/1000], Train Loss: 0.0004, Test Loss: 0.3583\n"
     ]
    },
    {
     "name": "stdout",
     "output_type": "stream",
     "text": [
      "Epoch [60/1000], Train Loss: 0.0001, Test Loss: 0.3838\n"
     ]
    },
    {
     "name": "stdout",
     "output_type": "stream",
     "text": [
      "Epoch [61/1000], Train Loss: 0.0002, Test Loss: 0.3592\n"
     ]
    },
    {
     "name": "stdout",
     "output_type": "stream",
     "text": [
      "Epoch [62/1000], Train Loss: 0.0000, Test Loss: 0.3730\n"
     ]
    },
    {
     "name": "stdout",
     "output_type": "stream",
     "text": [
      "Epoch [63/1000], Train Loss: 0.0000, Test Loss: 0.3788\n"
     ]
    },
    {
     "name": "stdout",
     "output_type": "stream",
     "text": [
      "Epoch [64/1000], Train Loss: 0.0000, Test Loss: 0.3928\n"
     ]
    },
    {
     "name": "stdout",
     "output_type": "stream",
     "text": [
      "Epoch [65/1000], Train Loss: 0.0000, Test Loss: 0.4090\n"
     ]
    },
    {
     "name": "stdout",
     "output_type": "stream",
     "text": [
      "Epoch [66/1000], Train Loss: 0.0000, Test Loss: 0.4250\n"
     ]
    },
    {
     "name": "stdout",
     "output_type": "stream",
     "text": [
      "Epoch [67/1000], Train Loss: 0.0000, Test Loss: 0.4401\n"
     ]
    },
    {
     "name": "stdout",
     "output_type": "stream",
     "text": [
      "Epoch [68/1000], Train Loss: 0.0000, Test Loss: 0.4554\n"
     ]
    },
    {
     "name": "stdout",
     "output_type": "stream",
     "text": [
      "Epoch [69/1000], Train Loss: 0.0000, Test Loss: 0.4716\n"
     ]
    },
    {
     "name": "stdout",
     "output_type": "stream",
     "text": [
      "Epoch [70/1000], Train Loss: 0.0000, Test Loss: 0.4905\n"
     ]
    },
    {
     "name": "stdout",
     "output_type": "stream",
     "text": [
      "Epoch [71/1000], Train Loss: 0.0000, Test Loss: 0.5072\n"
     ]
    },
    {
     "name": "stdout",
     "output_type": "stream",
     "text": [
      "Epoch [72/1000], Train Loss: 0.0036, Test Loss: 0.3055\n"
     ]
    },
    {
     "name": "stdout",
     "output_type": "stream",
     "text": [
      "Epoch [73/1000], Train Loss: 0.0010, Test Loss: 0.3037\n"
     ]
    },
    {
     "name": "stdout",
     "output_type": "stream",
     "text": [
      "Epoch [74/1000], Train Loss: 0.0000, Test Loss: 0.3308\n"
     ]
    },
    {
     "name": "stdout",
     "output_type": "stream",
     "text": [
      "Epoch [75/1000], Train Loss: 0.0000, Test Loss: 0.3339\n"
     ]
    },
    {
     "name": "stdout",
     "output_type": "stream",
     "text": [
      "Epoch [76/1000], Train Loss: 0.0000, Test Loss: 0.3425\n"
     ]
    },
    {
     "name": "stdout",
     "output_type": "stream",
     "text": [
      "Epoch [77/1000], Train Loss: 0.0000, Test Loss: 0.3543\n"
     ]
    },
    {
     "name": "stdout",
     "output_type": "stream",
     "text": [
      "Epoch [78/1000], Train Loss: 0.0000, Test Loss: 0.3688\n"
     ]
    },
    {
     "name": "stdout",
     "output_type": "stream",
     "text": [
      "Epoch [79/1000], Train Loss: 0.0000, Test Loss: 0.3838\n"
     ]
    },
    {
     "name": "stdout",
     "output_type": "stream",
     "text": [
      "Epoch [80/1000], Train Loss: 0.0000, Test Loss: 0.3993\n"
     ]
    },
    {
     "name": "stdout",
     "output_type": "stream",
     "text": [
      "Epoch [81/1000], Train Loss: 0.0000, Test Loss: 0.4155\n"
     ]
    },
    {
     "name": "stdout",
     "output_type": "stream",
     "text": [
      "Epoch [82/1000], Train Loss: 0.0000, Test Loss: 0.4347\n"
     ]
    },
    {
     "name": "stdout",
     "output_type": "stream",
     "text": [
      "Epoch [83/1000], Train Loss: 0.0000, Test Loss: 0.4541\n"
     ]
    },
    {
     "name": "stdout",
     "output_type": "stream",
     "text": [
      "Epoch [84/1000], Train Loss: 0.0020, Test Loss: 0.3444\n"
     ]
    },
    {
     "name": "stdout",
     "output_type": "stream",
     "text": [
      "Epoch [85/1000], Train Loss: 0.0015, Test Loss: 0.3227\n"
     ]
    },
    {
     "name": "stdout",
     "output_type": "stream",
     "text": [
      "Epoch [86/1000], Train Loss: 0.0001, Test Loss: 0.3462\n"
     ]
    },
    {
     "name": "stdout",
     "output_type": "stream",
     "text": [
      "Epoch [87/1000], Train Loss: 0.0000, Test Loss: 0.3420\n"
     ]
    },
    {
     "name": "stdout",
     "output_type": "stream",
     "text": [
      "Epoch [88/1000], Train Loss: 0.0000, Test Loss: 0.3474\n"
     ]
    },
    {
     "name": "stdout",
     "output_type": "stream",
     "text": [
      "Epoch [89/1000], Train Loss: 0.0000, Test Loss: 0.3580\n"
     ]
    },
    {
     "name": "stdout",
     "output_type": "stream",
     "text": [
      "Epoch [90/1000], Train Loss: 0.0000, Test Loss: 0.3712\n"
     ]
    },
    {
     "name": "stdout",
     "output_type": "stream",
     "text": [
      "Epoch [91/1000], Train Loss: 0.0000, Test Loss: 0.3863\n"
     ]
    },
    {
     "name": "stdout",
     "output_type": "stream",
     "text": [
      "Epoch [92/1000], Train Loss: 0.0007, Test Loss: 0.3633\n"
     ]
    },
    {
     "name": "stdout",
     "output_type": "stream",
     "text": [
      "Epoch [93/1000], Train Loss: 0.0008, Test Loss: 0.3472\n"
     ]
    },
    {
     "name": "stdout",
     "output_type": "stream",
     "text": [
      "Epoch [94/1000], Train Loss: 0.0002, Test Loss: 0.3425\n"
     ]
    },
    {
     "name": "stdout",
     "output_type": "stream",
     "text": [
      "Epoch [95/1000], Train Loss: 0.0000, Test Loss: 0.3652\n"
     ]
    },
    {
     "name": "stdout",
     "output_type": "stream",
     "text": [
      "Epoch [96/1000], Train Loss: 0.0005, Test Loss: 0.3200\n"
     ]
    },
    {
     "name": "stdout",
     "output_type": "stream",
     "text": [
      "Epoch [97/1000], Train Loss: 0.0007, Test Loss: 0.3226\n"
     ]
    },
    {
     "name": "stdout",
     "output_type": "stream",
     "text": [
      "Epoch [98/1000], Train Loss: 0.0001, Test Loss: 0.3590\n"
     ]
    },
    {
     "name": "stdout",
     "output_type": "stream",
     "text": [
      "Epoch [99/1000], Train Loss: 0.0000, Test Loss: 0.3648\n"
     ]
    },
    {
     "name": "stdout",
     "output_type": "stream",
     "text": [
      "Epoch [100/1000], Train Loss: 0.0000, Test Loss: 0.3676\n"
     ]
    },
    {
     "name": "stdout",
     "output_type": "stream",
     "text": [
      "Epoch [101/1000], Train Loss: 0.0000, Test Loss: 0.3786\n"
     ]
    },
    {
     "name": "stdout",
     "output_type": "stream",
     "text": [
      "Epoch [102/1000], Train Loss: 0.0000, Test Loss: 0.3916\n"
     ]
    },
    {
     "name": "stdout",
     "output_type": "stream",
     "text": [
      "Epoch [103/1000], Train Loss: 0.0000, Test Loss: 0.4065\n"
     ]
    },
    {
     "name": "stdout",
     "output_type": "stream",
     "text": [
      "Epoch [104/1000], Train Loss: 0.0000, Test Loss: 0.4209\n"
     ]
    },
    {
     "name": "stdout",
     "output_type": "stream",
     "text": [
      "Epoch [105/1000], Train Loss: 0.0000, Test Loss: 0.4458\n"
     ]
    },
    {
     "name": "stdout",
     "output_type": "stream",
     "text": [
      "Epoch [106/1000], Train Loss: 0.0013, Test Loss: 0.3556\n"
     ]
    },
    {
     "name": "stdout",
     "output_type": "stream",
     "text": [
      "Epoch [107/1000], Train Loss: 0.0004, Test Loss: 0.3710\n"
     ]
    },
    {
     "name": "stdout",
     "output_type": "stream",
     "text": [
      "Epoch [108/1000], Train Loss: 0.0002, Test Loss: 0.3491\n"
     ]
    },
    {
     "name": "stdout",
     "output_type": "stream",
     "text": [
      "Epoch [109/1000], Train Loss: 0.0000, Test Loss: 0.3548\n"
     ]
    },
    {
     "name": "stdout",
     "output_type": "stream",
     "text": [
      "Epoch [110/1000], Train Loss: 0.0000, Test Loss: 0.3652\n"
     ]
    },
    {
     "name": "stdout",
     "output_type": "stream",
     "text": [
      "Epoch [111/1000], Train Loss: 0.0000, Test Loss: 0.3753\n"
     ]
    },
    {
     "name": "stdout",
     "output_type": "stream",
     "text": [
      "Epoch [112/1000], Train Loss: 0.0000, Test Loss: 0.3889\n"
     ]
    },
    {
     "name": "stdout",
     "output_type": "stream",
     "text": [
      "Epoch [113/1000], Train Loss: 0.0000, Test Loss: 0.4025\n"
     ]
    },
    {
     "name": "stdout",
     "output_type": "stream",
     "text": [
      "Epoch [114/1000], Train Loss: 0.0000, Test Loss: 0.4161\n"
     ]
    },
    {
     "name": "stdout",
     "output_type": "stream",
     "text": [
      "Epoch [115/1000], Train Loss: 0.0000, Test Loss: 0.4310\n"
     ]
    },
    {
     "name": "stdout",
     "output_type": "stream",
     "text": [
      "Epoch [116/1000], Train Loss: 0.0000, Test Loss: 0.4465\n"
     ]
    },
    {
     "name": "stdout",
     "output_type": "stream",
     "text": [
      "Epoch [117/1000], Train Loss: 0.0025, Test Loss: 0.3174\n"
     ]
    },
    {
     "name": "stdout",
     "output_type": "stream",
     "text": [
      "Epoch [118/1000], Train Loss: 0.0008, Test Loss: 0.2883\n"
     ]
    },
    {
     "name": "stdout",
     "output_type": "stream",
     "text": [
      "Epoch [119/1000], Train Loss: 0.0000, Test Loss: 0.3118\n"
     ]
    },
    {
     "name": "stdout",
     "output_type": "stream",
     "text": [
      "Epoch [120/1000], Train Loss: 0.0000, Test Loss: 0.3227\n"
     ]
    },
    {
     "name": "stdout",
     "output_type": "stream",
     "text": [
      "Epoch [121/1000], Train Loss: 0.0000, Test Loss: 0.3376\n"
     ]
    },
    {
     "name": "stdout",
     "output_type": "stream",
     "text": [
      "Epoch [122/1000], Train Loss: 0.0000, Test Loss: 0.3522\n"
     ]
    },
    {
     "name": "stdout",
     "output_type": "stream",
     "text": [
      "Epoch [123/1000], Train Loss: 0.0000, Test Loss: 0.3693\n"
     ]
    },
    {
     "name": "stdout",
     "output_type": "stream",
     "text": [
      "Epoch [124/1000], Train Loss: 0.0000, Test Loss: 0.3876\n"
     ]
    },
    {
     "name": "stdout",
     "output_type": "stream",
     "text": [
      "Epoch [125/1000], Train Loss: 0.0000, Test Loss: 0.4121\n"
     ]
    },
    {
     "name": "stdout",
     "output_type": "stream",
     "text": [
      "Epoch [126/1000], Train Loss: 0.0001, Test Loss: 0.4380\n"
     ]
    },
    {
     "name": "stdout",
     "output_type": "stream",
     "text": [
      "Epoch [127/1000], Train Loss: 0.0013, Test Loss: 0.3476\n"
     ]
    },
    {
     "name": "stdout",
     "output_type": "stream",
     "text": [
      "Epoch [128/1000], Train Loss: 0.0006, Test Loss: 0.3291\n"
     ]
    },
    {
     "name": "stdout",
     "output_type": "stream",
     "text": [
      "Epoch [129/1000], Train Loss: 0.0002, Test Loss: 0.3514\n"
     ]
    },
    {
     "name": "stdout",
     "output_type": "stream",
     "text": [
      "Epoch [130/1000], Train Loss: 0.0000, Test Loss: 0.3522\n"
     ]
    },
    {
     "name": "stdout",
     "output_type": "stream",
     "text": [
      "Epoch [131/1000], Train Loss: 0.0000, Test Loss: 0.3733\n"
     ]
    },
    {
     "name": "stdout",
     "output_type": "stream",
     "text": [
      "Epoch [132/1000], Train Loss: 0.0000, Test Loss: 0.3650\n"
     ]
    },
    {
     "name": "stdout",
     "output_type": "stream",
     "text": [
      "Epoch [133/1000], Train Loss: 0.0000, Test Loss: 0.3751\n"
     ]
    },
    {
     "name": "stdout",
     "output_type": "stream",
     "text": [
      "Epoch [134/1000], Train Loss: 0.0000, Test Loss: 0.3883\n"
     ]
    },
    {
     "name": "stdout",
     "output_type": "stream",
     "text": [
      "Epoch [135/1000], Train Loss: 0.0000, Test Loss: 0.4024\n"
     ]
    },
    {
     "name": "stdout",
     "output_type": "stream",
     "text": [
      "Epoch [136/1000], Train Loss: 0.0000, Test Loss: 0.4179\n"
     ]
    },
    {
     "name": "stdout",
     "output_type": "stream",
     "text": [
      "Epoch [137/1000], Train Loss: 0.0000, Test Loss: 0.4350\n"
     ]
    },
    {
     "name": "stdout",
     "output_type": "stream",
     "text": [
      "Epoch [138/1000], Train Loss: 0.0000, Test Loss: 0.4517\n"
     ]
    },
    {
     "name": "stdout",
     "output_type": "stream",
     "text": [
      "Epoch [139/1000], Train Loss: 0.0000, Test Loss: 0.4687\n"
     ]
    },
    {
     "name": "stdout",
     "output_type": "stream",
     "text": [
      "Epoch [140/1000], Train Loss: 0.0000, Test Loss: 0.4865\n"
     ]
    },
    {
     "name": "stdout",
     "output_type": "stream",
     "text": [
      "Epoch [141/1000], Train Loss: 0.0004, Test Loss: 0.4448\n"
     ]
    },
    {
     "name": "stdout",
     "output_type": "stream",
     "text": [
      "Epoch [142/1000], Train Loss: 0.0013, Test Loss: 0.3676\n"
     ]
    },
    {
     "name": "stdout",
     "output_type": "stream",
     "text": [
      "Epoch [143/1000], Train Loss: 0.0001, Test Loss: 0.3619\n"
     ]
    },
    {
     "name": "stdout",
     "output_type": "stream",
     "text": [
      "Epoch [144/1000], Train Loss: 0.0000, Test Loss: 0.3660\n"
     ]
    },
    {
     "name": "stdout",
     "output_type": "stream",
     "text": [
      "Epoch [145/1000], Train Loss: 0.0000, Test Loss: 0.3663\n"
     ]
    },
    {
     "name": "stdout",
     "output_type": "stream",
     "text": [
      "Epoch [146/1000], Train Loss: 0.0000, Test Loss: 0.3688\n"
     ]
    },
    {
     "name": "stdout",
     "output_type": "stream",
     "text": [
      "Epoch [147/1000], Train Loss: 0.0000, Test Loss: 0.3767\n"
     ]
    },
    {
     "name": "stdout",
     "output_type": "stream",
     "text": [
      "Epoch [148/1000], Train Loss: 0.0000, Test Loss: 0.3870\n"
     ]
    },
    {
     "name": "stdout",
     "output_type": "stream",
     "text": [
      "Epoch [149/1000], Train Loss: 0.0000, Test Loss: 0.4000\n"
     ]
    },
    {
     "name": "stdout",
     "output_type": "stream",
     "text": [
      "Epoch [150/1000], Train Loss: 0.0000, Test Loss: 0.4134\n"
     ]
    },
    {
     "name": "stdout",
     "output_type": "stream",
     "text": [
      "Epoch [151/1000], Train Loss: 0.0000, Test Loss: 0.4278\n"
     ]
    },
    {
     "name": "stdout",
     "output_type": "stream",
     "text": [
      "Epoch [152/1000], Train Loss: 0.0000, Test Loss: 0.4416\n"
     ]
    },
    {
     "name": "stdout",
     "output_type": "stream",
     "text": [
      "Epoch [153/1000], Train Loss: 0.0000, Test Loss: 0.4545\n"
     ]
    },
    {
     "name": "stdout",
     "output_type": "stream",
     "text": [
      "Epoch [154/1000], Train Loss: 0.0000, Test Loss: 0.4663\n"
     ]
    },
    {
     "name": "stdout",
     "output_type": "stream",
     "text": [
      "Epoch [155/1000], Train Loss: 0.0015, Test Loss: 0.3793\n"
     ]
    },
    {
     "name": "stdout",
     "output_type": "stream",
     "text": [
      "Epoch [156/1000], Train Loss: 0.0018, Test Loss: 0.3013\n"
     ]
    },
    {
     "name": "stdout",
     "output_type": "stream",
     "text": [
      "Epoch [157/1000], Train Loss: 0.0000, Test Loss: 0.3114\n"
     ]
    },
    {
     "name": "stdout",
     "output_type": "stream",
     "text": [
      "Epoch [158/1000], Train Loss: 0.0000, Test Loss: 0.3201\n"
     ]
    },
    {
     "name": "stdout",
     "output_type": "stream",
     "text": [
      "Epoch [159/1000], Train Loss: 0.0000, Test Loss: 0.3287\n"
     ]
    },
    {
     "name": "stdout",
     "output_type": "stream",
     "text": [
      "Epoch [160/1000], Train Loss: 0.0000, Test Loss: 0.3419\n"
     ]
    },
    {
     "name": "stdout",
     "output_type": "stream",
     "text": [
      "Epoch [161/1000], Train Loss: 0.0000, Test Loss: 0.3561\n"
     ]
    },
    {
     "name": "stdout",
     "output_type": "stream",
     "text": [
      "Epoch [162/1000], Train Loss: 0.0000, Test Loss: 0.3721\n"
     ]
    },
    {
     "name": "stdout",
     "output_type": "stream",
     "text": [
      "Epoch [163/1000], Train Loss: 0.0004, Test Loss: 0.5641\n"
     ]
    },
    {
     "name": "stdout",
     "output_type": "stream",
     "text": [
      "Epoch [164/1000], Train Loss: 0.0008, Test Loss: 0.3424\n"
     ]
    },
    {
     "name": "stdout",
     "output_type": "stream",
     "text": [
      "Epoch [165/1000], Train Loss: 0.0001, Test Loss: 0.4038\n"
     ]
    },
    {
     "name": "stdout",
     "output_type": "stream",
     "text": [
      "Epoch [166/1000], Train Loss: 0.0001, Test Loss: 0.3658\n"
     ]
    },
    {
     "name": "stdout",
     "output_type": "stream",
     "text": [
      "Epoch [167/1000], Train Loss: 0.0006, Test Loss: 0.3394\n"
     ]
    },
    {
     "name": "stdout",
     "output_type": "stream",
     "text": [
      "Epoch [168/1000], Train Loss: 0.0003, Test Loss: 0.3532\n"
     ]
    },
    {
     "name": "stdout",
     "output_type": "stream",
     "text": [
      "Epoch [169/1000], Train Loss: 0.0000, Test Loss: 0.3570\n"
     ]
    },
    {
     "name": "stdout",
     "output_type": "stream",
     "text": [
      "Epoch [170/1000], Train Loss: 0.0000, Test Loss: 0.3659\n"
     ]
    },
    {
     "name": "stdout",
     "output_type": "stream",
     "text": [
      "Epoch [171/1000], Train Loss: 0.0000, Test Loss: 0.3790\n"
     ]
    },
    {
     "name": "stdout",
     "output_type": "stream",
     "text": [
      "Epoch [172/1000], Train Loss: 0.0000, Test Loss: 0.3949\n"
     ]
    },
    {
     "name": "stdout",
     "output_type": "stream",
     "text": [
      "Epoch [173/1000], Train Loss: 0.0000, Test Loss: 0.4128\n"
     ]
    },
    {
     "name": "stdout",
     "output_type": "stream",
     "text": [
      "Epoch [174/1000], Train Loss: 0.0000, Test Loss: 0.4488\n"
     ]
    },
    {
     "name": "stdout",
     "output_type": "stream",
     "text": [
      "Epoch [175/1000], Train Loss: 0.0004, Test Loss: 0.4387\n"
     ]
    },
    {
     "name": "stdout",
     "output_type": "stream",
     "text": [
      "Epoch [176/1000], Train Loss: 0.0014, Test Loss: 0.3280\n"
     ]
    },
    {
     "name": "stdout",
     "output_type": "stream",
     "text": [
      "Epoch [177/1000], Train Loss: 0.0007, Test Loss: 0.3308\n"
     ]
    },
    {
     "name": "stdout",
     "output_type": "stream",
     "text": [
      "Epoch [178/1000], Train Loss: 0.0002, Test Loss: 0.3520\n"
     ]
    },
    {
     "name": "stdout",
     "output_type": "stream",
     "text": [
      "Epoch [179/1000], Train Loss: 0.0000, Test Loss: 0.3668\n"
     ]
    },
    {
     "name": "stdout",
     "output_type": "stream",
     "text": [
      "Epoch [180/1000], Train Loss: 0.0000, Test Loss: 0.3813\n"
     ]
    },
    {
     "name": "stdout",
     "output_type": "stream",
     "text": [
      "Epoch [181/1000], Train Loss: 0.0000, Test Loss: 0.3987\n"
     ]
    },
    {
     "name": "stdout",
     "output_type": "stream",
     "text": [
      "Epoch [182/1000], Train Loss: 0.0000, Test Loss: 0.4147\n"
     ]
    },
    {
     "name": "stdout",
     "output_type": "stream",
     "text": [
      "Epoch [183/1000], Train Loss: 0.0000, Test Loss: 0.4299\n"
     ]
    },
    {
     "name": "stdout",
     "output_type": "stream",
     "text": [
      "Epoch [184/1000], Train Loss: 0.0000, Test Loss: 0.4464\n"
     ]
    },
    {
     "name": "stdout",
     "output_type": "stream",
     "text": [
      "Epoch [185/1000], Train Loss: 0.0000, Test Loss: 0.4653\n"
     ]
    },
    {
     "name": "stdout",
     "output_type": "stream",
     "text": [
      "Epoch [186/1000], Train Loss: 0.0009, Test Loss: 0.4193\n"
     ]
    },
    {
     "name": "stdout",
     "output_type": "stream",
     "text": [
      "Epoch [187/1000], Train Loss: 0.0017, Test Loss: 0.3040\n"
     ]
    },
    {
     "name": "stdout",
     "output_type": "stream",
     "text": [
      "Epoch [188/1000], Train Loss: 0.0006, Test Loss: 0.3107\n"
     ]
    },
    {
     "name": "stdout",
     "output_type": "stream",
     "text": [
      "Epoch [189/1000], Train Loss: 0.0001, Test Loss: 0.3542\n"
     ]
    },
    {
     "name": "stdout",
     "output_type": "stream",
     "text": [
      "Epoch [190/1000], Train Loss: 0.0000, Test Loss: 0.3646\n"
     ]
    },
    {
     "name": "stdout",
     "output_type": "stream",
     "text": [
      "Epoch [191/1000], Train Loss: 0.0000, Test Loss: 0.3746\n"
     ]
    },
    {
     "name": "stdout",
     "output_type": "stream",
     "text": [
      "Epoch [192/1000], Train Loss: 0.0000, Test Loss: 0.3880\n"
     ]
    },
    {
     "name": "stdout",
     "output_type": "stream",
     "text": [
      "Epoch [193/1000], Train Loss: 0.0000, Test Loss: 0.4021\n"
     ]
    },
    {
     "name": "stdout",
     "output_type": "stream",
     "text": [
      "Epoch [194/1000], Train Loss: 0.0000, Test Loss: 0.4196\n"
     ]
    },
    {
     "name": "stdout",
     "output_type": "stream",
     "text": [
      "Epoch [195/1000], Train Loss: 0.0000, Test Loss: 0.4367\n"
     ]
    },
    {
     "name": "stdout",
     "output_type": "stream",
     "text": [
      "Epoch [196/1000], Train Loss: 0.0000, Test Loss: 0.4540\n"
     ]
    },
    {
     "name": "stdout",
     "output_type": "stream",
     "text": [
      "Epoch [197/1000], Train Loss: 0.0000, Test Loss: 0.4718\n"
     ]
    },
    {
     "name": "stdout",
     "output_type": "stream",
     "text": [
      "Epoch [198/1000], Train Loss: 0.0000, Test Loss: 0.4878\n"
     ]
    },
    {
     "name": "stdout",
     "output_type": "stream",
     "text": [
      "Epoch [199/1000], Train Loss: 0.0000, Test Loss: 0.5143\n"
     ]
    },
    {
     "name": "stdout",
     "output_type": "stream",
     "text": [
      "Epoch [200/1000], Train Loss: 0.0006, Test Loss: 0.5860\n"
     ]
    },
    {
     "name": "stdout",
     "output_type": "stream",
     "text": [
      "Epoch [201/1000], Train Loss: 0.0011, Test Loss: 0.4715\n"
     ]
    },
    {
     "name": "stdout",
     "output_type": "stream",
     "text": [
      "Epoch [202/1000], Train Loss: 0.0005, Test Loss: 0.4230\n"
     ]
    },
    {
     "name": "stdout",
     "output_type": "stream",
     "text": [
      "Epoch [203/1000], Train Loss: 0.0004, Test Loss: 0.3659\n"
     ]
    },
    {
     "name": "stdout",
     "output_type": "stream",
     "text": [
      "Epoch [204/1000], Train Loss: 0.0000, Test Loss: 0.3687\n"
     ]
    },
    {
     "name": "stdout",
     "output_type": "stream",
     "text": [
      "Epoch [205/1000], Train Loss: 0.0000, Test Loss: 0.3639\n"
     ]
    },
    {
     "name": "stdout",
     "output_type": "stream",
     "text": [
      "Epoch [206/1000], Train Loss: 0.0000, Test Loss: 0.3681\n"
     ]
    },
    {
     "name": "stdout",
     "output_type": "stream",
     "text": [
      "Epoch [207/1000], Train Loss: 0.0000, Test Loss: 0.3748\n"
     ]
    },
    {
     "name": "stdout",
     "output_type": "stream",
     "text": [
      "Epoch [208/1000], Train Loss: 0.0000, Test Loss: 0.3907\n"
     ]
    },
    {
     "name": "stdout",
     "output_type": "stream",
     "text": [
      "Epoch [209/1000], Train Loss: 0.0000, Test Loss: 0.4026\n"
     ]
    },
    {
     "name": "stdout",
     "output_type": "stream",
     "text": [
      "Epoch [210/1000], Train Loss: 0.0000, Test Loss: 0.4179\n"
     ]
    },
    {
     "name": "stdout",
     "output_type": "stream",
     "text": [
      "Epoch [211/1000], Train Loss: 0.0000, Test Loss: 0.4320\n"
     ]
    },
    {
     "name": "stdout",
     "output_type": "stream",
     "text": [
      "Epoch [212/1000], Train Loss: 0.0000, Test Loss: 0.4459\n"
     ]
    },
    {
     "name": "stdout",
     "output_type": "stream",
     "text": [
      "Epoch [213/1000], Train Loss: 0.0000, Test Loss: 0.4599\n"
     ]
    },
    {
     "name": "stdout",
     "output_type": "stream",
     "text": [
      "Epoch [214/1000], Train Loss: 0.0000, Test Loss: 0.4729\n"
     ]
    },
    {
     "name": "stdout",
     "output_type": "stream",
     "text": [
      "Epoch [215/1000], Train Loss: 0.0000, Test Loss: 0.4862\n"
     ]
    },
    {
     "name": "stdout",
     "output_type": "stream",
     "text": [
      "Epoch [216/1000], Train Loss: 0.0000, Test Loss: 0.4962\n"
     ]
    },
    {
     "name": "stdout",
     "output_type": "stream",
     "text": [
      "Epoch [217/1000], Train Loss: 0.0010, Test Loss: 0.4639\n"
     ]
    },
    {
     "name": "stdout",
     "output_type": "stream",
     "text": [
      "Epoch [218/1000], Train Loss: 0.0015, Test Loss: 0.3511\n"
     ]
    },
    {
     "name": "stdout",
     "output_type": "stream",
     "text": [
      "Epoch [219/1000], Train Loss: 0.0003, Test Loss: 0.3484\n"
     ]
    },
    {
     "name": "stdout",
     "output_type": "stream",
     "text": [
      "Epoch [220/1000], Train Loss: 0.0001, Test Loss: 0.3475\n"
     ]
    },
    {
     "name": "stdout",
     "output_type": "stream",
     "text": [
      "Epoch [221/1000], Train Loss: 0.0000, Test Loss: 0.3786\n"
     ]
    },
    {
     "name": "stdout",
     "output_type": "stream",
     "text": [
      "Epoch [222/1000], Train Loss: 0.0000, Test Loss: 0.3553\n"
     ]
    },
    {
     "name": "stdout",
     "output_type": "stream",
     "text": [
      "Epoch [223/1000], Train Loss: 0.0000, Test Loss: 0.3622\n"
     ]
    },
    {
     "name": "stdout",
     "output_type": "stream",
     "text": [
      "Epoch [224/1000], Train Loss: 0.0000, Test Loss: 0.3719\n"
     ]
    },
    {
     "name": "stdout",
     "output_type": "stream",
     "text": [
      "Epoch [225/1000], Train Loss: 0.0000, Test Loss: 0.3857\n"
     ]
    },
    {
     "name": "stdout",
     "output_type": "stream",
     "text": [
      "Epoch [226/1000], Train Loss: 0.0000, Test Loss: 0.3997\n"
     ]
    },
    {
     "name": "stdout",
     "output_type": "stream",
     "text": [
      "Epoch [227/1000], Train Loss: 0.0000, Test Loss: 0.4162\n"
     ]
    },
    {
     "name": "stdout",
     "output_type": "stream",
     "text": [
      "Epoch [228/1000], Train Loss: 0.0004, Test Loss: 0.4136\n"
     ]
    },
    {
     "name": "stdout",
     "output_type": "stream",
     "text": [
      "Epoch [229/1000], Train Loss: 0.0012, Test Loss: 0.3450\n"
     ]
    },
    {
     "name": "stdout",
     "output_type": "stream",
     "text": [
      "Epoch [230/1000], Train Loss: 0.0004, Test Loss: 0.3499\n"
     ]
    },
    {
     "name": "stdout",
     "output_type": "stream",
     "text": [
      "Epoch [231/1000], Train Loss: 0.0002, Test Loss: 0.3262\n"
     ]
    },
    {
     "name": "stdout",
     "output_type": "stream",
     "text": [
      "Epoch [232/1000], Train Loss: 0.0000, Test Loss: 0.3332\n"
     ]
    },
    {
     "name": "stdout",
     "output_type": "stream",
     "text": [
      "Epoch [233/1000], Train Loss: 0.0000, Test Loss: 0.3400\n"
     ]
    },
    {
     "name": "stdout",
     "output_type": "stream",
     "text": [
      "Epoch [234/1000], Train Loss: 0.0000, Test Loss: 0.3517\n"
     ]
    },
    {
     "name": "stdout",
     "output_type": "stream",
     "text": [
      "Epoch [235/1000], Train Loss: 0.0000, Test Loss: 0.3657\n"
     ]
    },
    {
     "name": "stdout",
     "output_type": "stream",
     "text": [
      "Epoch [236/1000], Train Loss: 0.0000, Test Loss: 0.3811\n"
     ]
    },
    {
     "name": "stdout",
     "output_type": "stream",
     "text": [
      "Epoch [237/1000], Train Loss: 0.0000, Test Loss: 0.3964\n"
     ]
    },
    {
     "name": "stdout",
     "output_type": "stream",
     "text": [
      "Epoch [238/1000], Train Loss: 0.0000, Test Loss: 0.4111\n"
     ]
    },
    {
     "name": "stdout",
     "output_type": "stream",
     "text": [
      "Epoch [239/1000], Train Loss: 0.0000, Test Loss: 0.4257\n"
     ]
    },
    {
     "name": "stdout",
     "output_type": "stream",
     "text": [
      "Epoch [240/1000], Train Loss: 0.0000, Test Loss: 0.4415\n"
     ]
    },
    {
     "name": "stdout",
     "output_type": "stream",
     "text": [
      "Epoch [241/1000], Train Loss: 0.0000, Test Loss: 0.4536\n"
     ]
    },
    {
     "name": "stdout",
     "output_type": "stream",
     "text": [
      "Epoch [242/1000], Train Loss: 0.0000, Test Loss: 0.4672\n"
     ]
    },
    {
     "name": "stdout",
     "output_type": "stream",
     "text": [
      "Epoch [243/1000], Train Loss: 0.0000, Test Loss: 0.4790\n"
     ]
    },
    {
     "name": "stdout",
     "output_type": "stream",
     "text": [
      "Epoch [244/1000], Train Loss: 0.0000, Test Loss: 0.4908\n"
     ]
    },
    {
     "name": "stdout",
     "output_type": "stream",
     "text": [
      "Epoch [245/1000], Train Loss: 0.0000, Test Loss: 0.4998\n"
     ]
    },
    {
     "name": "stdout",
     "output_type": "stream",
     "text": [
      "Epoch [246/1000], Train Loss: 0.0000, Test Loss: 0.5081\n"
     ]
    },
    {
     "name": "stdout",
     "output_type": "stream",
     "text": [
      "Epoch [247/1000], Train Loss: 0.0000, Test Loss: 0.5157\n"
     ]
    },
    {
     "name": "stdout",
     "output_type": "stream",
     "text": [
      "Epoch [248/1000], Train Loss: 0.0000, Test Loss: 0.5236\n"
     ]
    },
    {
     "name": "stdout",
     "output_type": "stream",
     "text": [
      "Epoch [249/1000], Train Loss: 0.0000, Test Loss: 0.5302\n"
     ]
    },
    {
     "name": "stdout",
     "output_type": "stream",
     "text": [
      "Epoch [250/1000], Train Loss: 0.0000, Test Loss: 0.5319\n"
     ]
    },
    {
     "name": "stdout",
     "output_type": "stream",
     "text": [
      "Epoch [251/1000], Train Loss: 0.0000, Test Loss: 0.5276\n"
     ]
    },
    {
     "name": "stdout",
     "output_type": "stream",
     "text": [
      "Epoch [252/1000], Train Loss: 0.0011, Test Loss: 0.4775\n"
     ]
    },
    {
     "name": "stdout",
     "output_type": "stream",
     "text": [
      "Epoch [253/1000], Train Loss: 0.0024, Test Loss: 0.3521\n"
     ]
    },
    {
     "name": "stdout",
     "output_type": "stream",
     "text": [
      "Epoch [254/1000], Train Loss: 0.0003, Test Loss: 0.3326\n"
     ]
    },
    {
     "name": "stdout",
     "output_type": "stream",
     "text": [
      "Epoch [255/1000], Train Loss: 0.0003, Test Loss: 0.3276\n"
     ]
    },
    {
     "name": "stdout",
     "output_type": "stream",
     "text": [
      "Epoch [256/1000], Train Loss: 0.0001, Test Loss: 0.3401\n"
     ]
    },
    {
     "name": "stdout",
     "output_type": "stream",
     "text": [
      "Epoch [257/1000], Train Loss: 0.0003, Test Loss: 0.3269\n"
     ]
    },
    {
     "name": "stdout",
     "output_type": "stream",
     "text": [
      "Epoch [258/1000], Train Loss: 0.0000, Test Loss: 0.3458\n"
     ]
    },
    {
     "name": "stdout",
     "output_type": "stream",
     "text": [
      "Epoch [259/1000], Train Loss: 0.0000, Test Loss: 0.3389\n"
     ]
    },
    {
     "name": "stdout",
     "output_type": "stream",
     "text": [
      "Epoch [260/1000], Train Loss: 0.0000, Test Loss: 0.3397\n"
     ]
    },
    {
     "name": "stdout",
     "output_type": "stream",
     "text": [
      "Epoch [261/1000], Train Loss: 0.0000, Test Loss: 0.3476\n"
     ]
    },
    {
     "name": "stdout",
     "output_type": "stream",
     "text": [
      "Epoch [262/1000], Train Loss: 0.0000, Test Loss: 0.3576\n"
     ]
    },
    {
     "name": "stdout",
     "output_type": "stream",
     "text": [
      "Epoch [263/1000], Train Loss: 0.0007, Test Loss: 0.3657\n"
     ]
    },
    {
     "name": "stdout",
     "output_type": "stream",
     "text": [
      "Epoch [264/1000], Train Loss: 0.0018, Test Loss: 0.2855\n"
     ]
    },
    {
     "name": "stdout",
     "output_type": "stream",
     "text": [
      "Epoch [265/1000], Train Loss: 0.0005, Test Loss: 0.2986\n"
     ]
    },
    {
     "name": "stdout",
     "output_type": "stream",
     "text": [
      "Epoch [266/1000], Train Loss: 0.0002, Test Loss: 0.2835\n"
     ]
    },
    {
     "name": "stdout",
     "output_type": "stream",
     "text": [
      "Epoch [267/1000], Train Loss: 0.0000, Test Loss: 0.3079\n"
     ]
    },
    {
     "name": "stdout",
     "output_type": "stream",
     "text": [
      "Epoch [268/1000], Train Loss: 0.0000, Test Loss: 0.3211\n"
     ]
    },
    {
     "name": "stdout",
     "output_type": "stream",
     "text": [
      "Epoch [269/1000], Train Loss: 0.0000, Test Loss: 0.3356\n"
     ]
    },
    {
     "name": "stdout",
     "output_type": "stream",
     "text": [
      "Epoch [270/1000], Train Loss: 0.0000, Test Loss: 0.3500\n"
     ]
    },
    {
     "name": "stdout",
     "output_type": "stream",
     "text": [
      "Epoch [271/1000], Train Loss: 0.0000, Test Loss: 0.3649\n"
     ]
    },
    {
     "name": "stdout",
     "output_type": "stream",
     "text": [
      "Epoch [272/1000], Train Loss: 0.0000, Test Loss: 0.3803\n"
     ]
    },
    {
     "name": "stdout",
     "output_type": "stream",
     "text": [
      "Epoch [273/1000], Train Loss: 0.0000, Test Loss: 0.3960\n"
     ]
    },
    {
     "name": "stdout",
     "output_type": "stream",
     "text": [
      "Epoch [274/1000], Train Loss: 0.0000, Test Loss: 0.4190\n"
     ]
    },
    {
     "name": "stdout",
     "output_type": "stream",
     "text": [
      "Epoch [275/1000], Train Loss: 0.0000, Test Loss: 0.4474\n"
     ]
    },
    {
     "name": "stdout",
     "output_type": "stream",
     "text": [
      "Epoch [276/1000], Train Loss: 0.0000, Test Loss: 0.4527\n"
     ]
    },
    {
     "name": "stdout",
     "output_type": "stream",
     "text": [
      "Epoch [277/1000], Train Loss: 0.0000, Test Loss: 0.4594\n"
     ]
    },
    {
     "name": "stdout",
     "output_type": "stream",
     "text": [
      "Epoch [278/1000], Train Loss: 0.0000, Test Loss: 0.4680\n"
     ]
    },
    {
     "name": "stdout",
     "output_type": "stream",
     "text": [
      "Epoch [279/1000], Train Loss: 0.0000, Test Loss: 0.4783\n"
     ]
    },
    {
     "name": "stdout",
     "output_type": "stream",
     "text": [
      "Epoch [280/1000], Train Loss: 0.0000, Test Loss: 0.4863\n"
     ]
    },
    {
     "name": "stdout",
     "output_type": "stream",
     "text": [
      "Epoch [281/1000], Train Loss: 0.0000, Test Loss: 0.4961\n"
     ]
    },
    {
     "name": "stdout",
     "output_type": "stream",
     "text": [
      "Epoch [282/1000], Train Loss: 0.0000, Test Loss: 0.5246\n"
     ]
    },
    {
     "name": "stdout",
     "output_type": "stream",
     "text": [
      "Epoch [283/1000], Train Loss: 0.0039, Test Loss: 0.3036\n"
     ]
    },
    {
     "name": "stdout",
     "output_type": "stream",
     "text": [
      "Epoch [284/1000], Train Loss: 0.0007, Test Loss: 0.2851\n"
     ]
    },
    {
     "name": "stdout",
     "output_type": "stream",
     "text": [
      "Epoch [285/1000], Train Loss: 0.0000, Test Loss: 0.2951\n"
     ]
    },
    {
     "name": "stdout",
     "output_type": "stream",
     "text": [
      "Epoch [286/1000], Train Loss: 0.0000, Test Loss: 0.3002\n"
     ]
    },
    {
     "name": "stdout",
     "output_type": "stream",
     "text": [
      "Epoch [287/1000], Train Loss: 0.0000, Test Loss: 0.3087\n"
     ]
    },
    {
     "name": "stdout",
     "output_type": "stream",
     "text": [
      "Epoch [288/1000], Train Loss: 0.0000, Test Loss: 0.3205\n"
     ]
    },
    {
     "name": "stdout",
     "output_type": "stream",
     "text": [
      "Epoch [289/1000], Train Loss: 0.0000, Test Loss: 0.3345\n"
     ]
    },
    {
     "name": "stdout",
     "output_type": "stream",
     "text": [
      "Epoch [290/1000], Train Loss: 0.0000, Test Loss: 0.3490\n"
     ]
    },
    {
     "name": "stdout",
     "output_type": "stream",
     "text": [
      "Epoch [291/1000], Train Loss: 0.0000, Test Loss: 0.3637\n"
     ]
    },
    {
     "name": "stdout",
     "output_type": "stream",
     "text": [
      "Epoch [292/1000], Train Loss: 0.0000, Test Loss: 0.3785\n"
     ]
    },
    {
     "name": "stdout",
     "output_type": "stream",
     "text": [
      "Epoch [293/1000], Train Loss: 0.0000, Test Loss: 0.3937\n"
     ]
    },
    {
     "name": "stdout",
     "output_type": "stream",
     "text": [
      "Epoch [294/1000], Train Loss: 0.0000, Test Loss: 0.4090\n"
     ]
    },
    {
     "name": "stdout",
     "output_type": "stream",
     "text": [
      "Epoch [295/1000], Train Loss: 0.0000, Test Loss: 0.4390\n"
     ]
    },
    {
     "name": "stdout",
     "output_type": "stream",
     "text": [
      "Epoch [296/1000], Train Loss: 0.0034, Test Loss: 0.2704\n"
     ]
    },
    {
     "name": "stdout",
     "output_type": "stream",
     "text": [
      "Epoch [297/1000], Train Loss: 0.0011, Test Loss: 0.2786\n"
     ]
    },
    {
     "name": "stdout",
     "output_type": "stream",
     "text": [
      "Epoch [298/1000], Train Loss: 0.0000, Test Loss: 0.2958\n"
     ]
    },
    {
     "name": "stdout",
     "output_type": "stream",
     "text": [
      "Epoch [299/1000], Train Loss: 0.0000, Test Loss: 0.3035\n"
     ]
    },
    {
     "name": "stdout",
     "output_type": "stream",
     "text": [
      "Epoch [300/1000], Train Loss: 0.0000, Test Loss: 0.3119\n"
     ]
    },
    {
     "name": "stdout",
     "output_type": "stream",
     "text": [
      "Epoch [301/1000], Train Loss: 0.0000, Test Loss: 0.3241\n"
     ]
    },
    {
     "name": "stdout",
     "output_type": "stream",
     "text": [
      "Epoch [302/1000], Train Loss: 0.0000, Test Loss: 0.3382\n"
     ]
    },
    {
     "name": "stdout",
     "output_type": "stream",
     "text": [
      "Epoch [303/1000], Train Loss: 0.0000, Test Loss: 0.3537\n"
     ]
    },
    {
     "name": "stdout",
     "output_type": "stream",
     "text": [
      "Epoch [304/1000], Train Loss: 0.0000, Test Loss: 0.3687\n"
     ]
    },
    {
     "name": "stdout",
     "output_type": "stream",
     "text": [
      "Epoch [305/1000], Train Loss: 0.0000, Test Loss: 0.3841\n"
     ]
    },
    {
     "name": "stdout",
     "output_type": "stream",
     "text": [
      "Epoch [306/1000], Train Loss: 0.0000, Test Loss: 0.3986\n"
     ]
    },
    {
     "name": "stdout",
     "output_type": "stream",
     "text": [
      "Epoch [307/1000], Train Loss: 0.0000, Test Loss: 0.4164\n"
     ]
    },
    {
     "name": "stdout",
     "output_type": "stream",
     "text": [
      "Epoch [308/1000], Train Loss: 0.0009, Test Loss: 0.3842\n"
     ]
    },
    {
     "name": "stdout",
     "output_type": "stream",
     "text": [
      "Epoch [309/1000], Train Loss: 0.0008, Test Loss: 0.3281\n"
     ]
    },
    {
     "name": "stdout",
     "output_type": "stream",
     "text": [
      "Epoch [310/1000], Train Loss: 0.0000, Test Loss: 0.3343\n"
     ]
    },
    {
     "name": "stdout",
     "output_type": "stream",
     "text": [
      "Epoch [311/1000], Train Loss: 0.0000, Test Loss: 0.3409\n"
     ]
    },
    {
     "name": "stdout",
     "output_type": "stream",
     "text": [
      "Epoch [312/1000], Train Loss: 0.0002, Test Loss: 0.3176\n"
     ]
    },
    {
     "name": "stdout",
     "output_type": "stream",
     "text": [
      "Epoch [313/1000], Train Loss: 0.0000, Test Loss: 0.3483\n"
     ]
    },
    {
     "name": "stdout",
     "output_type": "stream",
     "text": [
      "Epoch [314/1000], Train Loss: 0.0000, Test Loss: 0.3479\n"
     ]
    },
    {
     "name": "stdout",
     "output_type": "stream",
     "text": [
      "Epoch [315/1000], Train Loss: 0.0000, Test Loss: 0.3522\n"
     ]
    },
    {
     "name": "stdout",
     "output_type": "stream",
     "text": [
      "Epoch [316/1000], Train Loss: 0.0000, Test Loss: 0.3613\n"
     ]
    },
    {
     "name": "stdout",
     "output_type": "stream",
     "text": [
      "Epoch [317/1000], Train Loss: 0.0000, Test Loss: 0.3735\n"
     ]
    },
    {
     "name": "stdout",
     "output_type": "stream",
     "text": [
      "Epoch [318/1000], Train Loss: 0.0000, Test Loss: 0.3870\n"
     ]
    },
    {
     "name": "stdout",
     "output_type": "stream",
     "text": [
      "Epoch [319/1000], Train Loss: 0.0000, Test Loss: 0.4026\n"
     ]
    },
    {
     "name": "stdout",
     "output_type": "stream",
     "text": [
      "Epoch [320/1000], Train Loss: 0.0000, Test Loss: 0.4165\n"
     ]
    },
    {
     "name": "stdout",
     "output_type": "stream",
     "text": [
      "Epoch [321/1000], Train Loss: 0.0000, Test Loss: 0.4309\n"
     ]
    },
    {
     "name": "stdout",
     "output_type": "stream",
     "text": [
      "Epoch [322/1000], Train Loss: 0.0000, Test Loss: 0.4449\n"
     ]
    },
    {
     "name": "stdout",
     "output_type": "stream",
     "text": [
      "Epoch [323/1000], Train Loss: 0.0000, Test Loss: 0.4569\n"
     ]
    },
    {
     "name": "stdout",
     "output_type": "stream",
     "text": [
      "Epoch [324/1000], Train Loss: 0.0000, Test Loss: 0.4696\n"
     ]
    },
    {
     "name": "stdout",
     "output_type": "stream",
     "text": [
      "Epoch [325/1000], Train Loss: 0.0006, Test Loss: 0.4370\n"
     ]
    },
    {
     "name": "stdout",
     "output_type": "stream",
     "text": [
      "Epoch [326/1000], Train Loss: 0.0031, Test Loss: 0.2980\n"
     ]
    },
    {
     "name": "stdout",
     "output_type": "stream",
     "text": [
      "Epoch [327/1000], Train Loss: 0.0004, Test Loss: 0.2973\n"
     ]
    },
    {
     "name": "stdout",
     "output_type": "stream",
     "text": [
      "Epoch [328/1000], Train Loss: 0.0000, Test Loss: 0.3140\n"
     ]
    },
    {
     "name": "stdout",
     "output_type": "stream",
     "text": [
      "Epoch [329/1000], Train Loss: 0.0000, Test Loss: 0.3191\n"
     ]
    },
    {
     "name": "stdout",
     "output_type": "stream",
     "text": [
      "Epoch [330/1000], Train Loss: 0.0000, Test Loss: 0.3261\n"
     ]
    },
    {
     "name": "stdout",
     "output_type": "stream",
     "text": [
      "Epoch [331/1000], Train Loss: 0.0000, Test Loss: 0.3370\n"
     ]
    },
    {
     "name": "stdout",
     "output_type": "stream",
     "text": [
      "Epoch [332/1000], Train Loss: 0.0000, Test Loss: 0.3499\n"
     ]
    },
    {
     "name": "stdout",
     "output_type": "stream",
     "text": [
      "Epoch [333/1000], Train Loss: 0.0000, Test Loss: 0.3660\n"
     ]
    },
    {
     "name": "stdout",
     "output_type": "stream",
     "text": [
      "Epoch [334/1000], Train Loss: 0.0000, Test Loss: 0.3800\n"
     ]
    },
    {
     "name": "stdout",
     "output_type": "stream",
     "text": [
      "Epoch [335/1000], Train Loss: 0.0000, Test Loss: 0.3943\n"
     ]
    },
    {
     "name": "stdout",
     "output_type": "stream",
     "text": [
      "Epoch [336/1000], Train Loss: 0.0000, Test Loss: 0.4095\n"
     ]
    },
    {
     "name": "stdout",
     "output_type": "stream",
     "text": [
      "Epoch [337/1000], Train Loss: 0.0000, Test Loss: 0.4245\n"
     ]
    },
    {
     "name": "stdout",
     "output_type": "stream",
     "text": [
      "Epoch [338/1000], Train Loss: 0.0000, Test Loss: 0.4388\n"
     ]
    },
    {
     "name": "stdout",
     "output_type": "stream",
     "text": [
      "Epoch [339/1000], Train Loss: 0.0000, Test Loss: 0.4521\n"
     ]
    },
    {
     "name": "stdout",
     "output_type": "stream",
     "text": [
      "Epoch [340/1000], Train Loss: 0.0000, Test Loss: 0.4647\n"
     ]
    },
    {
     "name": "stdout",
     "output_type": "stream",
     "text": [
      "Epoch [341/1000], Train Loss: 0.0000, Test Loss: 0.4767\n"
     ]
    },
    {
     "name": "stdout",
     "output_type": "stream",
     "text": [
      "Epoch [342/1000], Train Loss: 0.0000, Test Loss: 0.4852\n"
     ]
    },
    {
     "name": "stdout",
     "output_type": "stream",
     "text": [
      "Epoch [343/1000], Train Loss: 0.0000, Test Loss: 0.4930\n"
     ]
    },
    {
     "name": "stdout",
     "output_type": "stream",
     "text": [
      "Epoch [344/1000], Train Loss: 0.0000, Test Loss: 0.4997\n"
     ]
    },
    {
     "name": "stdout",
     "output_type": "stream",
     "text": [
      "Epoch [345/1000], Train Loss: 0.0000, Test Loss: 0.5039\n"
     ]
    },
    {
     "name": "stdout",
     "output_type": "stream",
     "text": [
      "Epoch [346/1000], Train Loss: 0.0022, Test Loss: 0.3732\n"
     ]
    },
    {
     "name": "stdout",
     "output_type": "stream",
     "text": [
      "Epoch [347/1000], Train Loss: 0.0044, Test Loss: 0.2664\n"
     ]
    },
    {
     "name": "stdout",
     "output_type": "stream",
     "text": [
      "Epoch [348/1000], Train Loss: 0.0010, Test Loss: 0.2731\n"
     ]
    },
    {
     "name": "stdout",
     "output_type": "stream",
     "text": [
      "Epoch [349/1000], Train Loss: 0.0001, Test Loss: 0.2909\n"
     ]
    },
    {
     "name": "stdout",
     "output_type": "stream",
     "text": [
      "Epoch [350/1000], Train Loss: 0.0000, Test Loss: 0.2965\n"
     ]
    },
    {
     "name": "stdout",
     "output_type": "stream",
     "text": [
      "Epoch [351/1000], Train Loss: 0.0000, Test Loss: 0.3067\n"
     ]
    },
    {
     "name": "stdout",
     "output_type": "stream",
     "text": [
      "Epoch [352/1000], Train Loss: 0.0000, Test Loss: 0.3183\n"
     ]
    },
    {
     "name": "stdout",
     "output_type": "stream",
     "text": [
      "Epoch [353/1000], Train Loss: 0.0000, Test Loss: 0.3334\n"
     ]
    },
    {
     "name": "stdout",
     "output_type": "stream",
     "text": [
      "Epoch [354/1000], Train Loss: 0.0000, Test Loss: 0.3485\n"
     ]
    },
    {
     "name": "stdout",
     "output_type": "stream",
     "text": [
      "Epoch [355/1000], Train Loss: 0.0000, Test Loss: 0.3637\n"
     ]
    },
    {
     "name": "stdout",
     "output_type": "stream",
     "text": [
      "Epoch [356/1000], Train Loss: 0.0000, Test Loss: 0.3797\n"
     ]
    },
    {
     "name": "stdout",
     "output_type": "stream",
     "text": [
      "Epoch [357/1000], Train Loss: 0.0000, Test Loss: 0.3959\n"
     ]
    },
    {
     "name": "stdout",
     "output_type": "stream",
     "text": [
      "Epoch [358/1000], Train Loss: 0.0000, Test Loss: 0.4109\n"
     ]
    },
    {
     "name": "stdout",
     "output_type": "stream",
     "text": [
      "Epoch [359/1000], Train Loss: 0.0000, Test Loss: 0.4254\n"
     ]
    },
    {
     "name": "stdout",
     "output_type": "stream",
     "text": [
      "Epoch [360/1000], Train Loss: 0.0000, Test Loss: 0.4412\n"
     ]
    },
    {
     "name": "stdout",
     "output_type": "stream",
     "text": [
      "Epoch [361/1000], Train Loss: 0.0000, Test Loss: 0.4531\n"
     ]
    },
    {
     "name": "stdout",
     "output_type": "stream",
     "text": [
      "Epoch [362/1000], Train Loss: 0.0000, Test Loss: 0.4646\n"
     ]
    },
    {
     "name": "stdout",
     "output_type": "stream",
     "text": [
      "Epoch [363/1000], Train Loss: 0.0000, Test Loss: 0.4755\n"
     ]
    },
    {
     "name": "stdout",
     "output_type": "stream",
     "text": [
      "Epoch [364/1000], Train Loss: 0.0000, Test Loss: 0.4839\n"
     ]
    },
    {
     "name": "stdout",
     "output_type": "stream",
     "text": [
      "Epoch [365/1000], Train Loss: 0.0000, Test Loss: 0.4903\n"
     ]
    },
    {
     "name": "stdout",
     "output_type": "stream",
     "text": [
      "Epoch [366/1000], Train Loss: 0.0000, Test Loss: 0.4928\n"
     ]
    },
    {
     "name": "stdout",
     "output_type": "stream",
     "text": [
      "Epoch [367/1000], Train Loss: 0.0007, Test Loss: 0.4495\n"
     ]
    },
    {
     "name": "stdout",
     "output_type": "stream",
     "text": [
      "Epoch [368/1000], Train Loss: 0.0071, Test Loss: 0.2266\n"
     ]
    },
    {
     "name": "stdout",
     "output_type": "stream",
     "text": [
      "Epoch [369/1000], Train Loss: 0.0005, Test Loss: 0.2613\n"
     ]
    },
    {
     "name": "stdout",
     "output_type": "stream",
     "text": [
      "Epoch [370/1000], Train Loss: 0.0000, Test Loss: 0.2766\n"
     ]
    },
    {
     "name": "stdout",
     "output_type": "stream",
     "text": [
      "Epoch [371/1000], Train Loss: 0.0000, Test Loss: 0.2859\n"
     ]
    },
    {
     "name": "stdout",
     "output_type": "stream",
     "text": [
      "Epoch [372/1000], Train Loss: 0.0000, Test Loss: 0.2990\n"
     ]
    },
    {
     "name": "stdout",
     "output_type": "stream",
     "text": [
      "Epoch [373/1000], Train Loss: 0.0000, Test Loss: 0.3135\n"
     ]
    },
    {
     "name": "stdout",
     "output_type": "stream",
     "text": [
      "Epoch [374/1000], Train Loss: 0.0000, Test Loss: 0.3286\n"
     ]
    },
    {
     "name": "stdout",
     "output_type": "stream",
     "text": [
      "Epoch [375/1000], Train Loss: 0.0000, Test Loss: 0.3448\n"
     ]
    },
    {
     "name": "stdout",
     "output_type": "stream",
     "text": [
      "Epoch [376/1000], Train Loss: 0.0000, Test Loss: 0.3608\n"
     ]
    },
    {
     "name": "stdout",
     "output_type": "stream",
     "text": [
      "Epoch [377/1000], Train Loss: 0.0000, Test Loss: 0.3763\n"
     ]
    },
    {
     "name": "stdout",
     "output_type": "stream",
     "text": [
      "Epoch [378/1000], Train Loss: 0.0000, Test Loss: 0.3933\n"
     ]
    },
    {
     "name": "stdout",
     "output_type": "stream",
     "text": [
      "Epoch [379/1000], Train Loss: 0.0021, Test Loss: 0.2932\n"
     ]
    },
    {
     "name": "stdout",
     "output_type": "stream",
     "text": [
      "Epoch [380/1000], Train Loss: 0.0009, Test Loss: 0.2919\n"
     ]
    },
    {
     "name": "stdout",
     "output_type": "stream",
     "text": [
      "Epoch [381/1000], Train Loss: 0.0001, Test Loss: 0.3176\n"
     ]
    },
    {
     "name": "stdout",
     "output_type": "stream",
     "text": [
      "Epoch [382/1000], Train Loss: 0.0000, Test Loss: 0.3361\n"
     ]
    },
    {
     "name": "stdout",
     "output_type": "stream",
     "text": [
      "Epoch [383/1000], Train Loss: 0.0003, Test Loss: 0.3294\n"
     ]
    },
    {
     "name": "stdout",
     "output_type": "stream",
     "text": [
      "Epoch [384/1000], Train Loss: 0.0000, Test Loss: 0.3428\n"
     ]
    },
    {
     "name": "stdout",
     "output_type": "stream",
     "text": [
      "Epoch [385/1000], Train Loss: 0.0000, Test Loss: 0.3491\n"
     ]
    },
    {
     "name": "stdout",
     "output_type": "stream",
     "text": [
      "Epoch [386/1000], Train Loss: 0.0000, Test Loss: 0.3592\n"
     ]
    },
    {
     "name": "stdout",
     "output_type": "stream",
     "text": [
      "Epoch [387/1000], Train Loss: 0.0000, Test Loss: 0.3734\n"
     ]
    },
    {
     "name": "stdout",
     "output_type": "stream",
     "text": [
      "Epoch [388/1000], Train Loss: 0.0000, Test Loss: 0.3885\n"
     ]
    },
    {
     "name": "stdout",
     "output_type": "stream",
     "text": [
      "Epoch [389/1000], Train Loss: 0.0000, Test Loss: 0.4041\n"
     ]
    },
    {
     "name": "stdout",
     "output_type": "stream",
     "text": [
      "Epoch [390/1000], Train Loss: 0.0000, Test Loss: 0.4200\n"
     ]
    },
    {
     "name": "stdout",
     "output_type": "stream",
     "text": [
      "Epoch [391/1000], Train Loss: 0.0000, Test Loss: 0.4355\n"
     ]
    },
    {
     "name": "stdout",
     "output_type": "stream",
     "text": [
      "Epoch [392/1000], Train Loss: 0.0000, Test Loss: 0.4519\n"
     ]
    },
    {
     "name": "stdout",
     "output_type": "stream",
     "text": [
      "Epoch [393/1000], Train Loss: 0.0012, Test Loss: 0.3657\n"
     ]
    },
    {
     "name": "stdout",
     "output_type": "stream",
     "text": [
      "Epoch [394/1000], Train Loss: 0.0009, Test Loss: 0.3306\n"
     ]
    },
    {
     "name": "stdout",
     "output_type": "stream",
     "text": [
      "Epoch [395/1000], Train Loss: 0.0004, Test Loss: 0.3080\n"
     ]
    },
    {
     "name": "stdout",
     "output_type": "stream",
     "text": [
      "Epoch [396/1000], Train Loss: 0.0002, Test Loss: 0.3223\n"
     ]
    },
    {
     "name": "stdout",
     "output_type": "stream",
     "text": [
      "Epoch [397/1000], Train Loss: 0.0002, Test Loss: 0.3296\n"
     ]
    },
    {
     "name": "stdout",
     "output_type": "stream",
     "text": [
      "Epoch [398/1000], Train Loss: 0.0000, Test Loss: 0.3358\n"
     ]
    },
    {
     "name": "stdout",
     "output_type": "stream",
     "text": [
      "Epoch [399/1000], Train Loss: 0.0000, Test Loss: 0.3442\n"
     ]
    },
    {
     "name": "stdout",
     "output_type": "stream",
     "text": [
      "Epoch [400/1000], Train Loss: 0.0000, Test Loss: 0.3538\n"
     ]
    },
    {
     "name": "stdout",
     "output_type": "stream",
     "text": [
      "Epoch [401/1000], Train Loss: 0.0000, Test Loss: 0.3672\n"
     ]
    },
    {
     "name": "stdout",
     "output_type": "stream",
     "text": [
      "Epoch [402/1000], Train Loss: 0.0000, Test Loss: 0.3818\n"
     ]
    },
    {
     "name": "stdout",
     "output_type": "stream",
     "text": [
      "Epoch [403/1000], Train Loss: 0.0000, Test Loss: 0.3964\n"
     ]
    },
    {
     "name": "stdout",
     "output_type": "stream",
     "text": [
      "Epoch [404/1000], Train Loss: 0.0000, Test Loss: 0.4120\n"
     ]
    },
    {
     "name": "stdout",
     "output_type": "stream",
     "text": [
      "Epoch [405/1000], Train Loss: 0.0000, Test Loss: 0.4273\n"
     ]
    },
    {
     "name": "stdout",
     "output_type": "stream",
     "text": [
      "Epoch [406/1000], Train Loss: 0.0000, Test Loss: 0.4387\n"
     ]
    },
    {
     "name": "stdout",
     "output_type": "stream",
     "text": [
      "Epoch [407/1000], Train Loss: 0.0000, Test Loss: 0.4535\n"
     ]
    },
    {
     "name": "stdout",
     "output_type": "stream",
     "text": [
      "Epoch [408/1000], Train Loss: 0.0000, Test Loss: 0.4680\n"
     ]
    },
    {
     "name": "stdout",
     "output_type": "stream",
     "text": [
      "Epoch [409/1000], Train Loss: 0.0026, Test Loss: 0.2957\n"
     ]
    },
    {
     "name": "stdout",
     "output_type": "stream",
     "text": [
      "Epoch [410/1000], Train Loss: 0.0005, Test Loss: 0.3304\n"
     ]
    },
    {
     "name": "stdout",
     "output_type": "stream",
     "text": [
      "Epoch [411/1000], Train Loss: 0.0000, Test Loss: 0.3288\n"
     ]
    },
    {
     "name": "stdout",
     "output_type": "stream",
     "text": [
      "Epoch [412/1000], Train Loss: 0.0000, Test Loss: 0.3296\n"
     ]
    },
    {
     "name": "stdout",
     "output_type": "stream",
     "text": [
      "Epoch [413/1000], Train Loss: 0.0000, Test Loss: 0.3348\n"
     ]
    },
    {
     "name": "stdout",
     "output_type": "stream",
     "text": [
      "Epoch [414/1000], Train Loss: 0.0000, Test Loss: 0.3431\n"
     ]
    },
    {
     "name": "stdout",
     "output_type": "stream",
     "text": [
      "Epoch [415/1000], Train Loss: 0.0000, Test Loss: 0.3557\n"
     ]
    },
    {
     "name": "stdout",
     "output_type": "stream",
     "text": [
      "Epoch [416/1000], Train Loss: 0.0000, Test Loss: 0.3677\n"
     ]
    },
    {
     "name": "stdout",
     "output_type": "stream",
     "text": [
      "Epoch [417/1000], Train Loss: 0.0000, Test Loss: 0.3817\n"
     ]
    },
    {
     "name": "stdout",
     "output_type": "stream",
     "text": [
      "Epoch [418/1000], Train Loss: 0.0000, Test Loss: 0.3958\n"
     ]
    },
    {
     "name": "stdout",
     "output_type": "stream",
     "text": [
      "Epoch [419/1000], Train Loss: 0.0000, Test Loss: 0.4100\n"
     ]
    },
    {
     "name": "stdout",
     "output_type": "stream",
     "text": [
      "Epoch [420/1000], Train Loss: 0.0000, Test Loss: 0.4221\n"
     ]
    },
    {
     "name": "stdout",
     "output_type": "stream",
     "text": [
      "Epoch [421/1000], Train Loss: 0.0000, Test Loss: 0.4344\n"
     ]
    },
    {
     "name": "stdout",
     "output_type": "stream",
     "text": [
      "Epoch [422/1000], Train Loss: 0.0019, Test Loss: 0.3075\n"
     ]
    },
    {
     "name": "stdout",
     "output_type": "stream",
     "text": [
      "Epoch [423/1000], Train Loss: 0.0015, Test Loss: 0.2547\n"
     ]
    },
    {
     "name": "stdout",
     "output_type": "stream",
     "text": [
      "Epoch [424/1000], Train Loss: 0.0003, Test Loss: 0.2702\n"
     ]
    },
    {
     "name": "stdout",
     "output_type": "stream",
     "text": [
      "Epoch [425/1000], Train Loss: 0.0001, Test Loss: 0.3111\n"
     ]
    },
    {
     "name": "stdout",
     "output_type": "stream",
     "text": [
      "Epoch [426/1000], Train Loss: 0.0000, Test Loss: 0.3250\n"
     ]
    },
    {
     "name": "stdout",
     "output_type": "stream",
     "text": [
      "Epoch [427/1000], Train Loss: 0.0000, Test Loss: 0.3396\n"
     ]
    },
    {
     "name": "stdout",
     "output_type": "stream",
     "text": [
      "Epoch [428/1000], Train Loss: 0.0000, Test Loss: 0.3547\n"
     ]
    },
    {
     "name": "stdout",
     "output_type": "stream",
     "text": [
      "Epoch [429/1000], Train Loss: 0.0000, Test Loss: 0.3707\n"
     ]
    },
    {
     "name": "stdout",
     "output_type": "stream",
     "text": [
      "Epoch [430/1000], Train Loss: 0.0000, Test Loss: 0.3869\n"
     ]
    },
    {
     "name": "stdout",
     "output_type": "stream",
     "text": [
      "Epoch [431/1000], Train Loss: 0.0000, Test Loss: 0.4033\n"
     ]
    },
    {
     "name": "stdout",
     "output_type": "stream",
     "text": [
      "Epoch [432/1000], Train Loss: 0.0000, Test Loss: 0.4185\n"
     ]
    },
    {
     "name": "stdout",
     "output_type": "stream",
     "text": [
      "Epoch [433/1000], Train Loss: 0.0000, Test Loss: 0.4335\n"
     ]
    },
    {
     "name": "stdout",
     "output_type": "stream",
     "text": [
      "Epoch [434/1000], Train Loss: 0.0000, Test Loss: 0.4481\n"
     ]
    },
    {
     "name": "stdout",
     "output_type": "stream",
     "text": [
      "Epoch [435/1000], Train Loss: 0.0000, Test Loss: 0.4622\n"
     ]
    },
    {
     "name": "stdout",
     "output_type": "stream",
     "text": [
      "Epoch [436/1000], Train Loss: 0.0007, Test Loss: 0.5482\n"
     ]
    },
    {
     "name": "stdout",
     "output_type": "stream",
     "text": [
      "Epoch [437/1000], Train Loss: 0.0017, Test Loss: 0.3498\n"
     ]
    },
    {
     "name": "stdout",
     "output_type": "stream",
     "text": [
      "Epoch [438/1000], Train Loss: 0.0002, Test Loss: 0.3532\n"
     ]
    },
    {
     "name": "stdout",
     "output_type": "stream",
     "text": [
      "Epoch [439/1000], Train Loss: 0.0002, Test Loss: 0.3500\n"
     ]
    },
    {
     "name": "stdout",
     "output_type": "stream",
     "text": [
      "Epoch [440/1000], Train Loss: 0.0000, Test Loss: 0.3431\n"
     ]
    },
    {
     "name": "stdout",
     "output_type": "stream",
     "text": [
      "Epoch [441/1000], Train Loss: 0.0000, Test Loss: 0.3469\n"
     ]
    },
    {
     "name": "stdout",
     "output_type": "stream",
     "text": [
      "Epoch [442/1000], Train Loss: 0.0000, Test Loss: 0.3506\n"
     ]
    },
    {
     "name": "stdout",
     "output_type": "stream",
     "text": [
      "Epoch [443/1000], Train Loss: 0.0000, Test Loss: 0.3580\n"
     ]
    },
    {
     "name": "stdout",
     "output_type": "stream",
     "text": [
      "Epoch [444/1000], Train Loss: 0.0000, Test Loss: 0.3695\n"
     ]
    },
    {
     "name": "stdout",
     "output_type": "stream",
     "text": [
      "Epoch [445/1000], Train Loss: 0.0000, Test Loss: 0.3792\n"
     ]
    },
    {
     "name": "stdout",
     "output_type": "stream",
     "text": [
      "Epoch [446/1000], Train Loss: 0.0000, Test Loss: 0.3927\n"
     ]
    },
    {
     "name": "stdout",
     "output_type": "stream",
     "text": [
      "Epoch [447/1000], Train Loss: 0.0000, Test Loss: 0.4045\n"
     ]
    },
    {
     "name": "stdout",
     "output_type": "stream",
     "text": [
      "Epoch [448/1000], Train Loss: 0.0000, Test Loss: 0.4169\n"
     ]
    },
    {
     "name": "stdout",
     "output_type": "stream",
     "text": [
      "Epoch [449/1000], Train Loss: 0.0000, Test Loss: 0.4300\n"
     ]
    },
    {
     "name": "stdout",
     "output_type": "stream",
     "text": [
      "Epoch [450/1000], Train Loss: 0.0000, Test Loss: 0.4425\n"
     ]
    },
    {
     "name": "stdout",
     "output_type": "stream",
     "text": [
      "Epoch [451/1000], Train Loss: 0.0000, Test Loss: 0.4565\n"
     ]
    },
    {
     "name": "stdout",
     "output_type": "stream",
     "text": [
      "Epoch [452/1000], Train Loss: 0.0000, Test Loss: 0.4689\n"
     ]
    },
    {
     "name": "stdout",
     "output_type": "stream",
     "text": [
      "Epoch [453/1000], Train Loss: 0.0019, Test Loss: 0.3760\n"
     ]
    },
    {
     "name": "stdout",
     "output_type": "stream",
     "text": [
      "Epoch [454/1000], Train Loss: 0.0012, Test Loss: 0.3109\n"
     ]
    },
    {
     "name": "stdout",
     "output_type": "stream",
     "text": [
      "Epoch [455/1000], Train Loss: 0.0001, Test Loss: 0.3127\n"
     ]
    },
    {
     "name": "stdout",
     "output_type": "stream",
     "text": [
      "Epoch [456/1000], Train Loss: 0.0000, Test Loss: 0.3194\n"
     ]
    },
    {
     "name": "stdout",
     "output_type": "stream",
     "text": [
      "Epoch [457/1000], Train Loss: 0.0000, Test Loss: 0.3187\n"
     ]
    },
    {
     "name": "stdout",
     "output_type": "stream",
     "text": [
      "Epoch [458/1000], Train Loss: 0.0000, Test Loss: 0.3246\n"
     ]
    },
    {
     "name": "stdout",
     "output_type": "stream",
     "text": [
      "Epoch [459/1000], Train Loss: 0.0000, Test Loss: 0.3338\n"
     ]
    },
    {
     "name": "stdout",
     "output_type": "stream",
     "text": [
      "Epoch [460/1000], Train Loss: 0.0000, Test Loss: 0.3466\n"
     ]
    },
    {
     "name": "stdout",
     "output_type": "stream",
     "text": [
      "Epoch [461/1000], Train Loss: 0.0000, Test Loss: 0.3595\n"
     ]
    },
    {
     "name": "stdout",
     "output_type": "stream",
     "text": [
      "Epoch [462/1000], Train Loss: 0.0000, Test Loss: 0.3730\n"
     ]
    },
    {
     "name": "stdout",
     "output_type": "stream",
     "text": [
      "Epoch [463/1000], Train Loss: 0.0000, Test Loss: 0.3874\n"
     ]
    },
    {
     "name": "stdout",
     "output_type": "stream",
     "text": [
      "Epoch [464/1000], Train Loss: 0.0000, Test Loss: 0.3999\n"
     ]
    },
    {
     "name": "stdout",
     "output_type": "stream",
     "text": [
      "Epoch [465/1000], Train Loss: 0.0000, Test Loss: 0.4140\n"
     ]
    },
    {
     "name": "stdout",
     "output_type": "stream",
     "text": [
      "Epoch [466/1000], Train Loss: 0.0000, Test Loss: 0.4308\n"
     ]
    },
    {
     "name": "stdout",
     "output_type": "stream",
     "text": [
      "Epoch [467/1000], Train Loss: 0.0000, Test Loss: 0.4492\n"
     ]
    },
    {
     "name": "stdout",
     "output_type": "stream",
     "text": [
      "Epoch [468/1000], Train Loss: 0.0000, Test Loss: 0.4590\n"
     ]
    },
    {
     "name": "stdout",
     "output_type": "stream",
     "text": [
      "Epoch [469/1000], Train Loss: 0.0000, Test Loss: 0.4613\n"
     ]
    },
    {
     "name": "stdout",
     "output_type": "stream",
     "text": [
      "Epoch [470/1000], Train Loss: 0.0000, Test Loss: 0.4680\n"
     ]
    },
    {
     "name": "stdout",
     "output_type": "stream",
     "text": [
      "Epoch [471/1000], Train Loss: 0.0000, Test Loss: 0.4737\n"
     ]
    },
    {
     "name": "stdout",
     "output_type": "stream",
     "text": [
      "Epoch [472/1000], Train Loss: 0.0000, Test Loss: 0.4786\n"
     ]
    },
    {
     "name": "stdout",
     "output_type": "stream",
     "text": [
      "Epoch [473/1000], Train Loss: 0.0000, Test Loss: 0.4845\n"
     ]
    },
    {
     "name": "stdout",
     "output_type": "stream",
     "text": [
      "Epoch [474/1000], Train Loss: 0.0000, Test Loss: 0.4828\n"
     ]
    },
    {
     "name": "stdout",
     "output_type": "stream",
     "text": [
      "Epoch [475/1000], Train Loss: 0.0020, Test Loss: 0.3739\n"
     ]
    },
    {
     "name": "stdout",
     "output_type": "stream",
     "text": [
      "Epoch [476/1000], Train Loss: 0.0022, Test Loss: 0.3135\n"
     ]
    },
    {
     "name": "stdout",
     "output_type": "stream",
     "text": [
      "Epoch [477/1000], Train Loss: 0.0004, Test Loss: 0.3195\n"
     ]
    },
    {
     "name": "stdout",
     "output_type": "stream",
     "text": [
      "Epoch [478/1000], Train Loss: 0.0001, Test Loss: 0.3187\n"
     ]
    },
    {
     "name": "stdout",
     "output_type": "stream",
     "text": [
      "Epoch [479/1000], Train Loss: 0.0000, Test Loss: 0.3190\n"
     ]
    },
    {
     "name": "stdout",
     "output_type": "stream",
     "text": [
      "Epoch [480/1000], Train Loss: 0.0000, Test Loss: 0.3205\n"
     ]
    },
    {
     "name": "stdout",
     "output_type": "stream",
     "text": [
      "Epoch [481/1000], Train Loss: 0.0000, Test Loss: 0.3253\n"
     ]
    },
    {
     "name": "stdout",
     "output_type": "stream",
     "text": [
      "Epoch [482/1000], Train Loss: 0.0000, Test Loss: 0.3337\n"
     ]
    },
    {
     "name": "stdout",
     "output_type": "stream",
     "text": [
      "Epoch [483/1000], Train Loss: 0.0000, Test Loss: 0.3439\n"
     ]
    },
    {
     "name": "stdout",
     "output_type": "stream",
     "text": [
      "Epoch [484/1000], Train Loss: 0.0000, Test Loss: 0.3544\n"
     ]
    },
    {
     "name": "stdout",
     "output_type": "stream",
     "text": [
      "Epoch [485/1000], Train Loss: 0.0000, Test Loss: 0.3656\n"
     ]
    },
    {
     "name": "stdout",
     "output_type": "stream",
     "text": [
      "Epoch [486/1000], Train Loss: 0.0000, Test Loss: 0.3782\n"
     ]
    },
    {
     "name": "stdout",
     "output_type": "stream",
     "text": [
      "Epoch [487/1000], Train Loss: 0.0000, Test Loss: 0.3921\n"
     ]
    },
    {
     "name": "stdout",
     "output_type": "stream",
     "text": [
      "Epoch [488/1000], Train Loss: 0.0000, Test Loss: 0.4103\n"
     ]
    },
    {
     "name": "stdout",
     "output_type": "stream",
     "text": [
      "Epoch [489/1000], Train Loss: 0.0035, Test Loss: 0.2853\n"
     ]
    },
    {
     "name": "stdout",
     "output_type": "stream",
     "text": [
      "Epoch [490/1000], Train Loss: 0.0008, Test Loss: 0.2714\n"
     ]
    },
    {
     "name": "stdout",
     "output_type": "stream",
     "text": [
      "Epoch [491/1000], Train Loss: 0.0001, Test Loss: 0.2897\n"
     ]
    },
    {
     "name": "stdout",
     "output_type": "stream",
     "text": [
      "Epoch [492/1000], Train Loss: 0.0000, Test Loss: 0.2966\n"
     ]
    },
    {
     "name": "stdout",
     "output_type": "stream",
     "text": [
      "Epoch [493/1000], Train Loss: 0.0000, Test Loss: 0.3061\n"
     ]
    },
    {
     "name": "stdout",
     "output_type": "stream",
     "text": [
      "Epoch [494/1000], Train Loss: 0.0000, Test Loss: 0.3181\n"
     ]
    },
    {
     "name": "stdout",
     "output_type": "stream",
     "text": [
      "Epoch [495/1000], Train Loss: 0.0000, Test Loss: 0.3289\n"
     ]
    },
    {
     "name": "stdout",
     "output_type": "stream",
     "text": [
      "Epoch [496/1000], Train Loss: 0.0000, Test Loss: 0.3446\n"
     ]
    },
    {
     "name": "stdout",
     "output_type": "stream",
     "text": [
      "Epoch [497/1000], Train Loss: 0.0000, Test Loss: 0.3603\n"
     ]
    },
    {
     "name": "stdout",
     "output_type": "stream",
     "text": [
      "Epoch [498/1000], Train Loss: 0.0000, Test Loss: 0.3814\n"
     ]
    },
    {
     "name": "stdout",
     "output_type": "stream",
     "text": [
      "Epoch [499/1000], Train Loss: 0.0016, Test Loss: 0.2866\n"
     ]
    },
    {
     "name": "stdout",
     "output_type": "stream",
     "text": [
      "Epoch [500/1000], Train Loss: 0.0020, Test Loss: 0.2539\n"
     ]
    },
    {
     "name": "stdout",
     "output_type": "stream",
     "text": [
      "Epoch [501/1000], Train Loss: 0.0004, Test Loss: 0.2836\n"
     ]
    },
    {
     "name": "stdout",
     "output_type": "stream",
     "text": [
      "Epoch [502/1000], Train Loss: 0.0000, Test Loss: 0.2925\n"
     ]
    },
    {
     "name": "stdout",
     "output_type": "stream",
     "text": [
      "Epoch [503/1000], Train Loss: 0.0000, Test Loss: 0.3054\n"
     ]
    },
    {
     "name": "stdout",
     "output_type": "stream",
     "text": [
      "Epoch [504/1000], Train Loss: 0.0000, Test Loss: 0.3193\n"
     ]
    },
    {
     "name": "stdout",
     "output_type": "stream",
     "text": [
      "Epoch [505/1000], Train Loss: 0.0000, Test Loss: 0.3352\n"
     ]
    },
    {
     "name": "stdout",
     "output_type": "stream",
     "text": [
      "Epoch [506/1000], Train Loss: 0.0000, Test Loss: 0.3507\n"
     ]
    },
    {
     "name": "stdout",
     "output_type": "stream",
     "text": [
      "Epoch [507/1000], Train Loss: 0.0000, Test Loss: 0.3667\n"
     ]
    },
    {
     "name": "stdout",
     "output_type": "stream",
     "text": [
      "Epoch [508/1000], Train Loss: 0.0000, Test Loss: 0.3829\n"
     ]
    },
    {
     "name": "stdout",
     "output_type": "stream",
     "text": [
      "Epoch [509/1000], Train Loss: 0.0000, Test Loss: 0.3984\n"
     ]
    },
    {
     "name": "stdout",
     "output_type": "stream",
     "text": [
      "Epoch [510/1000], Train Loss: 0.0000, Test Loss: 0.4148\n"
     ]
    },
    {
     "name": "stdout",
     "output_type": "stream",
     "text": [
      "Epoch [511/1000], Train Loss: 0.0000, Test Loss: 0.4318\n"
     ]
    },
    {
     "name": "stdout",
     "output_type": "stream",
     "text": [
      "Epoch [512/1000], Train Loss: 0.0000, Test Loss: 0.4623\n"
     ]
    },
    {
     "name": "stdout",
     "output_type": "stream",
     "text": [
      "Epoch [513/1000], Train Loss: 0.0036, Test Loss: 0.2218\n"
     ]
    },
    {
     "name": "stdout",
     "output_type": "stream",
     "text": [
      "Epoch [514/1000], Train Loss: 0.0046, Test Loss: 0.1986\n"
     ]
    },
    {
     "name": "stdout",
     "output_type": "stream",
     "text": [
      "Epoch [515/1000], Train Loss: 0.0004, Test Loss: 0.2790\n"
     ]
    },
    {
     "name": "stdout",
     "output_type": "stream",
     "text": [
      "Epoch [516/1000], Train Loss: 0.0001, Test Loss: 0.2950\n"
     ]
    },
    {
     "name": "stdout",
     "output_type": "stream",
     "text": [
      "Epoch [517/1000], Train Loss: 0.0000, Test Loss: 0.3145\n"
     ]
    },
    {
     "name": "stdout",
     "output_type": "stream",
     "text": [
      "Epoch [518/1000], Train Loss: 0.0000, Test Loss: 0.3337\n"
     ]
    },
    {
     "name": "stdout",
     "output_type": "stream",
     "text": [
      "Epoch [519/1000], Train Loss: 0.0000, Test Loss: 0.3516\n"
     ]
    },
    {
     "name": "stdout",
     "output_type": "stream",
     "text": [
      "Epoch [520/1000], Train Loss: 0.0000, Test Loss: 0.3707\n"
     ]
    },
    {
     "name": "stdout",
     "output_type": "stream",
     "text": [
      "Epoch [521/1000], Train Loss: 0.0000, Test Loss: 0.3894\n"
     ]
    },
    {
     "name": "stdout",
     "output_type": "stream",
     "text": [
      "Epoch [522/1000], Train Loss: 0.0000, Test Loss: 0.4096\n"
     ]
    },
    {
     "name": "stdout",
     "output_type": "stream",
     "text": [
      "Epoch [523/1000], Train Loss: 0.0000, Test Loss: 0.4258\n"
     ]
    },
    {
     "name": "stdout",
     "output_type": "stream",
     "text": [
      "Epoch [524/1000], Train Loss: 0.0000, Test Loss: 0.4420\n"
     ]
    },
    {
     "name": "stdout",
     "output_type": "stream",
     "text": [
      "Epoch [525/1000], Train Loss: 0.0000, Test Loss: 0.4583\n"
     ]
    },
    {
     "name": "stdout",
     "output_type": "stream",
     "text": [
      "Epoch [526/1000], Train Loss: 0.0000, Test Loss: 0.4735\n"
     ]
    },
    {
     "name": "stdout",
     "output_type": "stream",
     "text": [
      "Epoch [527/1000], Train Loss: 0.0000, Test Loss: 0.4902\n"
     ]
    },
    {
     "name": "stdout",
     "output_type": "stream",
     "text": [
      "Epoch [528/1000], Train Loss: 0.0025, Test Loss: 0.2577\n"
     ]
    },
    {
     "name": "stdout",
     "output_type": "stream",
     "text": [
      "Epoch [529/1000], Train Loss: 0.0014, Test Loss: 0.2648\n"
     ]
    },
    {
     "name": "stdout",
     "output_type": "stream",
     "text": [
      "Epoch [530/1000], Train Loss: 0.0000, Test Loss: 0.2874\n"
     ]
    },
    {
     "name": "stdout",
     "output_type": "stream",
     "text": [
      "Epoch [531/1000], Train Loss: 0.0000, Test Loss: 0.3006\n"
     ]
    },
    {
     "name": "stdout",
     "output_type": "stream",
     "text": [
      "Epoch [532/1000], Train Loss: 0.0000, Test Loss: 0.3142\n"
     ]
    },
    {
     "name": "stdout",
     "output_type": "stream",
     "text": [
      "Epoch [533/1000], Train Loss: 0.0000, Test Loss: 0.3301\n"
     ]
    },
    {
     "name": "stdout",
     "output_type": "stream",
     "text": [
      "Epoch [534/1000], Train Loss: 0.0000, Test Loss: 0.3475\n"
     ]
    },
    {
     "name": "stdout",
     "output_type": "stream",
     "text": [
      "Epoch [535/1000], Train Loss: 0.0000, Test Loss: 0.3649\n"
     ]
    },
    {
     "name": "stdout",
     "output_type": "stream",
     "text": [
      "Epoch [536/1000], Train Loss: 0.0000, Test Loss: 0.3832\n"
     ]
    },
    {
     "name": "stdout",
     "output_type": "stream",
     "text": [
      "Epoch [537/1000], Train Loss: 0.0000, Test Loss: 0.4010\n"
     ]
    },
    {
     "name": "stdout",
     "output_type": "stream",
     "text": [
      "Epoch [538/1000], Train Loss: 0.0000, Test Loss: 0.4276\n"
     ]
    },
    {
     "name": "stdout",
     "output_type": "stream",
     "text": [
      "Epoch [539/1000], Train Loss: 0.0000, Test Loss: 0.4560\n"
     ]
    },
    {
     "name": "stdout",
     "output_type": "stream",
     "text": [
      "Epoch [540/1000], Train Loss: 0.0000, Test Loss: 0.4664\n"
     ]
    },
    {
     "name": "stdout",
     "output_type": "stream",
     "text": [
      "Epoch [541/1000], Train Loss: 0.0000, Test Loss: 0.4735\n"
     ]
    },
    {
     "name": "stdout",
     "output_type": "stream",
     "text": [
      "Epoch [542/1000], Train Loss: 0.0000, Test Loss: 0.4821\n"
     ]
    },
    {
     "name": "stdout",
     "output_type": "stream",
     "text": [
      "Epoch [543/1000], Train Loss: 0.0000, Test Loss: 0.4935\n"
     ]
    },
    {
     "name": "stdout",
     "output_type": "stream",
     "text": [
      "Epoch [544/1000], Train Loss: 0.0000, Test Loss: 0.5115\n"
     ]
    },
    {
     "name": "stdout",
     "output_type": "stream",
     "text": [
      "Epoch [545/1000], Train Loss: 0.0000, Test Loss: 0.5167\n"
     ]
    },
    {
     "name": "stdout",
     "output_type": "stream",
     "text": [
      "Epoch [546/1000], Train Loss: 0.0000, Test Loss: 0.5216\n"
     ]
    },
    {
     "name": "stdout",
     "output_type": "stream",
     "text": [
      "Epoch [547/1000], Train Loss: 0.0000, Test Loss: 0.5252\n"
     ]
    },
    {
     "name": "stdout",
     "output_type": "stream",
     "text": [
      "Epoch [548/1000], Train Loss: 0.0020, Test Loss: 0.3783\n"
     ]
    },
    {
     "name": "stdout",
     "output_type": "stream",
     "text": [
      "Epoch [549/1000], Train Loss: 0.0016, Test Loss: 0.2805\n"
     ]
    },
    {
     "name": "stdout",
     "output_type": "stream",
     "text": [
      "Epoch [550/1000], Train Loss: 0.0001, Test Loss: 0.3012\n"
     ]
    },
    {
     "name": "stdout",
     "output_type": "stream",
     "text": [
      "Epoch [551/1000], Train Loss: 0.0000, Test Loss: 0.3002\n"
     ]
    },
    {
     "name": "stdout",
     "output_type": "stream",
     "text": [
      "Epoch [552/1000], Train Loss: 0.0000, Test Loss: 0.3029\n"
     ]
    },
    {
     "name": "stdout",
     "output_type": "stream",
     "text": [
      "Epoch [553/1000], Train Loss: 0.0000, Test Loss: 0.3089\n"
     ]
    },
    {
     "name": "stdout",
     "output_type": "stream",
     "text": [
      "Epoch [554/1000], Train Loss: 0.0000, Test Loss: 0.3165\n"
     ]
    },
    {
     "name": "stdout",
     "output_type": "stream",
     "text": [
      "Epoch [555/1000], Train Loss: 0.0000, Test Loss: 0.3298\n"
     ]
    },
    {
     "name": "stdout",
     "output_type": "stream",
     "text": [
      "Epoch [556/1000], Train Loss: 0.0000, Test Loss: 0.3439\n"
     ]
    },
    {
     "name": "stdout",
     "output_type": "stream",
     "text": [
      "Epoch [557/1000], Train Loss: 0.0000, Test Loss: 0.3575\n"
     ]
    },
    {
     "name": "stdout",
     "output_type": "stream",
     "text": [
      "Epoch [558/1000], Train Loss: 0.0000, Test Loss: 0.3718\n"
     ]
    },
    {
     "name": "stdout",
     "output_type": "stream",
     "text": [
      "Epoch [559/1000], Train Loss: 0.0000, Test Loss: 0.3873\n"
     ]
    },
    {
     "name": "stdout",
     "output_type": "stream",
     "text": [
      "Epoch [560/1000], Train Loss: 0.0000, Test Loss: 0.4072\n"
     ]
    },
    {
     "name": "stdout",
     "output_type": "stream",
     "text": [
      "Epoch [561/1000], Train Loss: 0.0009, Test Loss: 0.4140\n"
     ]
    },
    {
     "name": "stdout",
     "output_type": "stream",
     "text": [
      "Epoch [562/1000], Train Loss: 0.0005, Test Loss: 0.3406\n"
     ]
    },
    {
     "name": "stdout",
     "output_type": "stream",
     "text": [
      "Epoch [563/1000], Train Loss: 0.0006, Test Loss: 0.3500\n"
     ]
    },
    {
     "name": "stdout",
     "output_type": "stream",
     "text": [
      "Epoch [564/1000], Train Loss: 0.0004, Test Loss: 0.3029\n"
     ]
    },
    {
     "name": "stdout",
     "output_type": "stream",
     "text": [
      "Epoch [565/1000], Train Loss: 0.0000, Test Loss: 0.3211\n"
     ]
    },
    {
     "name": "stdout",
     "output_type": "stream",
     "text": [
      "Epoch [566/1000], Train Loss: 0.0000, Test Loss: 0.3245\n"
     ]
    },
    {
     "name": "stdout",
     "output_type": "stream",
     "text": [
      "Epoch [567/1000], Train Loss: 0.0000, Test Loss: 0.3364\n"
     ]
    },
    {
     "name": "stdout",
     "output_type": "stream",
     "text": [
      "Epoch [568/1000], Train Loss: 0.0000, Test Loss: 0.3510\n"
     ]
    },
    {
     "name": "stdout",
     "output_type": "stream",
     "text": [
      "Epoch [569/1000], Train Loss: 0.0000, Test Loss: 0.3661\n"
     ]
    },
    {
     "name": "stdout",
     "output_type": "stream",
     "text": [
      "Epoch [570/1000], Train Loss: 0.0000, Test Loss: 0.3820\n"
     ]
    },
    {
     "name": "stdout",
     "output_type": "stream",
     "text": [
      "Epoch [571/1000], Train Loss: 0.0000, Test Loss: 0.3970\n"
     ]
    },
    {
     "name": "stdout",
     "output_type": "stream",
     "text": [
      "Epoch [572/1000], Train Loss: 0.0000, Test Loss: 0.4155\n"
     ]
    },
    {
     "name": "stdout",
     "output_type": "stream",
     "text": [
      "Epoch [573/1000], Train Loss: 0.0000, Test Loss: 0.4353\n"
     ]
    },
    {
     "name": "stdout",
     "output_type": "stream",
     "text": [
      "Epoch [574/1000], Train Loss: 0.0006, Test Loss: 0.4498\n"
     ]
    },
    {
     "name": "stdout",
     "output_type": "stream",
     "text": [
      "Epoch [575/1000], Train Loss: 0.0008, Test Loss: 0.3334\n"
     ]
    },
    {
     "name": "stdout",
     "output_type": "stream",
     "text": [
      "Epoch [576/1000], Train Loss: 0.0005, Test Loss: 0.2917\n"
     ]
    },
    {
     "name": "stdout",
     "output_type": "stream",
     "text": [
      "Epoch [577/1000], Train Loss: 0.0000, Test Loss: 0.3145\n"
     ]
    },
    {
     "name": "stdout",
     "output_type": "stream",
     "text": [
      "Epoch [578/1000], Train Loss: 0.0000, Test Loss: 0.3151\n"
     ]
    },
    {
     "name": "stdout",
     "output_type": "stream",
     "text": [
      "Epoch [579/1000], Train Loss: 0.0000, Test Loss: 0.3240\n"
     ]
    },
    {
     "name": "stdout",
     "output_type": "stream",
     "text": [
      "Epoch [580/1000], Train Loss: 0.0000, Test Loss: 0.3354\n"
     ]
    },
    {
     "name": "stdout",
     "output_type": "stream",
     "text": [
      "Epoch [581/1000], Train Loss: 0.0000, Test Loss: 0.3484\n"
     ]
    },
    {
     "name": "stdout",
     "output_type": "stream",
     "text": [
      "Epoch [582/1000], Train Loss: 0.0000, Test Loss: 0.3630\n"
     ]
    },
    {
     "name": "stdout",
     "output_type": "stream",
     "text": [
      "Epoch [583/1000], Train Loss: 0.0000, Test Loss: 0.3779\n"
     ]
    },
    {
     "name": "stdout",
     "output_type": "stream",
     "text": [
      "Epoch [584/1000], Train Loss: 0.0000, Test Loss: 0.3938\n"
     ]
    },
    {
     "name": "stdout",
     "output_type": "stream",
     "text": [
      "Epoch [585/1000], Train Loss: 0.0013, Test Loss: 0.3274\n"
     ]
    },
    {
     "name": "stdout",
     "output_type": "stream",
     "text": [
      "Epoch [586/1000], Train Loss: 0.0010, Test Loss: 0.2820\n"
     ]
    },
    {
     "name": "stdout",
     "output_type": "stream",
     "text": [
      "Epoch [587/1000], Train Loss: 0.0000, Test Loss: 0.2960\n"
     ]
    },
    {
     "name": "stdout",
     "output_type": "stream",
     "text": [
      "Epoch [588/1000], Train Loss: 0.0000, Test Loss: 0.3043\n"
     ]
    },
    {
     "name": "stdout",
     "output_type": "stream",
     "text": [
      "Epoch [589/1000], Train Loss: 0.0000, Test Loss: 0.3160\n"
     ]
    },
    {
     "name": "stdout",
     "output_type": "stream",
     "text": [
      "Epoch [590/1000], Train Loss: 0.0000, Test Loss: 0.3299\n"
     ]
    },
    {
     "name": "stdout",
     "output_type": "stream",
     "text": [
      "Epoch [591/1000], Train Loss: 0.0000, Test Loss: 0.3448\n"
     ]
    },
    {
     "name": "stdout",
     "output_type": "stream",
     "text": [
      "Epoch [592/1000], Train Loss: 0.0000, Test Loss: 0.3616\n"
     ]
    },
    {
     "name": "stdout",
     "output_type": "stream",
     "text": [
      "Epoch [593/1000], Train Loss: 0.0000, Test Loss: 0.3758\n"
     ]
    },
    {
     "name": "stdout",
     "output_type": "stream",
     "text": [
      "Epoch [594/1000], Train Loss: 0.0000, Test Loss: 0.3908\n"
     ]
    },
    {
     "name": "stdout",
     "output_type": "stream",
     "text": [
      "Epoch [595/1000], Train Loss: 0.0000, Test Loss: 0.4060\n"
     ]
    },
    {
     "name": "stdout",
     "output_type": "stream",
     "text": [
      "Epoch [596/1000], Train Loss: 0.0000, Test Loss: 0.4213\n"
     ]
    },
    {
     "name": "stdout",
     "output_type": "stream",
     "text": [
      "Epoch [597/1000], Train Loss: 0.0000, Test Loss: 0.4363\n"
     ]
    },
    {
     "name": "stdout",
     "output_type": "stream",
     "text": [
      "Epoch [598/1000], Train Loss: 0.0000, Test Loss: 0.4472\n"
     ]
    },
    {
     "name": "stdout",
     "output_type": "stream",
     "text": [
      "Epoch [599/1000], Train Loss: 0.0000, Test Loss: 0.4576\n"
     ]
    },
    {
     "name": "stdout",
     "output_type": "stream",
     "text": [
      "Epoch [600/1000], Train Loss: 0.0000, Test Loss: 0.4672\n"
     ]
    },
    {
     "name": "stdout",
     "output_type": "stream",
     "text": [
      "Epoch [601/1000], Train Loss: 0.0000, Test Loss: 0.4772\n"
     ]
    },
    {
     "name": "stdout",
     "output_type": "stream",
     "text": [
      "Epoch [602/1000], Train Loss: 0.0000, Test Loss: 0.4839\n"
     ]
    },
    {
     "name": "stdout",
     "output_type": "stream",
     "text": [
      "Epoch [603/1000], Train Loss: 0.0006, Test Loss: 0.5108\n"
     ]
    },
    {
     "name": "stdout",
     "output_type": "stream",
     "text": [
      "Epoch [604/1000], Train Loss: 0.0006, Test Loss: 0.4335\n"
     ]
    },
    {
     "name": "stdout",
     "output_type": "stream",
     "text": [
      "Epoch [605/1000], Train Loss: 0.0004, Test Loss: 0.3970\n"
     ]
    },
    {
     "name": "stdout",
     "output_type": "stream",
     "text": [
      "Epoch [606/1000], Train Loss: 0.0003, Test Loss: 0.3525\n"
     ]
    },
    {
     "name": "stdout",
     "output_type": "stream",
     "text": [
      "Epoch [607/1000], Train Loss: 0.0000, Test Loss: 0.3437\n"
     ]
    },
    {
     "name": "stdout",
     "output_type": "stream",
     "text": [
      "Epoch [608/1000], Train Loss: 0.0000, Test Loss: 0.3403\n"
     ]
    },
    {
     "name": "stdout",
     "output_type": "stream",
     "text": [
      "Epoch [609/1000], Train Loss: 0.0000, Test Loss: 0.3406\n"
     ]
    },
    {
     "name": "stdout",
     "output_type": "stream",
     "text": [
      "Epoch [610/1000], Train Loss: 0.0000, Test Loss: 0.3445\n"
     ]
    },
    {
     "name": "stdout",
     "output_type": "stream",
     "text": [
      "Epoch [611/1000], Train Loss: 0.0000, Test Loss: 0.3510\n"
     ]
    },
    {
     "name": "stdout",
     "output_type": "stream",
     "text": [
      "Epoch [612/1000], Train Loss: 0.0000, Test Loss: 0.3633\n"
     ]
    },
    {
     "name": "stdout",
     "output_type": "stream",
     "text": [
      "Epoch [613/1000], Train Loss: 0.0000, Test Loss: 0.3721\n"
     ]
    },
    {
     "name": "stdout",
     "output_type": "stream",
     "text": [
      "Epoch [614/1000], Train Loss: 0.0000, Test Loss: 0.3839\n"
     ]
    },
    {
     "name": "stdout",
     "output_type": "stream",
     "text": [
      "Epoch [615/1000], Train Loss: 0.0000, Test Loss: 0.3955\n"
     ]
    },
    {
     "name": "stdout",
     "output_type": "stream",
     "text": [
      "Epoch [616/1000], Train Loss: 0.0000, Test Loss: 0.4079\n"
     ]
    },
    {
     "name": "stdout",
     "output_type": "stream",
     "text": [
      "Epoch [617/1000], Train Loss: 0.0000, Test Loss: 0.4175\n"
     ]
    },
    {
     "name": "stdout",
     "output_type": "stream",
     "text": [
      "Epoch [618/1000], Train Loss: 0.0012, Test Loss: 0.3479\n"
     ]
    },
    {
     "name": "stdout",
     "output_type": "stream",
     "text": [
      "Epoch [619/1000], Train Loss: 0.0007, Test Loss: 0.3168\n"
     ]
    },
    {
     "name": "stdout",
     "output_type": "stream",
     "text": [
      "Epoch [620/1000], Train Loss: 0.0001, Test Loss: 0.3246\n"
     ]
    },
    {
     "name": "stdout",
     "output_type": "stream",
     "text": [
      "Epoch [621/1000], Train Loss: 0.0000, Test Loss: 0.3113\n"
     ]
    },
    {
     "name": "stdout",
     "output_type": "stream",
     "text": [
      "Epoch [622/1000], Train Loss: 0.0000, Test Loss: 0.3090\n"
     ]
    },
    {
     "name": "stdout",
     "output_type": "stream",
     "text": [
      "Epoch [623/1000], Train Loss: 0.0000, Test Loss: 0.3120\n"
     ]
    },
    {
     "name": "stdout",
     "output_type": "stream",
     "text": [
      "Epoch [624/1000], Train Loss: 0.0000, Test Loss: 0.3189\n"
     ]
    },
    {
     "name": "stdout",
     "output_type": "stream",
     "text": [
      "Epoch [625/1000], Train Loss: 0.0000, Test Loss: 0.3286\n"
     ]
    },
    {
     "name": "stdout",
     "output_type": "stream",
     "text": [
      "Epoch [626/1000], Train Loss: 0.0000, Test Loss: 0.3417\n"
     ]
    },
    {
     "name": "stdout",
     "output_type": "stream",
     "text": [
      "Epoch [627/1000], Train Loss: 0.0000, Test Loss: 0.3542\n"
     ]
    },
    {
     "name": "stdout",
     "output_type": "stream",
     "text": [
      "Epoch [628/1000], Train Loss: 0.0000, Test Loss: 0.3664\n"
     ]
    },
    {
     "name": "stdout",
     "output_type": "stream",
     "text": [
      "Epoch [629/1000], Train Loss: 0.0000, Test Loss: 0.3786\n"
     ]
    },
    {
     "name": "stdout",
     "output_type": "stream",
     "text": [
      "Epoch [630/1000], Train Loss: 0.0000, Test Loss: 0.3908\n"
     ]
    },
    {
     "name": "stdout",
     "output_type": "stream",
     "text": [
      "Epoch [631/1000], Train Loss: 0.0000, Test Loss: 0.4034\n"
     ]
    },
    {
     "name": "stdout",
     "output_type": "stream",
     "text": [
      "Epoch [632/1000], Train Loss: 0.0000, Test Loss: 0.4137\n"
     ]
    },
    {
     "name": "stdout",
     "output_type": "stream",
     "text": [
      "Epoch [633/1000], Train Loss: 0.0000, Test Loss: 0.4233\n"
     ]
    },
    {
     "name": "stdout",
     "output_type": "stream",
     "text": [
      "Epoch [634/1000], Train Loss: 0.0000, Test Loss: 0.4317\n"
     ]
    },
    {
     "name": "stdout",
     "output_type": "stream",
     "text": [
      "Epoch [635/1000], Train Loss: 0.0000, Test Loss: 0.4399\n"
     ]
    },
    {
     "name": "stdout",
     "output_type": "stream",
     "text": [
      "Epoch [636/1000], Train Loss: 0.0000, Test Loss: 0.4444\n"
     ]
    },
    {
     "name": "stdout",
     "output_type": "stream",
     "text": [
      "Epoch [637/1000], Train Loss: 0.0000, Test Loss: 0.4503\n"
     ]
    },
    {
     "name": "stdout",
     "output_type": "stream",
     "text": [
      "Epoch [638/1000], Train Loss: 0.0000, Test Loss: 0.4552\n"
     ]
    },
    {
     "name": "stdout",
     "output_type": "stream",
     "text": [
      "Epoch [639/1000], Train Loss: 0.0030, Test Loss: 0.3181\n"
     ]
    },
    {
     "name": "stdout",
     "output_type": "stream",
     "text": [
      "Epoch [640/1000], Train Loss: 0.0016, Test Loss: 0.2633\n"
     ]
    },
    {
     "name": "stdout",
     "output_type": "stream",
     "text": [
      "Epoch [641/1000], Train Loss: 0.0001, Test Loss: 0.2838\n"
     ]
    },
    {
     "name": "stdout",
     "output_type": "stream",
     "text": [
      "Epoch [642/1000], Train Loss: 0.0000, Test Loss: 0.2901\n"
     ]
    },
    {
     "name": "stdout",
     "output_type": "stream",
     "text": [
      "Epoch [643/1000], Train Loss: 0.0000, Test Loss: 0.2990\n"
     ]
    },
    {
     "name": "stdout",
     "output_type": "stream",
     "text": [
      "Epoch [644/1000], Train Loss: 0.0000, Test Loss: 0.3098\n"
     ]
    },
    {
     "name": "stdout",
     "output_type": "stream",
     "text": [
      "Epoch [645/1000], Train Loss: 0.0000, Test Loss: 0.3235\n"
     ]
    },
    {
     "name": "stdout",
     "output_type": "stream",
     "text": [
      "Epoch [646/1000], Train Loss: 0.0000, Test Loss: 0.3360\n"
     ]
    },
    {
     "name": "stdout",
     "output_type": "stream",
     "text": [
      "Epoch [647/1000], Train Loss: 0.0000, Test Loss: 0.3492\n"
     ]
    },
    {
     "name": "stdout",
     "output_type": "stream",
     "text": [
      "Epoch [648/1000], Train Loss: 0.0000, Test Loss: 0.3624\n"
     ]
    },
    {
     "name": "stdout",
     "output_type": "stream",
     "text": [
      "Epoch [649/1000], Train Loss: 0.0000, Test Loss: 0.3749\n"
     ]
    },
    {
     "name": "stdout",
     "output_type": "stream",
     "text": [
      "Epoch [650/1000], Train Loss: 0.0000, Test Loss: 0.3876\n"
     ]
    },
    {
     "name": "stdout",
     "output_type": "stream",
     "text": [
      "Epoch [651/1000], Train Loss: 0.0000, Test Loss: 0.4005\n"
     ]
    },
    {
     "name": "stdout",
     "output_type": "stream",
     "text": [
      "Epoch [652/1000], Train Loss: 0.0000, Test Loss: 0.4132\n"
     ]
    },
    {
     "name": "stdout",
     "output_type": "stream",
     "text": [
      "Epoch [653/1000], Train Loss: 0.0000, Test Loss: 0.4263\n"
     ]
    },
    {
     "name": "stdout",
     "output_type": "stream",
     "text": [
      "Epoch [654/1000], Train Loss: 0.0000, Test Loss: 0.4372\n"
     ]
    },
    {
     "name": "stdout",
     "output_type": "stream",
     "text": [
      "Epoch [655/1000], Train Loss: 0.0000, Test Loss: 0.4460\n"
     ]
    },
    {
     "name": "stdout",
     "output_type": "stream",
     "text": [
      "Epoch [656/1000], Train Loss: 0.0000, Test Loss: 0.4548\n"
     ]
    },
    {
     "name": "stdout",
     "output_type": "stream",
     "text": [
      "Epoch [657/1000], Train Loss: 0.0000, Test Loss: 0.4643\n"
     ]
    },
    {
     "name": "stdout",
     "output_type": "stream",
     "text": [
      "Epoch [658/1000], Train Loss: 0.0000, Test Loss: 0.4702\n"
     ]
    },
    {
     "name": "stdout",
     "output_type": "stream",
     "text": [
      "Epoch [659/1000], Train Loss: 0.0042, Test Loss: 0.3559\n"
     ]
    },
    {
     "name": "stdout",
     "output_type": "stream",
     "text": [
      "Epoch [660/1000], Train Loss: 0.0017, Test Loss: 0.3104\n"
     ]
    },
    {
     "name": "stdout",
     "output_type": "stream",
     "text": [
      "Epoch [661/1000], Train Loss: 0.0001, Test Loss: 0.3255\n"
     ]
    },
    {
     "name": "stdout",
     "output_type": "stream",
     "text": [
      "Epoch [662/1000], Train Loss: 0.0000, Test Loss: 0.3194\n"
     ]
    },
    {
     "name": "stdout",
     "output_type": "stream",
     "text": [
      "Epoch [663/1000], Train Loss: 0.0000, Test Loss: 0.3157\n"
     ]
    },
    {
     "name": "stdout",
     "output_type": "stream",
     "text": [
      "Epoch [664/1000], Train Loss: 0.0000, Test Loss: 0.3167\n"
     ]
    },
    {
     "name": "stdout",
     "output_type": "stream",
     "text": [
      "Epoch [665/1000], Train Loss: 0.0000, Test Loss: 0.3196\n"
     ]
    },
    {
     "name": "stdout",
     "output_type": "stream",
     "text": [
      "Epoch [666/1000], Train Loss: 0.0000, Test Loss: 0.3292\n"
     ]
    },
    {
     "name": "stdout",
     "output_type": "stream",
     "text": [
      "Epoch [667/1000], Train Loss: 0.0026, Test Loss: 0.2197\n"
     ]
    },
    {
     "name": "stdout",
     "output_type": "stream",
     "text": [
      "Epoch [668/1000], Train Loss: 0.0005, Test Loss: 0.2773\n"
     ]
    },
    {
     "name": "stdout",
     "output_type": "stream",
     "text": [
      "Epoch [669/1000], Train Loss: 0.0000, Test Loss: 0.2992\n"
     ]
    },
    {
     "name": "stdout",
     "output_type": "stream",
     "text": [
      "Epoch [670/1000], Train Loss: 0.0000, Test Loss: 0.3082\n"
     ]
    },
    {
     "name": "stdout",
     "output_type": "stream",
     "text": [
      "Epoch [671/1000], Train Loss: 0.0000, Test Loss: 0.3228\n"
     ]
    },
    {
     "name": "stdout",
     "output_type": "stream",
     "text": [
      "Epoch [672/1000], Train Loss: 0.0000, Test Loss: 0.3380\n"
     ]
    },
    {
     "name": "stdout",
     "output_type": "stream",
     "text": [
      "Epoch [673/1000], Train Loss: 0.0000, Test Loss: 0.3534\n"
     ]
    },
    {
     "name": "stdout",
     "output_type": "stream",
     "text": [
      "Epoch [674/1000], Train Loss: 0.0000, Test Loss: 0.3689\n"
     ]
    },
    {
     "name": "stdout",
     "output_type": "stream",
     "text": [
      "Epoch [675/1000], Train Loss: 0.0000, Test Loss: 0.3837\n"
     ]
    },
    {
     "name": "stdout",
     "output_type": "stream",
     "text": [
      "Epoch [676/1000], Train Loss: 0.0000, Test Loss: 0.4002\n"
     ]
    },
    {
     "name": "stdout",
     "output_type": "stream",
     "text": [
      "Epoch [677/1000], Train Loss: 0.0000, Test Loss: 0.4150\n"
     ]
    },
    {
     "name": "stdout",
     "output_type": "stream",
     "text": [
      "Epoch [678/1000], Train Loss: 0.0000, Test Loss: 0.4270\n"
     ]
    },
    {
     "name": "stdout",
     "output_type": "stream",
     "text": [
      "Epoch [679/1000], Train Loss: 0.0000, Test Loss: 0.4400\n"
     ]
    },
    {
     "name": "stdout",
     "output_type": "stream",
     "text": [
      "Epoch [680/1000], Train Loss: 0.0000, Test Loss: 0.4531\n"
     ]
    },
    {
     "name": "stdout",
     "output_type": "stream",
     "text": [
      "Epoch [681/1000], Train Loss: 0.0000, Test Loss: 0.4650\n"
     ]
    },
    {
     "name": "stdout",
     "output_type": "stream",
     "text": [
      "Epoch [682/1000], Train Loss: 0.0000, Test Loss: 0.4806\n"
     ]
    },
    {
     "name": "stdout",
     "output_type": "stream",
     "text": [
      "Epoch [683/1000], Train Loss: 0.0000, Test Loss: 0.4910\n"
     ]
    },
    {
     "name": "stdout",
     "output_type": "stream",
     "text": [
      "Epoch [684/1000], Train Loss: 0.0000, Test Loss: 0.4884\n"
     ]
    },
    {
     "name": "stdout",
     "output_type": "stream",
     "text": [
      "Epoch [685/1000], Train Loss: 0.0000, Test Loss: 0.4894\n"
     ]
    },
    {
     "name": "stdout",
     "output_type": "stream",
     "text": [
      "Epoch [686/1000], Train Loss: 0.0029, Test Loss: 0.3718\n"
     ]
    },
    {
     "name": "stdout",
     "output_type": "stream",
     "text": [
      "Epoch [687/1000], Train Loss: 0.0024, Test Loss: 0.2987\n"
     ]
    },
    {
     "name": "stdout",
     "output_type": "stream",
     "text": [
      "Epoch [688/1000], Train Loss: 0.0005, Test Loss: 0.2969\n"
     ]
    },
    {
     "name": "stdout",
     "output_type": "stream",
     "text": [
      "Epoch [689/1000], Train Loss: 0.0000, Test Loss: 0.3098\n"
     ]
    },
    {
     "name": "stdout",
     "output_type": "stream",
     "text": [
      "Epoch [690/1000], Train Loss: 0.0000, Test Loss: 0.3121\n"
     ]
    },
    {
     "name": "stdout",
     "output_type": "stream",
     "text": [
      "Epoch [691/1000], Train Loss: 0.0000, Test Loss: 0.3135\n"
     ]
    },
    {
     "name": "stdout",
     "output_type": "stream",
     "text": [
      "Epoch [692/1000], Train Loss: 0.0000, Test Loss: 0.3185\n"
     ]
    },
    {
     "name": "stdout",
     "output_type": "stream",
     "text": [
      "Epoch [693/1000], Train Loss: 0.0000, Test Loss: 0.3278\n"
     ]
    },
    {
     "name": "stdout",
     "output_type": "stream",
     "text": [
      "Epoch [694/1000], Train Loss: 0.0000, Test Loss: 0.3387\n"
     ]
    },
    {
     "name": "stdout",
     "output_type": "stream",
     "text": [
      "Epoch [695/1000], Train Loss: 0.0000, Test Loss: 0.3511\n"
     ]
    },
    {
     "name": "stdout",
     "output_type": "stream",
     "text": [
      "Epoch [696/1000], Train Loss: 0.0000, Test Loss: 0.3633\n"
     ]
    },
    {
     "name": "stdout",
     "output_type": "stream",
     "text": [
      "Epoch [697/1000], Train Loss: 0.0000, Test Loss: 0.3761\n"
     ]
    },
    {
     "name": "stdout",
     "output_type": "stream",
     "text": [
      "Epoch [698/1000], Train Loss: 0.0000, Test Loss: 0.3902\n"
     ]
    },
    {
     "name": "stdout",
     "output_type": "stream",
     "text": [
      "Epoch [699/1000], Train Loss: 0.0000, Test Loss: 0.4038\n"
     ]
    },
    {
     "name": "stdout",
     "output_type": "stream",
     "text": [
      "Epoch [700/1000], Train Loss: 0.0018, Test Loss: 0.3270\n"
     ]
    },
    {
     "name": "stdout",
     "output_type": "stream",
     "text": [
      "Epoch [701/1000], Train Loss: 0.0022, Test Loss: 0.2813\n"
     ]
    },
    {
     "name": "stdout",
     "output_type": "stream",
     "text": [
      "Epoch [702/1000], Train Loss: 0.0008, Test Loss: 0.2788\n"
     ]
    },
    {
     "name": "stdout",
     "output_type": "stream",
     "text": [
      "Epoch [703/1000], Train Loss: 0.0001, Test Loss: 0.2926\n"
     ]
    },
    {
     "name": "stdout",
     "output_type": "stream",
     "text": [
      "Epoch [704/1000], Train Loss: 0.0001, Test Loss: 0.3141\n"
     ]
    },
    {
     "name": "stdout",
     "output_type": "stream",
     "text": [
      "Epoch [705/1000], Train Loss: 0.0006, Test Loss: 0.2913\n"
     ]
    },
    {
     "name": "stdout",
     "output_type": "stream",
     "text": [
      "Epoch [706/1000], Train Loss: 0.0000, Test Loss: 0.3087\n"
     ]
    },
    {
     "name": "stdout",
     "output_type": "stream",
     "text": [
      "Epoch [707/1000], Train Loss: 0.0000, Test Loss: 0.3176\n"
     ]
    },
    {
     "name": "stdout",
     "output_type": "stream",
     "text": [
      "Epoch [708/1000], Train Loss: 0.0000, Test Loss: 0.3287\n"
     ]
    },
    {
     "name": "stdout",
     "output_type": "stream",
     "text": [
      "Epoch [709/1000], Train Loss: 0.0000, Test Loss: 0.3423\n"
     ]
    },
    {
     "name": "stdout",
     "output_type": "stream",
     "text": [
      "Epoch [710/1000], Train Loss: 0.0000, Test Loss: 0.3569\n"
     ]
    },
    {
     "name": "stdout",
     "output_type": "stream",
     "text": [
      "Epoch [711/1000], Train Loss: 0.0000, Test Loss: 0.3707\n"
     ]
    },
    {
     "name": "stdout",
     "output_type": "stream",
     "text": [
      "Epoch [712/1000], Train Loss: 0.0000, Test Loss: 0.3854\n"
     ]
    },
    {
     "name": "stdout",
     "output_type": "stream",
     "text": [
      "Epoch [713/1000], Train Loss: 0.0003, Test Loss: 0.3940\n"
     ]
    },
    {
     "name": "stdout",
     "output_type": "stream",
     "text": [
      "Epoch [714/1000], Train Loss: 0.0025, Test Loss: 0.2594\n"
     ]
    },
    {
     "name": "stdout",
     "output_type": "stream",
     "text": [
      "Epoch [715/1000], Train Loss: 0.0003, Test Loss: 0.2920\n"
     ]
    },
    {
     "name": "stdout",
     "output_type": "stream",
     "text": [
      "Epoch [716/1000], Train Loss: 0.0001, Test Loss: 0.3069\n"
     ]
    },
    {
     "name": "stdout",
     "output_type": "stream",
     "text": [
      "Epoch [717/1000], Train Loss: 0.0000, Test Loss: 0.3194\n"
     ]
    },
    {
     "name": "stdout",
     "output_type": "stream",
     "text": [
      "Epoch [718/1000], Train Loss: 0.0000, Test Loss: 0.3299\n"
     ]
    },
    {
     "name": "stdout",
     "output_type": "stream",
     "text": [
      "Epoch [719/1000], Train Loss: 0.0000, Test Loss: 0.3446\n"
     ]
    },
    {
     "name": "stdout",
     "output_type": "stream",
     "text": [
      "Epoch [720/1000], Train Loss: 0.0000, Test Loss: 0.3606\n"
     ]
    },
    {
     "name": "stdout",
     "output_type": "stream",
     "text": [
      "Epoch [721/1000], Train Loss: 0.0000, Test Loss: 0.3759\n"
     ]
    },
    {
     "name": "stdout",
     "output_type": "stream",
     "text": [
      "Epoch [722/1000], Train Loss: 0.0000, Test Loss: 0.3920\n"
     ]
    },
    {
     "name": "stdout",
     "output_type": "stream",
     "text": [
      "Epoch [723/1000], Train Loss: 0.0000, Test Loss: 0.4065\n"
     ]
    },
    {
     "name": "stdout",
     "output_type": "stream",
     "text": [
      "Epoch [724/1000], Train Loss: 0.0000, Test Loss: 0.4215\n"
     ]
    },
    {
     "name": "stdout",
     "output_type": "stream",
     "text": [
      "Epoch [725/1000], Train Loss: 0.0000, Test Loss: 0.4361\n"
     ]
    },
    {
     "name": "stdout",
     "output_type": "stream",
     "text": [
      "Epoch [726/1000], Train Loss: 0.0000, Test Loss: 0.4507\n"
     ]
    },
    {
     "name": "stdout",
     "output_type": "stream",
     "text": [
      "Epoch [727/1000], Train Loss: 0.0010, Test Loss: 0.4008\n"
     ]
    },
    {
     "name": "stdout",
     "output_type": "stream",
     "text": [
      "Epoch [728/1000], Train Loss: 0.0008, Test Loss: 0.3719\n"
     ]
    },
    {
     "name": "stdout",
     "output_type": "stream",
     "text": [
      "Epoch [729/1000], Train Loss: 0.0007, Test Loss: 0.3162\n"
     ]
    },
    {
     "name": "stdout",
     "output_type": "stream",
     "text": [
      "Epoch [730/1000], Train Loss: 0.0001, Test Loss: 0.3106\n"
     ]
    },
    {
     "name": "stdout",
     "output_type": "stream",
     "text": [
      "Epoch [731/1000], Train Loss: 0.0000, Test Loss: 0.3203\n"
     ]
    },
    {
     "name": "stdout",
     "output_type": "stream",
     "text": [
      "Epoch [732/1000], Train Loss: 0.0000, Test Loss: 0.3214\n"
     ]
    },
    {
     "name": "stdout",
     "output_type": "stream",
     "text": [
      "Epoch [733/1000], Train Loss: 0.0000, Test Loss: 0.3308\n"
     ]
    },
    {
     "name": "stdout",
     "output_type": "stream",
     "text": [
      "Epoch [734/1000], Train Loss: 0.0000, Test Loss: 0.3412\n"
     ]
    },
    {
     "name": "stdout",
     "output_type": "stream",
     "text": [
      "Epoch [735/1000], Train Loss: 0.0000, Test Loss: 0.3547\n"
     ]
    },
    {
     "name": "stdout",
     "output_type": "stream",
     "text": [
      "Epoch [736/1000], Train Loss: 0.0000, Test Loss: 0.3737\n"
     ]
    },
    {
     "name": "stdout",
     "output_type": "stream",
     "text": [
      "Epoch [737/1000], Train Loss: 0.0000, Test Loss: 0.4087\n"
     ]
    },
    {
     "name": "stdout",
     "output_type": "stream",
     "text": [
      "Epoch [738/1000], Train Loss: 0.0011, Test Loss: 0.3367\n"
     ]
    },
    {
     "name": "stdout",
     "output_type": "stream",
     "text": [
      "Epoch [739/1000], Train Loss: 0.0006, Test Loss: 0.3165\n"
     ]
    },
    {
     "name": "stdout",
     "output_type": "stream",
     "text": [
      "Epoch [740/1000], Train Loss: 0.0000, Test Loss: 0.3216\n"
     ]
    },
    {
     "name": "stdout",
     "output_type": "stream",
     "text": [
      "Epoch [741/1000], Train Loss: 0.0000, Test Loss: 0.3270\n"
     ]
    },
    {
     "name": "stdout",
     "output_type": "stream",
     "text": [
      "Epoch [742/1000], Train Loss: 0.0000, Test Loss: 0.3388\n"
     ]
    },
    {
     "name": "stdout",
     "output_type": "stream",
     "text": [
      "Epoch [743/1000], Train Loss: 0.0000, Test Loss: 0.3525\n"
     ]
    },
    {
     "name": "stdout",
     "output_type": "stream",
     "text": [
      "Epoch [744/1000], Train Loss: 0.0000, Test Loss: 0.3678\n"
     ]
    },
    {
     "name": "stdout",
     "output_type": "stream",
     "text": [
      "Epoch [745/1000], Train Loss: 0.0000, Test Loss: 0.3821\n"
     ]
    },
    {
     "name": "stdout",
     "output_type": "stream",
     "text": [
      "Epoch [746/1000], Train Loss: 0.0000, Test Loss: 0.3973\n"
     ]
    },
    {
     "name": "stdout",
     "output_type": "stream",
     "text": [
      "Epoch [747/1000], Train Loss: 0.0000, Test Loss: 0.4152\n"
     ]
    },
    {
     "name": "stdout",
     "output_type": "stream",
     "text": [
      "Epoch [748/1000], Train Loss: 0.0000, Test Loss: 0.4380\n"
     ]
    },
    {
     "name": "stdout",
     "output_type": "stream",
     "text": [
      "Epoch [749/1000], Train Loss: 0.0007, Test Loss: 0.3772\n"
     ]
    },
    {
     "name": "stdout",
     "output_type": "stream",
     "text": [
      "Epoch [750/1000], Train Loss: 0.0033, Test Loss: 0.2367\n"
     ]
    },
    {
     "name": "stdout",
     "output_type": "stream",
     "text": [
      "Epoch [751/1000], Train Loss: 0.0002, Test Loss: 0.2948\n"
     ]
    },
    {
     "name": "stdout",
     "output_type": "stream",
     "text": [
      "Epoch [752/1000], Train Loss: 0.0000, Test Loss: 0.3145\n"
     ]
    },
    {
     "name": "stdout",
     "output_type": "stream",
     "text": [
      "Epoch [753/1000], Train Loss: 0.0000, Test Loss: 0.3290\n"
     ]
    },
    {
     "name": "stdout",
     "output_type": "stream",
     "text": [
      "Epoch [754/1000], Train Loss: 0.0000, Test Loss: 0.3453\n"
     ]
    },
    {
     "name": "stdout",
     "output_type": "stream",
     "text": [
      "Epoch [755/1000], Train Loss: 0.0000, Test Loss: 0.3630\n"
     ]
    },
    {
     "name": "stdout",
     "output_type": "stream",
     "text": [
      "Epoch [756/1000], Train Loss: 0.0000, Test Loss: 0.3806\n"
     ]
    },
    {
     "name": "stdout",
     "output_type": "stream",
     "text": [
      "Epoch [757/1000], Train Loss: 0.0000, Test Loss: 0.3977\n"
     ]
    },
    {
     "name": "stdout",
     "output_type": "stream",
     "text": [
      "Epoch [758/1000], Train Loss: 0.0000, Test Loss: 0.4141\n"
     ]
    },
    {
     "name": "stdout",
     "output_type": "stream",
     "text": [
      "Epoch [759/1000], Train Loss: 0.0000, Test Loss: 0.4300\n"
     ]
    },
    {
     "name": "stdout",
     "output_type": "stream",
     "text": [
      "Epoch [760/1000], Train Loss: 0.0000, Test Loss: 0.4479\n"
     ]
    },
    {
     "name": "stdout",
     "output_type": "stream",
     "text": [
      "Epoch [761/1000], Train Loss: 0.0000, Test Loss: 0.4621\n"
     ]
    },
    {
     "name": "stdout",
     "output_type": "stream",
     "text": [
      "Epoch [762/1000], Train Loss: 0.0000, Test Loss: 0.4763\n"
     ]
    },
    {
     "name": "stdout",
     "output_type": "stream",
     "text": [
      "Epoch [763/1000], Train Loss: 0.0000, Test Loss: 0.4893\n"
     ]
    },
    {
     "name": "stdout",
     "output_type": "stream",
     "text": [
      "Epoch [764/1000], Train Loss: 0.0000, Test Loss: 0.5005\n"
     ]
    },
    {
     "name": "stdout",
     "output_type": "stream",
     "text": [
      "Epoch [765/1000], Train Loss: 0.0000, Test Loss: 0.5116\n"
     ]
    },
    {
     "name": "stdout",
     "output_type": "stream",
     "text": [
      "Epoch [766/1000], Train Loss: 0.0000, Test Loss: 0.5219\n"
     ]
    },
    {
     "name": "stdout",
     "output_type": "stream",
     "text": [
      "Epoch [767/1000], Train Loss: 0.0000, Test Loss: 0.5335\n"
     ]
    },
    {
     "name": "stdout",
     "output_type": "stream",
     "text": [
      "Epoch [768/1000], Train Loss: 0.0021, Test Loss: 0.3018\n"
     ]
    },
    {
     "name": "stdout",
     "output_type": "stream",
     "text": [
      "Epoch [769/1000], Train Loss: 0.0027, Test Loss: 0.2244\n"
     ]
    },
    {
     "name": "stdout",
     "output_type": "stream",
     "text": [
      "Epoch [770/1000], Train Loss: 0.0005, Test Loss: 0.2544\n"
     ]
    },
    {
     "name": "stdout",
     "output_type": "stream",
     "text": [
      "Epoch [771/1000], Train Loss: 0.0000, Test Loss: 0.2876\n"
     ]
    },
    {
     "name": "stdout",
     "output_type": "stream",
     "text": [
      "Epoch [772/1000], Train Loss: 0.0000, Test Loss: 0.3060\n"
     ]
    },
    {
     "name": "stdout",
     "output_type": "stream",
     "text": [
      "Epoch [773/1000], Train Loss: 0.0000, Test Loss: 0.3228\n"
     ]
    },
    {
     "name": "stdout",
     "output_type": "stream",
     "text": [
      "Epoch [774/1000], Train Loss: 0.0000, Test Loss: 0.3444\n"
     ]
    },
    {
     "name": "stdout",
     "output_type": "stream",
     "text": [
      "Epoch [775/1000], Train Loss: 0.0000, Test Loss: 0.3601\n"
     ]
    },
    {
     "name": "stdout",
     "output_type": "stream",
     "text": [
      "Epoch [776/1000], Train Loss: 0.0000, Test Loss: 0.3758\n"
     ]
    },
    {
     "name": "stdout",
     "output_type": "stream",
     "text": [
      "Epoch [777/1000], Train Loss: 0.0000, Test Loss: 0.3918\n"
     ]
    },
    {
     "name": "stdout",
     "output_type": "stream",
     "text": [
      "Epoch [778/1000], Train Loss: 0.0000, Test Loss: 0.4087\n"
     ]
    },
    {
     "name": "stdout",
     "output_type": "stream",
     "text": [
      "Epoch [779/1000], Train Loss: 0.0000, Test Loss: 0.4259\n"
     ]
    },
    {
     "name": "stdout",
     "output_type": "stream",
     "text": [
      "Epoch [780/1000], Train Loss: 0.0000, Test Loss: 0.4383\n"
     ]
    },
    {
     "name": "stdout",
     "output_type": "stream",
     "text": [
      "Epoch [781/1000], Train Loss: 0.0000, Test Loss: 0.4513\n"
     ]
    },
    {
     "name": "stdout",
     "output_type": "stream",
     "text": [
      "Epoch [782/1000], Train Loss: 0.0000, Test Loss: 0.4655\n"
     ]
    },
    {
     "name": "stdout",
     "output_type": "stream",
     "text": [
      "Epoch [783/1000], Train Loss: 0.0000, Test Loss: 0.4793\n"
     ]
    },
    {
     "name": "stdout",
     "output_type": "stream",
     "text": [
      "Epoch [784/1000], Train Loss: 0.0000, Test Loss: 0.4909\n"
     ]
    },
    {
     "name": "stdout",
     "output_type": "stream",
     "text": [
      "Epoch [785/1000], Train Loss: 0.0000, Test Loss: 0.4990\n"
     ]
    },
    {
     "name": "stdout",
     "output_type": "stream",
     "text": [
      "Epoch [786/1000], Train Loss: 0.0000, Test Loss: 0.5078\n"
     ]
    },
    {
     "name": "stdout",
     "output_type": "stream",
     "text": [
      "Epoch [787/1000], Train Loss: 0.0000, Test Loss: 0.5141\n"
     ]
    },
    {
     "name": "stdout",
     "output_type": "stream",
     "text": [
      "Epoch [788/1000], Train Loss: 0.0000, Test Loss: 0.5142\n"
     ]
    },
    {
     "name": "stdout",
     "output_type": "stream",
     "text": [
      "Epoch [789/1000], Train Loss: 0.0000, Test Loss: 0.5249\n"
     ]
    },
    {
     "name": "stdout",
     "output_type": "stream",
     "text": [
      "Epoch [790/1000], Train Loss: 0.0032, Test Loss: 0.3611\n"
     ]
    },
    {
     "name": "stdout",
     "output_type": "stream",
     "text": [
      "Epoch [791/1000], Train Loss: 0.0010, Test Loss: 0.3141\n"
     ]
    },
    {
     "name": "stdout",
     "output_type": "stream",
     "text": [
      "Epoch [792/1000], Train Loss: 0.0001, Test Loss: 0.3254\n"
     ]
    },
    {
     "name": "stdout",
     "output_type": "stream",
     "text": [
      "Epoch [793/1000], Train Loss: 0.0000, Test Loss: 0.3373\n"
     ]
    },
    {
     "name": "stdout",
     "output_type": "stream",
     "text": [
      "Epoch [794/1000], Train Loss: 0.0000, Test Loss: 0.3417\n"
     ]
    },
    {
     "name": "stdout",
     "output_type": "stream",
     "text": [
      "Epoch [795/1000], Train Loss: 0.0000, Test Loss: 0.3317\n"
     ]
    },
    {
     "name": "stdout",
     "output_type": "stream",
     "text": [
      "Epoch [796/1000], Train Loss: 0.0000, Test Loss: 0.3326\n"
     ]
    },
    {
     "name": "stdout",
     "output_type": "stream",
     "text": [
      "Epoch [797/1000], Train Loss: 0.0000, Test Loss: 0.3370\n"
     ]
    },
    {
     "name": "stdout",
     "output_type": "stream",
     "text": [
      "Epoch [798/1000], Train Loss: 0.0000, Test Loss: 0.3458\n"
     ]
    },
    {
     "name": "stdout",
     "output_type": "stream",
     "text": [
      "Epoch [799/1000], Train Loss: 0.0000, Test Loss: 0.3573\n"
     ]
    },
    {
     "name": "stdout",
     "output_type": "stream",
     "text": [
      "Epoch [800/1000], Train Loss: 0.0000, Test Loss: 0.3703\n"
     ]
    },
    {
     "name": "stdout",
     "output_type": "stream",
     "text": [
      "Epoch [801/1000], Train Loss: 0.0000, Test Loss: 0.3855\n"
     ]
    },
    {
     "name": "stdout",
     "output_type": "stream",
     "text": [
      "Epoch [802/1000], Train Loss: 0.0000, Test Loss: 0.3990\n"
     ]
    },
    {
     "name": "stdout",
     "output_type": "stream",
     "text": [
      "Epoch [803/1000], Train Loss: 0.0000, Test Loss: 0.4290\n"
     ]
    },
    {
     "name": "stdout",
     "output_type": "stream",
     "text": [
      "Epoch [804/1000], Train Loss: 0.0022, Test Loss: 0.3343\n"
     ]
    },
    {
     "name": "stdout",
     "output_type": "stream",
     "text": [
      "Epoch [805/1000], Train Loss: 0.0011, Test Loss: 0.2654\n"
     ]
    },
    {
     "name": "stdout",
     "output_type": "stream",
     "text": [
      "Epoch [806/1000], Train Loss: 0.0001, Test Loss: 0.2948\n"
     ]
    },
    {
     "name": "stdout",
     "output_type": "stream",
     "text": [
      "Epoch [807/1000], Train Loss: 0.0000, Test Loss: 0.3047\n"
     ]
    },
    {
     "name": "stdout",
     "output_type": "stream",
     "text": [
      "Epoch [808/1000], Train Loss: 0.0000, Test Loss: 0.3150\n"
     ]
    },
    {
     "name": "stdout",
     "output_type": "stream",
     "text": [
      "Epoch [809/1000], Train Loss: 0.0000, Test Loss: 0.3272\n"
     ]
    },
    {
     "name": "stdout",
     "output_type": "stream",
     "text": [
      "Epoch [810/1000], Train Loss: 0.0000, Test Loss: 0.3410\n"
     ]
    },
    {
     "name": "stdout",
     "output_type": "stream",
     "text": [
      "Epoch [811/1000], Train Loss: 0.0000, Test Loss: 0.3561\n"
     ]
    },
    {
     "name": "stdout",
     "output_type": "stream",
     "text": [
      "Epoch [812/1000], Train Loss: 0.0000, Test Loss: 0.3718\n"
     ]
    },
    {
     "name": "stdout",
     "output_type": "stream",
     "text": [
      "Epoch [813/1000], Train Loss: 0.0000, Test Loss: 0.3870\n"
     ]
    },
    {
     "name": "stdout",
     "output_type": "stream",
     "text": [
      "Epoch [814/1000], Train Loss: 0.0000, Test Loss: 0.4025\n"
     ]
    },
    {
     "name": "stdout",
     "output_type": "stream",
     "text": [
      "Epoch [815/1000], Train Loss: 0.0000, Test Loss: 0.4164\n"
     ]
    },
    {
     "name": "stdout",
     "output_type": "stream",
     "text": [
      "Epoch [816/1000], Train Loss: 0.0000, Test Loss: 0.4296\n"
     ]
    },
    {
     "name": "stdout",
     "output_type": "stream",
     "text": [
      "Epoch [817/1000], Train Loss: 0.0000, Test Loss: 0.4430\n"
     ]
    },
    {
     "name": "stdout",
     "output_type": "stream",
     "text": [
      "Epoch [818/1000], Train Loss: 0.0000, Test Loss: 0.4544\n"
     ]
    },
    {
     "name": "stdout",
     "output_type": "stream",
     "text": [
      "Epoch [819/1000], Train Loss: 0.0000, Test Loss: 0.4653\n"
     ]
    },
    {
     "name": "stdout",
     "output_type": "stream",
     "text": [
      "Epoch [820/1000], Train Loss: 0.0000, Test Loss: 0.4773\n"
     ]
    },
    {
     "name": "stdout",
     "output_type": "stream",
     "text": [
      "Epoch [821/1000], Train Loss: 0.0014, Test Loss: 0.4189\n"
     ]
    },
    {
     "name": "stdout",
     "output_type": "stream",
     "text": [
      "Epoch [822/1000], Train Loss: 0.0016, Test Loss: 0.3096\n"
     ]
    },
    {
     "name": "stdout",
     "output_type": "stream",
     "text": [
      "Epoch [823/1000], Train Loss: 0.0002, Test Loss: 0.3237\n"
     ]
    },
    {
     "name": "stdout",
     "output_type": "stream",
     "text": [
      "Epoch [824/1000], Train Loss: 0.0000, Test Loss: 0.3088\n"
     ]
    },
    {
     "name": "stdout",
     "output_type": "stream",
     "text": [
      "Epoch [825/1000], Train Loss: 0.0000, Test Loss: 0.3094\n"
     ]
    },
    {
     "name": "stdout",
     "output_type": "stream",
     "text": [
      "Epoch [826/1000], Train Loss: 0.0000, Test Loss: 0.3155\n"
     ]
    },
    {
     "name": "stdout",
     "output_type": "stream",
     "text": [
      "Epoch [827/1000], Train Loss: 0.0000, Test Loss: 0.3239\n"
     ]
    },
    {
     "name": "stdout",
     "output_type": "stream",
     "text": [
      "Epoch [828/1000], Train Loss: 0.0000, Test Loss: 0.3345\n"
     ]
    },
    {
     "name": "stdout",
     "output_type": "stream",
     "text": [
      "Epoch [829/1000], Train Loss: 0.0000, Test Loss: 0.3503\n"
     ]
    },
    {
     "name": "stdout",
     "output_type": "stream",
     "text": [
      "Epoch [830/1000], Train Loss: 0.0000, Test Loss: 0.3619\n"
     ]
    },
    {
     "name": "stdout",
     "output_type": "stream",
     "text": [
      "Epoch [831/1000], Train Loss: 0.0000, Test Loss: 0.3776\n"
     ]
    },
    {
     "name": "stdout",
     "output_type": "stream",
     "text": [
      "Epoch [832/1000], Train Loss: 0.0000, Test Loss: 0.3899\n"
     ]
    },
    {
     "name": "stdout",
     "output_type": "stream",
     "text": [
      "Epoch [833/1000], Train Loss: 0.0000, Test Loss: 0.4098\n"
     ]
    },
    {
     "name": "stdout",
     "output_type": "stream",
     "text": [
      "Epoch [834/1000], Train Loss: 0.0000, Test Loss: 0.4187\n"
     ]
    },
    {
     "name": "stdout",
     "output_type": "stream",
     "text": [
      "Epoch [835/1000], Train Loss: 0.0000, Test Loss: 0.4354\n"
     ]
    },
    {
     "name": "stdout",
     "output_type": "stream",
     "text": [
      "Epoch [836/1000], Train Loss: 0.0002, Test Loss: 0.5341\n"
     ]
    },
    {
     "name": "stdout",
     "output_type": "stream",
     "text": [
      "Epoch [837/1000], Train Loss: 0.0034, Test Loss: 0.3219\n"
     ]
    },
    {
     "name": "stdout",
     "output_type": "stream",
     "text": [
      "Epoch [838/1000], Train Loss: 0.0005, Test Loss: 0.3136\n"
     ]
    },
    {
     "name": "stdout",
     "output_type": "stream",
     "text": [
      "Epoch [839/1000], Train Loss: 0.0000, Test Loss: 0.3191\n"
     ]
    },
    {
     "name": "stdout",
     "output_type": "stream",
     "text": [
      "Epoch [840/1000], Train Loss: 0.0000, Test Loss: 0.3199\n"
     ]
    },
    {
     "name": "stdout",
     "output_type": "stream",
     "text": [
      "Epoch [841/1000], Train Loss: 0.0000, Test Loss: 0.3193\n"
     ]
    },
    {
     "name": "stdout",
     "output_type": "stream",
     "text": [
      "Epoch [842/1000], Train Loss: 0.0000, Test Loss: 0.3240\n"
     ]
    },
    {
     "name": "stdout",
     "output_type": "stream",
     "text": [
      "Epoch [843/1000], Train Loss: 0.0000, Test Loss: 0.3339\n"
     ]
    },
    {
     "name": "stdout",
     "output_type": "stream",
     "text": [
      "Epoch [844/1000], Train Loss: 0.0000, Test Loss: 0.3457\n"
     ]
    },
    {
     "name": "stdout",
     "output_type": "stream",
     "text": [
      "Epoch [845/1000], Train Loss: 0.0000, Test Loss: 0.3586\n"
     ]
    },
    {
     "name": "stdout",
     "output_type": "stream",
     "text": [
      "Epoch [846/1000], Train Loss: 0.0000, Test Loss: 0.3731\n"
     ]
    },
    {
     "name": "stdout",
     "output_type": "stream",
     "text": [
      "Epoch [847/1000], Train Loss: 0.0000, Test Loss: 0.3867\n"
     ]
    },
    {
     "name": "stdout",
     "output_type": "stream",
     "text": [
      "Epoch [848/1000], Train Loss: 0.0000, Test Loss: 0.4027\n"
     ]
    },
    {
     "name": "stdout",
     "output_type": "stream",
     "text": [
      "Epoch [849/1000], Train Loss: 0.0000, Test Loss: 0.4136\n"
     ]
    },
    {
     "name": "stdout",
     "output_type": "stream",
     "text": [
      "Epoch [850/1000], Train Loss: 0.0000, Test Loss: 0.4265\n"
     ]
    },
    {
     "name": "stdout",
     "output_type": "stream",
     "text": [
      "Epoch [851/1000], Train Loss: 0.0000, Test Loss: 0.4397\n"
     ]
    },
    {
     "name": "stdout",
     "output_type": "stream",
     "text": [
      "Epoch [852/1000], Train Loss: 0.0000, Test Loss: 0.4491\n"
     ]
    },
    {
     "name": "stdout",
     "output_type": "stream",
     "text": [
      "Epoch [853/1000], Train Loss: 0.0002, Test Loss: 0.4441\n"
     ]
    },
    {
     "name": "stdout",
     "output_type": "stream",
     "text": [
      "Epoch [854/1000], Train Loss: 0.0037, Test Loss: 0.2775\n"
     ]
    },
    {
     "name": "stdout",
     "output_type": "stream",
     "text": [
      "Epoch [855/1000], Train Loss: 0.0004, Test Loss: 0.2857\n"
     ]
    },
    {
     "name": "stdout",
     "output_type": "stream",
     "text": [
      "Epoch [856/1000], Train Loss: 0.0000, Test Loss: 0.3045\n"
     ]
    },
    {
     "name": "stdout",
     "output_type": "stream",
     "text": [
      "Epoch [857/1000], Train Loss: 0.0000, Test Loss: 0.3073\n"
     ]
    },
    {
     "name": "stdout",
     "output_type": "stream",
     "text": [
      "Epoch [858/1000], Train Loss: 0.0000, Test Loss: 0.3115\n"
     ]
    },
    {
     "name": "stdout",
     "output_type": "stream",
     "text": [
      "Epoch [859/1000], Train Loss: 0.0000, Test Loss: 0.3193\n"
     ]
    },
    {
     "name": "stdout",
     "output_type": "stream",
     "text": [
      "Epoch [860/1000], Train Loss: 0.0000, Test Loss: 0.3308\n"
     ]
    },
    {
     "name": "stdout",
     "output_type": "stream",
     "text": [
      "Epoch [861/1000], Train Loss: 0.0000, Test Loss: 0.3433\n"
     ]
    },
    {
     "name": "stdout",
     "output_type": "stream",
     "text": [
      "Epoch [862/1000], Train Loss: 0.0000, Test Loss: 0.3571\n"
     ]
    },
    {
     "name": "stdout",
     "output_type": "stream",
     "text": [
      "Epoch [863/1000], Train Loss: 0.0000, Test Loss: 0.3715\n"
     ]
    },
    {
     "name": "stdout",
     "output_type": "stream",
     "text": [
      "Epoch [864/1000], Train Loss: 0.0000, Test Loss: 0.3862\n"
     ]
    },
    {
     "name": "stdout",
     "output_type": "stream",
     "text": [
      "Epoch [865/1000], Train Loss: 0.0000, Test Loss: 0.3985\n"
     ]
    },
    {
     "name": "stdout",
     "output_type": "stream",
     "text": [
      "Epoch [866/1000], Train Loss: 0.0000, Test Loss: 0.4123\n"
     ]
    },
    {
     "name": "stdout",
     "output_type": "stream",
     "text": [
      "Epoch [867/1000], Train Loss: 0.0000, Test Loss: 0.4251\n"
     ]
    },
    {
     "name": "stdout",
     "output_type": "stream",
     "text": [
      "Epoch [868/1000], Train Loss: 0.0032, Test Loss: 0.2874\n"
     ]
    },
    {
     "name": "stdout",
     "output_type": "stream",
     "text": [
      "Epoch [869/1000], Train Loss: 0.0023, Test Loss: 0.2341\n"
     ]
    },
    {
     "name": "stdout",
     "output_type": "stream",
     "text": [
      "Epoch [870/1000], Train Loss: 0.0002, Test Loss: 0.2625\n"
     ]
    },
    {
     "name": "stdout",
     "output_type": "stream",
     "text": [
      "Epoch [871/1000], Train Loss: 0.0000, Test Loss: 0.2802\n"
     ]
    },
    {
     "name": "stdout",
     "output_type": "stream",
     "text": [
      "Epoch [872/1000], Train Loss: 0.0000, Test Loss: 0.2951\n"
     ]
    },
    {
     "name": "stdout",
     "output_type": "stream",
     "text": [
      "Epoch [873/1000], Train Loss: 0.0000, Test Loss: 0.3104\n"
     ]
    },
    {
     "name": "stdout",
     "output_type": "stream",
     "text": [
      "Epoch [874/1000], Train Loss: 0.0000, Test Loss: 0.3272\n"
     ]
    },
    {
     "name": "stdout",
     "output_type": "stream",
     "text": [
      "Epoch [875/1000], Train Loss: 0.0000, Test Loss: 0.3441\n"
     ]
    },
    {
     "name": "stdout",
     "output_type": "stream",
     "text": [
      "Epoch [876/1000], Train Loss: 0.0000, Test Loss: 0.3612\n"
     ]
    },
    {
     "name": "stdout",
     "output_type": "stream",
     "text": [
      "Epoch [877/1000], Train Loss: 0.0000, Test Loss: 0.3767\n"
     ]
    },
    {
     "name": "stdout",
     "output_type": "stream",
     "text": [
      "Epoch [878/1000], Train Loss: 0.0000, Test Loss: 0.3938\n"
     ]
    },
    {
     "name": "stdout",
     "output_type": "stream",
     "text": [
      "Epoch [879/1000], Train Loss: 0.0000, Test Loss: 0.4270\n"
     ]
    },
    {
     "name": "stdout",
     "output_type": "stream",
     "text": [
      "Epoch [880/1000], Train Loss: 0.0014, Test Loss: 0.3618\n"
     ]
    },
    {
     "name": "stdout",
     "output_type": "stream",
     "text": [
      "Epoch [881/1000], Train Loss: 0.0010, Test Loss: 0.2852\n"
     ]
    },
    {
     "name": "stdout",
     "output_type": "stream",
     "text": [
      "Epoch [882/1000], Train Loss: 0.0002, Test Loss: 0.3059\n"
     ]
    },
    {
     "name": "stdout",
     "output_type": "stream",
     "text": [
      "Epoch [883/1000], Train Loss: 0.0000, Test Loss: 0.3288\n"
     ]
    },
    {
     "name": "stdout",
     "output_type": "stream",
     "text": [
      "Epoch [884/1000], Train Loss: 0.0002, Test Loss: 0.3207\n"
     ]
    },
    {
     "name": "stdout",
     "output_type": "stream",
     "text": [
      "Epoch [885/1000], Train Loss: 0.0005, Test Loss: 0.3086\n"
     ]
    },
    {
     "name": "stdout",
     "output_type": "stream",
     "text": [
      "Epoch [886/1000], Train Loss: 0.0000, Test Loss: 0.3248\n"
     ]
    },
    {
     "name": "stdout",
     "output_type": "stream",
     "text": [
      "Epoch [887/1000], Train Loss: 0.0000, Test Loss: 0.3360\n"
     ]
    },
    {
     "name": "stdout",
     "output_type": "stream",
     "text": [
      "Epoch [888/1000], Train Loss: 0.0000, Test Loss: 0.3500\n"
     ]
    },
    {
     "name": "stdout",
     "output_type": "stream",
     "text": [
      "Epoch [889/1000], Train Loss: 0.0000, Test Loss: 0.3653\n"
     ]
    },
    {
     "name": "stdout",
     "output_type": "stream",
     "text": [
      "Epoch [890/1000], Train Loss: 0.0000, Test Loss: 0.3804\n"
     ]
    },
    {
     "name": "stdout",
     "output_type": "stream",
     "text": [
      "Epoch [891/1000], Train Loss: 0.0000, Test Loss: 0.3982\n"
     ]
    },
    {
     "name": "stdout",
     "output_type": "stream",
     "text": [
      "Epoch [892/1000], Train Loss: 0.0000, Test Loss: 0.4126\n"
     ]
    },
    {
     "name": "stdout",
     "output_type": "stream",
     "text": [
      "Epoch [893/1000], Train Loss: 0.0000, Test Loss: 0.4279\n"
     ]
    },
    {
     "name": "stdout",
     "output_type": "stream",
     "text": [
      "Epoch [894/1000], Train Loss: 0.0000, Test Loss: 0.4460\n"
     ]
    },
    {
     "name": "stdout",
     "output_type": "stream",
     "text": [
      "Epoch [895/1000], Train Loss: 0.0000, Test Loss: 0.4624\n"
     ]
    },
    {
     "name": "stdout",
     "output_type": "stream",
     "text": [
      "Epoch [896/1000], Train Loss: 0.0000, Test Loss: 0.4710\n"
     ]
    },
    {
     "name": "stdout",
     "output_type": "stream",
     "text": [
      "Epoch [897/1000], Train Loss: 0.0000, Test Loss: 0.4820\n"
     ]
    },
    {
     "name": "stdout",
     "output_type": "stream",
     "text": [
      "Epoch [898/1000], Train Loss: 0.0000, Test Loss: 0.4938\n"
     ]
    },
    {
     "name": "stdout",
     "output_type": "stream",
     "text": [
      "Epoch [899/1000], Train Loss: 0.0000, Test Loss: 0.5052\n"
     ]
    },
    {
     "name": "stdout",
     "output_type": "stream",
     "text": [
      "Epoch [900/1000], Train Loss: 0.0000, Test Loss: 0.5110\n"
     ]
    },
    {
     "name": "stdout",
     "output_type": "stream",
     "text": [
      "Epoch [901/1000], Train Loss: 0.0000, Test Loss: 0.5208\n"
     ]
    },
    {
     "name": "stdout",
     "output_type": "stream",
     "text": [
      "Epoch [902/1000], Train Loss: 0.0032, Test Loss: 0.2991\n"
     ]
    },
    {
     "name": "stdout",
     "output_type": "stream",
     "text": [
      "Epoch [903/1000], Train Loss: 0.0008, Test Loss: 0.3002\n"
     ]
    },
    {
     "name": "stdout",
     "output_type": "stream",
     "text": [
      "Epoch [904/1000], Train Loss: 0.0001, Test Loss: 0.2952\n"
     ]
    },
    {
     "name": "stdout",
     "output_type": "stream",
     "text": [
      "Epoch [905/1000], Train Loss: 0.0002, Test Loss: 0.3140\n"
     ]
    },
    {
     "name": "stdout",
     "output_type": "stream",
     "text": [
      "Epoch [906/1000], Train Loss: 0.0005, Test Loss: 0.2983\n"
     ]
    },
    {
     "name": "stdout",
     "output_type": "stream",
     "text": [
      "Epoch [907/1000], Train Loss: 0.0000, Test Loss: 0.3238\n"
     ]
    },
    {
     "name": "stdout",
     "output_type": "stream",
     "text": [
      "Epoch [908/1000], Train Loss: 0.0000, Test Loss: 0.3331\n"
     ]
    },
    {
     "name": "stdout",
     "output_type": "stream",
     "text": [
      "Epoch [909/1000], Train Loss: 0.0000, Test Loss: 0.3441\n"
     ]
    },
    {
     "name": "stdout",
     "output_type": "stream",
     "text": [
      "Epoch [910/1000], Train Loss: 0.0000, Test Loss: 0.3565\n"
     ]
    },
    {
     "name": "stdout",
     "output_type": "stream",
     "text": [
      "Epoch [911/1000], Train Loss: 0.0000, Test Loss: 0.3710\n"
     ]
    },
    {
     "name": "stdout",
     "output_type": "stream",
     "text": [
      "Epoch [912/1000], Train Loss: 0.0000, Test Loss: 0.3861\n"
     ]
    },
    {
     "name": "stdout",
     "output_type": "stream",
     "text": [
      "Epoch [913/1000], Train Loss: 0.0000, Test Loss: 0.4013\n"
     ]
    },
    {
     "name": "stdout",
     "output_type": "stream",
     "text": [
      "Epoch [914/1000], Train Loss: 0.0000, Test Loss: 0.4162\n"
     ]
    },
    {
     "name": "stdout",
     "output_type": "stream",
     "text": [
      "Epoch [915/1000], Train Loss: 0.0000, Test Loss: 0.4310\n"
     ]
    },
    {
     "name": "stdout",
     "output_type": "stream",
     "text": [
      "Epoch [916/1000], Train Loss: 0.0000, Test Loss: 0.4446\n"
     ]
    },
    {
     "name": "stdout",
     "output_type": "stream",
     "text": [
      "Epoch [917/1000], Train Loss: 0.0000, Test Loss: 0.4587\n"
     ]
    },
    {
     "name": "stdout",
     "output_type": "stream",
     "text": [
      "Epoch [918/1000], Train Loss: 0.0000, Test Loss: 0.4699\n"
     ]
    },
    {
     "name": "stdout",
     "output_type": "stream",
     "text": [
      "Epoch [919/1000], Train Loss: 0.0000, Test Loss: 0.4863\n"
     ]
    },
    {
     "name": "stdout",
     "output_type": "stream",
     "text": [
      "Epoch [920/1000], Train Loss: 0.0023, Test Loss: 0.3838\n"
     ]
    },
    {
     "name": "stdout",
     "output_type": "stream",
     "text": [
      "Epoch [921/1000], Train Loss: 0.0009, Test Loss: 0.3220\n"
     ]
    },
    {
     "name": "stdout",
     "output_type": "stream",
     "text": [
      "Epoch [922/1000], Train Loss: 0.0001, Test Loss: 0.3603\n"
     ]
    },
    {
     "name": "stdout",
     "output_type": "stream",
     "text": [
      "Epoch [923/1000], Train Loss: 0.0001, Test Loss: 0.3351\n"
     ]
    },
    {
     "name": "stdout",
     "output_type": "stream",
     "text": [
      "Epoch [924/1000], Train Loss: 0.0000, Test Loss: 0.3385\n"
     ]
    },
    {
     "name": "stdout",
     "output_type": "stream",
     "text": [
      "Epoch [925/1000], Train Loss: 0.0000, Test Loss: 0.3415\n"
     ]
    },
    {
     "name": "stdout",
     "output_type": "stream",
     "text": [
      "Epoch [926/1000], Train Loss: 0.0000, Test Loss: 0.3502\n"
     ]
    },
    {
     "name": "stdout",
     "output_type": "stream",
     "text": [
      "Epoch [927/1000], Train Loss: 0.0000, Test Loss: 0.3624\n"
     ]
    },
    {
     "name": "stdout",
     "output_type": "stream",
     "text": [
      "Epoch [928/1000], Train Loss: 0.0000, Test Loss: 0.3760\n"
     ]
    },
    {
     "name": "stdout",
     "output_type": "stream",
     "text": [
      "Epoch [929/1000], Train Loss: 0.0000, Test Loss: 0.3899\n"
     ]
    },
    {
     "name": "stdout",
     "output_type": "stream",
     "text": [
      "Epoch [930/1000], Train Loss: 0.0000, Test Loss: 0.4026\n"
     ]
    },
    {
     "name": "stdout",
     "output_type": "stream",
     "text": [
      "Epoch [931/1000], Train Loss: 0.0000, Test Loss: 0.4161\n"
     ]
    },
    {
     "name": "stdout",
     "output_type": "stream",
     "text": [
      "Epoch [932/1000], Train Loss: 0.0000, Test Loss: 0.4302\n"
     ]
    },
    {
     "name": "stdout",
     "output_type": "stream",
     "text": [
      "Epoch [933/1000], Train Loss: 0.0000, Test Loss: 0.4429\n"
     ]
    },
    {
     "name": "stdout",
     "output_type": "stream",
     "text": [
      "Epoch [934/1000], Train Loss: 0.0000, Test Loss: 0.4543\n"
     ]
    },
    {
     "name": "stdout",
     "output_type": "stream",
     "text": [
      "Epoch [935/1000], Train Loss: 0.0029, Test Loss: 0.3341\n"
     ]
    },
    {
     "name": "stdout",
     "output_type": "stream",
     "text": [
      "Epoch [936/1000], Train Loss: 0.0018, Test Loss: 0.2851\n"
     ]
    },
    {
     "name": "stdout",
     "output_type": "stream",
     "text": [
      "Epoch [937/1000], Train Loss: 0.0002, Test Loss: 0.2855\n"
     ]
    },
    {
     "name": "stdout",
     "output_type": "stream",
     "text": [
      "Epoch [938/1000], Train Loss: 0.0000, Test Loss: 0.2958\n"
     ]
    },
    {
     "name": "stdout",
     "output_type": "stream",
     "text": [
      "Epoch [939/1000], Train Loss: 0.0000, Test Loss: 0.3045\n"
     ]
    },
    {
     "name": "stdout",
     "output_type": "stream",
     "text": [
      "Epoch [940/1000], Train Loss: 0.0000, Test Loss: 0.3177\n"
     ]
    },
    {
     "name": "stdout",
     "output_type": "stream",
     "text": [
      "Epoch [941/1000], Train Loss: 0.0000, Test Loss: 0.3309\n"
     ]
    },
    {
     "name": "stdout",
     "output_type": "stream",
     "text": [
      "Epoch [942/1000], Train Loss: 0.0000, Test Loss: 0.3456\n"
     ]
    },
    {
     "name": "stdout",
     "output_type": "stream",
     "text": [
      "Epoch [943/1000], Train Loss: 0.0000, Test Loss: 0.3607\n"
     ]
    },
    {
     "name": "stdout",
     "output_type": "stream",
     "text": [
      "Epoch [944/1000], Train Loss: 0.0000, Test Loss: 0.3767\n"
     ]
    },
    {
     "name": "stdout",
     "output_type": "stream",
     "text": [
      "Epoch [945/1000], Train Loss: 0.0000, Test Loss: 0.3966\n"
     ]
    },
    {
     "name": "stdout",
     "output_type": "stream",
     "text": [
      "Epoch [946/1000], Train Loss: 0.0016, Test Loss: 0.3045\n"
     ]
    },
    {
     "name": "stdout",
     "output_type": "stream",
     "text": [
      "Epoch [947/1000], Train Loss: 0.0009, Test Loss: 0.2922\n"
     ]
    },
    {
     "name": "stdout",
     "output_type": "stream",
     "text": [
      "Epoch [948/1000], Train Loss: 0.0000, Test Loss: 0.3069\n"
     ]
    },
    {
     "name": "stdout",
     "output_type": "stream",
     "text": [
      "Epoch [949/1000], Train Loss: 0.0000, Test Loss: 0.3124\n"
     ]
    },
    {
     "name": "stdout",
     "output_type": "stream",
     "text": [
      "Epoch [950/1000], Train Loss: 0.0000, Test Loss: 0.3234\n"
     ]
    },
    {
     "name": "stdout",
     "output_type": "stream",
     "text": [
      "Epoch [951/1000], Train Loss: 0.0000, Test Loss: 0.3360\n"
     ]
    },
    {
     "name": "stdout",
     "output_type": "stream",
     "text": [
      "Epoch [952/1000], Train Loss: 0.0000, Test Loss: 0.3500\n"
     ]
    },
    {
     "name": "stdout",
     "output_type": "stream",
     "text": [
      "Epoch [953/1000], Train Loss: 0.0000, Test Loss: 0.3660\n"
     ]
    },
    {
     "name": "stdout",
     "output_type": "stream",
     "text": [
      "Epoch [954/1000], Train Loss: 0.0000, Test Loss: 0.3847\n"
     ]
    },
    {
     "name": "stdout",
     "output_type": "stream",
     "text": [
      "Epoch [955/1000], Train Loss: 0.0008, Test Loss: 0.3481\n"
     ]
    },
    {
     "name": "stdout",
     "output_type": "stream",
     "text": [
      "Epoch [956/1000], Train Loss: 0.0011, Test Loss: 0.2761\n"
     ]
    },
    {
     "name": "stdout",
     "output_type": "stream",
     "text": [
      "Epoch [957/1000], Train Loss: 0.0001, Test Loss: 0.2993\n"
     ]
    },
    {
     "name": "stdout",
     "output_type": "stream",
     "text": [
      "Epoch [958/1000], Train Loss: 0.0000, Test Loss: 0.3151\n"
     ]
    },
    {
     "name": "stdout",
     "output_type": "stream",
     "text": [
      "Epoch [959/1000], Train Loss: 0.0000, Test Loss: 0.3282\n"
     ]
    },
    {
     "name": "stdout",
     "output_type": "stream",
     "text": [
      "Epoch [960/1000], Train Loss: 0.0000, Test Loss: 0.3439\n"
     ]
    },
    {
     "name": "stdout",
     "output_type": "stream",
     "text": [
      "Epoch [961/1000], Train Loss: 0.0000, Test Loss: 0.3603\n"
     ]
    },
    {
     "name": "stdout",
     "output_type": "stream",
     "text": [
      "Epoch [962/1000], Train Loss: 0.0000, Test Loss: 0.3767\n"
     ]
    },
    {
     "name": "stdout",
     "output_type": "stream",
     "text": [
      "Epoch [963/1000], Train Loss: 0.0000, Test Loss: 0.3932\n"
     ]
    },
    {
     "name": "stdout",
     "output_type": "stream",
     "text": [
      "Epoch [964/1000], Train Loss: 0.0000, Test Loss: 0.4094\n"
     ]
    },
    {
     "name": "stdout",
     "output_type": "stream",
     "text": [
      "Epoch [965/1000], Train Loss: 0.0000, Test Loss: 0.4244\n"
     ]
    },
    {
     "name": "stdout",
     "output_type": "stream",
     "text": [
      "Epoch [966/1000], Train Loss: 0.0000, Test Loss: 0.4402\n"
     ]
    },
    {
     "name": "stdout",
     "output_type": "stream",
     "text": [
      "Epoch [967/1000], Train Loss: 0.0000, Test Loss: 0.4533\n"
     ]
    },
    {
     "name": "stdout",
     "output_type": "stream",
     "text": [
      "Epoch [968/1000], Train Loss: 0.0000, Test Loss: 0.4678\n"
     ]
    },
    {
     "name": "stdout",
     "output_type": "stream",
     "text": [
      "Epoch [969/1000], Train Loss: 0.0000, Test Loss: 0.4812\n"
     ]
    },
    {
     "name": "stdout",
     "output_type": "stream",
     "text": [
      "Epoch [970/1000], Train Loss: 0.0000, Test Loss: 0.4927\n"
     ]
    },
    {
     "name": "stdout",
     "output_type": "stream",
     "text": [
      "Epoch [971/1000], Train Loss: 0.0000, Test Loss: 0.5024\n"
     ]
    },
    {
     "name": "stdout",
     "output_type": "stream",
     "text": [
      "Epoch [972/1000], Train Loss: 0.0000, Test Loss: 0.5085\n"
     ]
    },
    {
     "name": "stdout",
     "output_type": "stream",
     "text": [
      "Epoch [973/1000], Train Loss: 0.0000, Test Loss: 0.5136\n"
     ]
    },
    {
     "name": "stdout",
     "output_type": "stream",
     "text": [
      "Epoch [974/1000], Train Loss: 0.0000, Test Loss: 0.5189\n"
     ]
    },
    {
     "name": "stdout",
     "output_type": "stream",
     "text": [
      "Epoch [975/1000], Train Loss: 0.0000, Test Loss: 0.5158\n"
     ]
    },
    {
     "name": "stdout",
     "output_type": "stream",
     "text": [
      "Epoch [976/1000], Train Loss: 0.0000, Test Loss: 0.5191\n"
     ]
    },
    {
     "name": "stdout",
     "output_type": "stream",
     "text": [
      "Epoch [977/1000], Train Loss: 0.0020, Test Loss: 0.4117\n"
     ]
    },
    {
     "name": "stdout",
     "output_type": "stream",
     "text": [
      "Epoch [978/1000], Train Loss: 0.0013, Test Loss: 0.3719\n"
     ]
    },
    {
     "name": "stdout",
     "output_type": "stream",
     "text": [
      "Epoch [979/1000], Train Loss: 0.0003, Test Loss: 0.3802\n"
     ]
    },
    {
     "name": "stdout",
     "output_type": "stream",
     "text": [
      "Epoch [980/1000], Train Loss: 0.0002, Test Loss: 0.3468\n"
     ]
    },
    {
     "name": "stdout",
     "output_type": "stream",
     "text": [
      "Epoch [981/1000], Train Loss: 0.0000, Test Loss: 0.3388\n"
     ]
    },
    {
     "name": "stdout",
     "output_type": "stream",
     "text": [
      "Epoch [982/1000], Train Loss: 0.0000, Test Loss: 0.3318\n"
     ]
    },
    {
     "name": "stdout",
     "output_type": "stream",
     "text": [
      "Epoch [983/1000], Train Loss: 0.0000, Test Loss: 0.3306\n"
     ]
    },
    {
     "name": "stdout",
     "output_type": "stream",
     "text": [
      "Epoch [984/1000], Train Loss: 0.0000, Test Loss: 0.3351\n"
     ]
    },
    {
     "name": "stdout",
     "output_type": "stream",
     "text": [
      "Epoch [985/1000], Train Loss: 0.0000, Test Loss: 0.3441\n"
     ]
    },
    {
     "name": "stdout",
     "output_type": "stream",
     "text": [
      "Epoch [986/1000], Train Loss: 0.0000, Test Loss: 0.3540\n"
     ]
    },
    {
     "name": "stdout",
     "output_type": "stream",
     "text": [
      "Epoch [987/1000], Train Loss: 0.0000, Test Loss: 0.3663\n"
     ]
    },
    {
     "name": "stdout",
     "output_type": "stream",
     "text": [
      "Epoch [988/1000], Train Loss: 0.0000, Test Loss: 0.3803\n"
     ]
    },
    {
     "name": "stdout",
     "output_type": "stream",
     "text": [
      "Epoch [989/1000], Train Loss: 0.0000, Test Loss: 0.3935\n"
     ]
    },
    {
     "name": "stdout",
     "output_type": "stream",
     "text": [
      "Epoch [990/1000], Train Loss: 0.0000, Test Loss: 0.4067\n"
     ]
    },
    {
     "name": "stdout",
     "output_type": "stream",
     "text": [
      "Epoch [991/1000], Train Loss: 0.0000, Test Loss: 0.4194\n"
     ]
    },
    {
     "name": "stdout",
     "output_type": "stream",
     "text": [
      "Epoch [992/1000], Train Loss: 0.0000, Test Loss: 0.4309\n"
     ]
    },
    {
     "name": "stdout",
     "output_type": "stream",
     "text": [
      "Epoch [993/1000], Train Loss: 0.0000, Test Loss: 0.4411\n"
     ]
    },
    {
     "name": "stdout",
     "output_type": "stream",
     "text": [
      "Epoch [994/1000], Train Loss: 0.0000, Test Loss: 0.4511\n"
     ]
    },
    {
     "name": "stdout",
     "output_type": "stream",
     "text": [
      "Epoch [995/1000], Train Loss: 0.0000, Test Loss: 0.4590\n"
     ]
    },
    {
     "name": "stdout",
     "output_type": "stream",
     "text": [
      "Epoch [996/1000], Train Loss: 0.0040, Test Loss: 0.2902\n"
     ]
    },
    {
     "name": "stdout",
     "output_type": "stream",
     "text": [
      "Epoch [997/1000], Train Loss: 0.0005, Test Loss: 0.2926\n"
     ]
    },
    {
     "name": "stdout",
     "output_type": "stream",
     "text": [
      "Epoch [998/1000], Train Loss: 0.0000, Test Loss: 0.3049\n"
     ]
    },
    {
     "name": "stdout",
     "output_type": "stream",
     "text": [
      "Epoch [999/1000], Train Loss: 0.0000, Test Loss: 0.2947\n",
      "Mejores resultados en la época:  526\n",
      "f1-score 0.9280526774474678\n"
     ]
    }
   ],
   "source": [
    "n_epoch = _EPHOCS\n",
    "train_losses = []\n",
    "test_losses = []\n",
    "\n",
    "best_f1_score = 0.0\n",
    "best_pred = None\n",
    "best_ephoc = None\n",
    "best_labels = None\n",
    "\n",
    "for epoch in range(n_epoch):\n",
    "    # Training\n",
    "    net.train()\n",
    "    total_train_loss = 0\n",
    "    for embbedings, labels in trainLoader:\n",
    "        embbedings, labels = embbedings.to(device), labels.to(device).float()\n",
    "\n",
    "        # Forward\n",
    "        outputs = net(embbedings).squeeze(1)\n",
    "        loss = criterion(outputs, labels)\n",
    "\n",
    "        # Backward\n",
    "        optimizer.zero_grad()\n",
    "        loss.backward()\n",
    "        optimizer.step()\n",
    "\n",
    "        total_train_loss += loss.item()\n",
    "\n",
    "    avg_train_loss = total_train_loss / len(trainLoader)\n",
    "    train_losses.append(avg_train_loss)\n",
    "\n",
    "    # Evaluation\n",
    "    net.eval()\n",
    "    total_test_loss = 0\n",
    "    all_preds, all_labels = [], []\n",
    "    with torch.no_grad():\n",
    "        for embbedings, labels in testLoader:\n",
    "            embbedings, labels = embbedings.to(device), labels.to(device).float()\n",
    "\n",
    "            outputs = net(embbedings).squeeze(1)\n",
    "            loss = criterion(outputs, labels)\n",
    "            total_test_loss += loss.item()\n",
    "\n",
    "            probs = torch.sigmoid(outputs)\n",
    "            preds = (probs >= 0.5).int()\n",
    "\n",
    "            all_preds.extend(preds.cpu().numpy())\n",
    "            all_labels.extend(labels.cpu().numpy())\n",
    "\n",
    "    avg_test_loss = total_test_loss / len(testLoader)\n",
    "    test_losses.append(avg_test_loss)\n",
    "\n",
    "    # Accuracy\n",
    "    acc = accuracy_score(all_labels, all_preds)\n",
    "    prec = precision_score(all_labels, all_preds)\n",
    "    rec = recall_score(all_labels, all_preds)\n",
    "    f1 = f1_score(all_labels, all_preds)\n",
    "    if f1 > best_f1_score:\n",
    "        best_f1_score = f1\n",
    "        best_pred = all_preds\n",
    "        best_ephoc = epoch\n",
    "        best_labels = all_labels.copy()\n",
    "    print(f\"Epoch [{epoch}/{n_epoch}], Train Loss: {avg_train_loss:.4f}, Test Loss: {avg_test_loss:.4f}\")\n",
    "\n",
    "print(\"Mejores resultados en la época: \", best_ephoc)\n",
    "print(\"f1-score\", best_f1_score)"
   ]
  },
  {
   "cell_type": "code",
   "execution_count": 8,
   "id": "089876db",
   "metadata": {
    "execution": {
     "iopub.execute_input": "2025-08-31T23:47:31.749487Z",
     "iopub.status.busy": "2025-08-31T23:47:31.749206Z",
     "iopub.status.idle": "2025-08-31T23:47:31.901946Z",
     "shell.execute_reply": "2025-08-31T23:47:31.901161Z"
    },
    "papermill": {
     "duration": 0.191176,
     "end_time": "2025-08-31T23:47:31.902837",
     "exception": false,
     "start_time": "2025-08-31T23:47:31.711661",
     "status": "completed"
    },
    "tags": []
   },
   "outputs": [
    {
     "data": {
      "image/png": "[encoded data removed]",
      "text/plain": [
       "<Figure size 640x480 with 1 Axes>"
      ]
     },
     "metadata": {},
     "output_type": "display_data"
    }
   ],
   "source": [
    "import matplotlib.pyplot as plt\n",
    "\n",
    "plt.plot(range(1, n_epoch + 1), train_losses, label='Train Loss')\n",
    "plt.plot(range(1, n_epoch + 1), test_losses, label='Eval Loss')\n",
    "plt.xlabel('Epochs')\n",
    "plt.ylabel('Loss')\n",
    "plt.legend()\n",
    "plt.show()"
   ]
  },
  {
   "cell_type": "code",
   "execution_count": 9,
   "id": "b92bf1e0",
   "metadata": {
    "execution": {
     "iopub.execute_input": "2025-08-31T23:47:31.978474Z",
     "iopub.status.busy": "2025-08-31T23:47:31.978289Z",
     "iopub.status.idle": "2025-08-31T23:47:32.214795Z",
     "shell.execute_reply": "2025-08-31T23:47:32.213787Z"
    },
    "papermill": {
     "duration": 0.27522,
     "end_time": "2025-08-31T23:47:32.215663",
     "exception": false,
     "start_time": "2025-08-31T23:47:31.940443",
     "status": "completed"
    },
    "tags": []
   },
   "outputs": [
    {
     "name": "stdout",
     "output_type": "stream",
     "text": [
      "[[16093   317]\n",
      " [  426  4792]]\n"
     ]
    },
    {
     "data": {
      "image/png": "[encoded data removed]",
      "text/plain": [
       "<Figure size 600x500 with 2 Axes>"
      ]
     },
     "metadata": {},
     "output_type": "display_data"
    },
    {
     "name": "stdout",
     "output_type": "stream",
     "text": [
      "Accuracy:  0.9656\n",
      "Precision: 0.9380\n",
      "Recall:    0.9184\n",
      "F1-score:  0.9281\n"
     ]
    }
   ],
   "source": [
    "cm = confusion_matrix(best_labels, best_pred)\n",
    "\n",
    "plt.figure(figsize=(6,5))\n",
    "print(cm)\n",
    "sns.heatmap(cm, annot=True, fmt='d', cmap='Blues',\n",
    "            xticklabels=['Not Explicit', 'Explicit'],\n",
    "            yticklabels=['Not Explicit', 'Explicit']\n",
    "            )\n",
    "plt.xlabel('Predicted')\n",
    "plt.ylabel('Actual')\n",
    "plt.title(f'Confusion Matrix (Best Epoch ={best_ephoc})')\n",
    "plt.show()\n",
    "\n",
    "acc = accuracy_score(best_labels, best_pred)\n",
    "prec = precision_score(best_labels, best_pred )\n",
    "rec = recall_score(best_labels, best_pred)\n",
    "f1 = f1_score(best_labels, best_pred)\n",
    "\n",
    "print(f\"Accuracy:  {acc:.4f}\")\n",
    "print(f\"Precision: {prec:.4f}\")\n",
    "print(f\"Recall:    {rec:.4f}\")\n",
    "print(f\"F1-score:  {f1:.4f}\")"
   ]
  }
 ],
 "metadata": {
  "kernelspec": {
   "display_name": ".venv",
   "language": "python",
   "name": "python3"
  },
  "language_info": {
   "codemirror_mode": {
    "name": "ipython",
    "version": 3
   },
   "file_extension": ".py",
   "mimetype": "text/x-python",
   "name": "python",
   "nbconvert_exporter": "python",
   "pygments_lexer": "ipython3",
   "version": "3.13.2"
  },
  "papermill": {
   "default_parameters": {},
   "duration": 3697.655696,
   "end_time": "2025-08-31T23:47:34.878932",
   "environment_variables": {},
   "exception": null,
   "input_path": "deep_rn.ipynb",
   "output_path": "ejecutado_deep_rn20250831_174556.ipynb",
   "parameters": {},
   "start_time": "2025-08-31T22:45:57.223236",
   "version": "2.6.0"
  }
 },
 "nbformat": 4,
 "nbformat_minor": 5
}