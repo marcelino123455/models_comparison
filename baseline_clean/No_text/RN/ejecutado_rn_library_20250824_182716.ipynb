{
 "cells": [
  {
   "cell_type": "code",
   "execution_count": 1,
   "id": "62017b0f",
   "metadata": {
    "execution": {
     "iopub.execute_input": "2025-08-24T23:27:18.674644Z",
     "iopub.status.busy": "2025-08-24T23:27:18.674474Z",
     "iopub.status.idle": "2025-08-24T23:27:26.515333Z",
     "shell.execute_reply": "2025-08-24T23:27:26.514561Z"
    },
    "papermill": {
     "duration": 7.846739,
     "end_time": "2025-08-24T23:27:26.516551",
     "exception": false,
     "start_time": "2025-08-24T23:27:18.669812",
     "status": "completed"
    },
    "tags": []
   },
   "outputs": [
    {
     "name": "stderr",
     "output_type": "stream",
     "text": [
      "/home/marcelino.maita/.venv/lib/python3.13/site-packages/tqdm/auto.py:21: TqdmWarning: IProgress not found. Please update jupyter and ipywidgets. See https://ipywidgets.readthedocs.io/en/stable/user_install.html\n",
      "  from .autonotebook import tqdm as notebook_tqdm\n"
     ]
    }
   ],
   "source": [
    "import torch\n",
    "import torch.nn as nn\n",
    "import torch.optim as optim\n",
    "from torch.utils.data import DataLoader, TensorDataset\n",
    "import numpy as np\n",
    "import pandas as pd\n",
    "import os\n",
    "from sklearn.model_selection import train_test_split\n",
    "import psutil\n",
    "import matplotlib.pyplot as plt\n",
    "\n",
    "from sklearn.metrics import confusion_matrix\n",
    "import seaborn as sns\n",
    "import papermill\n",
    "import umap\n",
    "from sklearn.preprocessing import MinMaxScaler\n",
    "from sklearn.metrics import (\n",
    "    classification_report, accuracy_score, precision_score, recall_score, f1_score,\n",
    "    confusion_matrix\n",
    ")\n"
   ]
  },
  {
   "cell_type": "code",
   "execution_count": 2,
   "id": "5faa5861",
   "metadata": {
    "execution": {
     "iopub.execute_input": "2025-08-24T23:27:26.524442Z",
     "iopub.status.busy": "2025-08-24T23:27:26.523739Z",
     "iopub.status.idle": "2025-08-24T23:27:26.528766Z",
     "shell.execute_reply": "2025-08-24T23:27:26.527644Z"
    },
    "papermill": {
     "duration": 0.009621,
     "end_time": "2025-08-24T23:27:26.529631",
     "exception": false,
     "start_time": "2025-08-24T23:27:26.520010",
     "status": "completed"
    },
    "tags": []
   },
   "outputs": [
    {
     "name": "stdout",
     "output_type": "stream",
     "text": [
      "2.6.0\n"
     ]
    }
   ],
   "source": [
    "print(papermill.__version__)"
   ]
  },
  {
   "cell_type": "code",
   "execution_count": 3,
   "id": "b4775409",
   "metadata": {
    "execution": {
     "iopub.execute_input": "2025-08-24T23:27:26.538052Z",
     "iopub.status.busy": "2025-08-24T23:27:26.537418Z",
     "iopub.status.idle": "2025-08-24T23:27:35.337853Z",
     "shell.execute_reply": "2025-08-24T23:27:35.337127Z"
    },
    "papermill": {
     "duration": 8.806124,
     "end_time": "2025-08-24T23:27:35.338874",
     "exception": false,
     "start_time": "2025-08-24T23:27:26.532750",
     "status": "completed"
    },
    "tags": []
   },
   "outputs": [
    {
     "name": "stdout",
     "output_type": "stream",
     "text": [
      "(108138, 5018)\n",
      "(108138,)\n",
      "RAM usada (MB): 9372.75\n"
     ]
    }
   ],
   "source": [
    "DATA_PATH =\"../../../data\"\n",
    "# embbedings_path = \"embbedings_khipu/lb_khipu_B.npy\"\n",
    "\n",
    "path_lb_embb = os.path.join(DATA_PATH, f\"embbedings_khipu/tfidf_numeric_B.npy\")\n",
    "path_dataset = os.path.join(DATA_PATH, \"spotify_dataset_sin_duplicados_4.csv\")\n",
    "\n",
    "# Para hacer pruebitas y luego mandarlo como sbatch\n",
    "TESTING = False\n",
    "SCALED = True\n",
    "_EMBEDDINGS = np.load(path_lb_embb)\n",
    "\n",
    "if TESTING:\n",
    "    _NROWS = 1000\n",
    "    _EMBEDDINGS = _EMBEDDINGS[:1000]\n",
    "    _EPHOCS = 1000\n",
    "else:\n",
    "    _NROWS = None\n",
    "    _EPHOCS = 1000\n",
    "\n",
    "if SCALED:\n",
    "    scaler = MinMaxScaler(feature_range=(0, 1))\n",
    "    _EMBEDDINGS = scaler.fit_transform(_EMBEDDINGS)\n",
    "\n",
    "df = pd.read_csv(path_dataset, nrows = _NROWS)\n",
    "df['Explicit_binary'] = df['Explicit'].map({'Yes': 1, 'No': 0})\n",
    "\n",
    "X = _EMBEDDINGS\n",
    "\n",
    "y = df['Explicit_binary']\n",
    "\n",
    "\n",
    "\n",
    "X_train, X_test, y_train, y_test = train_test_split(\n",
    "    X, y, test_size=0.2, random_state=42 \n",
    ")\n",
    "\n",
    "y_train = y_train.values.reshape(-1, 1).astype(np.float32)\n",
    "y_test = y_test.values.reshape(-1, 1).astype(np.float32)\n",
    "\n",
    "\n",
    "def seeRam():\n",
    "    process = psutil.Process(os.getpid())\n",
    "    print(f\"RAM usada (MB): {process.memory_info().rss / (1024 * 1024):.2f}\")\n",
    "\n",
    "print(X.shape)\n",
    "print(y.shape)\n",
    "seeRam()"
   ]
  },
  {
   "cell_type": "code",
   "execution_count": 4,
   "id": "890be7e5",
   "metadata": {
    "execution": {
     "iopub.execute_input": "2025-08-24T23:27:35.352082Z",
     "iopub.status.busy": "2025-08-24T23:27:35.351176Z",
     "iopub.status.idle": "2025-08-24T23:27:35.355926Z",
     "shell.execute_reply": "2025-08-24T23:27:35.355535Z"
    },
    "papermill": {
     "duration": 0.013934,
     "end_time": "2025-08-24T23:27:35.356824",
     "exception": false,
     "start_time": "2025-08-24T23:27:35.342890",
     "status": "completed"
    },
    "tags": []
   },
   "outputs": [],
   "source": [
    "# Definir MLP\n",
    "class MLP(nn.Module):\n",
    "    def __init__(self, dims):\n",
    "        super().__init__()\n",
    "        layers = []\n",
    "        for i in range(len(dims)-2):\n",
    "            layers.append(nn.Linear(dims[i], dims[i+1]))\n",
    "            layers.append(nn.ReLU())\n",
    "        layers.append(nn.Linear(dims[-2], dims[-1]))\n",
    "        self.net = nn.Sequential(*layers)\n",
    "\n",
    "    def forward(self, x):\n",
    "        return self.net(x)"
   ]
  },
  {
   "cell_type": "code",
   "execution_count": 5,
   "id": "acb0bd1c",
   "metadata": {
    "execution": {
     "iopub.execute_input": "2025-08-24T23:27:35.365499Z",
     "iopub.status.busy": "2025-08-24T23:27:35.364856Z",
     "iopub.status.idle": "2025-08-24T23:27:35.369821Z",
     "shell.execute_reply": "2025-08-24T23:27:35.368728Z"
    },
    "papermill": {
     "duration": 0.010825,
     "end_time": "2025-08-24T23:27:35.370705",
     "exception": false,
     "start_time": "2025-08-24T23:27:35.359880",
     "status": "completed"
    },
    "tags": []
   },
   "outputs": [
    {
     "name": "stdout",
     "output_type": "stream",
     "text": [
      "(86510, 5018)\n",
      "(86510, 1)\n"
     ]
    }
   ],
   "source": [
    "print(X_train.shape)\n",
    "# y_train = Y.values.reshape(-1, 1).astype(np.float32) \n",
    "print(y_train.shape)"
   ]
  },
  {
   "cell_type": "code",
   "execution_count": 6,
   "id": "107320ec",
   "metadata": {
    "execution": {
     "iopub.execute_input": "2025-08-24T23:27:35.377394Z",
     "iopub.status.busy": "2025-08-24T23:27:35.377098Z",
     "iopub.status.idle": "2025-08-24T23:27:38.241829Z",
     "shell.execute_reply": "2025-08-24T23:27:38.241341Z"
    },
    "papermill": {
     "duration": 2.869071,
     "end_time": "2025-08-24T23:27:38.242802",
     "exception": false,
     "start_time": "2025-08-24T23:27:35.373731",
     "status": "completed"
    },
    "tags": []
   },
   "outputs": [
    {
     "name": "stdout",
     "output_type": "stream",
     "text": [
      "Parámetros totales que requieren gradiente: 247329\n",
      "Parámetros totales: 247329\n"
     ]
    }
   ],
   "source": [
    "mlp = MLP([ X_train.shape[1] , 32,64, 128,256, 128,64,32, 1])\n",
    "X = torch.tensor(X_train, dtype=torch.float32)\n",
    "y = torch.tensor(y_train, dtype=torch.float32)\n",
    "# Definir loss y optimizador Adam\n",
    "# loss_fn = nn.MSELoss()\n",
    "loss_fn = nn.BCEWithLogitsLoss()\n",
    "optimizer = optim.Adam(mlp.parameters(), lr=0.001)\n",
    "\n",
    "# Contar parámetros entrenables\n",
    "total_params = sum(p.numel() for p in mlp.parameters() if p.requires_grad)\n",
    "print(\"Parámetros totales que requieren gradiente:\", total_params)\n",
    "\n",
    "total_params_total = sum(p.numel() for p in mlp.parameters())\n",
    "print(\"Parámetros totales:\", total_params_total)\n"
   ]
  },
  {
   "cell_type": "code",
   "execution_count": 7,
   "id": "99170079",
   "metadata": {
    "execution": {
     "iopub.execute_input": "2025-08-24T23:27:38.250459Z",
     "iopub.status.busy": "2025-08-24T23:27:38.249618Z",
     "iopub.status.idle": "2025-08-25T00:05:24.653064Z",
     "shell.execute_reply": "2025-08-25T00:05:24.652018Z"
    },
    "papermill": {
     "duration": 2266.408236,
     "end_time": "2025-08-25T00:05:24.654300",
     "exception": false,
     "start_time": "2025-08-24T23:27:38.246064",
     "status": "completed"
    },
    "tags": []
   },
   "outputs": [
    {
     "name": "stdout",
     "output_type": "stream",
     "text": [
      "Epoch 0, Loss: 0.685369\n"
     ]
    },
    {
     "name": "stdout",
     "output_type": "stream",
     "text": [
      "Epoch 500, Loss: 0.000001\n"
     ]
    }
   ],
   "source": [
    "# Entrenamiento\n",
    "epochs = _EPHOCS\n",
    "history = []\n",
    "for epoch in range(epochs):\n",
    "    # Forward\n",
    "    pred = mlp(X)\n",
    "    loss = loss_fn(pred, y)\n",
    "    \n",
    "    history.append(loss.item())\n",
    "    # Backward\n",
    "    optimizer.zero_grad()\n",
    "    loss.backward()\n",
    "    optimizer.step()\n",
    "\n",
    "    if epoch % 500 == 0:\n",
    "        print(f\"Epoch {epoch}, Loss: {loss.item():.6f}\")"
   ]
  },
  {
   "cell_type": "code",
   "execution_count": 8,
   "id": "1f43e8cc",
   "metadata": {
    "execution": {
     "iopub.execute_input": "2025-08-25T00:05:24.665187Z",
     "iopub.status.busy": "2025-08-25T00:05:24.664438Z",
     "iopub.status.idle": "2025-08-25T00:05:24.827753Z",
     "shell.execute_reply": "2025-08-25T00:05:24.827190Z"
    },
    "papermill": {
     "duration": 0.168549,
     "end_time": "2025-08-25T00:05:24.828644",
     "exception": false,
     "start_time": "2025-08-25T00:05:24.660095",
     "status": "completed"
    },
    "tags": []
   },
   "outputs": [
    {
     "data": {
      "image/png": "[encoded data removed]",
      "text/plain": [
       "<Figure size 640x480 with 1 Axes>"
      ]
     },
     "metadata": {},
     "output_type": "display_data"
    }
   ],
   "source": [
    "# Perdida\n",
    "plt.figure()\n",
    "plt.plot(history)\n",
    "plt.xlabel(\"Épocas\")\n",
    "plt.ylabel(\"Error\")\n",
    "plt.title(\"Evolución del error en la detección\")\n",
    "plt.grid(True)\n",
    "plt.show()"
   ]
  },
  {
   "cell_type": "code",
   "execution_count": 9,
   "id": "75d8a644",
   "metadata": {
    "execution": {
     "iopub.execute_input": "2025-08-25T00:05:24.838108Z",
     "iopub.status.busy": "2025-08-25T00:05:24.837458Z",
     "iopub.status.idle": "2025-08-25T00:05:25.107809Z",
     "shell.execute_reply": "2025-08-25T00:05:25.107253Z"
    },
    "papermill": {
     "duration": 0.275804,
     "end_time": "2025-08-25T00:05:25.108760",
     "exception": false,
     "start_time": "2025-08-25T00:05:24.832956",
     "status": "completed"
    },
    "tags": []
   },
   "outputs": [
    {
     "name": "stdout",
     "output_type": "stream",
     "text": [
      "Accuracy en Test: 0.9505\n",
      "              precision    recall  f1-score   support\n",
      "\n",
      "         0.0       0.97      0.96      0.97     16410\n",
      "         1.0       0.89      0.91      0.90      5218\n",
      "\n",
      "    accuracy                           0.95     21628\n",
      "   macro avg       0.93      0.94      0.93     21628\n",
      "weighted avg       0.95      0.95      0.95     21628\n",
      "\n"
     ]
    }
   ],
   "source": [
    "# Pasar X_test a tensor\n",
    "X_test_tensor = torch.tensor(X_test, dtype=torch.float32)\n",
    "\n",
    "# Forward en modo evaluación\n",
    "with torch.no_grad():\n",
    "    logits = mlp(X_test_tensor)          # salida sin sigmoid\n",
    "    probs = torch.sigmoid(logits)        # probabilidad [0,1]\n",
    "    pred_labels = (probs >= 0.5).int().numpy().flatten()\n",
    "\n",
    "# Calcular Accuracy y Reporte\n",
    "from sklearn.metrics import accuracy_score, classification_report\n",
    "y_test_true = y_test.flatten()\n",
    "print(f\"Accuracy en Test: {accuracy_score(y_test_true, pred_labels):.4f}\")\n",
    "print(classification_report(y_test_true, pred_labels))\n"
   ]
  },
  {
   "cell_type": "code",
   "execution_count": 10,
   "id": "cdcc1450",
   "metadata": {
    "execution": {
     "iopub.execute_input": "2025-08-25T00:05:25.117919Z",
     "iopub.status.busy": "2025-08-25T00:05:25.117260Z",
     "iopub.status.idle": "2025-08-25T00:05:25.293862Z",
     "shell.execute_reply": "2025-08-25T00:05:25.292872Z"
    },
    "papermill": {
     "duration": 0.181867,
     "end_time": "2025-08-25T00:05:25.294699",
     "exception": false,
     "start_time": "2025-08-25T00:05:25.112832",
     "status": "completed"
    },
    "tags": []
   },
   "outputs": [
    {
     "name": "stdout",
     "output_type": "stream",
     "text": [
      "[[15828   582]\n",
      " [  489  4729]]\n"
     ]
    },
    {
     "data": {
      "image/png": "[encoded data removed]",
      "text/plain": [
       "<Figure size 600x500 with 2 Axes>"
      ]
     },
     "metadata": {},
     "output_type": "display_data"
    },
    {
     "name": "stdout",
     "output_type": "stream",
     "text": [
      "Accuracy:  0.9505\n",
      "Precision: 0.8904\n",
      "Recall:    0.9063\n",
      "F1-score:  0.8983\n"
     ]
    }
   ],
   "source": [
    "cm = confusion_matrix(y_test_true, pred_labels)\n",
    "\n",
    "plt.figure(figsize=(6,5))\n",
    "print(cm)\n",
    "sns.heatmap(cm, annot=True, fmt='d', cmap='Blues', xticklabels=['Not Explicit', 'Explicit'], yticklabels=['Not Explicit', 'Explicit'])\n",
    "plt.xlabel('Predicted')\n",
    "plt.ylabel('Actual')\n",
    "plt.title('Confusion Matrix')\n",
    "plt.show()\n",
    "\n",
    "acc = accuracy_score(y_test_true, pred_labels)\n",
    "prec = precision_score(y_test_true, pred_labels )\n",
    "rec = recall_score(y_test_true, pred_labels)\n",
    "f1 = f1_score(y_test_true, pred_labels)\n",
    "\n",
    "print(f\"Accuracy:  {acc:.4f}\")\n",
    "print(f\"Precision: {prec:.4f}\")\n",
    "print(f\"Recall:    {rec:.4f}\")\n",
    "print(f\"F1-score:  {f1:.4f}\")"
   ]
  }
 ],
 "metadata": {
  "kernelspec": {
   "display_name": ".venv",
   "language": "python",
   "name": "python3"
  },
  "language_info": {
   "codemirror_mode": {
    "name": "ipython",
    "version": 3
   },
   "file_extension": ".py",
   "mimetype": "text/x-python",
   "name": "python",
   "nbconvert_exporter": "python",
   "pygments_lexer": "ipython3",
   "version": "3.13.2"
  },
  "papermill": {
   "default_parameters": {},
   "duration": 2289.7018,
   "end_time": "2025-08-25T00:05:26.818445",
   "environment_variables": {},
   "exception": null,
   "input_path": "rn_library.ipynb",
   "output_path": "ejecutado_rn_library_20250824_182716.ipynb",
   "parameters": {},
   "start_time": "2025-08-24T23:27:17.116645",
   "version": "2.6.0"
  }
 },
 "nbformat": 4,
 "nbformat_minor": 5
}